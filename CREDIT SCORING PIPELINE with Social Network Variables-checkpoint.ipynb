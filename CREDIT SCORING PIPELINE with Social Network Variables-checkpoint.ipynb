{
 "cells": [
  {
   "cell_type": "code",
   "execution_count": 1,
   "metadata": {},
   "outputs": [],
   "source": [
    "import pandas as pd\n",
    "import numpy as np\n",
    "import matplotlib.pyplot as plt\n",
    "import seaborn as sns"
   ]
  },
  {
   "cell_type": "code",
   "execution_count": 2,
   "metadata": {},
   "outputs": [
    {
     "name": "stderr",
     "output_type": "stream",
     "text": [
      "C:\\Users\\hp\\Anaconda3\\lib\\site-packages\\IPython\\core\\interactiveshell.py:2728: DtypeWarning: Columns (1,4,18) have mixed types. Specify dtype option on import or set low_memory=False.\n",
      "  interactivity=interactivity, compiler=compiler, result=result)\n"
     ]
    },
    {
     "data": {
      "text/html": [
       "<div>\n",
       "<style scoped>\n",
       "    .dataframe tbody tr th:only-of-type {\n",
       "        vertical-align: middle;\n",
       "    }\n",
       "\n",
       "    .dataframe tbody tr th {\n",
       "        vertical-align: top;\n",
       "    }\n",
       "\n",
       "    .dataframe thead th {\n",
       "        text-align: right;\n",
       "    }\n",
       "</style>\n",
       "<table border=\"1\" class=\"dataframe\">\n",
       "  <thead>\n",
       "    <tr style=\"text-align: right;\">\n",
       "      <th></th>\n",
       "      <th>Unnamed: 0</th>\n",
       "      <th>loanId</th>\n",
       "      <th>clientId</th>\n",
       "      <th>clientIncome</th>\n",
       "      <th>incomeVerified</th>\n",
       "      <th>clientAge</th>\n",
       "      <th>clientGender</th>\n",
       "      <th>clientMaritalStatus</th>\n",
       "      <th>clientLoanPurpose</th>\n",
       "      <th>clientResidentialStatus</th>\n",
       "      <th>...</th>\n",
       "      <th>interestRate</th>\n",
       "      <th>loanTerm</th>\n",
       "      <th>max_amount_taken</th>\n",
       "      <th>max_tenor_taken</th>\n",
       "      <th>repaidDate</th>\n",
       "      <th>FirstPaymentDueDate</th>\n",
       "      <th>settleDays</th>\n",
       "      <th>paymentRatio</th>\n",
       "      <th>firstPaymentDefault</th>\n",
       "      <th>loanDefault</th>\n",
       "    </tr>\n",
       "  </thead>\n",
       "  <tbody>\n",
       "    <tr>\n",
       "      <th>0</th>\n",
       "      <td>0</td>\n",
       "      <td>PP99804128</td>\n",
       "      <td>676059506</td>\n",
       "      <td>66452.66</td>\n",
       "      <td>True</td>\n",
       "      <td>38</td>\n",
       "      <td>MALE</td>\n",
       "      <td>Married</td>\n",
       "      <td>education</td>\n",
       "      <td>Employer Provided</td>\n",
       "      <td>...</td>\n",
       "      <td>6.0</td>\n",
       "      <td>90</td>\n",
       "      <td>1</td>\n",
       "      <td>1</td>\n",
       "      <td>5/26/2018 1:31</td>\n",
       "      <td>6/4/2018 12:00</td>\n",
       "      <td>-9</td>\n",
       "      <td>0.0</td>\n",
       "      <td>0</td>\n",
       "      <td>0</td>\n",
       "    </tr>\n",
       "    <tr>\n",
       "      <th>1</th>\n",
       "      <td>1</td>\n",
       "      <td>PP99781446</td>\n",
       "      <td>704436304</td>\n",
       "      <td>35000.00</td>\n",
       "      <td>True</td>\n",
       "      <td>35</td>\n",
       "      <td>MALE</td>\n",
       "      <td>Single</td>\n",
       "      <td>other</td>\n",
       "      <td>Rented</td>\n",
       "      <td>...</td>\n",
       "      <td>6.0</td>\n",
       "      <td>90</td>\n",
       "      <td>0</td>\n",
       "      <td>1</td>\n",
       "      <td>6/11/2018 10:41</td>\n",
       "      <td>6/5/2018 12:00</td>\n",
       "      <td>6</td>\n",
       "      <td>0.0</td>\n",
       "      <td>0</td>\n",
       "      <td>0</td>\n",
       "    </tr>\n",
       "    <tr>\n",
       "      <th>2</th>\n",
       "      <td>2</td>\n",
       "      <td>PP99274960</td>\n",
       "      <td>487954787</td>\n",
       "      <td>162851.11</td>\n",
       "      <td>True</td>\n",
       "      <td>47</td>\n",
       "      <td>FEMALE</td>\n",
       "      <td>Married</td>\n",
       "      <td>education</td>\n",
       "      <td>Own Residence</td>\n",
       "      <td>...</td>\n",
       "      <td>6.0</td>\n",
       "      <td>90</td>\n",
       "      <td>0</td>\n",
       "      <td>1</td>\n",
       "      <td>6/27/2018 11:19</td>\n",
       "      <td>6/4/2018 12:00</td>\n",
       "      <td>23</td>\n",
       "      <td>0.0</td>\n",
       "      <td>1</td>\n",
       "      <td>0</td>\n",
       "    </tr>\n",
       "  </tbody>\n",
       "</table>\n",
       "<p>3 rows × 34 columns</p>\n",
       "</div>"
      ],
      "text/plain": [
       "   Unnamed: 0      loanId   clientId  clientIncome incomeVerified  clientAge  \\\n",
       "0           0  PP99804128  676059506      66452.66           True         38   \n",
       "1           1  PP99781446  704436304      35000.00           True         35   \n",
       "2           2  PP99274960  487954787     162851.11           True         47   \n",
       "\n",
       "  clientGender clientMaritalStatus clientLoanPurpose clientResidentialStatus  \\\n",
       "0         MALE             Married         education       Employer Provided   \n",
       "1         MALE              Single             other                  Rented   \n",
       "2       FEMALE             Married         education           Own Residence   \n",
       "\n",
       "      ...     interestRate loanTerm  max_amount_taken  max_tenor_taken  \\\n",
       "0     ...              6.0       90                 1                1   \n",
       "1     ...              6.0       90                 0                1   \n",
       "2     ...              6.0       90                 0                1   \n",
       "\n",
       "        repaidDate  FirstPaymentDueDate settleDays paymentRatio  \\\n",
       "0   5/26/2018 1:31       6/4/2018 12:00         -9          0.0   \n",
       "1  6/11/2018 10:41       6/5/2018 12:00          6          0.0   \n",
       "2  6/27/2018 11:19       6/4/2018 12:00         23          0.0   \n",
       "\n",
       "  firstPaymentDefault loanDefault  \n",
       "0                   0           0  \n",
       "1                   0           0  \n",
       "2                   1           0  \n",
       "\n",
       "[3 rows x 34 columns]"
      ]
     },
     "execution_count": 2,
     "metadata": {},
     "output_type": "execute_result"
    }
   ],
   "source": [
    "data = pd.read_csv('C:\\\\Users\\\\hp\\\\Desktop\\\\cleaned_loans.csv')\n",
    "data.head(3)"
   ]
  },
  {
   "cell_type": "code",
   "execution_count": 3,
   "metadata": {},
   "outputs": [
    {
     "data": {
      "text/plain": [
       "False    133286\n",
       "True      26207\n",
       "Name: incomeVerified, dtype: int64"
      ]
     },
     "execution_count": 3,
     "metadata": {},
     "output_type": "execute_result"
    }
   ],
   "source": [
    "data['incomeVerified'].value_counts()"
   ]
  },
  {
   "cell_type": "code",
   "execution_count": 4,
   "metadata": {},
   "outputs": [
    {
     "data": {
      "text/plain": [
       "incomeVerified  loanDefault\n",
       "False           0              94969\n",
       "                1              38317\n",
       "True            0              20261\n",
       "                1               5946\n",
       "Name: loanDefault, dtype: int64"
      ]
     },
     "execution_count": 4,
     "metadata": {},
     "output_type": "execute_result"
    }
   ],
   "source": [
    "# Grouping Verified Income by Default rate.\n",
    "verified_grp = data.groupby(['incomeVerified', 'loanDefault'])['loanDefault'].count()\n",
    "verified_grp"
   ]
  },
  {
   "cell_type": "code",
   "execution_count": 5,
   "metadata": {},
   "outputs": [
    {
     "data": {
      "text/plain": [
       "([<matplotlib.patches.Wedge at 0x26a16bf87f0>,\n",
       "  <matplotlib.patches.Wedge at 0x26a16bf8f28>,\n",
       "  <matplotlib.patches.Wedge at 0x26a16c0f630>,\n",
       "  <matplotlib.patches.Wedge at 0x26a16c0fc88>],\n",
       " [Text(-0.324907496648494, 1.050921081062517, 'Unverified/NoDefault'),\n",
       "  Text(-0.23614966032049586, -1.074352520325854, 'Unverified/Defaulted'),\n",
       "  Text(0.8866675987474556, -0.6510150300349612, 'Verified/NoDefault'),\n",
       "  Text(1.0924641453197437, -0.12853828686738472, 'Verified/Defaulted')],\n",
       " [Text(-0.17722227089917852, 0.5732296805795546, '59.54%'),\n",
       "  Text(-0.12880890562936137, -0.5860104656322839, '24.02%'),\n",
       "  Text(0.4836368720440666, -0.35509910729179694, '12.70%'),\n",
       "  Text(0.5958895338107693, -0.0701117928367553, '3.73%')])"
      ]
     },
     "execution_count": 5,
     "metadata": {},
     "output_type": "execute_result"
    },
    {
     "data": {
      "image/png": "[encoded data removed]",
      "text/plain": [
       "<Figure size 432x288 with 1 Axes>"
      ]
     },
     "metadata": {},
     "output_type": "display_data"
    }
   ],
   "source": [
    "# Visualizing the verified_grp.\n",
    "\n",
    "pct = ['Unverified/NoDefault','Unverified/Defaulted','Verified/NoDefault','Verified/Defaulted']\n",
    "plt.pie(verified_grp, labels=pct, autopct='%.2f%%')"
   ]
  },
  {
   "cell_type": "code",
   "execution_count": 6,
   "metadata": {},
   "outputs": [
    {
     "data": {
      "text/plain": [
       "Index(['Unnamed: 0', 'loanId', 'clientId', 'clientIncome', 'incomeVerified',\n",
       "       'clientAge', 'clientGender', 'clientMaritalStatus', 'clientLoanPurpose',\n",
       "       'clientResidentialStatus', 'clientState', 'clientTimeAtEmployer',\n",
       "       'clientNumberPhoneContacts', 'clientAvgCallsPerDay', 'loanType',\n",
       "       'loanNumber', 'applicationDate', 'approvalDate', 'declinedDate',\n",
       "       'disbursementDate', 'payout_status', 'dueDate', 'paidAt', 'loanAmount',\n",
       "       'interestRate', 'loanTerm', 'max_amount_taken', 'max_tenor_taken',\n",
       "       'repaidDate', 'FirstPaymentDueDate', 'settleDays', 'paymentRatio',\n",
       "       'firstPaymentDefault', 'loanDefault'],\n",
       "      dtype='object')"
      ]
     },
     "execution_count": 6,
     "metadata": {},
     "output_type": "execute_result"
    }
   ],
   "source": [
    "data.columns"
   ]
  },
  {
   "cell_type": "code",
   "execution_count": 7,
   "metadata": {},
   "outputs": [
    {
     "data": {
      "text/plain": [
       "60     87908\n",
       "90     50568\n",
       "180    21120\n",
       "Name: loanTerm, dtype: int64"
      ]
     },
     "execution_count": 7,
     "metadata": {},
     "output_type": "execute_result"
    }
   ],
   "source": [
    "data.loanTerm.value_counts()"
   ]
  },
  {
   "cell_type": "code",
   "execution_count": 8,
   "metadata": {},
   "outputs": [
    {
     "data": {
      "text/plain": [
       "loanTerm  loanDefault\n",
       "60        0              63701\n",
       "          1              24207\n",
       "90        0              36588\n",
       "          1              13980\n",
       "180       0              15032\n",
       "          1               6088\n",
       "Name: loanDefault, dtype: int64"
      ]
     },
     "execution_count": 8,
     "metadata": {},
     "output_type": "execute_result"
    }
   ],
   "source": [
    "data.groupby(['loanTerm', 'loanDefault'])['loanDefault'].count()"
   ]
  },
  {
   "cell_type": "code",
   "execution_count": 9,
   "metadata": {},
   "outputs": [
    {
     "data": {
      "text/plain": [
       "([<matplotlib.patches.Wedge at 0x26a16c8bb38>,\n",
       "  <matplotlib.patches.Wedge at 0x26a16c99278>,\n",
       "  <matplotlib.patches.Wedge at 0x26a16c99940>,\n",
       "  <matplotlib.patches.Wedge at 0x26a16ca5048>,\n",
       "  <matplotlib.patches.Wedge at 0x26a16ca5710>,\n",
       "  <matplotlib.patches.Wedge at 0x26a16ca5dd8>],\n",
       " [Text(0.34274697158047523, 1.0452389743366888, '2months/NoDefault'),\n",
       "  Text(-1.0864327731514305, 0.17223190593642226, '2months/Defaulted'),\n",
       "  Text(-0.5573095098854783, -0.9483702389843369, '3months/NoDefault'),\n",
       "  Text(0.4924044665437603, -0.983635014285154, '3months/Defaulted'),\n",
       "  Text(0.9459699643743696, -0.5613740522161262, '6months/NoDefault'),\n",
       "  Text(1.092110531457994, -0.13150888592995658, '6months/Defaulted')],\n",
       " [Text(0.1869528935893501, 0.5701303496381938, '39.91%'),\n",
       "  Text(-0.5925996944462347, 0.09394467596532122, '15.17%'),\n",
       "  Text(-0.30398700539207907, -0.5172928576278201, '22.93%'),\n",
       "  Text(0.26858425447841466, -0.536528189610084, '8.76%'),\n",
       "  Text(0.5159836169314743, -0.30620402848152334, '9.42%'),\n",
       "  Text(0.5956966535225421, -0.07173211959815812, '3.81%')])"
      ]
     },
     "execution_count": 9,
     "metadata": {},
     "output_type": "execute_result"
    },
    {
     "data": {
      "image/png": "[encoded data removed]",
      "text/plain": [
       "<Figure size 432x288 with 1 Axes>"
      ]
     },
     "metadata": {},
     "output_type": "display_data"
    }
   ],
   "source": [
    "acts = ['2months/NoDefault','2months/Defaulted','3months/NoDefault','3months/Defaulted', \n",
    "       '6months/NoDefault','6months/Defaulted']\n",
    "plt.pie(data.groupby(['loanTerm', 'loanDefault'])['loanDefault'].count(), labels= acts, autopct='%.2f%%')"
   ]
  },
  {
   "cell_type": "code",
   "execution_count": 10,
   "metadata": {},
   "outputs": [],
   "source": [
    "cols = ['Unnamed: 0', 'loanId', 'incomeVerified', 'loanType', 'loanNumber', 'applicationDate',\n",
    "        'approvalDate', 'declinedDate', 'disbursementDate', 'payout_status', 'dueDate', 'paidAt',\n",
    "        'interestRate', 'max_amount_taken', 'max_tenor_taken', 'repaidDate', 'FirstPaymentDueDate',\n",
    "        'settleDays', 'paymentRatio', 'firstPaymentDefault','loanDefault']"
   ]
  },
  {
   "cell_type": "code",
   "execution_count": 11,
   "metadata": {},
   "outputs": [],
   "source": [
    "# Split into dependent(y) and independent(X) features.\n",
    "\n",
    "X = data.drop(cols, axis=1)\n",
    "y = data['loanDefault']"
   ]
  },
  {
   "cell_type": "code",
   "execution_count": 12,
   "metadata": {},
   "outputs": [],
   "source": [
    "from sklearn.model_selection import train_test_split\n",
    "\n",
    "#train_data, Test = train_test_split(data, test_size=0.20, random_state=10)\n",
    "\n",
    "x_train, x_test, y_train, y_test = train_test_split(X, y, test_size=0.20, random_state=42)"
   ]
  },
  {
   "cell_type": "code",
   "execution_count": 13,
   "metadata": {},
   "outputs": [],
   "source": [
    "#df = data.drop(cols, axis=1)"
   ]
  },
  {
   "cell_type": "code",
   "execution_count": 14,
   "metadata": {},
   "outputs": [
    {
     "data": {
      "text/plain": [
       "Index(['clientId', 'clientIncome', 'clientAge', 'clientGender',\n",
       "       'clientMaritalStatus', 'clientLoanPurpose', 'clientResidentialStatus',\n",
       "       'clientState', 'clientTimeAtEmployer', 'clientNumberPhoneContacts',\n",
       "       'clientAvgCallsPerDay', 'loanAmount', 'loanTerm'],\n",
       "      dtype='object')"
      ]
     },
     "execution_count": 14,
     "metadata": {},
     "output_type": "execute_result"
    }
   ],
   "source": [
    "x_train.columns"
   ]
  },
  {
   "cell_type": "code",
   "execution_count": 15,
   "metadata": {},
   "outputs": [
    {
     "data": {
      "text/plain": [
       "(127676, 13)"
      ]
     },
     "execution_count": 15,
     "metadata": {},
     "output_type": "execute_result"
    }
   ],
   "source": [
    "x_train.shape"
   ]
  },
  {
   "cell_type": "code",
   "execution_count": 16,
   "metadata": {},
   "outputs": [
    {
     "name": "stdout",
     "output_type": "stream",
     "text": [
      "<class 'pandas.core.frame.DataFrame'>\n",
      "Int64Index: 127676 entries, 83952 to 121958\n",
      "Data columns (total 13 columns):\n",
      "clientId                     127676 non-null int64\n",
      "clientIncome                 127676 non-null float64\n",
      "clientAge                    127676 non-null int64\n",
      "clientGender                 127676 non-null object\n",
      "clientMaritalStatus          127671 non-null object\n",
      "clientLoanPurpose            127676 non-null object\n",
      "clientResidentialStatus      126768 non-null object\n",
      "clientState                  127675 non-null object\n",
      "clientTimeAtEmployer         124318 non-null object\n",
      "clientNumberPhoneContacts    125492 non-null float64\n",
      "clientAvgCallsPerDay         125507 non-null float64\n",
      "loanAmount                   127676 non-null int64\n",
      "loanTerm                     127676 non-null int64\n",
      "dtypes: float64(3), int64(4), object(6)\n",
      "memory usage: 13.6+ MB\n"
     ]
    }
   ],
   "source": [
    "x_train.info()"
   ]
  },
  {
   "cell_type": "code",
   "execution_count": 17,
   "metadata": {},
   "outputs": [
    {
     "data": {
      "text/plain": [
       "clientId                        0\n",
       "clientIncome                    0\n",
       "clientAge                       0\n",
       "clientGender                    0\n",
       "clientMaritalStatus             5\n",
       "clientLoanPurpose               0\n",
       "clientResidentialStatus       908\n",
       "clientState                     1\n",
       "clientTimeAtEmployer         3358\n",
       "clientNumberPhoneContacts    2184\n",
       "clientAvgCallsPerDay         2169\n",
       "loanAmount                      0\n",
       "loanTerm                        0\n",
       "dtype: int64"
      ]
     },
     "execution_count": 17,
     "metadata": {},
     "output_type": "execute_result"
    }
   ],
   "source": [
    "# Checking for missing values.\n",
    "\n",
    "x_train.isna().sum()"
   ]
  },
  {
   "cell_type": "code",
   "execution_count": 18,
   "metadata": {},
   "outputs": [
    {
     "data": {
      "text/plain": [
       "36+    69850\n",
       "0       2707\n",
       "24      2342\n",
       "12      2122\n",
       "3       1921\n",
       "2       1898\n",
       "13      1885\n",
       "1       1856\n",
       "4       1852\n",
       "5       1761\n",
       "6       1719\n",
       "9       1624\n",
       "7       1622\n",
       "8       1537\n",
       "15      1526\n",
       "16      1499\n",
       "14      1490\n",
       "25      1467\n",
       "11      1456\n",
       "17      1421\n",
       "26      1411\n",
       "27      1387\n",
       "10      1379\n",
       "23      1349\n",
       "28      1346\n",
       "18      1326\n",
       "29      1288\n",
       "20      1249\n",
       "22      1233\n",
       "19      1222\n",
       "21      1216\n",
       "31      1155\n",
       "30      1104\n",
       "32      1060\n",
       "35      1029\n",
       "34      1007\n",
       "33      1001\n",
       "-6         1\n",
       "Name: clientTimeAtEmployer, dtype: int64"
      ]
     },
     "execution_count": 18,
     "metadata": {},
     "output_type": "execute_result"
    }
   ],
   "source": [
    "# Why is clientTimeAtEmployer an object type instead of integer?\n",
    "\n",
    "x_train.clientTimeAtEmployer.value_counts()"
   ]
  },
  {
   "cell_type": "code",
   "execution_count": 19,
   "metadata": {},
   "outputs": [
    {
     "name": "stderr",
     "output_type": "stream",
     "text": [
      "C:\\Users\\hp\\Anaconda3\\lib\\site-packages\\pandas\\core\\indexing.py:537: SettingWithCopyWarning: \n",
      "A value is trying to be set on a copy of a slice from a DataFrame.\n",
      "Try using .loc[row_indexer,col_indexer] = value instead\n",
      "\n",
      "See the caveats in the documentation: http://pandas.pydata.org/pandas-docs/stable/indexing.html#indexing-view-versus-copy\n",
      "  self.obj[item] = s\n"
     ]
    }
   ],
   "source": [
    "# We'd convert 36+ to 40\n",
    "# We'd convert -6, -7, and -5 to 6, 7, and 5 respectively.\n",
    "\n",
    "x_train.loc[x_train['clientTimeAtEmployer']=='36+', 'clientTimeAtEmployer'] = '40'\n",
    "x_train.loc[x_train['clientTimeAtEmployer']=='-5', 'clientTimeAtEmployer'] = '5'\n",
    "x_train.loc[x_train['clientTimeAtEmployer']=='-6', 'clientTimeAtEmployer'] = '6'\n",
    "x_train.loc[x_train['clientTimeAtEmployer']=='-7', 'clientTimeAtEmployer'] = '7'"
   ]
  },
  {
   "cell_type": "code",
   "execution_count": 20,
   "metadata": {},
   "outputs": [
    {
     "data": {
      "text/plain": [
       "40    69850\n",
       "0      2707\n",
       "24     2342\n",
       "12     2122\n",
       "3      1921\n",
       "2      1898\n",
       "13     1885\n",
       "1      1856\n",
       "4      1852\n",
       "5      1761\n",
       "6      1720\n",
       "9      1624\n",
       "7      1622\n",
       "8      1537\n",
       "15     1526\n",
       "16     1499\n",
       "14     1490\n",
       "25     1467\n",
       "11     1456\n",
       "17     1421\n",
       "26     1411\n",
       "27     1387\n",
       "10     1379\n",
       "23     1349\n",
       "28     1346\n",
       "18     1326\n",
       "29     1288\n",
       "20     1249\n",
       "22     1233\n",
       "19     1222\n",
       "21     1216\n",
       "31     1155\n",
       "30     1104\n",
       "32     1060\n",
       "35     1029\n",
       "34     1007\n",
       "33     1001\n",
       "Name: clientTimeAtEmployer, dtype: int64"
      ]
     },
     "execution_count": 20,
     "metadata": {},
     "output_type": "execute_result"
    }
   ],
   "source": [
    "\n",
    "x_train.clientTimeAtEmployer.value_counts()"
   ]
  },
  {
   "cell_type": "code",
   "execution_count": 21,
   "metadata": {},
   "outputs": [
    {
     "data": {
      "text/html": [
       "<div>\n",
       "<style scoped>\n",
       "    .dataframe tbody tr th:only-of-type {\n",
       "        vertical-align: middle;\n",
       "    }\n",
       "\n",
       "    .dataframe tbody tr th {\n",
       "        vertical-align: top;\n",
       "    }\n",
       "\n",
       "    .dataframe thead th {\n",
       "        text-align: right;\n",
       "    }\n",
       "</style>\n",
       "<table border=\"1\" class=\"dataframe\">\n",
       "  <thead>\n",
       "    <tr style=\"text-align: right;\">\n",
       "      <th></th>\n",
       "      <th>clientId</th>\n",
       "      <th>clientIncome</th>\n",
       "      <th>clientAge</th>\n",
       "      <th>clientNumberPhoneContacts</th>\n",
       "      <th>clientAvgCallsPerDay</th>\n",
       "      <th>loanAmount</th>\n",
       "      <th>loanTerm</th>\n",
       "    </tr>\n",
       "  </thead>\n",
       "  <tbody>\n",
       "    <tr>\n",
       "      <th>count</th>\n",
       "      <td>1.276760e+05</td>\n",
       "      <td>1.276760e+05</td>\n",
       "      <td>127676.000000</td>\n",
       "      <td>125492.000000</td>\n",
       "      <td>125507.000000</td>\n",
       "      <td>127676.000000</td>\n",
       "      <td>127676.000000</td>\n",
       "    </tr>\n",
       "    <tr>\n",
       "      <th>mean</th>\n",
       "      <td>4.983625e+08</td>\n",
       "      <td>9.058566e+04</td>\n",
       "      <td>33.679783</td>\n",
       "      <td>1264.687956</td>\n",
       "      <td>59.024187</td>\n",
       "      <td>35334.260159</td>\n",
       "      <td>85.461559</td>\n",
       "    </tr>\n",
       "    <tr>\n",
       "      <th>std</th>\n",
       "      <td>2.929865e+08</td>\n",
       "      <td>9.704478e+04</td>\n",
       "      <td>7.174988</td>\n",
       "      <td>1534.411240</td>\n",
       "      <td>103.495726</td>\n",
       "      <td>27833.792873</td>\n",
       "      <td>39.370422</td>\n",
       "    </tr>\n",
       "    <tr>\n",
       "      <th>min</th>\n",
       "      <td>5.060000e+02</td>\n",
       "      <td>3.000000e+01</td>\n",
       "      <td>18.000000</td>\n",
       "      <td>0.000000</td>\n",
       "      <td>0.000000</td>\n",
       "      <td>11000.000000</td>\n",
       "      <td>60.000000</td>\n",
       "    </tr>\n",
       "    <tr>\n",
       "      <th>25%</th>\n",
       "      <td>2.480605e+08</td>\n",
       "      <td>3.500000e+04</td>\n",
       "      <td>28.000000</td>\n",
       "      <td>429.000000</td>\n",
       "      <td>9.819624</td>\n",
       "      <td>20000.000000</td>\n",
       "      <td>60.000000</td>\n",
       "    </tr>\n",
       "    <tr>\n",
       "      <th>50%</th>\n",
       "      <td>4.974890e+08</td>\n",
       "      <td>5.482565e+04</td>\n",
       "      <td>33.000000</td>\n",
       "      <td>825.000000</td>\n",
       "      <td>29.200000</td>\n",
       "      <td>25500.000000</td>\n",
       "      <td>60.000000</td>\n",
       "    </tr>\n",
       "    <tr>\n",
       "      <th>75%</th>\n",
       "      <td>7.470973e+08</td>\n",
       "      <td>1.050000e+05</td>\n",
       "      <td>38.000000</td>\n",
       "      <td>1555.000000</td>\n",
       "      <td>69.860090</td>\n",
       "      <td>37500.000000</td>\n",
       "      <td>90.000000</td>\n",
       "    </tr>\n",
       "    <tr>\n",
       "      <th>max</th>\n",
       "      <td>9.365832e+09</td>\n",
       "      <td>3.925000e+06</td>\n",
       "      <td>138.000000</td>\n",
       "      <td>60595.000000</td>\n",
       "      <td>10994.500000</td>\n",
       "      <td>500000.000000</td>\n",
       "      <td>180.000000</td>\n",
       "    </tr>\n",
       "  </tbody>\n",
       "</table>\n",
       "</div>"
      ],
      "text/plain": [
       "           clientId  clientIncome      clientAge  clientNumberPhoneContacts  \\\n",
       "count  1.276760e+05  1.276760e+05  127676.000000              125492.000000   \n",
       "mean   4.983625e+08  9.058566e+04      33.679783                1264.687956   \n",
       "std    2.929865e+08  9.704478e+04       7.174988                1534.411240   \n",
       "min    5.060000e+02  3.000000e+01      18.000000                   0.000000   \n",
       "25%    2.480605e+08  3.500000e+04      28.000000                 429.000000   \n",
       "50%    4.974890e+08  5.482565e+04      33.000000                 825.000000   \n",
       "75%    7.470973e+08  1.050000e+05      38.000000                1555.000000   \n",
       "max    9.365832e+09  3.925000e+06     138.000000               60595.000000   \n",
       "\n",
       "       clientAvgCallsPerDay     loanAmount       loanTerm  \n",
       "count         125507.000000  127676.000000  127676.000000  \n",
       "mean              59.024187   35334.260159      85.461559  \n",
       "std              103.495726   27833.792873      39.370422  \n",
       "min                0.000000   11000.000000      60.000000  \n",
       "25%                9.819624   20000.000000      60.000000  \n",
       "50%               29.200000   25500.000000      60.000000  \n",
       "75%               69.860090   37500.000000      90.000000  \n",
       "max            10994.500000  500000.000000     180.000000  "
      ]
     },
     "execution_count": 21,
     "metadata": {},
     "output_type": "execute_result"
    }
   ],
   "source": [
    "# Descriptive statistics.\n",
    "\n",
    "x_train.describe()"
   ]
  },
  {
   "cell_type": "code",
   "execution_count": 22,
   "metadata": {},
   "outputs": [],
   "source": [
    "# In filling missing Categorical variables we'd use mode, and median for missing numerical variables."
   ]
  },
  {
   "cell_type": "code",
   "execution_count": 23,
   "metadata": {},
   "outputs": [
    {
     "data": {
      "text/plain": [
       "0    Married\n",
       "dtype: object"
      ]
     },
     "execution_count": 23,
     "metadata": {},
     "output_type": "execute_result"
    }
   ],
   "source": [
    "x_train.clientMaritalStatus.mode()"
   ]
  },
  {
   "cell_type": "code",
   "execution_count": 24,
   "metadata": {},
   "outputs": [
    {
     "data": {
      "text/plain": [
       "0    Rented\n",
       "dtype: object"
      ]
     },
     "execution_count": 24,
     "metadata": {},
     "output_type": "execute_result"
    }
   ],
   "source": [
    "x_train.clientResidentialStatus.mode()"
   ]
  },
  {
   "cell_type": "code",
   "execution_count": 25,
   "metadata": {},
   "outputs": [
    {
     "data": {
      "text/plain": [
       "LAGOS          48431\n",
       "OGUN           11960\n",
       "ABUJA          11226\n",
       "OYO            10171\n",
       "RIVERS          6281\n",
       "DELTA           4073\n",
       "KWARA           3137\n",
       "OSUN            3057\n",
       "ONDO            2812\n",
       "KADUNA          2785\n",
       "EDO             2156\n",
       "NIGER           1994\n",
       "EKITI           1646\n",
       "BENUE           1602\n",
       "AKWA IBOM       1559\n",
       "KOGI            1532\n",
       "PLATEAU         1397\n",
       "CROSS RIVER     1291\n",
       "NASARAWA        1267\n",
       "ENUGU           1226\n",
       "ANAMBRA         1183\n",
       "ABIA            1154\n",
       "IMO             1018\n",
       "KANO             998\n",
       "BAYELSA          929\n",
       "ADAMAWA          454\n",
       "BAUCHI           341\n",
       "SOKOTO           329\n",
       "EBONYI           308\n",
       "TARABA           264\n",
       "KEBBI            229\n",
       "GOMBE            207\n",
       "KATSINA          190\n",
       "ZAMFARA          182\n",
       "BORNO            158\n",
       "YOBE              67\n",
       "JIGAWA            59\n",
       "OJO                1\n",
       "LAGOS              1\n",
       "Name: clientState, dtype: int64"
      ]
     },
     "execution_count": 25,
     "metadata": {},
     "output_type": "execute_result"
    }
   ],
   "source": [
    "x_train.clientState.value_counts()"
   ]
  },
  {
   "cell_type": "code",
   "execution_count": 26,
   "metadata": {},
   "outputs": [
    {
     "name": "stderr",
     "output_type": "stream",
     "text": [
      "C:\\Users\\hp\\Anaconda3\\lib\\site-packages\\pandas\\core\\generic.py:4619: SettingWithCopyWarning: \n",
      "A value is trying to be set on a copy of a slice from a DataFrame\n",
      "\n",
      "See the caveats in the documentation: http://pandas.pydata.org/pandas-docs/stable/indexing.html#indexing-view-versus-copy\n",
      "  self._update_inplace(new_data)\n"
     ]
    },
    {
     "data": {
      "text/plain": [
       "LAGOS          48432\n",
       "OGUN           11960\n",
       "ABUJA          11226\n",
       "OYO            10172\n",
       "RIVERS          6281\n",
       "DELTA           4073\n",
       "KWARA           3137\n",
       "OSUN            3057\n",
       "ONDO            2812\n",
       "KADUNA          2785\n",
       "EDO             2156\n",
       "NIGER           1994\n",
       "EKITI           1646\n",
       "BENUE           1602\n",
       "AKWA IBOM       1559\n",
       "KOGI            1532\n",
       "PLATEAU         1397\n",
       "CROSS RIVER     1291\n",
       "NASARAWA        1267\n",
       "ENUGU           1226\n",
       "ANAMBRA         1183\n",
       "ABIA            1154\n",
       "IMO             1018\n",
       "KANO             998\n",
       "BAYELSA          929\n",
       "ADAMAWA          454\n",
       "BAUCHI           341\n",
       "SOKOTO           329\n",
       "EBONYI           308\n",
       "TARABA           264\n",
       "KEBBI            229\n",
       "GOMBE            207\n",
       "KATSINA          190\n",
       "ZAMFARA          182\n",
       "BORNO            158\n",
       "YOBE              67\n",
       "JIGAWA            59\n",
       "Name: clientState, dtype: int64"
      ]
     },
     "execution_count": 26,
     "metadata": {},
     "output_type": "execute_result"
    }
   ],
   "source": [
    "# Replacing OJO with OYO and 'LAGOS ' with 'LAGOS'.\n",
    "\n",
    "x_train['clientState'].replace({'LAGOS ':'LAGOS', 'OJO':'OYO'}, inplace=True)\n",
    "x_train.clientState.value_counts()"
   ]
  },
  {
   "cell_type": "code",
   "execution_count": 27,
   "metadata": {},
   "outputs": [
    {
     "data": {
      "text/plain": [
       "0    LAGOS\n",
       "dtype: object"
      ]
     },
     "execution_count": 27,
     "metadata": {},
     "output_type": "execute_result"
    }
   ],
   "source": [
    "x_train.clientState.mode()"
   ]
  },
  {
   "cell_type": "code",
   "execution_count": 28,
   "metadata": {},
   "outputs": [
    {
     "data": {
      "text/plain": [
       "40.0"
      ]
     },
     "execution_count": 28,
     "metadata": {},
     "output_type": "execute_result"
    }
   ],
   "source": [
    "x_train.clientTimeAtEmployer.median()"
   ]
  },
  {
   "cell_type": "code",
   "execution_count": 29,
   "metadata": {},
   "outputs": [
    {
     "data": {
      "text/plain": [
       "825.0"
      ]
     },
     "execution_count": 29,
     "metadata": {},
     "output_type": "execute_result"
    }
   ],
   "source": [
    "x_train.clientNumberPhoneContacts.median()"
   ]
  },
  {
   "cell_type": "code",
   "execution_count": 30,
   "metadata": {},
   "outputs": [
    {
     "data": {
      "text/plain": [
       "29.2"
      ]
     },
     "execution_count": 30,
     "metadata": {},
     "output_type": "execute_result"
    }
   ],
   "source": [
    "x_train.clientAvgCallsPerDay.median()"
   ]
  },
  {
   "cell_type": "code",
   "execution_count": 31,
   "metadata": {},
   "outputs": [
    {
     "data": {
      "text/plain": [
       "0"
      ]
     },
     "execution_count": 31,
     "metadata": {},
     "output_type": "execute_result"
    }
   ],
   "source": [
    "# Filling missing values.\n",
    "\n",
    "fill = {'clientMaritalStatus':'Married', 'clientResidentialStatus':'Rented', 'clientState':'LAGOS',\n",
    "        'clientTimeAtEmployer':40, 'clientNumberPhoneContacts':825, 'clientAvgCallsPerDay':29.38}\n",
    "\n",
    "x_train = x_train.fillna(value=fill)\n",
    "\n",
    "# Confirming that missing values have been filled.\n",
    "x_train.isna().values.sum()"
   ]
  },
  {
   "cell_type": "code",
   "execution_count": 32,
   "metadata": {},
   "outputs": [
    {
     "name": "stdout",
     "output_type": "stream",
     "text": [
      "int64\n"
     ]
    }
   ],
   "source": [
    "# Converting clientTimeAtEmployer from object to integer.\n",
    "\n",
    "x_train['clientTimeAtEmployer'] = x_train['clientTimeAtEmployer'].astype('int64')\n",
    "\n",
    "print(x_train.clientTimeAtEmployer.dtype)"
   ]
  },
  {
   "cell_type": "code",
   "execution_count": 33,
   "metadata": {},
   "outputs": [
    {
     "data": {
      "text/html": [
       "<div>\n",
       "<style scoped>\n",
       "    .dataframe tbody tr th:only-of-type {\n",
       "        vertical-align: middle;\n",
       "    }\n",
       "\n",
       "    .dataframe tbody tr th {\n",
       "        vertical-align: top;\n",
       "    }\n",
       "\n",
       "    .dataframe thead th {\n",
       "        text-align: right;\n",
       "    }\n",
       "</style>\n",
       "<table border=\"1\" class=\"dataframe\">\n",
       "  <thead>\n",
       "    <tr style=\"text-align: right;\">\n",
       "      <th></th>\n",
       "      <th>clientId</th>\n",
       "      <th>clientIncome</th>\n",
       "      <th>clientAge</th>\n",
       "      <th>clientTimeAtEmployer</th>\n",
       "      <th>clientNumberPhoneContacts</th>\n",
       "      <th>clientAvgCallsPerDay</th>\n",
       "      <th>loanAmount</th>\n",
       "      <th>loanTerm</th>\n",
       "    </tr>\n",
       "  </thead>\n",
       "  <tbody>\n",
       "    <tr>\n",
       "      <th>count</th>\n",
       "      <td>1.276760e+05</td>\n",
       "      <td>1.276760e+05</td>\n",
       "      <td>127676.000000</td>\n",
       "      <td>127676.000000</td>\n",
       "      <td>127676.000000</td>\n",
       "      <td>127676.000000</td>\n",
       "      <td>127676.000000</td>\n",
       "      <td>127676.000000</td>\n",
       "    </tr>\n",
       "    <tr>\n",
       "      <th>mean</th>\n",
       "      <td>4.983625e+08</td>\n",
       "      <td>9.058566e+04</td>\n",
       "      <td>33.679783</td>\n",
       "      <td>29.607319</td>\n",
       "      <td>1257.166742</td>\n",
       "      <td>58.520582</td>\n",
       "      <td>35334.260159</td>\n",
       "      <td>85.461559</td>\n",
       "    </tr>\n",
       "    <tr>\n",
       "      <th>std</th>\n",
       "      <td>2.929865e+08</td>\n",
       "      <td>9.704478e+04</td>\n",
       "      <td>7.174988</td>\n",
       "      <td>13.807993</td>\n",
       "      <td>1522.298848</td>\n",
       "      <td>102.684328</td>\n",
       "      <td>27833.792873</td>\n",
       "      <td>39.370422</td>\n",
       "    </tr>\n",
       "    <tr>\n",
       "      <th>min</th>\n",
       "      <td>5.060000e+02</td>\n",
       "      <td>3.000000e+01</td>\n",
       "      <td>18.000000</td>\n",
       "      <td>0.000000</td>\n",
       "      <td>0.000000</td>\n",
       "      <td>0.000000</td>\n",
       "      <td>11000.000000</td>\n",
       "      <td>60.000000</td>\n",
       "    </tr>\n",
       "    <tr>\n",
       "      <th>25%</th>\n",
       "      <td>2.480605e+08</td>\n",
       "      <td>3.500000e+04</td>\n",
       "      <td>28.000000</td>\n",
       "      <td>18.000000</td>\n",
       "      <td>435.000000</td>\n",
       "      <td>10.000000</td>\n",
       "      <td>20000.000000</td>\n",
       "      <td>60.000000</td>\n",
       "    </tr>\n",
       "    <tr>\n",
       "      <th>50%</th>\n",
       "      <td>4.974890e+08</td>\n",
       "      <td>5.482565e+04</td>\n",
       "      <td>33.000000</td>\n",
       "      <td>40.000000</td>\n",
       "      <td>825.000000</td>\n",
       "      <td>29.380000</td>\n",
       "      <td>25500.000000</td>\n",
       "      <td>60.000000</td>\n",
       "    </tr>\n",
       "    <tr>\n",
       "      <th>75%</th>\n",
       "      <td>7.470973e+08</td>\n",
       "      <td>1.050000e+05</td>\n",
       "      <td>38.000000</td>\n",
       "      <td>40.000000</td>\n",
       "      <td>1537.000000</td>\n",
       "      <td>68.750000</td>\n",
       "      <td>37500.000000</td>\n",
       "      <td>90.000000</td>\n",
       "    </tr>\n",
       "    <tr>\n",
       "      <th>max</th>\n",
       "      <td>9.365832e+09</td>\n",
       "      <td>3.925000e+06</td>\n",
       "      <td>138.000000</td>\n",
       "      <td>40.000000</td>\n",
       "      <td>60595.000000</td>\n",
       "      <td>10994.500000</td>\n",
       "      <td>500000.000000</td>\n",
       "      <td>180.000000</td>\n",
       "    </tr>\n",
       "  </tbody>\n",
       "</table>\n",
       "</div>"
      ],
      "text/plain": [
       "           clientId  clientIncome      clientAge  clientTimeAtEmployer  \\\n",
       "count  1.276760e+05  1.276760e+05  127676.000000         127676.000000   \n",
       "mean   4.983625e+08  9.058566e+04      33.679783             29.607319   \n",
       "std    2.929865e+08  9.704478e+04       7.174988             13.807993   \n",
       "min    5.060000e+02  3.000000e+01      18.000000              0.000000   \n",
       "25%    2.480605e+08  3.500000e+04      28.000000             18.000000   \n",
       "50%    4.974890e+08  5.482565e+04      33.000000             40.000000   \n",
       "75%    7.470973e+08  1.050000e+05      38.000000             40.000000   \n",
       "max    9.365832e+09  3.925000e+06     138.000000             40.000000   \n",
       "\n",
       "       clientNumberPhoneContacts  clientAvgCallsPerDay     loanAmount  \\\n",
       "count              127676.000000         127676.000000  127676.000000   \n",
       "mean                 1257.166742             58.520582   35334.260159   \n",
       "std                  1522.298848            102.684328   27833.792873   \n",
       "min                     0.000000              0.000000   11000.000000   \n",
       "25%                   435.000000             10.000000   20000.000000   \n",
       "50%                   825.000000             29.380000   25500.000000   \n",
       "75%                  1537.000000             68.750000   37500.000000   \n",
       "max                 60595.000000          10994.500000  500000.000000   \n",
       "\n",
       "            loanTerm  \n",
       "count  127676.000000  \n",
       "mean       85.461559  \n",
       "std        39.370422  \n",
       "min        60.000000  \n",
       "25%        60.000000  \n",
       "50%        60.000000  \n",
       "75%        90.000000  \n",
       "max       180.000000  "
      ]
     },
     "execution_count": 33,
     "metadata": {},
     "output_type": "execute_result"
    }
   ],
   "source": [
    "x_train.describe()"
   ]
  },
  {
   "cell_type": "code",
   "execution_count": 34,
   "metadata": {},
   "outputs": [
    {
     "data": {
      "text/html": [
       "<div>\n",
       "<style scoped>\n",
       "    .dataframe tbody tr th:only-of-type {\n",
       "        vertical-align: middle;\n",
       "    }\n",
       "\n",
       "    .dataframe tbody tr th {\n",
       "        vertical-align: top;\n",
       "    }\n",
       "\n",
       "    .dataframe thead th {\n",
       "        text-align: right;\n",
       "    }\n",
       "</style>\n",
       "<table border=\"1\" class=\"dataframe\">\n",
       "  <thead>\n",
       "    <tr style=\"text-align: right;\">\n",
       "      <th></th>\n",
       "      <th>clientId</th>\n",
       "      <th>clientIncome</th>\n",
       "      <th>clientAge</th>\n",
       "      <th>clientGender</th>\n",
       "      <th>clientMaritalStatus</th>\n",
       "      <th>clientLoanPurpose</th>\n",
       "      <th>clientResidentialStatus</th>\n",
       "      <th>clientState</th>\n",
       "      <th>clientTimeAtEmployer</th>\n",
       "      <th>clientNumberPhoneContacts</th>\n",
       "      <th>clientAvgCallsPerDay</th>\n",
       "      <th>loanAmount</th>\n",
       "      <th>loanTerm</th>\n",
       "    </tr>\n",
       "  </thead>\n",
       "  <tbody>\n",
       "    <tr>\n",
       "      <th>83952</th>\n",
       "      <td>740384528</td>\n",
       "      <td>25000.00</td>\n",
       "      <td>31</td>\n",
       "      <td>MALE</td>\n",
       "      <td>Single</td>\n",
       "      <td>business</td>\n",
       "      <td>Rented</td>\n",
       "      <td>OYO</td>\n",
       "      <td>24</td>\n",
       "      <td>283.0</td>\n",
       "      <td>130.000000</td>\n",
       "      <td>25000</td>\n",
       "      <td>60</td>\n",
       "    </tr>\n",
       "    <tr>\n",
       "      <th>80844</th>\n",
       "      <td>145366237</td>\n",
       "      <td>65905.17</td>\n",
       "      <td>29</td>\n",
       "      <td>MALE</td>\n",
       "      <td>Single</td>\n",
       "      <td>education</td>\n",
       "      <td>Own Residence</td>\n",
       "      <td>LAGOS</td>\n",
       "      <td>40</td>\n",
       "      <td>399.0</td>\n",
       "      <td>28.927711</td>\n",
       "      <td>15500</td>\n",
       "      <td>60</td>\n",
       "    </tr>\n",
       "    <tr>\n",
       "      <th>42650</th>\n",
       "      <td>507680790</td>\n",
       "      <td>156400.00</td>\n",
       "      <td>33</td>\n",
       "      <td>FEMALE</td>\n",
       "      <td>Married</td>\n",
       "      <td>other</td>\n",
       "      <td>Rented</td>\n",
       "      <td>LAGOS</td>\n",
       "      <td>18</td>\n",
       "      <td>1030.0</td>\n",
       "      <td>32.543103</td>\n",
       "      <td>160000</td>\n",
       "      <td>180</td>\n",
       "    </tr>\n",
       "    <tr>\n",
       "      <th>88033</th>\n",
       "      <td>701928070</td>\n",
       "      <td>25000.00</td>\n",
       "      <td>23</td>\n",
       "      <td>MALE</td>\n",
       "      <td>Single</td>\n",
       "      <td>other</td>\n",
       "      <td>Rented</td>\n",
       "      <td>OSUN</td>\n",
       "      <td>18</td>\n",
       "      <td>1121.0</td>\n",
       "      <td>26.287540</td>\n",
       "      <td>20000</td>\n",
       "      <td>60</td>\n",
       "    </tr>\n",
       "    <tr>\n",
       "      <th>116683</th>\n",
       "      <td>995698126</td>\n",
       "      <td>140000.00</td>\n",
       "      <td>35</td>\n",
       "      <td>MALE</td>\n",
       "      <td>Single</td>\n",
       "      <td>medical</td>\n",
       "      <td>Rented</td>\n",
       "      <td>LAGOS</td>\n",
       "      <td>6</td>\n",
       "      <td>120.0</td>\n",
       "      <td>13.500000</td>\n",
       "      <td>25500</td>\n",
       "      <td>90</td>\n",
       "    </tr>\n",
       "  </tbody>\n",
       "</table>\n",
       "</div>"
      ],
      "text/plain": [
       "         clientId  clientIncome  clientAge clientGender clientMaritalStatus  \\\n",
       "83952   740384528      25000.00         31         MALE              Single   \n",
       "80844   145366237      65905.17         29         MALE              Single   \n",
       "42650   507680790     156400.00         33       FEMALE             Married   \n",
       "88033   701928070      25000.00         23         MALE              Single   \n",
       "116683  995698126     140000.00         35         MALE              Single   \n",
       "\n",
       "       clientLoanPurpose clientResidentialStatus clientState  \\\n",
       "83952           business                  Rented         OYO   \n",
       "80844          education           Own Residence       LAGOS   \n",
       "42650              other                  Rented       LAGOS   \n",
       "88033              other                  Rented        OSUN   \n",
       "116683           medical                  Rented       LAGOS   \n",
       "\n",
       "        clientTimeAtEmployer  clientNumberPhoneContacts  clientAvgCallsPerDay  \\\n",
       "83952                     24                      283.0            130.000000   \n",
       "80844                     40                      399.0             28.927711   \n",
       "42650                     18                     1030.0             32.543103   \n",
       "88033                     18                     1121.0             26.287540   \n",
       "116683                     6                      120.0             13.500000   \n",
       "\n",
       "        loanAmount  loanTerm  \n",
       "83952        25000        60  \n",
       "80844        15500        60  \n",
       "42650       160000       180  \n",
       "88033        20000        60  \n",
       "116683       25500        90  "
      ]
     },
     "execution_count": 34,
     "metadata": {},
     "output_type": "execute_result"
    }
   ],
   "source": [
    "x_train.head()"
   ]
  },
  {
   "cell_type": "markdown",
   "metadata": {},
   "source": [
    "# Exploring the features."
   ]
  },
  {
   "cell_type": "code",
   "execution_count": 35,
   "metadata": {},
   "outputs": [
    {
     "name": "stderr",
     "output_type": "stream",
     "text": [
      "C:\\Users\\hp\\Anaconda3\\lib\\site-packages\\seaborn\\distributions.py:218: MatplotlibDeprecationWarning: \n",
      "The 'normed' kwarg was deprecated in Matplotlib 2.1 and will be removed in 3.1. Use 'density' instead.\n",
      "  color=hist_color, **hist_kws)\n"
     ]
    },
    {
     "data": {
      "text/plain": [
       "<matplotlib.axes._subplots.AxesSubplot at 0x26a1bfebba8>"
      ]
     },
     "execution_count": 35,
     "metadata": {},
     "output_type": "execute_result"
    },
    {
     "data": {
      "image/png": "[encoded data removed]",
      "text/plain": [
       "<Figure size 576x432 with 1 Axes>"
      ]
     },
     "metadata": {
      "needs_background": "light"
     },
     "output_type": "display_data"
    }
   ],
   "source": [
    "# ClientIncome\n",
    "\n",
    "plt.figure(figsize=(8,6))\n",
    "sns.distplot(x_train.clientIncome)"
   ]
  },
  {
   "cell_type": "code",
   "execution_count": 36,
   "metadata": {},
   "outputs": [
    {
     "data": {
      "text/plain": [
       "<matplotlib.collections.PathCollection at 0x26a1e7d21d0>"
      ]
     },
     "execution_count": 36,
     "metadata": {},
     "output_type": "execute_result"
    },
    {
     "data": {
      "image/png": "[encoded data removed]",
      "text/plain": [
       "<Figure size 576x432 with 1 Axes>"
      ]
     },
     "metadata": {
      "needs_background": "light"
     },
     "output_type": "display_data"
    }
   ],
   "source": [
    "plt.figure(figsize=(8,6))\n",
    "plt.scatter(x_train.clientIncome, y_train)"
   ]
  },
  {
   "cell_type": "code",
   "execution_count": 37,
   "metadata": {},
   "outputs": [
    {
     "data": {
      "text/plain": [
       "54825.655"
      ]
     },
     "execution_count": 37,
     "metadata": {},
     "output_type": "execute_result"
    }
   ],
   "source": [
    "# The graph above shows an obvious outlier at almost 4 million naira.\n",
    "# Instead of dropping the instance, we'd replace it with median income value.\n",
    "\n",
    "x_train.clientIncome.median()"
   ]
  },
  {
   "cell_type": "code",
   "execution_count": 38,
   "metadata": {},
   "outputs": [],
   "source": [
    "x_train.loc[x_train['clientIncome']==3925000, 'clientIncome'] = 55116.21"
   ]
  },
  {
   "cell_type": "code",
   "execution_count": 39,
   "metadata": {},
   "outputs": [
    {
     "name": "stderr",
     "output_type": "stream",
     "text": [
      "C:\\Users\\hp\\Anaconda3\\lib\\site-packages\\seaborn\\distributions.py:218: MatplotlibDeprecationWarning: \n",
      "The 'normed' kwarg was deprecated in Matplotlib 2.1 and will be removed in 3.1. Use 'density' instead.\n",
      "  color=hist_color, **hist_kws)\n"
     ]
    },
    {
     "data": {
      "text/plain": [
       "<matplotlib.axes._subplots.AxesSubplot at 0x26a1bfebc50>"
      ]
     },
     "execution_count": 39,
     "metadata": {},
     "output_type": "execute_result"
    },
    {
     "data": {
      "image/png": "[encoded data removed]",
      "text/plain": [
       "<Figure size 576x432 with 1 Axes>"
      ]
     },
     "metadata": {
      "needs_background": "light"
     },
     "output_type": "display_data"
    }
   ],
   "source": [
    "# Dis after outlier.\n",
    "\n",
    "plt.figure(figsize=(8,6))\n",
    "sns.distplot(x_train.clientIncome)"
   ]
  },
  {
   "cell_type": "code",
   "execution_count": 40,
   "metadata": {},
   "outputs": [
    {
     "data": {
      "text/plain": [
       "<matplotlib.collections.PathCollection at 0x26a1f03e0f0>"
      ]
     },
     "execution_count": 40,
     "metadata": {},
     "output_type": "execute_result"
    },
    {
     "data": {
      "image/png": "[encoded data removed]",
      "text/plain": [
       "<Figure size 576x432 with 1 Axes>"
      ]
     },
     "metadata": {
      "needs_background": "light"
     },
     "output_type": "display_data"
    }
   ],
   "source": [
    "plt.figure(figsize=(8,6))\n",
    "plt.scatter(x_train.clientIncome, y_train)"
   ]
  },
  {
   "cell_type": "code",
   "execution_count": 41,
   "metadata": {},
   "outputs": [],
   "source": [
    "# Using StandardScaler to reduce the variance in the feature.\n",
    "# from sklearn.preprocessing import StandardScaler"
   ]
  },
  {
   "cell_type": "code",
   "execution_count": null,
   "metadata": {},
   "outputs": [],
   "source": []
  },
  {
   "cell_type": "code",
   "execution_count": 42,
   "metadata": {},
   "outputs": [
    {
     "name": "stderr",
     "output_type": "stream",
     "text": [
      "C:\\Users\\hp\\Anaconda3\\lib\\site-packages\\seaborn\\distributions.py:218: MatplotlibDeprecationWarning: \n",
      "The 'normed' kwarg was deprecated in Matplotlib 2.1 and will be removed in 3.1. Use 'density' instead.\n",
      "  color=hist_color, **hist_kws)\n"
     ]
    },
    {
     "data": {
      "text/plain": [
       "<matplotlib.axes._subplots.AxesSubplot at 0x26a1f0067b8>"
      ]
     },
     "execution_count": 42,
     "metadata": {},
     "output_type": "execute_result"
    },
    {
     "data": {
      "image/png": "[encoded data removed]",
      "text/plain": [
       "<Figure size 432x288 with 1 Axes>"
      ]
     },
     "metadata": {
      "needs_background": "light"
     },
     "output_type": "display_data"
    }
   ],
   "source": [
    "# clientAge.\n",
    "\n",
    "sns.distplot(x_train['clientAge'])"
   ]
  },
  {
   "cell_type": "code",
   "execution_count": 43,
   "metadata": {},
   "outputs": [
    {
     "data": {
      "text/plain": [
       "<matplotlib.collections.PathCollection at 0x26a21f5db70>"
      ]
     },
     "execution_count": 43,
     "metadata": {},
     "output_type": "execute_result"
    },
    {
     "data": {
      "image/png": "[encoded data removed]",
      "text/plain": [
       "<Figure size 432x288 with 1 Axes>"
      ]
     },
     "metadata": {
      "needs_background": "light"
     },
     "output_type": "display_data"
    }
   ],
   "source": [
    "plt.scatter(x_train.clientAge, x_train.loanAmount)"
   ]
  },
  {
   "cell_type": "code",
   "execution_count": 44,
   "metadata": {},
   "outputs": [
    {
     "data": {
      "text/plain": [
       "138"
      ]
     },
     "execution_count": 44,
     "metadata": {},
     "output_type": "execute_result"
    }
   ],
   "source": [
    "# There's an outlier at almost 140 years\n",
    "\n",
    "x_train.clientAge.max()"
   ]
  },
  {
   "cell_type": "code",
   "execution_count": 45,
   "metadata": {},
   "outputs": [
    {
     "data": {
      "text/plain": [
       "33.0"
      ]
     },
     "execution_count": 45,
     "metadata": {},
     "output_type": "execute_result"
    }
   ],
   "source": [
    "# Let's replace it with the median age.\n",
    "x_train.clientAge.median()"
   ]
  },
  {
   "cell_type": "code",
   "execution_count": 46,
   "metadata": {},
   "outputs": [],
   "source": [
    "x_train.loc[x_train['clientAge']==138, 'clientAge'] = 33"
   ]
  },
  {
   "cell_type": "code",
   "execution_count": 47,
   "metadata": {},
   "outputs": [
    {
     "name": "stderr",
     "output_type": "stream",
     "text": [
      "C:\\Users\\hp\\Anaconda3\\lib\\site-packages\\seaborn\\distributions.py:218: MatplotlibDeprecationWarning: \n",
      "The 'normed' kwarg was deprecated in Matplotlib 2.1 and will be removed in 3.1. Use 'density' instead.\n",
      "  color=hist_color, **hist_kws)\n"
     ]
    },
    {
     "data": {
      "text/plain": [
       "<matplotlib.axes._subplots.AxesSubplot at 0x26a21fa03c8>"
      ]
     },
     "execution_count": 47,
     "metadata": {},
     "output_type": "execute_result"
    },
    {
     "data": {
      "image/png": "[encoded data removed]",
      "text/plain": [
       "<Figure size 432x288 with 1 Axes>"
      ]
     },
     "metadata": {
      "needs_background": "light"
     },
     "output_type": "display_data"
    }
   ],
   "source": [
    "sns.distplot(x_train['clientAge'])"
   ]
  },
  {
   "cell_type": "code",
   "execution_count": 48,
   "metadata": {},
   "outputs": [
    {
     "data": {
      "text/plain": [
       "<matplotlib.collections.PathCollection at 0x26a1eff9828>"
      ]
     },
     "execution_count": 48,
     "metadata": {},
     "output_type": "execute_result"
    },
    {
     "data": {
      "image/png": "[encoded data removed]",
      "text/plain": [
       "<Figure size 432x288 with 1 Axes>"
      ]
     },
     "metadata": {
      "needs_background": "light"
     },
     "output_type": "display_data"
    }
   ],
   "source": [
    "plt.scatter(x_train.clientAge, x_train.loanAmount)"
   ]
  },
  {
   "cell_type": "code",
   "execution_count": null,
   "metadata": {},
   "outputs": [],
   "source": []
  },
  {
   "cell_type": "code",
   "execution_count": 49,
   "metadata": {},
   "outputs": [
    {
     "data": {
      "text/plain": [
       "MALE      87667\n",
       "FEMALE    40009\n",
       "Name: clientGender, dtype: int64"
      ]
     },
     "execution_count": 49,
     "metadata": {},
     "output_type": "execute_result"
    }
   ],
   "source": [
    "x_train.clientGender.value_counts()"
   ]
  },
  {
   "cell_type": "code",
   "execution_count": 50,
   "metadata": {},
   "outputs": [
    {
     "data": {
      "text/plain": [
       "<matplotlib.axes._subplots.AxesSubplot at 0x26a22caf8d0>"
      ]
     },
     "execution_count": 50,
     "metadata": {},
     "output_type": "execute_result"
    },
    {
     "data": {
      "image/png": "[encoded data removed]",
      "text/plain": [
       "<Figure size 432x288 with 1 Axes>"
      ]
     },
     "metadata": {
      "needs_background": "light"
     },
     "output_type": "display_data"
    }
   ],
   "source": [
    "sns.countplot(x_train.clientGender)"
   ]
  },
  {
   "cell_type": "code",
   "execution_count": null,
   "metadata": {},
   "outputs": [],
   "source": []
  },
  {
   "cell_type": "code",
   "execution_count": 51,
   "metadata": {},
   "outputs": [
    {
     "data": {
      "text/plain": [
       "Married      68301\n",
       "Single       57164\n",
       "Separated     1452\n",
       "Widowed        756\n",
       "Divorced         3\n",
       "Name: clientMaritalStatus, dtype: int64"
      ]
     },
     "execution_count": 51,
     "metadata": {},
     "output_type": "execute_result"
    }
   ],
   "source": [
    "# clientmaritalStatus.\n",
    "\n",
    "x_train.clientMaritalStatus.value_counts()"
   ]
  },
  {
   "cell_type": "code",
   "execution_count": 52,
   "metadata": {},
   "outputs": [
    {
     "data": {
      "text/plain": [
       "<matplotlib.axes._subplots.AxesSubplot at 0x26a22f54a58>"
      ]
     },
     "execution_count": 52,
     "metadata": {},
     "output_type": "execute_result"
    },
    {
     "data": {
      "image/png": "[encoded data removed]",
      "text/plain": [
       "<Figure size 432x288 with 1 Axes>"
      ]
     },
     "metadata": {
      "needs_background": "light"
     },
     "output_type": "display_data"
    }
   ],
   "source": [
    "x_train.clientMaritalStatus.replace({'Widowed':'Separated', 'Divorced':'Separated'}, inplace=True)\n",
    "\n",
    "sns.countplot(x_train.clientMaritalStatus)"
   ]
  },
  {
   "cell_type": "code",
   "execution_count": null,
   "metadata": {},
   "outputs": [],
   "source": []
  },
  {
   "cell_type": "code",
   "execution_count": 53,
   "metadata": {},
   "outputs": [
    {
     "data": {
      "text/plain": [
       "<matplotlib.axes._subplots.AxesSubplot at 0x26a22cc5d30>"
      ]
     },
     "execution_count": 53,
     "metadata": {},
     "output_type": "execute_result"
    },
    {
     "data": {
      "image/png": "[encoded data removed]",
      "text/plain": [
       "<Figure size 432x288 with 1 Axes>"
      ]
     },
     "metadata": {
      "needs_background": "light"
     },
     "output_type": "display_data"
    }
   ],
   "source": [
    "# clientLoanPurpose.\n",
    "\n",
    "sns.countplot(x_train.clientLoanPurpose)"
   ]
  },
  {
   "cell_type": "code",
   "execution_count": null,
   "metadata": {},
   "outputs": [],
   "source": []
  },
  {
   "cell_type": "code",
   "execution_count": 54,
   "metadata": {},
   "outputs": [
    {
     "data": {
      "text/plain": [
       "Rented               81309\n",
       "Own Residence        21152\n",
       "Family Owned         20504\n",
       "Employer Provided     4508\n",
       "Temp. Residence        203\n",
       "Name: clientResidentialStatus, dtype: int64"
      ]
     },
     "execution_count": 54,
     "metadata": {},
     "output_type": "execute_result"
    }
   ],
   "source": [
    "# clientResidentialStatus\n",
    "\n",
    "x_train.clientResidentialStatus.value_counts()"
   ]
  },
  {
   "cell_type": "code",
   "execution_count": 55,
   "metadata": {},
   "outputs": [
    {
     "data": {
      "text/plain": [
       "<matplotlib.axes._subplots.AxesSubplot at 0x26a1d63d8d0>"
      ]
     },
     "execution_count": 55,
     "metadata": {},
     "output_type": "execute_result"
    },
    {
     "data": {
      "image/png": "[encoded data removed]",
      "text/plain": [
       "<Figure size 432x288 with 1 Axes>"
      ]
     },
     "metadata": {
      "needs_background": "light"
     },
     "output_type": "display_data"
    }
   ],
   "source": [
    "x_train.clientResidentialStatus.replace({'Employer Provided':'Rented', 'Temp. Residence':'Rented', 'Family Owned':'Own', 'Own Residence':'Own'}, inplace=True)\n",
    "\n",
    "sns.countplot(x_train.clientResidentialStatus)"
   ]
  },
  {
   "cell_type": "code",
   "execution_count": null,
   "metadata": {},
   "outputs": [],
   "source": []
  },
  {
   "cell_type": "code",
   "execution_count": 56,
   "metadata": {},
   "outputs": [],
   "source": [
    "# clientState.\n",
    "# Let's create a function to group states into zones."
   ]
  },
  {
   "cell_type": "code",
   "execution_count": 57,
   "metadata": {},
   "outputs": [
    {
     "data": {
      "text/plain": [
       "array(['OYO', 'LAGOS', 'OSUN', 'ABUJA', 'ZAMFARA', 'KWARA', 'EDO',\n",
       "       'NASARAWA', 'DELTA', 'ABIA', 'IMO', 'NIGER', 'ADAMAWA', 'BAUCHI',\n",
       "       'ANAMBRA', 'OGUN', 'KADUNA', 'RIVERS', 'CROSS RIVER', 'EKITI',\n",
       "       'AKWA IBOM', 'ONDO', 'KOGI', 'BAYELSA', 'EBONYI', 'SOKOTO',\n",
       "       'BENUE', 'KANO', 'PLATEAU', 'YOBE', 'BORNO', 'ENUGU', 'TARABA',\n",
       "       'GOMBE', 'KATSINA', 'KEBBI', 'JIGAWA'], dtype=object)"
      ]
     },
     "execution_count": 57,
     "metadata": {},
     "output_type": "execute_result"
    }
   ],
   "source": [
    "x_train.clientState.unique()"
   ]
  },
  {
   "cell_type": "code",
   "execution_count": 58,
   "metadata": {},
   "outputs": [],
   "source": [
    "def Zone(state):\n",
    "    South_West = ['OYO','OSUN','OGUN','ONDO','LAGOS','EKITI']\n",
    "    South_East = ['ABIA','IMO','EBONYI','ANAMBRA','ENUGU']\n",
    "    South_South = ['AKWA IBOM','RIVERS','DELTA','BAYELSA','CROSS RIVER','EDO']\n",
    "    NorthOrCentral = ['SOKOTO','ABUJA','NIGER','KANO','BAUCHI','KADUNA','NASARAWA','ADAMAWA',\n",
    "             'TARABA','BORNO','ZAMFARA','KATSINA','KEBBI','JIGAWA','GOMBE','YOBE','KOGI',\n",
    "            'PLATEAU','BENUE','KWARA']\n",
    "    \n",
    "    if state in South_West:\n",
    "        return 'SW'\n",
    "    elif state in South_East:\n",
    "        return 'SE'\n",
    "    elif state in South_South:\n",
    "        return 'SS'\n",
    "    else:\n",
    "        return 'NOC'"
   ]
  },
  {
   "cell_type": "code",
   "execution_count": 59,
   "metadata": {},
   "outputs": [
    {
     "data": {
      "text/plain": [
       "<matplotlib.axes._subplots.AxesSubplot at 0x26a1d69e4a8>"
      ]
     },
     "execution_count": 59,
     "metadata": {},
     "output_type": "execute_result"
    },
    {
     "data": {
      "image/png": "[encoded data removed]",
      "text/plain": [
       "<Figure size 432x288 with 1 Axes>"
      ]
     },
     "metadata": {
      "needs_background": "light"
     },
     "output_type": "display_data"
    }
   ],
   "source": [
    "# Applying the function.\n",
    "x_train.clientState = x_train.clientState.map(Zone)\n",
    "\n",
    "# Visualizing clientState.\n",
    "sns.countplot(x_train.clientState)"
   ]
  },
  {
   "cell_type": "code",
   "execution_count": null,
   "metadata": {},
   "outputs": [],
   "source": []
  },
  {
   "cell_type": "code",
   "execution_count": 60,
   "metadata": {},
   "outputs": [
    {
     "name": "stderr",
     "output_type": "stream",
     "text": [
      "C:\\Users\\hp\\Anaconda3\\lib\\site-packages\\seaborn\\distributions.py:218: MatplotlibDeprecationWarning: \n",
      "The 'normed' kwarg was deprecated in Matplotlib 2.1 and will be removed in 3.1. Use 'density' instead.\n",
      "  color=hist_color, **hist_kws)\n"
     ]
    },
    {
     "data": {
      "text/plain": [
       "<matplotlib.axes._subplots.AxesSubplot at 0x26a1d6f4e48>"
      ]
     },
     "execution_count": 60,
     "metadata": {},
     "output_type": "execute_result"
    },
    {
     "data": {
      "image/png": "[encoded data removed]",
      "text/plain": [
       "<Figure size 432x288 with 1 Axes>"
      ]
     },
     "metadata": {
      "needs_background": "light"
     },
     "output_type": "display_data"
    }
   ],
   "source": [
    "# clientTimeAtEmployer\n",
    "\n",
    "sns.distplot(x_train.clientTimeAtEmployer)"
   ]
  },
  {
   "cell_type": "code",
   "execution_count": 61,
   "metadata": {},
   "outputs": [
    {
     "name": "stderr",
     "output_type": "stream",
     "text": [
      "C:\\Users\\hp\\Anaconda3\\lib\\site-packages\\seaborn\\distributions.py:218: MatplotlibDeprecationWarning: \n",
      "The 'normed' kwarg was deprecated in Matplotlib 2.1 and will be removed in 3.1. Use 'density' instead.\n",
      "  color=hist_color, **hist_kws)\n"
     ]
    },
    {
     "data": {
      "text/plain": [
       "<matplotlib.axes._subplots.AxesSubplot at 0x26a1d8004e0>"
      ]
     },
     "execution_count": 61,
     "metadata": {},
     "output_type": "execute_result"
    },
    {
     "data": {
      "image/png": "[encoded data removed]",
      "text/plain": [
       "<Figure size 432x288 with 1 Axes>"
      ]
     },
     "metadata": {
      "needs_background": "light"
     },
     "output_type": "display_data"
    }
   ],
   "source": [
    "# Converting TimeAtEmployer to Years.\n",
    "\n",
    "x_train['YearsEmployed'] = x_train['clientTimeAtEmployer']/12\n",
    "\n",
    "sns.distplot(x_train['YearsEmployed'])"
   ]
  },
  {
   "cell_type": "code",
   "execution_count": 62,
   "metadata": {},
   "outputs": [
    {
     "data": {
      "text/plain": [
       "<matplotlib.collections.PathCollection at 0x26a1de02128>"
      ]
     },
     "execution_count": 62,
     "metadata": {},
     "output_type": "execute_result"
    },
    {
     "data": {
      "image/png": "[encoded data removed]",
      "text/plain": [
       "<Figure size 432x288 with 1 Axes>"
      ]
     },
     "metadata": {
      "needs_background": "light"
     },
     "output_type": "display_data"
    }
   ],
   "source": [
    "plt.scatter(x_train['YearsEmployed'], y_train)"
   ]
  },
  {
   "cell_type": "code",
   "execution_count": 63,
   "metadata": {},
   "outputs": [],
   "source": [
    "# Dropping clientTimeAtEmployer.\n",
    "\n",
    "x_train = x_train.drop('clientTimeAtEmployer', axis=1)"
   ]
  },
  {
   "cell_type": "code",
   "execution_count": null,
   "metadata": {},
   "outputs": [],
   "source": []
  },
  {
   "cell_type": "code",
   "execution_count": 64,
   "metadata": {},
   "outputs": [
    {
     "name": "stderr",
     "output_type": "stream",
     "text": [
      "C:\\Users\\hp\\Anaconda3\\lib\\site-packages\\seaborn\\distributions.py:218: MatplotlibDeprecationWarning: \n",
      "The 'normed' kwarg was deprecated in Matplotlib 2.1 and will be removed in 3.1. Use 'density' instead.\n",
      "  color=hist_color, **hist_kws)\n"
     ]
    },
    {
     "data": {
      "text/plain": [
       "<matplotlib.axes._subplots.AxesSubplot at 0x26a1e2fbbe0>"
      ]
     },
     "execution_count": 64,
     "metadata": {},
     "output_type": "execute_result"
    },
    {
     "data": {
      "image/png": "[encoded data removed]",
      "text/plain": [
       "<Figure size 432x288 with 1 Axes>"
      ]
     },
     "metadata": {
      "needs_background": "light"
     },
     "output_type": "display_data"
    }
   ],
   "source": [
    "# clientNumberPhoneContacts\n",
    "\n",
    "sns.distplot(x_train.clientNumberPhoneContacts)"
   ]
  },
  {
   "cell_type": "code",
   "execution_count": 65,
   "metadata": {},
   "outputs": [
    {
     "data": {
      "text/plain": [
       "<matplotlib.collections.PathCollection at 0x26a1e141d68>"
      ]
     },
     "execution_count": 65,
     "metadata": {},
     "output_type": "execute_result"
    },
    {
     "data": {
      "image/png": "[encoded data removed]",
      "text/plain": [
       "<Figure size 432x288 with 1 Axes>"
      ]
     },
     "metadata": {
      "needs_background": "light"
     },
     "output_type": "display_data"
    }
   ],
   "source": [
    "plt.scatter(x_train['clientNumberPhoneContacts'], y_train)"
   ]
  },
  {
   "cell_type": "code",
   "execution_count": 66,
   "metadata": {},
   "outputs": [
    {
     "data": {
      "text/plain": [
       "60595.0"
      ]
     },
     "execution_count": 66,
     "metadata": {},
     "output_type": "execute_result"
    }
   ],
   "source": [
    "# There seem to be extreme values on the high extreme.\n",
    "# We'd inspect the high values.\n",
    "\n",
    "x_train['clientNumberPhoneContacts'].max()"
   ]
  },
  {
   "cell_type": "code",
   "execution_count": 67,
   "metadata": {},
   "outputs": [
    {
     "data": {
      "text/plain": [
       "1"
      ]
     },
     "execution_count": 67,
     "metadata": {},
     "output_type": "execute_result"
    }
   ],
   "source": [
    "# Finding how many customers have 60,595 contacts\n",
    "\n",
    "len(x_train.loc[x_train['clientNumberPhoneContacts']==60595])"
   ]
  },
  {
   "cell_type": "code",
   "execution_count": 68,
   "metadata": {},
   "outputs": [
    {
     "data": {
      "text/plain": [
       "0    825.0\n",
       "dtype: float64"
      ]
     },
     "execution_count": 68,
     "metadata": {},
     "output_type": "execute_result"
    }
   ],
   "source": [
    "# Modal value\n",
    "\n",
    "x_train['clientNumberPhoneContacts'].mode()"
   ]
  },
  {
   "cell_type": "code",
   "execution_count": 69,
   "metadata": {},
   "outputs": [
    {
     "data": {
      "text/plain": [
       "12941     60595.0\n",
       "132284    60292.0\n",
       "28672     57555.0\n",
       "58080     41861.0\n",
       "139720    41211.0\n",
       "73040     37600.0\n",
       "157825    37583.0\n",
       "151435    34960.0\n",
       "56879     30200.0\n",
       "77813     30178.0\n",
       "120816    30178.0\n",
       "130759    29234.0\n",
       "126462    28552.0\n",
       "145393    28499.0\n",
       "135845    28374.0\n",
       "36098     28255.0\n",
       "69941     27801.0\n",
       "5355      27762.0\n",
       "158078    27474.0\n",
       "55671     27428.0\n",
       "119646    26740.0\n",
       "142925    26740.0\n",
       "127627    26224.0\n",
       "28370     26094.0\n",
       "133268    25386.0\n",
       "152582    25386.0\n",
       "149815    25165.0\n",
       "41745     24867.0\n",
       "129067    23712.0\n",
       "154741    23680.0\n",
       "           ...   \n",
       "11466         1.0\n",
       "87297         1.0\n",
       "154079        1.0\n",
       "24946         1.0\n",
       "84540         1.0\n",
       "43565         1.0\n",
       "96591         1.0\n",
       "95131         1.0\n",
       "141841        1.0\n",
       "144819        1.0\n",
       "145800        1.0\n",
       "107487        1.0\n",
       "75226         1.0\n",
       "158372        1.0\n",
       "109214        1.0\n",
       "46741         1.0\n",
       "86203         1.0\n",
       "107554        1.0\n",
       "96834         1.0\n",
       "35297         1.0\n",
       "42193         1.0\n",
       "43432         1.0\n",
       "119128        1.0\n",
       "34831         1.0\n",
       "152701        1.0\n",
       "95658         1.0\n",
       "102732        1.0\n",
       "13124         1.0\n",
       "102405        1.0\n",
       "26158         0.0\n",
       "Name: clientNumberPhoneContacts, Length: 127676, dtype: float64"
      ]
     },
     "execution_count": 69,
     "metadata": {},
     "output_type": "execute_result"
    }
   ],
   "source": [
    "x_train['clientNumberPhoneContacts'].sort_values(ascending=False)"
   ]
  },
  {
   "cell_type": "code",
   "execution_count": 70,
   "metadata": {},
   "outputs": [],
   "source": [
    "# We may need to rescale this feature due to large variation in values.\n",
    "# We'd do this if monotonic binning doesn't solve it."
   ]
  },
  {
   "cell_type": "code",
   "execution_count": null,
   "metadata": {},
   "outputs": [],
   "source": []
  },
  {
   "cell_type": "code",
   "execution_count": 71,
   "metadata": {},
   "outputs": [
    {
     "name": "stderr",
     "output_type": "stream",
     "text": [
      "C:\\Users\\hp\\Anaconda3\\lib\\site-packages\\seaborn\\distributions.py:218: MatplotlibDeprecationWarning: \n",
      "The 'normed' kwarg was deprecated in Matplotlib 2.1 and will be removed in 3.1. Use 'density' instead.\n",
      "  color=hist_color, **hist_kws)\n"
     ]
    },
    {
     "data": {
      "text/plain": [
       "<matplotlib.axes._subplots.AxesSubplot at 0x26a23001860>"
      ]
     },
     "execution_count": 71,
     "metadata": {},
     "output_type": "execute_result"
    },
    {
     "data": {
      "image/png": "[encoded data removed]",
      "text/plain": [
       "<Figure size 432x288 with 1 Axes>"
      ]
     },
     "metadata": {
      "needs_background": "light"
     },
     "output_type": "display_data"
    }
   ],
   "source": [
    "# clientAvgCallsPerDay\n",
    "\n",
    "sns.distplot(x_train['clientAvgCallsPerDay'])"
   ]
  },
  {
   "cell_type": "code",
   "execution_count": 72,
   "metadata": {},
   "outputs": [
    {
     "data": {
      "text/plain": [
       "<matplotlib.collections.PathCollection at 0x26a1e213940>"
      ]
     },
     "execution_count": 72,
     "metadata": {},
     "output_type": "execute_result"
    },
    {
     "data": {
      "image/png": "[encoded data removed]",
      "text/plain": [
       "<Figure size 432x288 with 1 Axes>"
      ]
     },
     "metadata": {
      "needs_background": "light"
     },
     "output_type": "display_data"
    }
   ],
   "source": [
    "plt.scatter(x_train['clientAvgCallsPerDay'], y_train)"
   ]
  },
  {
   "cell_type": "code",
   "execution_count": 73,
   "metadata": {},
   "outputs": [
    {
     "data": {
      "text/plain": [
       "10994.5"
      ]
     },
     "execution_count": 73,
     "metadata": {},
     "output_type": "execute_result"
    }
   ],
   "source": [
    "# Let's find that outlier and fix it.\n",
    "\n",
    "x_train['clientAvgCallsPerDay'].max()"
   ]
  },
  {
   "cell_type": "code",
   "execution_count": 74,
   "metadata": {},
   "outputs": [
    {
     "data": {
      "text/plain": [
       "29.38"
      ]
     },
     "execution_count": 74,
     "metadata": {},
     "output_type": "execute_result"
    }
   ],
   "source": [
    "# Let's replace it with the median value of the clientAvgCallsPerDay.\n",
    "\n",
    "x_train['clientAvgCallsPerDay'].median()"
   ]
  },
  {
   "cell_type": "code",
   "execution_count": 75,
   "metadata": {},
   "outputs": [],
   "source": [
    "x_train.loc[x_train['clientAvgCallsPerDay']==10994.5, 'clientAvgCallsPerDay'] = 29.38"
   ]
  },
  {
   "cell_type": "code",
   "execution_count": 76,
   "metadata": {},
   "outputs": [
    {
     "name": "stderr",
     "output_type": "stream",
     "text": [
      "C:\\Users\\hp\\Anaconda3\\lib\\site-packages\\seaborn\\distributions.py:218: MatplotlibDeprecationWarning: \n",
      "The 'normed' kwarg was deprecated in Matplotlib 2.1 and will be removed in 3.1. Use 'density' instead.\n",
      "  color=hist_color, **hist_kws)\n"
     ]
    },
    {
     "data": {
      "text/plain": [
       "<matplotlib.axes._subplots.AxesSubplot at 0x26a24c3de48>"
      ]
     },
     "execution_count": 76,
     "metadata": {},
     "output_type": "execute_result"
    },
    {
     "data": {
      "image/png": "[encoded data removed]",
      "text/plain": [
       "<Figure size 432x288 with 1 Axes>"
      ]
     },
     "metadata": {
      "needs_background": "light"
     },
     "output_type": "display_data"
    }
   ],
   "source": [
    "sns.distplot(x_train['clientAvgCallsPerDay'])"
   ]
  },
  {
   "cell_type": "code",
   "execution_count": 77,
   "metadata": {},
   "outputs": [
    {
     "data": {
      "text/plain": [
       "<matplotlib.collections.PathCollection at 0x26a1e59df98>"
      ]
     },
     "execution_count": 77,
     "metadata": {},
     "output_type": "execute_result"
    },
    {
     "data": {
      "image/png": "[encoded data removed]",
      "text/plain": [
       "<Figure size 432x288 with 1 Axes>"
      ]
     },
     "metadata": {
      "needs_background": "light"
     },
     "output_type": "display_data"
    }
   ],
   "source": [
    "plt.scatter(x_train['clientAvgCallsPerDay'], y_train)"
   ]
  },
  {
   "cell_type": "code",
   "execution_count": 78,
   "metadata": {},
   "outputs": [],
   "source": [
    "# This feature will require rescaling if monotonic binning doesn't manage the large variation."
   ]
  },
  {
   "cell_type": "code",
   "execution_count": null,
   "metadata": {},
   "outputs": [],
   "source": []
  },
  {
   "cell_type": "code",
   "execution_count": 79,
   "metadata": {},
   "outputs": [
    {
     "name": "stderr",
     "output_type": "stream",
     "text": [
      "C:\\Users\\hp\\Anaconda3\\lib\\site-packages\\seaborn\\distributions.py:218: MatplotlibDeprecationWarning: \n",
      "The 'normed' kwarg was deprecated in Matplotlib 2.1 and will be removed in 3.1. Use 'density' instead.\n",
      "  color=hist_color, **hist_kws)\n"
     ]
    },
    {
     "data": {
      "text/plain": [
       "<matplotlib.axes._subplots.AxesSubplot at 0x26a23a443c8>"
      ]
     },
     "execution_count": 79,
     "metadata": {},
     "output_type": "execute_result"
    },
    {
     "data": {
      "image/png": "[encoded data removed]",
      "text/plain": [
       "<Figure size 432x288 with 1 Axes>"
      ]
     },
     "metadata": {
      "needs_background": "light"
     },
     "output_type": "display_data"
    }
   ],
   "source": [
    "# loanAmount\n",
    "\n",
    "sns.distplot(x_train['loanAmount'])"
   ]
  },
  {
   "cell_type": "code",
   "execution_count": 80,
   "metadata": {},
   "outputs": [
    {
     "data": {
      "text/plain": [
       "<matplotlib.collections.PathCollection at 0x26a230a3438>"
      ]
     },
     "execution_count": 80,
     "metadata": {},
     "output_type": "execute_result"
    },
    {
     "data": {
      "image/png": "[encoded data removed]",
      "text/plain": [
       "<Figure size 432x288 with 1 Axes>"
      ]
     },
     "metadata": {
      "needs_background": "light"
     },
     "output_type": "display_data"
    }
   ],
   "source": [
    "plt.scatter(x_train['loanAmount'], y_train)"
   ]
  },
  {
   "cell_type": "code",
   "execution_count": null,
   "metadata": {},
   "outputs": [],
   "source": []
  },
  {
   "cell_type": "code",
   "execution_count": 81,
   "metadata": {},
   "outputs": [
    {
     "name": "stderr",
     "output_type": "stream",
     "text": [
      "C:\\Users\\hp\\Anaconda3\\lib\\site-packages\\seaborn\\distributions.py:218: MatplotlibDeprecationWarning: \n",
      "The 'normed' kwarg was deprecated in Matplotlib 2.1 and will be removed in 3.1. Use 'density' instead.\n",
      "  color=hist_color, **hist_kws)\n"
     ]
    },
    {
     "data": {
      "text/plain": [
       "<matplotlib.axes._subplots.AxesSubplot at 0x26a230bd5c0>"
      ]
     },
     "execution_count": 81,
     "metadata": {},
     "output_type": "execute_result"
    },
    {
     "data": {
      "image/png": "[encoded data removed]",
      "text/plain": [
       "<Figure size 432x288 with 1 Axes>"
      ]
     },
     "metadata": {
      "needs_background": "light"
     },
     "output_type": "display_data"
    }
   ],
   "source": [
    "# loanTerm.\n",
    "\n",
    "sns.distplot(x_train['loanTerm'])"
   ]
  },
  {
   "cell_type": "code",
   "execution_count": 82,
   "metadata": {},
   "outputs": [
    {
     "data": {
      "text/plain": [
       "<matplotlib.axes._subplots.AxesSubplot at 0x26a239b3f60>"
      ]
     },
     "execution_count": 82,
     "metadata": {},
     "output_type": "execute_result"
    },
    {
     "data": {
      "image/png": "[encoded data removed]",
      "text/plain": [
       "<Figure size 432x288 with 1 Axes>"
      ]
     },
     "metadata": {
      "needs_background": "light"
     },
     "output_type": "display_data"
    }
   ],
   "source": [
    "sns.countplot(x_train['loanTerm'])"
   ]
  },
  {
   "cell_type": "code",
   "execution_count": 83,
   "metadata": {},
   "outputs": [],
   "source": [
    "# This feature is categorical in nature as it deals with periods - 2months(60days),\n",
    "# 3months(90days) and 6months(180days).\n",
    "\n",
    "#The machine would treat them in numerical order attaching more importance to higher values e.g\n",
    "#seeing 180 as greater than 90 and 60 (which is not our aim).\n",
    "\n",
    "#So We'd convert this feature to category either using df.loanTerm.astype('category')\n",
    "#Or changing 60, 90, and 180 to string(assigning Categorical names)."
   ]
  },
  {
   "cell_type": "code",
   "execution_count": 84,
   "metadata": {},
   "outputs": [
    {
     "data": {
      "text/plain": [
       "CategoricalDtype(categories=[60, 90, 180], ordered=False)"
      ]
     },
     "execution_count": 84,
     "metadata": {},
     "output_type": "execute_result"
    }
   ],
   "source": [
    "x_train['loanTerm'] = x_train['loanTerm'].astype('category')\n",
    "\n",
    "x_train['loanTerm'].dtype"
   ]
  },
  {
   "cell_type": "code",
   "execution_count": null,
   "metadata": {},
   "outputs": [],
   "source": []
  },
  {
   "cell_type": "markdown",
   "metadata": {},
   "source": [
    "# FINALLY, Let's explore the Target feature."
   ]
  },
  {
   "cell_type": "code",
   "execution_count": 85,
   "metadata": {},
   "outputs": [
    {
     "data": {
      "text/plain": [
       "0    92180\n",
       "1    35496\n",
       "Name: loanDefault, dtype: int64"
      ]
     },
     "execution_count": 85,
     "metadata": {},
     "output_type": "execute_result"
    }
   ],
   "source": [
    "y_train.value_counts()"
   ]
  },
  {
   "cell_type": "code",
   "execution_count": 86,
   "metadata": {},
   "outputs": [
    {
     "data": {
      "text/plain": [
       "<matplotlib.axes._subplots.AxesSubplot at 0x26a23a026d8>"
      ]
     },
     "execution_count": 86,
     "metadata": {},
     "output_type": "execute_result"
    },
    {
     "data": {
      "image/png": "[encoded data removed]",
      "text/plain": [
       "<Figure size 432x288 with 1 Axes>"
      ]
     },
     "metadata": {
      "needs_background": "light"
     },
     "output_type": "display_data"
    }
   ],
   "source": [
    "sns.countplot(y_train)"
   ]
  },
  {
   "cell_type": "code",
   "execution_count": 87,
   "metadata": {},
   "outputs": [
    {
     "name": "stdout",
     "output_type": "stream",
     "text": [
      "percentage default rate: 27.801622857858955%\n"
     ]
    }
   ],
   "source": [
    "no_of_default = len(y_train.loc[y_train==1])\n",
    "\n",
    "totalno_of_samples = len(y_train)\n",
    "\n",
    "Pdr = (no_of_default/totalno_of_samples) * 100\n",
    "\n",
    "\n",
    "print(f'percentage default rate: {Pdr}%')"
   ]
  },
  {
   "cell_type": "code",
   "execution_count": null,
   "metadata": {},
   "outputs": [],
   "source": []
  },
  {
   "cell_type": "code",
   "execution_count": 88,
   "metadata": {},
   "outputs": [
    {
     "data": {
      "text/html": [
       "<div>\n",
       "<style scoped>\n",
       "    .dataframe tbody tr th:only-of-type {\n",
       "        vertical-align: middle;\n",
       "    }\n",
       "\n",
       "    .dataframe tbody tr th {\n",
       "        vertical-align: top;\n",
       "    }\n",
       "\n",
       "    .dataframe thead th {\n",
       "        text-align: right;\n",
       "    }\n",
       "</style>\n",
       "<table border=\"1\" class=\"dataframe\">\n",
       "  <thead>\n",
       "    <tr style=\"text-align: right;\">\n",
       "      <th></th>\n",
       "      <th>clientId</th>\n",
       "      <th>clientIncome</th>\n",
       "      <th>clientAge</th>\n",
       "      <th>clientGender</th>\n",
       "      <th>clientMaritalStatus</th>\n",
       "      <th>clientLoanPurpose</th>\n",
       "      <th>clientResidentialStatus</th>\n",
       "      <th>clientState</th>\n",
       "      <th>clientNumberPhoneContacts</th>\n",
       "      <th>clientAvgCallsPerDay</th>\n",
       "      <th>loanAmount</th>\n",
       "      <th>loanTerm</th>\n",
       "      <th>YearsEmployed</th>\n",
       "    </tr>\n",
       "  </thead>\n",
       "  <tbody>\n",
       "    <tr>\n",
       "      <th>83952</th>\n",
       "      <td>740384528</td>\n",
       "      <td>25000.00</td>\n",
       "      <td>31</td>\n",
       "      <td>MALE</td>\n",
       "      <td>Single</td>\n",
       "      <td>business</td>\n",
       "      <td>Rented</td>\n",
       "      <td>SW</td>\n",
       "      <td>283.0</td>\n",
       "      <td>130.000000</td>\n",
       "      <td>25000</td>\n",
       "      <td>60</td>\n",
       "      <td>2.000000</td>\n",
       "    </tr>\n",
       "    <tr>\n",
       "      <th>80844</th>\n",
       "      <td>145366237</td>\n",
       "      <td>65905.17</td>\n",
       "      <td>29</td>\n",
       "      <td>MALE</td>\n",
       "      <td>Single</td>\n",
       "      <td>education</td>\n",
       "      <td>Own</td>\n",
       "      <td>SW</td>\n",
       "      <td>399.0</td>\n",
       "      <td>28.927711</td>\n",
       "      <td>15500</td>\n",
       "      <td>60</td>\n",
       "      <td>3.333333</td>\n",
       "    </tr>\n",
       "    <tr>\n",
       "      <th>42650</th>\n",
       "      <td>507680790</td>\n",
       "      <td>156400.00</td>\n",
       "      <td>33</td>\n",
       "      <td>FEMALE</td>\n",
       "      <td>Married</td>\n",
       "      <td>other</td>\n",
       "      <td>Rented</td>\n",
       "      <td>SW</td>\n",
       "      <td>1030.0</td>\n",
       "      <td>32.543103</td>\n",
       "      <td>160000</td>\n",
       "      <td>180</td>\n",
       "      <td>1.500000</td>\n",
       "    </tr>\n",
       "  </tbody>\n",
       "</table>\n",
       "</div>"
      ],
      "text/plain": [
       "        clientId  clientIncome  clientAge clientGender clientMaritalStatus  \\\n",
       "83952  740384528      25000.00         31         MALE              Single   \n",
       "80844  145366237      65905.17         29         MALE              Single   \n",
       "42650  507680790     156400.00         33       FEMALE             Married   \n",
       "\n",
       "      clientLoanPurpose clientResidentialStatus clientState  \\\n",
       "83952          business                  Rented          SW   \n",
       "80844         education                     Own          SW   \n",
       "42650             other                  Rented          SW   \n",
       "\n",
       "       clientNumberPhoneContacts  clientAvgCallsPerDay  loanAmount loanTerm  \\\n",
       "83952                      283.0            130.000000       25000       60   \n",
       "80844                      399.0             28.927711       15500       60   \n",
       "42650                     1030.0             32.543103      160000      180   \n",
       "\n",
       "       YearsEmployed  \n",
       "83952       2.000000  \n",
       "80844       3.333333  \n",
       "42650       1.500000  "
      ]
     },
     "execution_count": 88,
     "metadata": {},
     "output_type": "execute_result"
    }
   ],
   "source": [
    "# Splitting the data into numeric and categorical variables.\n",
    "\n",
    "x_train.head(3)"
   ]
  },
  {
   "cell_type": "code",
   "execution_count": 89,
   "metadata": {},
   "outputs": [
    {
     "data": {
      "text/html": [
       "<div>\n",
       "<style scoped>\n",
       "    .dataframe tbody tr th:only-of-type {\n",
       "        vertical-align: middle;\n",
       "    }\n",
       "\n",
       "    .dataframe tbody tr th {\n",
       "        vertical-align: top;\n",
       "    }\n",
       "\n",
       "    .dataframe thead th {\n",
       "        text-align: right;\n",
       "    }\n",
       "</style>\n",
       "<table border=\"1\" class=\"dataframe\">\n",
       "  <thead>\n",
       "    <tr style=\"text-align: right;\">\n",
       "      <th></th>\n",
       "      <th>clientId</th>\n",
       "      <th>clientIncome</th>\n",
       "      <th>clientAge</th>\n",
       "      <th>clientNumberPhoneContacts</th>\n",
       "      <th>clientAvgCallsPerDay</th>\n",
       "      <th>loanAmount</th>\n",
       "      <th>loanTerm</th>\n",
       "      <th>YearsEmployed</th>\n",
       "    </tr>\n",
       "  </thead>\n",
       "  <tbody>\n",
       "    <tr>\n",
       "      <th>83952</th>\n",
       "      <td>740384528</td>\n",
       "      <td>25000.00</td>\n",
       "      <td>31</td>\n",
       "      <td>283.0</td>\n",
       "      <td>130.000000</td>\n",
       "      <td>25000</td>\n",
       "      <td>60</td>\n",
       "      <td>2.000000</td>\n",
       "    </tr>\n",
       "    <tr>\n",
       "      <th>80844</th>\n",
       "      <td>145366237</td>\n",
       "      <td>65905.17</td>\n",
       "      <td>29</td>\n",
       "      <td>399.0</td>\n",
       "      <td>28.927711</td>\n",
       "      <td>15500</td>\n",
       "      <td>60</td>\n",
       "      <td>3.333333</td>\n",
       "    </tr>\n",
       "    <tr>\n",
       "      <th>42650</th>\n",
       "      <td>507680790</td>\n",
       "      <td>156400.00</td>\n",
       "      <td>33</td>\n",
       "      <td>1030.0</td>\n",
       "      <td>32.543103</td>\n",
       "      <td>160000</td>\n",
       "      <td>180</td>\n",
       "      <td>1.500000</td>\n",
       "    </tr>\n",
       "  </tbody>\n",
       "</table>\n",
       "</div>"
      ],
      "text/plain": [
       "        clientId  clientIncome  clientAge  clientNumberPhoneContacts  \\\n",
       "83952  740384528      25000.00         31                      283.0   \n",
       "80844  145366237      65905.17         29                      399.0   \n",
       "42650  507680790     156400.00         33                     1030.0   \n",
       "\n",
       "       clientAvgCallsPerDay  loanAmount loanTerm  YearsEmployed  \n",
       "83952            130.000000       25000       60       2.000000  \n",
       "80844             28.927711       15500       60       3.333333  \n",
       "42650             32.543103      160000      180       1.500000  "
      ]
     },
     "execution_count": 89,
     "metadata": {},
     "output_type": "execute_result"
    }
   ],
   "source": [
    "# Numerical variables.\n",
    "\n",
    "num_var = x_train.select_dtypes(exclude=object)\n",
    "num_var.head(3)"
   ]
  },
  {
   "cell_type": "code",
   "execution_count": 90,
   "metadata": {},
   "outputs": [
    {
     "data": {
      "text/html": [
       "<div>\n",
       "<style scoped>\n",
       "    .dataframe tbody tr th:only-of-type {\n",
       "        vertical-align: middle;\n",
       "    }\n",
       "\n",
       "    .dataframe tbody tr th {\n",
       "        vertical-align: top;\n",
       "    }\n",
       "\n",
       "    .dataframe thead th {\n",
       "        text-align: right;\n",
       "    }\n",
       "</style>\n",
       "<table border=\"1\" class=\"dataframe\">\n",
       "  <thead>\n",
       "    <tr style=\"text-align: right;\">\n",
       "      <th></th>\n",
       "      <th>clientIncome</th>\n",
       "      <th>clientAge</th>\n",
       "      <th>clientNumberPhoneContacts</th>\n",
       "      <th>clientAvgCallsPerDay</th>\n",
       "      <th>loanAmount</th>\n",
       "      <th>YearsEmployed</th>\n",
       "    </tr>\n",
       "  </thead>\n",
       "  <tbody>\n",
       "    <tr>\n",
       "      <th>83952</th>\n",
       "      <td>25000.00</td>\n",
       "      <td>31</td>\n",
       "      <td>283.0</td>\n",
       "      <td>130.000000</td>\n",
       "      <td>25000</td>\n",
       "      <td>2.000000</td>\n",
       "    </tr>\n",
       "    <tr>\n",
       "      <th>80844</th>\n",
       "      <td>65905.17</td>\n",
       "      <td>29</td>\n",
       "      <td>399.0</td>\n",
       "      <td>28.927711</td>\n",
       "      <td>15500</td>\n",
       "      <td>3.333333</td>\n",
       "    </tr>\n",
       "    <tr>\n",
       "      <th>42650</th>\n",
       "      <td>156400.00</td>\n",
       "      <td>33</td>\n",
       "      <td>1030.0</td>\n",
       "      <td>32.543103</td>\n",
       "      <td>160000</td>\n",
       "      <td>1.500000</td>\n",
       "    </tr>\n",
       "  </tbody>\n",
       "</table>\n",
       "</div>"
      ],
      "text/plain": [
       "       clientIncome  clientAge  clientNumberPhoneContacts  \\\n",
       "83952      25000.00         31                      283.0   \n",
       "80844      65905.17         29                      399.0   \n",
       "42650     156400.00         33                     1030.0   \n",
       "\n",
       "       clientAvgCallsPerDay  loanAmount  YearsEmployed  \n",
       "83952            130.000000       25000       2.000000  \n",
       "80844             28.927711       15500       3.333333  \n",
       "42650             32.543103      160000       1.500000  "
      ]
     },
     "execution_count": 90,
     "metadata": {},
     "output_type": "execute_result"
    }
   ],
   "source": [
    "# Dropping the not required numeric variables.\n",
    "\n",
    "X_num = num_var.drop(['clientId', 'loanTerm'], axis=1)\n",
    "X_num.head(3)"
   ]
  },
  {
   "cell_type": "code",
   "execution_count": 91,
   "metadata": {},
   "outputs": [
    {
     "data": {
      "text/plain": [
       "83952    1\n",
       "80844    0\n",
       "42650    0\n",
       "Name: loanDefault, dtype: int64"
      ]
     },
     "execution_count": 91,
     "metadata": {},
     "output_type": "execute_result"
    }
   ],
   "source": [
    "y_train.head(3)"
   ]
  },
  {
   "cell_type": "code",
   "execution_count": 92,
   "metadata": {},
   "outputs": [
    {
     "data": {
      "text/html": [
       "<div>\n",
       "<style scoped>\n",
       "    .dataframe tbody tr th:only-of-type {\n",
       "        vertical-align: middle;\n",
       "    }\n",
       "\n",
       "    .dataframe tbody tr th {\n",
       "        vertical-align: top;\n",
       "    }\n",
       "\n",
       "    .dataframe thead th {\n",
       "        text-align: right;\n",
       "    }\n",
       "</style>\n",
       "<table border=\"1\" class=\"dataframe\">\n",
       "  <thead>\n",
       "    <tr style=\"text-align: right;\">\n",
       "      <th></th>\n",
       "      <th>clientGender</th>\n",
       "      <th>clientMaritalStatus</th>\n",
       "      <th>clientLoanPurpose</th>\n",
       "      <th>clientResidentialStatus</th>\n",
       "      <th>clientState</th>\n",
       "    </tr>\n",
       "  </thead>\n",
       "  <tbody>\n",
       "    <tr>\n",
       "      <th>83952</th>\n",
       "      <td>MALE</td>\n",
       "      <td>Single</td>\n",
       "      <td>business</td>\n",
       "      <td>Rented</td>\n",
       "      <td>SW</td>\n",
       "    </tr>\n",
       "    <tr>\n",
       "      <th>80844</th>\n",
       "      <td>MALE</td>\n",
       "      <td>Single</td>\n",
       "      <td>education</td>\n",
       "      <td>Own</td>\n",
       "      <td>SW</td>\n",
       "    </tr>\n",
       "    <tr>\n",
       "      <th>42650</th>\n",
       "      <td>FEMALE</td>\n",
       "      <td>Married</td>\n",
       "      <td>other</td>\n",
       "      <td>Rented</td>\n",
       "      <td>SW</td>\n",
       "    </tr>\n",
       "  </tbody>\n",
       "</table>\n",
       "</div>"
      ],
      "text/plain": [
       "      clientGender clientMaritalStatus clientLoanPurpose  \\\n",
       "83952         MALE              Single          business   \n",
       "80844         MALE              Single         education   \n",
       "42650       FEMALE             Married             other   \n",
       "\n",
       "      clientResidentialStatus clientState  \n",
       "83952                  Rented          SW  \n",
       "80844                     Own          SW  \n",
       "42650                  Rented          SW  "
      ]
     },
     "execution_count": 92,
     "metadata": {},
     "output_type": "execute_result"
    }
   ],
   "source": [
    "# Categorical variables\n",
    "\n",
    "cat_var = x_train.select_dtypes(include=object)\n",
    "cat_var.head(3)"
   ]
  },
  {
   "cell_type": "code",
   "execution_count": 93,
   "metadata": {},
   "outputs": [
    {
     "data": {
      "text/html": [
       "<div>\n",
       "<style scoped>\n",
       "    .dataframe tbody tr th:only-of-type {\n",
       "        vertical-align: middle;\n",
       "    }\n",
       "\n",
       "    .dataframe tbody tr th {\n",
       "        vertical-align: top;\n",
       "    }\n",
       "\n",
       "    .dataframe thead th {\n",
       "        text-align: right;\n",
       "    }\n",
       "</style>\n",
       "<table border=\"1\" class=\"dataframe\">\n",
       "  <thead>\n",
       "    <tr style=\"text-align: right;\">\n",
       "      <th></th>\n",
       "      <th>clientGender_FEMALE</th>\n",
       "      <th>clientGender_MALE</th>\n",
       "      <th>clientMaritalStatus_Married</th>\n",
       "      <th>clientMaritalStatus_Separated</th>\n",
       "      <th>clientMaritalStatus_Single</th>\n",
       "      <th>clientLoanPurpose_business</th>\n",
       "      <th>clientLoanPurpose_education</th>\n",
       "      <th>clientLoanPurpose_house</th>\n",
       "      <th>clientLoanPurpose_medical</th>\n",
       "      <th>clientLoanPurpose_other</th>\n",
       "      <th>clientResidentialStatus_Own</th>\n",
       "      <th>clientResidentialStatus_Rented</th>\n",
       "      <th>clientState_NOC</th>\n",
       "      <th>clientState_SE</th>\n",
       "      <th>clientState_SS</th>\n",
       "      <th>clientState_SW</th>\n",
       "    </tr>\n",
       "  </thead>\n",
       "  <tbody>\n",
       "    <tr>\n",
       "      <th>83952</th>\n",
       "      <td>0</td>\n",
       "      <td>1</td>\n",
       "      <td>0</td>\n",
       "      <td>0</td>\n",
       "      <td>1</td>\n",
       "      <td>1</td>\n",
       "      <td>0</td>\n",
       "      <td>0</td>\n",
       "      <td>0</td>\n",
       "      <td>0</td>\n",
       "      <td>0</td>\n",
       "      <td>1</td>\n",
       "      <td>0</td>\n",
       "      <td>0</td>\n",
       "      <td>0</td>\n",
       "      <td>1</td>\n",
       "    </tr>\n",
       "    <tr>\n",
       "      <th>80844</th>\n",
       "      <td>0</td>\n",
       "      <td>1</td>\n",
       "      <td>0</td>\n",
       "      <td>0</td>\n",
       "      <td>1</td>\n",
       "      <td>0</td>\n",
       "      <td>1</td>\n",
       "      <td>0</td>\n",
       "      <td>0</td>\n",
       "      <td>0</td>\n",
       "      <td>1</td>\n",
       "      <td>0</td>\n",
       "      <td>0</td>\n",
       "      <td>0</td>\n",
       "      <td>0</td>\n",
       "      <td>1</td>\n",
       "    </tr>\n",
       "    <tr>\n",
       "      <th>42650</th>\n",
       "      <td>1</td>\n",
       "      <td>0</td>\n",
       "      <td>1</td>\n",
       "      <td>0</td>\n",
       "      <td>0</td>\n",
       "      <td>0</td>\n",
       "      <td>0</td>\n",
       "      <td>0</td>\n",
       "      <td>0</td>\n",
       "      <td>1</td>\n",
       "      <td>0</td>\n",
       "      <td>1</td>\n",
       "      <td>0</td>\n",
       "      <td>0</td>\n",
       "      <td>0</td>\n",
       "      <td>1</td>\n",
       "    </tr>\n",
       "  </tbody>\n",
       "</table>\n",
       "</div>"
      ],
      "text/plain": [
       "       clientGender_FEMALE  clientGender_MALE  clientMaritalStatus_Married  \\\n",
       "83952                    0                  1                            0   \n",
       "80844                    0                  1                            0   \n",
       "42650                    1                  0                            1   \n",
       "\n",
       "       clientMaritalStatus_Separated  clientMaritalStatus_Single  \\\n",
       "83952                              0                           1   \n",
       "80844                              0                           1   \n",
       "42650                              0                           0   \n",
       "\n",
       "       clientLoanPurpose_business  clientLoanPurpose_education  \\\n",
       "83952                           1                            0   \n",
       "80844                           0                            1   \n",
       "42650                           0                            0   \n",
       "\n",
       "       clientLoanPurpose_house  clientLoanPurpose_medical  \\\n",
       "83952                        0                          0   \n",
       "80844                        0                          0   \n",
       "42650                        0                          0   \n",
       "\n",
       "       clientLoanPurpose_other  clientResidentialStatus_Own  \\\n",
       "83952                        0                            0   \n",
       "80844                        0                            1   \n",
       "42650                        1                            0   \n",
       "\n",
       "       clientResidentialStatus_Rented  clientState_NOC  clientState_SE  \\\n",
       "83952                               1                0               0   \n",
       "80844                               0                0               0   \n",
       "42650                               1                0               0   \n",
       "\n",
       "       clientState_SS  clientState_SW  \n",
       "83952               0               1  \n",
       "80844               0               1  \n",
       "42650               0               1  "
      ]
     },
     "execution_count": 93,
     "metadata": {},
     "output_type": "execute_result"
    }
   ],
   "source": [
    "# Converting Categorical variables to dummy.\n",
    "\n",
    "CAT = pd.get_dummies(cat_var)\n",
    "CAT.head(3)"
   ]
  },
  {
   "cell_type": "code",
   "execution_count": 94,
   "metadata": {},
   "outputs": [
    {
     "data": {
      "text/html": [
       "<div>\n",
       "<style scoped>\n",
       "    .dataframe tbody tr th:only-of-type {\n",
       "        vertical-align: middle;\n",
       "    }\n",
       "\n",
       "    .dataframe tbody tr th {\n",
       "        vertical-align: top;\n",
       "    }\n",
       "\n",
       "    .dataframe thead th {\n",
       "        text-align: right;\n",
       "    }\n",
       "</style>\n",
       "<table border=\"1\" class=\"dataframe\">\n",
       "  <thead>\n",
       "    <tr style=\"text-align: right;\">\n",
       "      <th></th>\n",
       "      <th>clientIncome</th>\n",
       "      <th>clientAge</th>\n",
       "      <th>clientNumberPhoneContacts</th>\n",
       "      <th>clientAvgCallsPerDay</th>\n",
       "      <th>loanAmount</th>\n",
       "      <th>YearsEmployed</th>\n",
       "      <th>clientGender_FEMALE</th>\n",
       "      <th>clientGender_MALE</th>\n",
       "      <th>clientMaritalStatus_Married</th>\n",
       "      <th>clientMaritalStatus_Separated</th>\n",
       "      <th>...</th>\n",
       "      <th>clientLoanPurpose_education</th>\n",
       "      <th>clientLoanPurpose_house</th>\n",
       "      <th>clientLoanPurpose_medical</th>\n",
       "      <th>clientLoanPurpose_other</th>\n",
       "      <th>clientResidentialStatus_Own</th>\n",
       "      <th>clientResidentialStatus_Rented</th>\n",
       "      <th>clientState_NOC</th>\n",
       "      <th>clientState_SE</th>\n",
       "      <th>clientState_SS</th>\n",
       "      <th>clientState_SW</th>\n",
       "    </tr>\n",
       "  </thead>\n",
       "  <tbody>\n",
       "    <tr>\n",
       "      <th>83952</th>\n",
       "      <td>25000.00</td>\n",
       "      <td>31</td>\n",
       "      <td>283.0</td>\n",
       "      <td>130.000000</td>\n",
       "      <td>25000</td>\n",
       "      <td>2.000000</td>\n",
       "      <td>0</td>\n",
       "      <td>1</td>\n",
       "      <td>0</td>\n",
       "      <td>0</td>\n",
       "      <td>...</td>\n",
       "      <td>0</td>\n",
       "      <td>0</td>\n",
       "      <td>0</td>\n",
       "      <td>0</td>\n",
       "      <td>0</td>\n",
       "      <td>1</td>\n",
       "      <td>0</td>\n",
       "      <td>0</td>\n",
       "      <td>0</td>\n",
       "      <td>1</td>\n",
       "    </tr>\n",
       "    <tr>\n",
       "      <th>80844</th>\n",
       "      <td>65905.17</td>\n",
       "      <td>29</td>\n",
       "      <td>399.0</td>\n",
       "      <td>28.927711</td>\n",
       "      <td>15500</td>\n",
       "      <td>3.333333</td>\n",
       "      <td>0</td>\n",
       "      <td>1</td>\n",
       "      <td>0</td>\n",
       "      <td>0</td>\n",
       "      <td>...</td>\n",
       "      <td>1</td>\n",
       "      <td>0</td>\n",
       "      <td>0</td>\n",
       "      <td>0</td>\n",
       "      <td>1</td>\n",
       "      <td>0</td>\n",
       "      <td>0</td>\n",
       "      <td>0</td>\n",
       "      <td>0</td>\n",
       "      <td>1</td>\n",
       "    </tr>\n",
       "    <tr>\n",
       "      <th>42650</th>\n",
       "      <td>156400.00</td>\n",
       "      <td>33</td>\n",
       "      <td>1030.0</td>\n",
       "      <td>32.543103</td>\n",
       "      <td>160000</td>\n",
       "      <td>1.500000</td>\n",
       "      <td>1</td>\n",
       "      <td>0</td>\n",
       "      <td>1</td>\n",
       "      <td>0</td>\n",
       "      <td>...</td>\n",
       "      <td>0</td>\n",
       "      <td>0</td>\n",
       "      <td>0</td>\n",
       "      <td>1</td>\n",
       "      <td>0</td>\n",
       "      <td>1</td>\n",
       "      <td>0</td>\n",
       "      <td>0</td>\n",
       "      <td>0</td>\n",
       "      <td>1</td>\n",
       "    </tr>\n",
       "  </tbody>\n",
       "</table>\n",
       "<p>3 rows × 22 columns</p>\n",
       "</div>"
      ],
      "text/plain": [
       "       clientIncome  clientAge  clientNumberPhoneContacts  \\\n",
       "83952      25000.00         31                      283.0   \n",
       "80844      65905.17         29                      399.0   \n",
       "42650     156400.00         33                     1030.0   \n",
       "\n",
       "       clientAvgCallsPerDay  loanAmount  YearsEmployed  clientGender_FEMALE  \\\n",
       "83952            130.000000       25000       2.000000                    0   \n",
       "80844             28.927711       15500       3.333333                    0   \n",
       "42650             32.543103      160000       1.500000                    1   \n",
       "\n",
       "       clientGender_MALE  clientMaritalStatus_Married  \\\n",
       "83952                  1                            0   \n",
       "80844                  1                            0   \n",
       "42650                  0                            1   \n",
       "\n",
       "       clientMaritalStatus_Separated       ...        \\\n",
       "83952                              0       ...         \n",
       "80844                              0       ...         \n",
       "42650                              0       ...         \n",
       "\n",
       "       clientLoanPurpose_education  clientLoanPurpose_house  \\\n",
       "83952                            0                        0   \n",
       "80844                            1                        0   \n",
       "42650                            0                        0   \n",
       "\n",
       "       clientLoanPurpose_medical  clientLoanPurpose_other  \\\n",
       "83952                          0                        0   \n",
       "80844                          0                        0   \n",
       "42650                          0                        1   \n",
       "\n",
       "       clientResidentialStatus_Own  clientResidentialStatus_Rented  \\\n",
       "83952                            0                               1   \n",
       "80844                            1                               0   \n",
       "42650                            0                               1   \n",
       "\n",
       "       clientState_NOC  clientState_SE  clientState_SS  clientState_SW  \n",
       "83952                0               0               0               1  \n",
       "80844                0               0               0               1  \n",
       "42650                0               0               0               1  \n",
       "\n",
       "[3 rows x 22 columns]"
      ]
     },
     "execution_count": 94,
     "metadata": {},
     "output_type": "execute_result"
    }
   ],
   "source": [
    "# Putting them together.\n",
    "\n",
    "X_train = pd.concat([X_num, CAT], axis=1)\n",
    "X_train.head(3)"
   ]
  },
  {
   "cell_type": "code",
   "execution_count": null,
   "metadata": {},
   "outputs": [],
   "source": []
  },
  {
   "cell_type": "code",
   "execution_count": 95,
   "metadata": {},
   "outputs": [],
   "source": [
    "# Correlation.\n",
    "\n",
    "cor_matrix = X_train.corr()\n",
    "#cor_matrix"
   ]
  },
  {
   "cell_type": "code",
   "execution_count": 96,
   "metadata": {},
   "outputs": [],
   "source": [
    "#cor_matrix[data.loanDefault].sort_values(ascending=False)"
   ]
  },
  {
   "cell_type": "code",
   "execution_count": 97,
   "metadata": {},
   "outputs": [],
   "source": [
    "from sklearn.base import BaseEstimator, TransformerMixin\n",
    "\n",
    "class preprocessing(BaseEstimator, TransformerMixin):\n",
    "    \n",
    "\n",
    "    def __init__(self):\n",
    "        pass\n",
    "\n",
    "    def transform(self, df):\n",
    "\n",
    "        cols = ['Unnamed: 0', 'loanId', 'incomeVerified', 'loanType', 'loanNumber', 'applicationDate',\n",
    "            'approvalDate', 'declinedDate', 'disbursementDate', 'payout_status', 'dueDate', 'paidAt',\n",
    "            'interestRate', 'max_amount_taken', 'max_tenor_taken', 'repaidDate', 'FirstPaymentDueDate',\n",
    "            'settleDays', 'paymentRatio', 'firstPaymentDefault','loanDefault']\n",
    "        \n",
    "        # Split into dependent(y) and independent(X) features.\n",
    "        x_train = data.drop(cols, axis=1)\n",
    "        #y = data['loanDefault']\n",
    "\n",
    "        # We'd convert 36+ to 40\n",
    "        # We'd convert -6, -7, and -5 to 6, 7, and 5 respectively.\n",
    "\n",
    "        x_train.loc[x_train['clientTimeAtEmployer']=='36+', 'clientTimeAtEmployer'] = '40'\n",
    "        x_train.loc[x_train['clientTimeAtEmployer']=='-5', 'clientTimeAtEmployer'] = '5'\n",
    "        x_train.loc[x_train['clientTimeAtEmployer']=='-6', 'clientTimeAtEmployer'] = '6'\n",
    "        x_train.loc[x_train['clientTimeAtEmployer']=='-7', 'clientTimeAtEmployer'] = '7'\n",
    "\n",
    "\n",
    "        # Replacing OJO with OYO and 'LAGOS ' with 'LAGOS'.\n",
    "        x_train['clientState'].replace({'LAGOS ':'LAGOS', 'OJO':'OYO'}, inplace=True)\n",
    "        x_train.clientState.value_counts()\n",
    "\n",
    "        # Filling missing values.\n",
    "        fill = {'clientMaritalStatus':'Married', 'clientResidentialStatus':'Rented', 'clientState':'LAGOS',\n",
    "            'clientTimeAtEmployer':40, 'clientNumberPhoneContacts':825, 'clientAvgCallsPerDay':29.38}\n",
    "\n",
    "        x_train = x_train.fillna(value=fill)\n",
    "\n",
    "\n",
    "        # Converting clientTimeAtEmployer from object to integer.\n",
    "        x_train['clientTimeAtEmployer'] = x_train['clientTimeAtEmployer'].astype('int64')\n",
    "\n",
    "\n",
    "        x_train.clientMaritalStatus.replace({'Widowed':'Separated', 'Divorced':'Separated'}, inplace=True)\n",
    "\n",
    "\n",
    "        x_train.clientResidentialStatus.replace({'Employer Provided':'Rented', 'Temp. Residence':'Rented', 'Family Owned':'Own', 'Own Residence':'Own'}, inplace=True)\n",
    "\n",
    "\n",
    "        def Zone(state):\n",
    "            South_West = ['OYO','OSUN','OGUN','ONDO','LAGOS','EKITI']\n",
    "            South_East = ['ABIA','IMO','EBONYI','ANAMBRA','ENUGU']\n",
    "            South_South = ['AKWA IBOM','RIVERS','DELTA','BAYELSA','CROSS RIVER','EDO']\n",
    "            NorthOrCentral = ['SOKOTO','ABUJA','NIGER','KANO','BAUCHI','KADUNA','NASARAWA','ADAMAWA',\n",
    "                         'TARABA','BORNO','ZAMFARA','KATSINA','KEBBI','JIGAWA','GOMBE','YOBE','KOGI',\n",
    "                        'PLATEAU','BENUE','KWARA']\n",
    "    \n",
    "            if state in South_West:\n",
    "                return 'SW'\n",
    "            elif state in South_East:\n",
    "                return 'SE'\n",
    "            elif state in South_South:\n",
    "                return 'SS'\n",
    "            else:\n",
    "                return 'NOC'\n",
    "    \n",
    "        x_train.clientState = x_train.clientState.map(Zone)\n",
    "\n",
    "\n",
    "        # Converting TimeAtEmployer to Years.\n",
    "        x_train['YearsEmployed'] = x_train['clientTimeAtEmployer']/12\n",
    "\n",
    "\n",
    "        # Numerical variables.\n",
    "        num_var = x_train.select_dtypes(exclude=object)\n",
    "\n",
    "\n",
    "        # Dropping the not required numeric variables.\n",
    "        X_num = num_var.drop(['clientId', 'loanTerm'], axis=1)\n",
    "\n",
    "\n",
    "        # Categorical variables\n",
    "        cat_var = x_train.select_dtypes(include=object)\n",
    "\n",
    "\n",
    "        # Converting Categorical variables to dummy.\n",
    "        CAT = pd.get_dummies(cat_var)\n",
    "\n",
    "        # Putting them together.\n",
    "        X_train = pd.concat([X_num, CAT], axis=1)\n",
    "\n",
    "        return df\n",
    "    \n",
    "    def fit(self, df, y=None, **fit_params):\n",
    "        return self\n"
   ]
  },
  {
   "cell_type": "code",
   "execution_count": 98,
   "metadata": {},
   "outputs": [],
   "source": [
    "# Splitting dataset into X and y.\n",
    "\n",
    "#X = dataset.drop('loanDefault', axis=1)\n",
    "#y = dataset['loanDefault']"
   ]
  },
  {
   "cell_type": "code",
   "execution_count": 99,
   "metadata": {},
   "outputs": [
    {
     "data": {
      "text/plain": [
       "((127676, 22), (127676,))"
      ]
     },
     "execution_count": 99,
     "metadata": {},
     "output_type": "execute_result"
    }
   ],
   "source": [
    "X_train.shape, y_train.shape"
   ]
  },
  {
   "cell_type": "code",
   "execution_count": 102,
   "metadata": {},
   "outputs": [],
   "source": [
    "# Oversampling\n",
    "from collections import Counter\n",
    "from imblearn.over_sampling import SMOTE\n",
    "\n",
    "sm = SMOTE(random_state=42, ratio={1:110000})\n",
    "x_res, y_res = sm.fit_sample(X_train, y_train)"
   ]
  },
  {
   "cell_type": "code",
   "execution_count": 103,
   "metadata": {},
   "outputs": [],
   "source": [
    "# Split into train and test sets.\n",
    "#from sklearn.model_selection import train_test_split\n",
    "\n",
    "Xtrain, Xtest, Ytrain, Ytest = train_test_split(x_res,y_res, test_size=0.2, random_state=42)"
   ]
  },
  {
   "cell_type": "code",
   "execution_count": null,
   "metadata": {},
   "outputs": [],
   "source": []
  },
  {
   "cell_type": "code",
   "execution_count": 104,
   "metadata": {},
   "outputs": [],
   "source": [
    "#from sklearn.preprocessing import StandardScaler\n",
    "\n",
    "#scx = StandardScaler()\n",
    "#Xtrain_scaled = scx.fit_transform(Xtrain)\n",
    "#Xtest_scaled = scx.transform(Xtest)"
   ]
  },
  {
   "cell_type": "code",
   "execution_count": 107,
   "metadata": {},
   "outputs": [],
   "source": [
    "preprocess = preprocessing()"
   ]
  },
  {
   "cell_type": "code",
   "execution_count": 108,
   "metadata": {},
   "outputs": [
    {
     "data": {
      "text/plain": [
       "preprocessing()"
      ]
     },
     "execution_count": 108,
     "metadata": {},
     "output_type": "execute_result"
    }
   ],
   "source": [
    "preprocess.fit(Xtrain)"
   ]
  },
  {
   "cell_type": "code",
   "execution_count": 109,
   "metadata": {},
   "outputs": [],
   "source": [
    "Xtrain_transformed = preprocess.transform(Xtrain)\n",
    "Xtest_transformed = preprocess.transform(Xtest)"
   ]
  },
  {
   "cell_type": "code",
   "execution_count": 110,
   "metadata": {},
   "outputs": [
    {
     "data": {
      "text/plain": [
       "((161744, 22), (40436, 22))"
      ]
     },
     "execution_count": 110,
     "metadata": {},
     "output_type": "execute_result"
    }
   ],
   "source": [
    "Xtrain_transformed.shape, Xtest_transformed.shape"
   ]
  },
  {
   "cell_type": "code",
   "execution_count": null,
   "metadata": {},
   "outputs": [],
   "source": []
  },
  {
   "cell_type": "code",
   "execution_count": 112,
   "metadata": {},
   "outputs": [
    {
     "data": {
      "text/plain": [
       "Pipeline(memory=None,\n",
       "         steps=[('preprocessing', preprocessing()),\n",
       "                ('randomforestclassifier',\n",
       "                 RandomForestClassifier(bootstrap=True, ccp_alpha=0.0,\n",
       "                                        class_weight=None, criterion='gini',\n",
       "                                        max_depth=10, max_features=4,\n",
       "                                        max_leaf_nodes=None, max_samples=None,\n",
       "                                        min_impurity_decrease=0.0,\n",
       "                                        min_impurity_split=None,\n",
       "                                        min_samples_leaf=1, min_samples_split=2,\n",
       "                                        min_weight_fraction_leaf=0.0,\n",
       "                                        n_estimators=100, n_jobs=None,\n",
       "                                        oob_score=False, random_state=10,\n",
       "                                        verbose=0, warm_start=False))],\n",
       "         verbose=False)"
      ]
     },
     "execution_count": 112,
     "metadata": {},
     "output_type": "execute_result"
    }
   ],
   "source": [
    "from sklearn.pipeline import make_pipeline\n",
    "from sklearn.ensemble import RandomForestClassifier\n",
    "\n",
    "pipe = make_pipeline(preprocessing(), RandomForestClassifier(max_features=4, max_depth=10, random_state=10))\n",
    "pipe"
   ]
  },
  {
   "cell_type": "code",
   "execution_count": 113,
   "metadata": {},
   "outputs": [
    {
     "data": {
      "text/plain": [
       "Pipeline(memory=None,\n",
       "         steps=[('preprocessing', preprocessing()),\n",
       "                ('randomforestclassifier',\n",
       "                 RandomForestClassifier(bootstrap=True, ccp_alpha=0.0,\n",
       "                                        class_weight=None, criterion='gini',\n",
       "                                        max_depth=10, max_features=4,\n",
       "                                        max_leaf_nodes=None, max_samples=None,\n",
       "                                        min_impurity_decrease=0.0,\n",
       "                                        min_impurity_split=None,\n",
       "                                        min_samples_leaf=1, min_samples_split=2,\n",
       "                                        min_weight_fraction_leaf=0.0,\n",
       "                                        n_estimators=100, n_jobs=None,\n",
       "                                        oob_score=False, random_state=10,\n",
       "                                        verbose=0, warm_start=False))],\n",
       "         verbose=False)"
      ]
     },
     "execution_count": 113,
     "metadata": {},
     "output_type": "execute_result"
    }
   ],
   "source": [
    "pipe.fit(Xtrain,Ytrain)"
   ]
  },
  {
   "cell_type": "code",
   "execution_count": 114,
   "metadata": {},
   "outputs": [
    {
     "data": {
      "text/plain": [
       "0.8114798694232862"
      ]
     },
     "execution_count": 114,
     "metadata": {},
     "output_type": "execute_result"
    }
   ],
   "source": [
    "pipe.score(Xtest,Ytest)"
   ]
  },
  {
   "cell_type": "code",
   "execution_count": 115,
   "metadata": {},
   "outputs": [
    {
     "data": {
      "text/plain": [
       "0.8129080522306855"
      ]
     },
     "execution_count": 115,
     "metadata": {},
     "output_type": "execute_result"
    }
   ],
   "source": [
    "pipe.score(Xtrain,Ytrain)"
   ]
  },
  {
   "cell_type": "code",
   "execution_count": null,
   "metadata": {},
   "outputs": [],
   "source": []
  },
  {
   "cell_type": "code",
   "execution_count": null,
   "metadata": {},
   "outputs": [],
   "source": []
  },
  {
   "cell_type": "code",
   "execution_count": null,
   "metadata": {},
   "outputs": [],
   "source": []
  },
  {
   "cell_type": "code",
   "execution_count": null,
   "metadata": {},
   "outputs": [],
   "source": []
  },
  {
   "cell_type": "code",
   "execution_count": 100,
   "metadata": {},
   "outputs": [
    {
     "data": {
      "text/plain": [
       "LogisticRegression(C=1.0, class_weight=None, dual=False, fit_intercept=True,\n",
       "                   intercept_scaling=1, l1_ratio=None, max_iter=100,\n",
       "                   multi_class='auto', n_jobs=None, penalty='l2',\n",
       "                   random_state=None, solver='lbfgs', tol=0.0001, verbose=0,\n",
       "                   warm_start=False)"
      ]
     },
     "execution_count": 100,
     "metadata": {},
     "output_type": "execute_result"
    }
   ],
   "source": [
    "# Building Models.\n",
    "# Logistic Regression.\n",
    "\n",
    "from sklearn.linear_model import LogisticRegression\n",
    "\n",
    "clf = LogisticRegression()\n",
    "clf.fit(X_train_scaled, y_train)"
   ]
  },
  {
   "cell_type": "code",
   "execution_count": 101,
   "metadata": {},
   "outputs": [],
   "source": [
    "y_pred1 = clf.predict(X_test_scaled)"
   ]
  },
  {
   "cell_type": "code",
   "execution_count": 102,
   "metadata": {},
   "outputs": [
    {
     "name": "stdout",
     "output_type": "stream",
     "text": [
      "Classification Report:\n",
      "\n",
      "              precision    recall  f1-score   support\n",
      "\n",
      "           0       0.56      0.59      0.57     22890\n",
      "           1       0.55      0.51      0.53     22175\n",
      "\n",
      "    accuracy                           0.55     45065\n",
      "   macro avg       0.55      0.55      0.55     45065\n",
      "weighted avg       0.55      0.55      0.55     45065\n",
      "\n"
     ]
    }
   ],
   "source": [
    "from sklearn.metrics import classification_report, confusion_matrix, accuracy_score\n",
    "\n",
    "c_report = classification_report(y_test, y_pred1)\n",
    "\n",
    "print(f'Classification Report:\\n\\n{c_report}')"
   ]
  },
  {
   "cell_type": "code",
   "execution_count": 103,
   "metadata": {},
   "outputs": [
    {
     "name": "stdout",
     "output_type": "stream",
     "text": [
      "Confusion Matrix:\n",
      "\n",
      "[[13545  9345]\n",
      " [10850 11325]]\n"
     ]
    }
   ],
   "source": [
    "con_mat = confusion_matrix(y_test, y_pred1)\n",
    "\n",
    "print(f'Confusion Matrix:\\n\\n{con_mat}')"
   ]
  },
  {
   "cell_type": "code",
   "execution_count": 119,
   "metadata": {},
   "outputs": [
    {
     "data": {
      "text/plain": [
       "RandomForestClassifier(bootstrap=True, ccp_alpha=0.0, class_weight=None,\n",
       "                       criterion='gini', max_depth=10, max_features=4,\n",
       "                       max_leaf_nodes=None, max_samples=None,\n",
       "                       min_impurity_decrease=0.0, min_impurity_split=None,\n",
       "                       min_samples_leaf=1, min_samples_split=2,\n",
       "                       min_weight_fraction_leaf=0.0, n_estimators=100,\n",
       "                       n_jobs=None, oob_score=False, random_state=10, verbose=0,\n",
       "                       warm_start=False)"
      ]
     },
     "execution_count": 119,
     "metadata": {},
     "output_type": "execute_result"
    }
   ],
   "source": [
    "from sklearn.ensemble import RandomForestClassifier\n",
    "\n",
    "forest = RandomForestClassifier(max_features=4, max_depth=10, random_state=10)\n",
    "forest.fit(X_train_scaled, y_train)"
   ]
  },
  {
   "cell_type": "code",
   "execution_count": 120,
   "metadata": {},
   "outputs": [],
   "source": [
    "y_pred2 = forest.predict(X_test_scaled)"
   ]
  },
  {
   "cell_type": "code",
   "execution_count": 121,
   "metadata": {},
   "outputs": [
    {
     "name": "stdout",
     "output_type": "stream",
     "text": [
      "Classification Report:\n",
      "\n",
      "              precision    recall  f1-score   support\n",
      "\n",
      "           0       0.71      1.00      0.83     22890\n",
      "           1       1.00      0.58      0.74     22175\n",
      "\n",
      "    accuracy                           0.80     45065\n",
      "   macro avg       0.86      0.79      0.78     45065\n",
      "weighted avg       0.85      0.80      0.79     45065\n",
      "\n"
     ]
    }
   ],
   "source": [
    "c_report = classification_report(y_test, y_pred2)\n",
    "\n",
    "print(f'Classification Report:\\n\\n{c_report}')"
   ]
  },
  {
   "cell_type": "code",
   "execution_count": 122,
   "metadata": {},
   "outputs": [
    {
     "name": "stdout",
     "output_type": "stream",
     "text": [
      "Confusion Matrix:\n",
      "\n",
      "[[22890     0]\n",
      " [ 9232 12943]]\n"
     ]
    }
   ],
   "source": [
    "con_mat = confusion_matrix(y_test, y_pred2)\n",
    "\n",
    "print(f'Confusion Matrix:\\n\\n{con_mat}')"
   ]
  },
  {
   "cell_type": "code",
   "execution_count": 123,
   "metadata": {},
   "outputs": [
    {
     "name": "stdout",
     "output_type": "stream",
     "text": [
      "Train accuracy: 0.7930998135984377\n",
      "Test accuracy: 0.7951403528236991\n"
     ]
    }
   ],
   "source": [
    "train = forest.score(X_train_scaled, y_train)\n",
    "test = forest.score(X_test_scaled, y_test)\n",
    "\n",
    "print(f'Train accuracy: {train}')\n",
    "print(f'Test accuracy: {test}')"
   ]
  },
  {
   "cell_type": "code",
   "execution_count": 156,
   "metadata": {},
   "outputs": [
    {
     "data": {
      "text/plain": [
       "clientLoanPurpose_business        0.146346\n",
       "clientMaritalStatus_Single        0.094963\n",
       "clientGender_FEMALE               0.094009\n",
       "clientLoanPurpose_other           0.093596\n",
       "clientGender_MALE                 0.093412\n",
       "clientMaritalStatus_Married       0.084551\n",
       "clientResidentialStatus_Own       0.066754\n",
       "clientResidentialStatus_Rented    0.066171\n",
       "clientState_SW                    0.057523\n",
       "clientLoanPurpose_house           0.050114\n",
       "clientState_NOC                   0.035716\n",
       "clientLoanPurpose_education       0.025797\n",
       "clientState_SS                    0.023718\n",
       "clientLoanPurpose_medical         0.014926\n",
       "YearsEmployed                     0.012979\n",
       "clientAge                         0.007343\n",
       "clientIncome                      0.007235\n",
       "clientNumberPhoneContacts         0.006397\n",
       "clientAvgCallsPerDay              0.005457\n",
       "clientState_SE                    0.005270\n",
       "loanAmount                        0.004023\n",
       "clientMaritalStatus_Separated     0.003700\n",
       "dtype: float64"
      ]
     },
     "execution_count": 156,
     "metadata": {},
     "output_type": "execute_result"
    }
   ],
   "source": [
    "feat_imp = pd.Series(forest.feature_importances_, index=X.columns)\n",
    "feat_imp.sort_values(ascending=False)"
   ]
  },
  {
   "cell_type": "code",
   "execution_count": null,
   "metadata": {},
   "outputs": [],
   "source": []
  },
  {
   "cell_type": "code",
   "execution_count": null,
   "metadata": {},
   "outputs": [],
   "source": [
    "#from sklearn.model_selection import GridSearchCV\n",
    "\n",
    "#param = {'max_depth':[80,90,100], 'max_features':[10,12,15], 'n_estimators':[100,200,300,500], \n",
    "#       'min_samples_split':[4,8,10], 'min_samples_leaf':[2,3,4,5]}\n",
    "\n",
    "#grid = GridSearchCV(estimator=forest, param_grid=param, cv=3)\n",
    "#grid.fit(X_train_scaled, y_train)"
   ]
  },
  {
   "cell_type": "code",
   "execution_count": null,
   "metadata": {},
   "outputs": [],
   "source": [
    "#accuracy = grid.best_score_\n",
    "#params = grid.best_params_\n",
    "\n",
    "#print(f'Accuracy: {accuracy}')\n",
    "#print(f'Selected Parameters: {params}')"
   ]
  },
  {
   "cell_type": "code",
   "execution_count": null,
   "metadata": {},
   "outputs": [],
   "source": []
  },
  {
   "cell_type": "code",
   "execution_count": null,
   "metadata": {},
   "outputs": [],
   "source": [
    "# Checking out other algorithms."
   ]
  },
  {
   "cell_type": "code",
   "execution_count": 170,
   "metadata": {},
   "outputs": [
    {
     "data": {
      "text/plain": [
       "MLPClassifier(activation='relu', alpha=0.0001, batch_size='auto', beta_1=0.9,\n",
       "              beta_2=0.999, early_stopping=False, epsilon=1e-08,\n",
       "              hidden_layer_sizes=(100,), learning_rate='constant',\n",
       "              learning_rate_init=0.001, max_fun=15000, max_iter=200,\n",
       "              momentum=0.9, n_iter_no_change=10, nesterovs_momentum=True,\n",
       "              power_t=0.5, random_state=42, shuffle=True, solver='adam',\n",
       "              tol=0.0001, validation_fraction=0.1, verbose=False,\n",
       "              warm_start=False)"
      ]
     },
     "execution_count": 170,
     "metadata": {},
     "output_type": "execute_result"
    }
   ],
   "source": [
    "# Multilayer Perceptron.\n",
    "\n",
    "from sklearn.neural_network import MLPClassifier\n",
    "\n",
    "mlp = MLPClassifier(random_state=42)\n",
    "mlp.fit(X_train_scaled, y_train)"
   ]
  },
  {
   "cell_type": "code",
   "execution_count": 171,
   "metadata": {},
   "outputs": [],
   "source": [
    "pred3 = mlp.predict(X_test_scaled)"
   ]
  },
  {
   "cell_type": "code",
   "execution_count": 172,
   "metadata": {},
   "outputs": [],
   "source": [
    "train = mlp.score(X_train_scaled, y_train)\n",
    "test = mlp.score(X_test_scaled, y_test)"
   ]
  },
  {
   "cell_type": "code",
   "execution_count": 173,
   "metadata": {
    "scrolled": true
   },
   "outputs": [
    {
     "name": "stdout",
     "output_type": "stream",
     "text": [
      "Train Accuracy: 0.7841625244097283\n",
      "Test Accuracy: 0.7834017530234106\n"
     ]
    }
   ],
   "source": [
    "print(f'Train Accuracy: {train}')\n",
    "print(f'Test Accuracy: {test}')"
   ]
  },
  {
   "cell_type": "code",
   "execution_count": 175,
   "metadata": {},
   "outputs": [
    {
     "name": "stdout",
     "output_type": "stream",
     "text": [
      "(Classification Report:\n",
      "\n",
      "              precision    recall  f1-score   support\n",
      "\n",
      "           0       0.98      0.71      0.82     31707\n",
      "           1       0.58      0.96      0.73     13358\n",
      "\n",
      "    accuracy                           0.78     45065\n",
      "   macro avg       0.78      0.84      0.77     45065\n",
      "weighted avg       0.86      0.78      0.79     45065\n",
      "\n"
     ]
    }
   ],
   "source": [
    "print(f'(Classification Report:\\n\\n{classification_report(pred3, y_test)}')"
   ]
  },
  {
   "cell_type": "code",
   "execution_count": 157,
   "metadata": {},
   "outputs": [],
   "source": [
    "#print('Model Coefficient: ',mlp.coef_)\n",
    "#print('Intercept: ',mlp.intercept_)"
   ]
  },
  {
   "cell_type": "code",
   "execution_count": null,
   "metadata": {},
   "outputs": [],
   "source": []
  },
  {
   "cell_type": "code",
   "execution_count": 176,
   "metadata": {},
   "outputs": [
    {
     "data": {
      "text/plain": [
       "GradientBoostingClassifier(ccp_alpha=0.0, criterion='friedman_mse', init=None,\n",
       "                           learning_rate=0.1, loss='deviance', max_depth=3,\n",
       "                           max_features=None, max_leaf_nodes=None,\n",
       "                           min_impurity_decrease=0.0, min_impurity_split=None,\n",
       "                           min_samples_leaf=1, min_samples_split=2,\n",
       "                           min_weight_fraction_leaf=0.0, n_estimators=100,\n",
       "                           n_iter_no_change=None, presort='deprecated',\n",
       "                           random_state=None, subsample=1.0, tol=0.0001,\n",
       "                           validation_fraction=0.1, verbose=0,\n",
       "                           warm_start=False)"
      ]
     },
     "execution_count": 176,
     "metadata": {},
     "output_type": "execute_result"
    }
   ],
   "source": [
    "# Gradient Boosting Classifier.\n",
    "\n",
    "from sklearn.ensemble import GradientBoostingClassifier\n",
    "\n",
    "boost = GradientBoostingClassifier()\n",
    "boost.fit(X_train_scaled, y_train)"
   ]
  },
  {
   "cell_type": "code",
   "execution_count": 177,
   "metadata": {},
   "outputs": [],
   "source": [
    "pred4 = boost.predict(X_test_scaled)"
   ]
  },
  {
   "cell_type": "code",
   "execution_count": 178,
   "metadata": {},
   "outputs": [
    {
     "name": "stdout",
     "output_type": "stream",
     "text": [
      "Train Accuracy: 0.7945976832948696\n",
      "Test Accuracy: 0.7964939531787418\n"
     ]
    }
   ],
   "source": [
    "train = boost.score(X_train_scaled, y_train)\n",
    "test = boost.score(X_test_scaled, y_test)\n",
    "\n",
    "print(f'Train Accuracy: {train}')\n",
    "print(f'Test Accuracy: {test}')"
   ]
  },
  {
   "cell_type": "code",
   "execution_count": 179,
   "metadata": {},
   "outputs": [
    {
     "name": "stdout",
     "output_type": "stream",
     "text": [
      "(Classification Report:\n",
      "\n",
      "              precision    recall  f1-score   support\n",
      "\n",
      "           0       1.00      0.71      0.83     32019\n",
      "           1       0.59      1.00      0.74     13046\n",
      "\n",
      "    accuracy                           0.80     45065\n",
      "   macro avg       0.79      0.86      0.79     45065\n",
      "weighted avg       0.88      0.80      0.81     45065\n",
      "\n"
     ]
    }
   ],
   "source": [
    "print(f'(Classification Report:\\n\\n{classification_report(pred4, y_test)}')"
   ]
  },
  {
   "cell_type": "code",
   "execution_count": 180,
   "metadata": {},
   "outputs": [
    {
     "name": "stdout",
     "output_type": "stream",
     "text": [
      "Confusion matrix:\n",
      "\n",
      "[[22869  9150]\n",
      " [   21 13025]]\n"
     ]
    }
   ],
   "source": [
    "con_mat = confusion_matrix(pred4, y_test)\n",
    "\n",
    "print(f'Confusion matrix:\\n\\n{con_mat}')"
   ]
  },
  {
   "cell_type": "code",
   "execution_count": null,
   "metadata": {},
   "outputs": [],
   "source": []
  },
  {
   "cell_type": "markdown",
   "metadata": {},
   "source": [
    "We'd use Random Forest for now cos of its relative ease of understanding.\n",
    "We could decide to develop the scorecard using a better performing model\n",
    "such as Gradient Boosting Classifier."
   ]
  },
  {
   "cell_type": "code",
   "execution_count": null,
   "metadata": {},
   "outputs": [],
   "source": []
  },
  {
   "cell_type": "markdown",
   "metadata": {},
   "source": [
    "# Binning Transformation"
   ]
  },
  {
   "cell_type": "code",
   "execution_count": 127,
   "metadata": {},
   "outputs": [
    {
     "data": {
      "text/plain": [
       "MonotonicBinning(cardinality_cutoff=5, custom_binning=None, feature_names='all',\n",
       "                 force_bins=4, max_bins=20, prefix=None)"
      ]
     },
     "execution_count": 127,
     "metadata": {},
     "output_type": "execute_result"
    }
   ],
   "source": [
    "from xverse.transformer import MonotonicBinning\n",
    "\n",
    "clf = MonotonicBinning()\n",
    "clf.fit(X, y)"
   ]
  },
  {
   "cell_type": "code",
   "execution_count": 128,
   "metadata": {},
   "outputs": [
    {
     "data": {
      "text/plain": [
       "{'YearsEmployed': array([0.        , 2.08333333, 3.33333333]),\n",
       " 'clientAge': array([18., 30., 36., 60.]),\n",
       " 'clientAvgCallsPerDay': array([   0.        ,   15.44727425,   50.92909702, 3429.701818  ]),\n",
       " 'clientGender_FEMALE': array([0., 1.]),\n",
       " 'clientGender_MALE': array([0., 1.]),\n",
       " 'clientIncome': array([3.0000000e+01, 3.5000000e+04, 8.7500000e+04, 1.9899804e+06]),\n",
       " 'clientLoanPurpose_business': array([0., 1.]),\n",
       " 'clientLoanPurpose_education': array([0., 1.]),\n",
       " 'clientLoanPurpose_house': array([0., 1.]),\n",
       " 'clientLoanPurpose_medical': array([0., 1.]),\n",
       " 'clientLoanPurpose_other': array([0., 1.]),\n",
       " 'clientMaritalStatus_Married': array([0., 1.]),\n",
       " 'clientMaritalStatus_Separated': array([0., 1.]),\n",
       " 'clientMaritalStatus_Single': array([0., 1.]),\n",
       " 'clientNumberPhoneContacts': array([    0.,   554.,  1220., 60595.]),\n",
       " 'clientResidentialStatus_Own': array([0., 1.]),\n",
       " 'clientResidentialStatus_Rented': array([0., 1.]),\n",
       " 'clientState_NOC': array([0., 1.]),\n",
       " 'clientState_SE': array([0., 1.]),\n",
       " 'clientState_SS': array([0., 1.]),\n",
       " 'clientState_SW': array([0., 1.]),\n",
       " 'loanAmount': array([ 11000.,  24000.,  34500., 500000.])}"
      ]
     },
     "execution_count": 128,
     "metadata": {},
     "output_type": "execute_result"
    }
   ],
   "source": [
    "output_bins = clf.bins\n",
    "output_bins"
   ]
  },
  {
   "cell_type": "code",
   "execution_count": 130,
   "metadata": {},
   "outputs": [
    {
     "data": {
      "text/plain": [
       "WOE(exclude_features=None, feature_names='all', mono_cardinality_cutoff=5,\n",
       "    mono_custom_binning={'YearsEmployed': array([0.        , 2.08333333, 3.33333333]),\n",
       "                         'clientAge': array([18., 30., 36., 60.]),\n",
       "                         'clientAvgCallsPerDay': array([   0.        ,   15.44727425,   50.92909702, 3429.701818  ]),\n",
       "                         'clientGender_FEMALE': array([0., 1.]),\n",
       "                         'clientGender_MALE': array([0., 1.]),\n",
       "                         'clientIncome': array([3.000...\n",
       "              'clientState_SS': {0: 0.0031912209107473246,\n",
       "                                 1: -0.02199663395130543},\n",
       "              'clientState_SW': {0: 0.006054674390853123,\n",
       "                                 1: -0.0038536319917312264},\n",
       "              'loanAmount': {Interval(10999.999, 24000.0, closed='right'): 0.08302674793157278,\n",
       "                             Interval(24000.0, 34500.0, closed='right'): -0.044386503001229906,\n",
       "                             Interval(34500.0, 500000.0, closed='right'): -0.04099626691332957}},\n",
       "    woe_prefix=None)"
      ]
     },
     "execution_count": 130,
     "metadata": {},
     "output_type": "execute_result"
    }
   ],
   "source": [
    "from xverse.transformer import WOE\n",
    "\n",
    "clf = WOE()\n",
    "clf.fit(X, y)"
   ]
  },
  {
   "cell_type": "code",
   "execution_count": 131,
   "metadata": {},
   "outputs": [
    {
     "data": {
      "text/html": [
       "<div>\n",
       "<style scoped>\n",
       "    .dataframe tbody tr th:only-of-type {\n",
       "        vertical-align: middle;\n",
       "    }\n",
       "\n",
       "    .dataframe tbody tr th {\n",
       "        vertical-align: top;\n",
       "    }\n",
       "\n",
       "    .dataframe thead th {\n",
       "        text-align: right;\n",
       "    }\n",
       "</style>\n",
       "<table border=\"1\" class=\"dataframe\">\n",
       "  <thead>\n",
       "    <tr style=\"text-align: right;\">\n",
       "      <th></th>\n",
       "      <th>Variable_Name</th>\n",
       "      <th>Category</th>\n",
       "      <th>Count</th>\n",
       "      <th>Event</th>\n",
       "      <th>Non_Event</th>\n",
       "      <th>Event_Rate</th>\n",
       "      <th>Non_Event_Rate</th>\n",
       "      <th>Event_Distribution</th>\n",
       "      <th>Non_Event_Distribution</th>\n",
       "      <th>WOE</th>\n",
       "      <th>Information_Value</th>\n",
       "    </tr>\n",
       "  </thead>\n",
       "  <tbody>\n",
       "    <tr>\n",
       "      <th>0</th>\n",
       "      <td>YearsEmployed</td>\n",
       "      <td>(-0.001, 2.083]</td>\n",
       "      <td>53295</td>\n",
       "      <td>14654</td>\n",
       "      <td>38641</td>\n",
       "      <td>0.274960</td>\n",
       "      <td>0.725040</td>\n",
       "      <td>0.330977</td>\n",
       "      <td>0.335073</td>\n",
       "      <td>-0.012301</td>\n",
       "      <td>0.000076</td>\n",
       "    </tr>\n",
       "    <tr>\n",
       "      <th>1</th>\n",
       "      <td>YearsEmployed</td>\n",
       "      <td>(2.083, 3.333]</td>\n",
       "      <td>106301</td>\n",
       "      <td>29621</td>\n",
       "      <td>76680</td>\n",
       "      <td>0.278652</td>\n",
       "      <td>0.721348</td>\n",
       "      <td>0.669023</td>\n",
       "      <td>0.664927</td>\n",
       "      <td>0.006142</td>\n",
       "      <td>0.000076</td>\n",
       "    </tr>\n",
       "    <tr>\n",
       "      <th>2</th>\n",
       "      <td>clientAge</td>\n",
       "      <td>(17.999, 30.0]</td>\n",
       "      <td>57829</td>\n",
       "      <td>17771</td>\n",
       "      <td>40058</td>\n",
       "      <td>0.307303</td>\n",
       "      <td>0.692697</td>\n",
       "      <td>0.401378</td>\n",
       "      <td>0.347361</td>\n",
       "      <td>0.144539</td>\n",
       "      <td>0.012515</td>\n",
       "    </tr>\n",
       "    <tr>\n",
       "      <th>3</th>\n",
       "      <td>clientAge</td>\n",
       "      <td>(30.0, 36.0]</td>\n",
       "      <td>51688</td>\n",
       "      <td>13541</td>\n",
       "      <td>38147</td>\n",
       "      <td>0.261976</td>\n",
       "      <td>0.738024</td>\n",
       "      <td>0.305839</td>\n",
       "      <td>0.330790</td>\n",
       "      <td>-0.078426</td>\n",
       "      <td>0.012515</td>\n",
       "    </tr>\n",
       "    <tr>\n",
       "      <th>4</th>\n",
       "      <td>clientAge</td>\n",
       "      <td>(36.0, 60.0]</td>\n",
       "      <td>50079</td>\n",
       "      <td>12963</td>\n",
       "      <td>37116</td>\n",
       "      <td>0.258851</td>\n",
       "      <td>0.741149</td>\n",
       "      <td>0.292784</td>\n",
       "      <td>0.321849</td>\n",
       "      <td>-0.094650</td>\n",
       "      <td>0.012515</td>\n",
       "    </tr>\n",
       "    <tr>\n",
       "      <th>5</th>\n",
       "      <td>clientAvgCallsPerDay</td>\n",
       "      <td>(-0.001, 15.447]</td>\n",
       "      <td>53199</td>\n",
       "      <td>15738</td>\n",
       "      <td>37461</td>\n",
       "      <td>0.295833</td>\n",
       "      <td>0.704167</td>\n",
       "      <td>0.355460</td>\n",
       "      <td>0.324841</td>\n",
       "      <td>0.090077</td>\n",
       "      <td>0.005497</td>\n",
       "    </tr>\n",
       "    <tr>\n",
       "      <th>6</th>\n",
       "      <td>clientAvgCallsPerDay</td>\n",
       "      <td>(15.447, 50.929]</td>\n",
       "      <td>53198</td>\n",
       "      <td>14735</td>\n",
       "      <td>38463</td>\n",
       "      <td>0.276984</td>\n",
       "      <td>0.723016</td>\n",
       "      <td>0.332806</td>\n",
       "      <td>0.333530</td>\n",
       "      <td>-0.002172</td>\n",
       "      <td>0.005497</td>\n",
       "    </tr>\n",
       "    <tr>\n",
       "      <th>7</th>\n",
       "      <td>clientAvgCallsPerDay</td>\n",
       "      <td>(50.929, 3429.702]</td>\n",
       "      <td>53199</td>\n",
       "      <td>13802</td>\n",
       "      <td>39397</td>\n",
       "      <td>0.259441</td>\n",
       "      <td>0.740559</td>\n",
       "      <td>0.311733</td>\n",
       "      <td>0.341629</td>\n",
       "      <td>-0.091577</td>\n",
       "      <td>0.005497</td>\n",
       "    </tr>\n",
       "    <tr>\n",
       "      <th>8</th>\n",
       "      <td>clientGender_FEMALE</td>\n",
       "      <td>0</td>\n",
       "      <td>109666</td>\n",
       "      <td>31298</td>\n",
       "      <td>78368</td>\n",
       "      <td>0.285394</td>\n",
       "      <td>0.714606</td>\n",
       "      <td>0.706900</td>\n",
       "      <td>0.679564</td>\n",
       "      <td>0.039438</td>\n",
       "      <td>0.003516</td>\n",
       "    </tr>\n",
       "    <tr>\n",
       "      <th>9</th>\n",
       "      <td>clientGender_FEMALE</td>\n",
       "      <td>1</td>\n",
       "      <td>49930</td>\n",
       "      <td>12977</td>\n",
       "      <td>36953</td>\n",
       "      <td>0.259904</td>\n",
       "      <td>0.740096</td>\n",
       "      <td>0.293100</td>\n",
       "      <td>0.320436</td>\n",
       "      <td>-0.089169</td>\n",
       "      <td>0.003516</td>\n",
       "    </tr>\n",
       "    <tr>\n",
       "      <th>10</th>\n",
       "      <td>clientGender_MALE</td>\n",
       "      <td>0</td>\n",
       "      <td>49930</td>\n",
       "      <td>12977</td>\n",
       "      <td>36953</td>\n",
       "      <td>0.259904</td>\n",
       "      <td>0.740096</td>\n",
       "      <td>0.293100</td>\n",
       "      <td>0.320436</td>\n",
       "      <td>-0.089169</td>\n",
       "      <td>0.003516</td>\n",
       "    </tr>\n",
       "    <tr>\n",
       "      <th>11</th>\n",
       "      <td>clientGender_MALE</td>\n",
       "      <td>1</td>\n",
       "      <td>109666</td>\n",
       "      <td>31298</td>\n",
       "      <td>78368</td>\n",
       "      <td>0.285394</td>\n",
       "      <td>0.714606</td>\n",
       "      <td>0.706900</td>\n",
       "      <td>0.679564</td>\n",
       "      <td>0.039438</td>\n",
       "      <td>0.003516</td>\n",
       "    </tr>\n",
       "    <tr>\n",
       "      <th>12</th>\n",
       "      <td>clientIncome</td>\n",
       "      <td>(29.999, 35000.0]</td>\n",
       "      <td>57735</td>\n",
       "      <td>17711</td>\n",
       "      <td>40024</td>\n",
       "      <td>0.306764</td>\n",
       "      <td>0.693236</td>\n",
       "      <td>0.400023</td>\n",
       "      <td>0.347066</td>\n",
       "      <td>0.142006</td>\n",
       "      <td>0.012250</td>\n",
       "    </tr>\n",
       "    <tr>\n",
       "      <th>13</th>\n",
       "      <td>clientIncome</td>\n",
       "      <td>(35000.0, 87500.0]</td>\n",
       "      <td>49913</td>\n",
       "      <td>13213</td>\n",
       "      <td>36700</td>\n",
       "      <td>0.264721</td>\n",
       "      <td>0.735279</td>\n",
       "      <td>0.298430</td>\n",
       "      <td>0.318242</td>\n",
       "      <td>-0.064276</td>\n",
       "      <td>0.012250</td>\n",
       "    </tr>\n",
       "    <tr>\n",
       "      <th>14</th>\n",
       "      <td>clientIncome</td>\n",
       "      <td>(87500.0, 1989980.4]</td>\n",
       "      <td>51948</td>\n",
       "      <td>13351</td>\n",
       "      <td>38597</td>\n",
       "      <td>0.257007</td>\n",
       "      <td>0.742993</td>\n",
       "      <td>0.301547</td>\n",
       "      <td>0.334692</td>\n",
       "      <td>-0.104284</td>\n",
       "      <td>0.012250</td>\n",
       "    </tr>\n",
       "    <tr>\n",
       "      <th>15</th>\n",
       "      <td>clientLoanPurpose_business</td>\n",
       "      <td>0</td>\n",
       "      <td>80620</td>\n",
       "      <td>19738</td>\n",
       "      <td>60882</td>\n",
       "      <td>0.244828</td>\n",
       "      <td>0.755172</td>\n",
       "      <td>0.445805</td>\n",
       "      <td>0.527935</td>\n",
       "      <td>-0.169092</td>\n",
       "      <td>0.027061</td>\n",
       "    </tr>\n",
       "    <tr>\n",
       "      <th>16</th>\n",
       "      <td>clientLoanPurpose_business</td>\n",
       "      <td>1</td>\n",
       "      <td>78976</td>\n",
       "      <td>24537</td>\n",
       "      <td>54439</td>\n",
       "      <td>0.310689</td>\n",
       "      <td>0.689311</td>\n",
       "      <td>0.554195</td>\n",
       "      <td>0.472065</td>\n",
       "      <td>0.160401</td>\n",
       "      <td>0.027061</td>\n",
       "    </tr>\n",
       "    <tr>\n",
       "      <th>17</th>\n",
       "      <td>clientLoanPurpose_education</td>\n",
       "      <td>0</td>\n",
       "      <td>143859</td>\n",
       "      <td>40266</td>\n",
       "      <td>103593</td>\n",
       "      <td>0.279899</td>\n",
       "      <td>0.720101</td>\n",
       "      <td>0.909452</td>\n",
       "      <td>0.898301</td>\n",
       "      <td>0.012337</td>\n",
       "      <td>0.001433</td>\n",
       "    </tr>\n",
       "    <tr>\n",
       "      <th>18</th>\n",
       "      <td>clientLoanPurpose_education</td>\n",
       "      <td>1</td>\n",
       "      <td>15737</td>\n",
       "      <td>4009</td>\n",
       "      <td>11728</td>\n",
       "      <td>0.254750</td>\n",
       "      <td>0.745250</td>\n",
       "      <td>0.090548</td>\n",
       "      <td>0.101699</td>\n",
       "      <td>-0.116138</td>\n",
       "      <td>0.001433</td>\n",
       "    </tr>\n",
       "    <tr>\n",
       "      <th>19</th>\n",
       "      <td>clientLoanPurpose_house</td>\n",
       "      <td>0</td>\n",
       "      <td>137356</td>\n",
       "      <td>39105</td>\n",
       "      <td>98251</td>\n",
       "      <td>0.284698</td>\n",
       "      <td>0.715302</td>\n",
       "      <td>0.883230</td>\n",
       "      <td>0.851978</td>\n",
       "      <td>0.036024</td>\n",
       "      <td>0.008537</td>\n",
       "    </tr>\n",
       "    <tr>\n",
       "      <th>20</th>\n",
       "      <td>clientLoanPurpose_house</td>\n",
       "      <td>1</td>\n",
       "      <td>22240</td>\n",
       "      <td>5170</td>\n",
       "      <td>17070</td>\n",
       "      <td>0.232464</td>\n",
       "      <td>0.767536</td>\n",
       "      <td>0.116770</td>\n",
       "      <td>0.148022</td>\n",
       "      <td>-0.237150</td>\n",
       "      <td>0.008537</td>\n",
       "    </tr>\n",
       "    <tr>\n",
       "      <th>21</th>\n",
       "      <td>clientLoanPurpose_medical</td>\n",
       "      <td>0</td>\n",
       "      <td>148507</td>\n",
       "      <td>41043</td>\n",
       "      <td>107464</td>\n",
       "      <td>0.276371</td>\n",
       "      <td>0.723629</td>\n",
       "      <td>0.927002</td>\n",
       "      <td>0.931868</td>\n",
       "      <td>-0.005236</td>\n",
       "      <td>0.000361</td>\n",
       "    </tr>\n",
       "    <tr>\n",
       "      <th>22</th>\n",
       "      <td>clientLoanPurpose_medical</td>\n",
       "      <td>1</td>\n",
       "      <td>11089</td>\n",
       "      <td>3232</td>\n",
       "      <td>7857</td>\n",
       "      <td>0.291460</td>\n",
       "      <td>0.708540</td>\n",
       "      <td>0.072998</td>\n",
       "      <td>0.068132</td>\n",
       "      <td>0.068996</td>\n",
       "      <td>0.000361</td>\n",
       "    </tr>\n",
       "    <tr>\n",
       "      <th>23</th>\n",
       "      <td>clientLoanPurpose_other</td>\n",
       "      <td>0</td>\n",
       "      <td>128042</td>\n",
       "      <td>36948</td>\n",
       "      <td>91094</td>\n",
       "      <td>0.288562</td>\n",
       "      <td>0.711438</td>\n",
       "      <td>0.834512</td>\n",
       "      <td>0.789917</td>\n",
       "      <td>0.054919</td>\n",
       "      <td>0.013089</td>\n",
       "    </tr>\n",
       "    <tr>\n",
       "      <th>24</th>\n",
       "      <td>clientLoanPurpose_other</td>\n",
       "      <td>1</td>\n",
       "      <td>31554</td>\n",
       "      <td>7327</td>\n",
       "      <td>24227</td>\n",
       "      <td>0.232205</td>\n",
       "      <td>0.767795</td>\n",
       "      <td>0.165488</td>\n",
       "      <td>0.210083</td>\n",
       "      <td>-0.238602</td>\n",
       "      <td>0.013089</td>\n",
       "    </tr>\n",
       "    <tr>\n",
       "      <th>25</th>\n",
       "      <td>clientMaritalStatus_Married</td>\n",
       "      <td>0</td>\n",
       "      <td>74098</td>\n",
       "      <td>21355</td>\n",
       "      <td>52743</td>\n",
       "      <td>0.288199</td>\n",
       "      <td>0.711801</td>\n",
       "      <td>0.482326</td>\n",
       "      <td>0.457358</td>\n",
       "      <td>0.053154</td>\n",
       "      <td>0.002503</td>\n",
       "    </tr>\n",
       "    <tr>\n",
       "      <th>26</th>\n",
       "      <td>clientMaritalStatus_Married</td>\n",
       "      <td>1</td>\n",
       "      <td>85498</td>\n",
       "      <td>22920</td>\n",
       "      <td>62578</td>\n",
       "      <td>0.268076</td>\n",
       "      <td>0.731924</td>\n",
       "      <td>0.517674</td>\n",
       "      <td>0.542642</td>\n",
       "      <td>-0.047105</td>\n",
       "      <td>0.002503</td>\n",
       "    </tr>\n",
       "    <tr>\n",
       "      <th>27</th>\n",
       "      <td>clientMaritalStatus_Separated</td>\n",
       "      <td>0</td>\n",
       "      <td>156859</td>\n",
       "      <td>43583</td>\n",
       "      <td>113276</td>\n",
       "      <td>0.277848</td>\n",
       "      <td>0.722152</td>\n",
       "      <td>0.984370</td>\n",
       "      <td>0.982267</td>\n",
       "      <td>0.002139</td>\n",
       "      <td>0.000270</td>\n",
       "    </tr>\n",
       "    <tr>\n",
       "      <th>28</th>\n",
       "      <td>clientMaritalStatus_Separated</td>\n",
       "      <td>1</td>\n",
       "      <td>2737</td>\n",
       "      <td>692</td>\n",
       "      <td>2045</td>\n",
       "      <td>0.252832</td>\n",
       "      <td>0.747168</td>\n",
       "      <td>0.015630</td>\n",
       "      <td>0.017733</td>\n",
       "      <td>-0.126268</td>\n",
       "      <td>0.000270</td>\n",
       "    </tr>\n",
       "    <tr>\n",
       "      <th>29</th>\n",
       "      <td>clientMaritalStatus_Single</td>\n",
       "      <td>0</td>\n",
       "      <td>88235</td>\n",
       "      <td>23612</td>\n",
       "      <td>64623</td>\n",
       "      <td>0.267604</td>\n",
       "      <td>0.732396</td>\n",
       "      <td>0.533303</td>\n",
       "      <td>0.560375</td>\n",
       "      <td>-0.049516</td>\n",
       "      <td>0.002958</td>\n",
       "    </tr>\n",
       "    <tr>\n",
       "      <th>30</th>\n",
       "      <td>clientMaritalStatus_Single</td>\n",
       "      <td>1</td>\n",
       "      <td>71361</td>\n",
       "      <td>20663</td>\n",
       "      <td>50698</td>\n",
       "      <td>0.289556</td>\n",
       "      <td>0.710444</td>\n",
       "      <td>0.466697</td>\n",
       "      <td>0.439625</td>\n",
       "      <td>0.059758</td>\n",
       "      <td>0.002958</td>\n",
       "    </tr>\n",
       "    <tr>\n",
       "      <th>31</th>\n",
       "      <td>clientNumberPhoneContacts</td>\n",
       "      <td>(-0.001, 554.0]</td>\n",
       "      <td>53264</td>\n",
       "      <td>15813</td>\n",
       "      <td>37451</td>\n",
       "      <td>0.296880</td>\n",
       "      <td>0.703120</td>\n",
       "      <td>0.357154</td>\n",
       "      <td>0.324754</td>\n",
       "      <td>0.095098</td>\n",
       "      <td>0.006393</td>\n",
       "    </tr>\n",
       "    <tr>\n",
       "      <th>32</th>\n",
       "      <td>clientNumberPhoneContacts</td>\n",
       "      <td>(554.0, 1220.0]</td>\n",
       "      <td>53147</td>\n",
       "      <td>14758</td>\n",
       "      <td>38389</td>\n",
       "      <td>0.277683</td>\n",
       "      <td>0.722317</td>\n",
       "      <td>0.333326</td>\n",
       "      <td>0.332888</td>\n",
       "      <td>0.001314</td>\n",
       "      <td>0.006393</td>\n",
       "    </tr>\n",
       "    <tr>\n",
       "      <th>33</th>\n",
       "      <td>clientNumberPhoneContacts</td>\n",
       "      <td>(1220.0, 60595.0]</td>\n",
       "      <td>53185</td>\n",
       "      <td>13704</td>\n",
       "      <td>39481</td>\n",
       "      <td>0.257667</td>\n",
       "      <td>0.742333</td>\n",
       "      <td>0.309520</td>\n",
       "      <td>0.342357</td>\n",
       "      <td>-0.100832</td>\n",
       "      <td>0.006393</td>\n",
       "    </tr>\n",
       "    <tr>\n",
       "      <th>34</th>\n",
       "      <td>clientResidentialStatus_Own</td>\n",
       "      <td>0</td>\n",
       "      <td>107522</td>\n",
       "      <td>29642</td>\n",
       "      <td>77880</td>\n",
       "      <td>0.275683</td>\n",
       "      <td>0.724317</td>\n",
       "      <td>0.669497</td>\n",
       "      <td>0.675332</td>\n",
       "      <td>-0.008678</td>\n",
       "      <td>0.000155</td>\n",
       "    </tr>\n",
       "    <tr>\n",
       "      <th>35</th>\n",
       "      <td>clientResidentialStatus_Own</td>\n",
       "      <td>1</td>\n",
       "      <td>52074</td>\n",
       "      <td>14633</td>\n",
       "      <td>37441</td>\n",
       "      <td>0.281004</td>\n",
       "      <td>0.718996</td>\n",
       "      <td>0.330503</td>\n",
       "      <td>0.324668</td>\n",
       "      <td>0.017812</td>\n",
       "      <td>0.000155</td>\n",
       "    </tr>\n",
       "    <tr>\n",
       "      <th>36</th>\n",
       "      <td>clientResidentialStatus_Rented</td>\n",
       "      <td>0</td>\n",
       "      <td>52074</td>\n",
       "      <td>14633</td>\n",
       "      <td>37441</td>\n",
       "      <td>0.281004</td>\n",
       "      <td>0.718996</td>\n",
       "      <td>0.330503</td>\n",
       "      <td>0.324668</td>\n",
       "      <td>0.017812</td>\n",
       "      <td>0.000155</td>\n",
       "    </tr>\n",
       "    <tr>\n",
       "      <th>37</th>\n",
       "      <td>clientResidentialStatus_Rented</td>\n",
       "      <td>1</td>\n",
       "      <td>107522</td>\n",
       "      <td>29642</td>\n",
       "      <td>77880</td>\n",
       "      <td>0.275683</td>\n",
       "      <td>0.724317</td>\n",
       "      <td>0.669497</td>\n",
       "      <td>0.675332</td>\n",
       "      <td>-0.008678</td>\n",
       "      <td>0.000155</td>\n",
       "    </tr>\n",
       "    <tr>\n",
       "      <th>38</th>\n",
       "      <td>clientState_NOC</td>\n",
       "      <td>0</td>\n",
       "      <td>124095</td>\n",
       "      <td>34377</td>\n",
       "      <td>89718</td>\n",
       "      <td>0.277022</td>\n",
       "      <td>0.722978</td>\n",
       "      <td>0.776443</td>\n",
       "      <td>0.777985</td>\n",
       "      <td>-0.001984</td>\n",
       "      <td>0.000014</td>\n",
       "    </tr>\n",
       "    <tr>\n",
       "      <th>39</th>\n",
       "      <td>clientState_NOC</td>\n",
       "      <td>1</td>\n",
       "      <td>35501</td>\n",
       "      <td>9898</td>\n",
       "      <td>25603</td>\n",
       "      <td>0.278809</td>\n",
       "      <td>0.721191</td>\n",
       "      <td>0.223557</td>\n",
       "      <td>0.222015</td>\n",
       "      <td>0.006923</td>\n",
       "      <td>0.000014</td>\n",
       "    </tr>\n",
       "    <tr>\n",
       "      <th>40</th>\n",
       "      <td>clientState_SE</td>\n",
       "      <td>0</td>\n",
       "      <td>153429</td>\n",
       "      <td>42449</td>\n",
       "      <td>110980</td>\n",
       "      <td>0.276669</td>\n",
       "      <td>0.723331</td>\n",
       "      <td>0.958758</td>\n",
       "      <td>0.962357</td>\n",
       "      <td>-0.003747</td>\n",
       "      <td>0.000342</td>\n",
       "    </tr>\n",
       "    <tr>\n",
       "      <th>41</th>\n",
       "      <td>clientState_SE</td>\n",
       "      <td>1</td>\n",
       "      <td>6167</td>\n",
       "      <td>1826</td>\n",
       "      <td>4341</td>\n",
       "      <td>0.296092</td>\n",
       "      <td>0.703908</td>\n",
       "      <td>0.041242</td>\n",
       "      <td>0.037643</td>\n",
       "      <td>0.091322</td>\n",
       "      <td>0.000342</td>\n",
       "    </tr>\n",
       "    <tr>\n",
       "      <th>42</th>\n",
       "      <td>clientState_SS</td>\n",
       "      <td>0</td>\n",
       "      <td>139276</td>\n",
       "      <td>38727</td>\n",
       "      <td>100549</td>\n",
       "      <td>0.278059</td>\n",
       "      <td>0.721941</td>\n",
       "      <td>0.874692</td>\n",
       "      <td>0.871905</td>\n",
       "      <td>0.003191</td>\n",
       "      <td>0.000070</td>\n",
       "    </tr>\n",
       "    <tr>\n",
       "      <th>43</th>\n",
       "      <td>clientState_SS</td>\n",
       "      <td>1</td>\n",
       "      <td>20320</td>\n",
       "      <td>5548</td>\n",
       "      <td>14772</td>\n",
       "      <td>0.273031</td>\n",
       "      <td>0.726969</td>\n",
       "      <td>0.125308</td>\n",
       "      <td>0.128095</td>\n",
       "      <td>-0.021997</td>\n",
       "      <td>0.000070</td>\n",
       "    </tr>\n",
       "    <tr>\n",
       "      <th>44</th>\n",
       "      <td>clientState_SW</td>\n",
       "      <td>0</td>\n",
       "      <td>61988</td>\n",
       "      <td>17272</td>\n",
       "      <td>44716</td>\n",
       "      <td>0.278635</td>\n",
       "      <td>0.721365</td>\n",
       "      <td>0.390107</td>\n",
       "      <td>0.387752</td>\n",
       "      <td>0.006055</td>\n",
       "      <td>0.000023</td>\n",
       "    </tr>\n",
       "    <tr>\n",
       "      <th>45</th>\n",
       "      <td>clientState_SW</td>\n",
       "      <td>1</td>\n",
       "      <td>97608</td>\n",
       "      <td>27003</td>\n",
       "      <td>70605</td>\n",
       "      <td>0.276647</td>\n",
       "      <td>0.723353</td>\n",
       "      <td>0.609893</td>\n",
       "      <td>0.612248</td>\n",
       "      <td>-0.003854</td>\n",
       "      <td>0.000023</td>\n",
       "    </tr>\n",
       "    <tr>\n",
       "      <th>46</th>\n",
       "      <td>loanAmount</td>\n",
       "      <td>(10999.999, 24000.0]</td>\n",
       "      <td>53284</td>\n",
       "      <td>15685</td>\n",
       "      <td>37599</td>\n",
       "      <td>0.294366</td>\n",
       "      <td>0.705634</td>\n",
       "      <td>0.354263</td>\n",
       "      <td>0.326038</td>\n",
       "      <td>0.083027</td>\n",
       "      <td>0.003553</td>\n",
       "    </tr>\n",
       "    <tr>\n",
       "      <th>47</th>\n",
       "      <td>loanAmount</td>\n",
       "      <td>(24000.0, 34500.0]</td>\n",
       "      <td>56018</td>\n",
       "      <td>15047</td>\n",
       "      <td>40971</td>\n",
       "      <td>0.268610</td>\n",
       "      <td>0.731390</td>\n",
       "      <td>0.339853</td>\n",
       "      <td>0.355278</td>\n",
       "      <td>-0.044387</td>\n",
       "      <td>0.003553</td>\n",
       "    </tr>\n",
       "    <tr>\n",
       "      <th>48</th>\n",
       "      <td>loanAmount</td>\n",
       "      <td>(34500.0, 500000.0]</td>\n",
       "      <td>50294</td>\n",
       "      <td>13543</td>\n",
       "      <td>36751</td>\n",
       "      <td>0.269277</td>\n",
       "      <td>0.730723</td>\n",
       "      <td>0.305884</td>\n",
       "      <td>0.318684</td>\n",
       "      <td>-0.040996</td>\n",
       "      <td>0.003553</td>\n",
       "    </tr>\n",
       "  </tbody>\n",
       "</table>\n",
       "</div>"
      ],
      "text/plain": [
       "                     Variable_Name              Category   Count  Event  \\\n",
       "0                    YearsEmployed       (-0.001, 2.083]   53295  14654   \n",
       "1                    YearsEmployed        (2.083, 3.333]  106301  29621   \n",
       "2                        clientAge        (17.999, 30.0]   57829  17771   \n",
       "3                        clientAge          (30.0, 36.0]   51688  13541   \n",
       "4                        clientAge          (36.0, 60.0]   50079  12963   \n",
       "5             clientAvgCallsPerDay      (-0.001, 15.447]   53199  15738   \n",
       "6             clientAvgCallsPerDay      (15.447, 50.929]   53198  14735   \n",
       "7             clientAvgCallsPerDay    (50.929, 3429.702]   53199  13802   \n",
       "8              clientGender_FEMALE                     0  109666  31298   \n",
       "9              clientGender_FEMALE                     1   49930  12977   \n",
       "10               clientGender_MALE                     0   49930  12977   \n",
       "11               clientGender_MALE                     1  109666  31298   \n",
       "12                    clientIncome     (29.999, 35000.0]   57735  17711   \n",
       "13                    clientIncome    (35000.0, 87500.0]   49913  13213   \n",
       "14                    clientIncome  (87500.0, 1989980.4]   51948  13351   \n",
       "15      clientLoanPurpose_business                     0   80620  19738   \n",
       "16      clientLoanPurpose_business                     1   78976  24537   \n",
       "17     clientLoanPurpose_education                     0  143859  40266   \n",
       "18     clientLoanPurpose_education                     1   15737   4009   \n",
       "19         clientLoanPurpose_house                     0  137356  39105   \n",
       "20         clientLoanPurpose_house                     1   22240   5170   \n",
       "21       clientLoanPurpose_medical                     0  148507  41043   \n",
       "22       clientLoanPurpose_medical                     1   11089   3232   \n",
       "23         clientLoanPurpose_other                     0  128042  36948   \n",
       "24         clientLoanPurpose_other                     1   31554   7327   \n",
       "25     clientMaritalStatus_Married                     0   74098  21355   \n",
       "26     clientMaritalStatus_Married                     1   85498  22920   \n",
       "27   clientMaritalStatus_Separated                     0  156859  43583   \n",
       "28   clientMaritalStatus_Separated                     1    2737    692   \n",
       "29      clientMaritalStatus_Single                     0   88235  23612   \n",
       "30      clientMaritalStatus_Single                     1   71361  20663   \n",
       "31       clientNumberPhoneContacts       (-0.001, 554.0]   53264  15813   \n",
       "32       clientNumberPhoneContacts       (554.0, 1220.0]   53147  14758   \n",
       "33       clientNumberPhoneContacts     (1220.0, 60595.0]   53185  13704   \n",
       "34     clientResidentialStatus_Own                     0  107522  29642   \n",
       "35     clientResidentialStatus_Own                     1   52074  14633   \n",
       "36  clientResidentialStatus_Rented                     0   52074  14633   \n",
       "37  clientResidentialStatus_Rented                     1  107522  29642   \n",
       "38                 clientState_NOC                     0  124095  34377   \n",
       "39                 clientState_NOC                     1   35501   9898   \n",
       "40                  clientState_SE                     0  153429  42449   \n",
       "41                  clientState_SE                     1    6167   1826   \n",
       "42                  clientState_SS                     0  139276  38727   \n",
       "43                  clientState_SS                     1   20320   5548   \n",
       "44                  clientState_SW                     0   61988  17272   \n",
       "45                  clientState_SW                     1   97608  27003   \n",
       "46                      loanAmount  (10999.999, 24000.0]   53284  15685   \n",
       "47                      loanAmount    (24000.0, 34500.0]   56018  15047   \n",
       "48                      loanAmount   (34500.0, 500000.0]   50294  13543   \n",
       "\n",
       "    Non_Event  Event_Rate  Non_Event_Rate  Event_Distribution  \\\n",
       "0       38641    0.274960        0.725040            0.330977   \n",
       "1       76680    0.278652        0.721348            0.669023   \n",
       "2       40058    0.307303        0.692697            0.401378   \n",
       "3       38147    0.261976        0.738024            0.305839   \n",
       "4       37116    0.258851        0.741149            0.292784   \n",
       "5       37461    0.295833        0.704167            0.355460   \n",
       "6       38463    0.276984        0.723016            0.332806   \n",
       "7       39397    0.259441        0.740559            0.311733   \n",
       "8       78368    0.285394        0.714606            0.706900   \n",
       "9       36953    0.259904        0.740096            0.293100   \n",
       "10      36953    0.259904        0.740096            0.293100   \n",
       "11      78368    0.285394        0.714606            0.706900   \n",
       "12      40024    0.306764        0.693236            0.400023   \n",
       "13      36700    0.264721        0.735279            0.298430   \n",
       "14      38597    0.257007        0.742993            0.301547   \n",
       "15      60882    0.244828        0.755172            0.445805   \n",
       "16      54439    0.310689        0.689311            0.554195   \n",
       "17     103593    0.279899        0.720101            0.909452   \n",
       "18      11728    0.254750        0.745250            0.090548   \n",
       "19      98251    0.284698        0.715302            0.883230   \n",
       "20      17070    0.232464        0.767536            0.116770   \n",
       "21     107464    0.276371        0.723629            0.927002   \n",
       "22       7857    0.291460        0.708540            0.072998   \n",
       "23      91094    0.288562        0.711438            0.834512   \n",
       "24      24227    0.232205        0.767795            0.165488   \n",
       "25      52743    0.288199        0.711801            0.482326   \n",
       "26      62578    0.268076        0.731924            0.517674   \n",
       "27     113276    0.277848        0.722152            0.984370   \n",
       "28       2045    0.252832        0.747168            0.015630   \n",
       "29      64623    0.267604        0.732396            0.533303   \n",
       "30      50698    0.289556        0.710444            0.466697   \n",
       "31      37451    0.296880        0.703120            0.357154   \n",
       "32      38389    0.277683        0.722317            0.333326   \n",
       "33      39481    0.257667        0.742333            0.309520   \n",
       "34      77880    0.275683        0.724317            0.669497   \n",
       "35      37441    0.281004        0.718996            0.330503   \n",
       "36      37441    0.281004        0.718996            0.330503   \n",
       "37      77880    0.275683        0.724317            0.669497   \n",
       "38      89718    0.277022        0.722978            0.776443   \n",
       "39      25603    0.278809        0.721191            0.223557   \n",
       "40     110980    0.276669        0.723331            0.958758   \n",
       "41       4341    0.296092        0.703908            0.041242   \n",
       "42     100549    0.278059        0.721941            0.874692   \n",
       "43      14772    0.273031        0.726969            0.125308   \n",
       "44      44716    0.278635        0.721365            0.390107   \n",
       "45      70605    0.276647        0.723353            0.609893   \n",
       "46      37599    0.294366        0.705634            0.354263   \n",
       "47      40971    0.268610        0.731390            0.339853   \n",
       "48      36751    0.269277        0.730723            0.305884   \n",
       "\n",
       "    Non_Event_Distribution       WOE  Information_Value  \n",
       "0                 0.335073 -0.012301           0.000076  \n",
       "1                 0.664927  0.006142           0.000076  \n",
       "2                 0.347361  0.144539           0.012515  \n",
       "3                 0.330790 -0.078426           0.012515  \n",
       "4                 0.321849 -0.094650           0.012515  \n",
       "5                 0.324841  0.090077           0.005497  \n",
       "6                 0.333530 -0.002172           0.005497  \n",
       "7                 0.341629 -0.091577           0.005497  \n",
       "8                 0.679564  0.039438           0.003516  \n",
       "9                 0.320436 -0.089169           0.003516  \n",
       "10                0.320436 -0.089169           0.003516  \n",
       "11                0.679564  0.039438           0.003516  \n",
       "12                0.347066  0.142006           0.012250  \n",
       "13                0.318242 -0.064276           0.012250  \n",
       "14                0.334692 -0.104284           0.012250  \n",
       "15                0.527935 -0.169092           0.027061  \n",
       "16                0.472065  0.160401           0.027061  \n",
       "17                0.898301  0.012337           0.001433  \n",
       "18                0.101699 -0.116138           0.001433  \n",
       "19                0.851978  0.036024           0.008537  \n",
       "20                0.148022 -0.237150           0.008537  \n",
       "21                0.931868 -0.005236           0.000361  \n",
       "22                0.068132  0.068996           0.000361  \n",
       "23                0.789917  0.054919           0.013089  \n",
       "24                0.210083 -0.238602           0.013089  \n",
       "25                0.457358  0.053154           0.002503  \n",
       "26                0.542642 -0.047105           0.002503  \n",
       "27                0.982267  0.002139           0.000270  \n",
       "28                0.017733 -0.126268           0.000270  \n",
       "29                0.560375 -0.049516           0.002958  \n",
       "30                0.439625  0.059758           0.002958  \n",
       "31                0.324754  0.095098           0.006393  \n",
       "32                0.332888  0.001314           0.006393  \n",
       "33                0.342357 -0.100832           0.006393  \n",
       "34                0.675332 -0.008678           0.000155  \n",
       "35                0.324668  0.017812           0.000155  \n",
       "36                0.324668  0.017812           0.000155  \n",
       "37                0.675332 -0.008678           0.000155  \n",
       "38                0.777985 -0.001984           0.000014  \n",
       "39                0.222015  0.006923           0.000014  \n",
       "40                0.962357 -0.003747           0.000342  \n",
       "41                0.037643  0.091322           0.000342  \n",
       "42                0.871905  0.003191           0.000070  \n",
       "43                0.128095 -0.021997           0.000070  \n",
       "44                0.387752  0.006055           0.000023  \n",
       "45                0.612248 -0.003854           0.000023  \n",
       "46                0.326038  0.083027           0.003553  \n",
       "47                0.355278 -0.044387           0.003553  \n",
       "48                0.318684 -0.040996           0.003553  "
      ]
     },
     "execution_count": 131,
     "metadata": {},
     "output_type": "execute_result"
    }
   ],
   "source": [
    "woe_output = clf.woe_df\n",
    "woe_output"
   ]
  },
  {
   "cell_type": "code",
   "execution_count": 132,
   "metadata": {},
   "outputs": [
    {
     "data": {
      "text/html": [
       "<div>\n",
       "<style scoped>\n",
       "    .dataframe tbody tr th:only-of-type {\n",
       "        vertical-align: middle;\n",
       "    }\n",
       "\n",
       "    .dataframe tbody tr th {\n",
       "        vertical-align: top;\n",
       "    }\n",
       "\n",
       "    .dataframe thead th {\n",
       "        text-align: right;\n",
       "    }\n",
       "</style>\n",
       "<table border=\"1\" class=\"dataframe\">\n",
       "  <thead>\n",
       "    <tr style=\"text-align: right;\">\n",
       "      <th></th>\n",
       "      <th>Variable_Name</th>\n",
       "      <th>Information_Value</th>\n",
       "    </tr>\n",
       "  </thead>\n",
       "  <tbody>\n",
       "    <tr>\n",
       "      <th>6</th>\n",
       "      <td>clientLoanPurpose_business</td>\n",
       "      <td>0.027061</td>\n",
       "    </tr>\n",
       "    <tr>\n",
       "      <th>10</th>\n",
       "      <td>clientLoanPurpose_other</td>\n",
       "      <td>0.013089</td>\n",
       "    </tr>\n",
       "    <tr>\n",
       "      <th>1</th>\n",
       "      <td>clientAge</td>\n",
       "      <td>0.012515</td>\n",
       "    </tr>\n",
       "    <tr>\n",
       "      <th>5</th>\n",
       "      <td>clientIncome</td>\n",
       "      <td>0.012250</td>\n",
       "    </tr>\n",
       "    <tr>\n",
       "      <th>8</th>\n",
       "      <td>clientLoanPurpose_house</td>\n",
       "      <td>0.008537</td>\n",
       "    </tr>\n",
       "    <tr>\n",
       "      <th>14</th>\n",
       "      <td>clientNumberPhoneContacts</td>\n",
       "      <td>0.006393</td>\n",
       "    </tr>\n",
       "    <tr>\n",
       "      <th>2</th>\n",
       "      <td>clientAvgCallsPerDay</td>\n",
       "      <td>0.005497</td>\n",
       "    </tr>\n",
       "    <tr>\n",
       "      <th>21</th>\n",
       "      <td>loanAmount</td>\n",
       "      <td>0.003553</td>\n",
       "    </tr>\n",
       "    <tr>\n",
       "      <th>3</th>\n",
       "      <td>clientGender_FEMALE</td>\n",
       "      <td>0.003516</td>\n",
       "    </tr>\n",
       "    <tr>\n",
       "      <th>4</th>\n",
       "      <td>clientGender_MALE</td>\n",
       "      <td>0.003516</td>\n",
       "    </tr>\n",
       "    <tr>\n",
       "      <th>13</th>\n",
       "      <td>clientMaritalStatus_Single</td>\n",
       "      <td>0.002958</td>\n",
       "    </tr>\n",
       "    <tr>\n",
       "      <th>11</th>\n",
       "      <td>clientMaritalStatus_Married</td>\n",
       "      <td>0.002503</td>\n",
       "    </tr>\n",
       "    <tr>\n",
       "      <th>7</th>\n",
       "      <td>clientLoanPurpose_education</td>\n",
       "      <td>0.001433</td>\n",
       "    </tr>\n",
       "    <tr>\n",
       "      <th>9</th>\n",
       "      <td>clientLoanPurpose_medical</td>\n",
       "      <td>0.000361</td>\n",
       "    </tr>\n",
       "    <tr>\n",
       "      <th>18</th>\n",
       "      <td>clientState_SE</td>\n",
       "      <td>0.000342</td>\n",
       "    </tr>\n",
       "    <tr>\n",
       "      <th>12</th>\n",
       "      <td>clientMaritalStatus_Separated</td>\n",
       "      <td>0.000270</td>\n",
       "    </tr>\n",
       "    <tr>\n",
       "      <th>15</th>\n",
       "      <td>clientResidentialStatus_Own</td>\n",
       "      <td>0.000155</td>\n",
       "    </tr>\n",
       "    <tr>\n",
       "      <th>16</th>\n",
       "      <td>clientResidentialStatus_Rented</td>\n",
       "      <td>0.000155</td>\n",
       "    </tr>\n",
       "    <tr>\n",
       "      <th>0</th>\n",
       "      <td>YearsEmployed</td>\n",
       "      <td>0.000076</td>\n",
       "    </tr>\n",
       "    <tr>\n",
       "      <th>19</th>\n",
       "      <td>clientState_SS</td>\n",
       "      <td>0.000070</td>\n",
       "    </tr>\n",
       "    <tr>\n",
       "      <th>20</th>\n",
       "      <td>clientState_SW</td>\n",
       "      <td>0.000023</td>\n",
       "    </tr>\n",
       "    <tr>\n",
       "      <th>17</th>\n",
       "      <td>clientState_NOC</td>\n",
       "      <td>0.000014</td>\n",
       "    </tr>\n",
       "  </tbody>\n",
       "</table>\n",
       "</div>"
      ],
      "text/plain": [
       "                     Variable_Name  Information_Value\n",
       "6       clientLoanPurpose_business           0.027061\n",
       "10         clientLoanPurpose_other           0.013089\n",
       "1                        clientAge           0.012515\n",
       "5                     clientIncome           0.012250\n",
       "8          clientLoanPurpose_house           0.008537\n",
       "14       clientNumberPhoneContacts           0.006393\n",
       "2             clientAvgCallsPerDay           0.005497\n",
       "21                      loanAmount           0.003553\n",
       "3              clientGender_FEMALE           0.003516\n",
       "4                clientGender_MALE           0.003516\n",
       "13      clientMaritalStatus_Single           0.002958\n",
       "11     clientMaritalStatus_Married           0.002503\n",
       "7      clientLoanPurpose_education           0.001433\n",
       "9        clientLoanPurpose_medical           0.000361\n",
       "18                  clientState_SE           0.000342\n",
       "12   clientMaritalStatus_Separated           0.000270\n",
       "15     clientResidentialStatus_Own           0.000155\n",
       "16  clientResidentialStatus_Rented           0.000155\n",
       "0                    YearsEmployed           0.000076\n",
       "19                  clientState_SS           0.000070\n",
       "20                  clientState_SW           0.000023\n",
       "17                 clientState_NOC           0.000014"
      ]
     },
     "execution_count": 132,
     "metadata": {},
     "output_type": "execute_result"
    }
   ],
   "source": [
    "clf.iv_df"
   ]
  },
  {
   "cell_type": "code",
   "execution_count": null,
   "metadata": {},
   "outputs": [],
   "source": []
  },
  {
   "cell_type": "markdown",
   "metadata": {},
   "source": [
    "Score = WOE X Estimation Coefficient\n",
    "\n",
    "OR\n",
    "\n",
    "Score = (B.WOE + a/n) X Factor + Offset/n"
   ]
  },
  {
   "cell_type": "code",
   "execution_count": null,
   "metadata": {},
   "outputs": [],
   "source": []
  }
 ],
 "metadata": {
  "kernelspec": {
   "display_name": "Python 3",
   "language": "python",
   "name": "python3"
  },
  "language_info": {
   "codemirror_mode": {
    "name": "ipython",
    "version": 3
   },
   "file_extension": ".py",
   "mimetype": "text/x-python",
   "name": "python",
   "nbconvert_exporter": "python",
   "pygments_lexer": "ipython3",
   "version": "3.6.4"
  }
 },
 "nbformat": 4,
 "nbformat_minor": 2
}
