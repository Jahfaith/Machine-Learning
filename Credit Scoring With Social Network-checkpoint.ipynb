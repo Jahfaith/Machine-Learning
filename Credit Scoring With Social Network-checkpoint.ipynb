{
 "cells": [
  {
   "cell_type": "code",
   "execution_count": 1,
   "metadata": {},
   "outputs": [],
   "source": [
    "import pandas as pd\n",
    "import numpy as np\n",
    "import matplotlib.pyplot as plt\n",
    "import seaborn as sns"
   ]
  },
  {
   "cell_type": "code",
   "execution_count": 2,
   "metadata": {},
   "outputs": [
    {
     "name": "stderr",
     "output_type": "stream",
     "text": [
      "C:\\Users\\JAHFAITH IROKANULO\\AppData\\Local\\Continuum\\anaconda3\\lib\\site-packages\\IPython\\core\\interactiveshell.py:2728: DtypeWarning: Columns (1,4,18) have mixed types. Specify dtype option on import or set low_memory=False.\n",
      "  interactivity=interactivity, compiler=compiler, result=result)\n"
     ]
    },
    {
     "data": {
      "text/html": [
       "<div>\n",
       "<style scoped>\n",
       "    .dataframe tbody tr th:only-of-type {\n",
       "        vertical-align: middle;\n",
       "    }\n",
       "\n",
       "    .dataframe tbody tr th {\n",
       "        vertical-align: top;\n",
       "    }\n",
       "\n",
       "    .dataframe thead th {\n",
       "        text-align: right;\n",
       "    }\n",
       "</style>\n",
       "<table border=\"1\" class=\"dataframe\">\n",
       "  <thead>\n",
       "    <tr style=\"text-align: right;\">\n",
       "      <th></th>\n",
       "      <th>Unnamed: 0</th>\n",
       "      <th>loanId</th>\n",
       "      <th>clientId</th>\n",
       "      <th>clientIncome</th>\n",
       "      <th>incomeVerified</th>\n",
       "      <th>clientAge</th>\n",
       "      <th>clientGender</th>\n",
       "      <th>clientMaritalStatus</th>\n",
       "      <th>clientLoanPurpose</th>\n",
       "      <th>clientResidentialStatus</th>\n",
       "      <th>...</th>\n",
       "      <th>interestRate</th>\n",
       "      <th>loanTerm</th>\n",
       "      <th>max_amount_taken</th>\n",
       "      <th>max_tenor_taken</th>\n",
       "      <th>repaidDate</th>\n",
       "      <th>FirstPaymentDueDate</th>\n",
       "      <th>settleDays</th>\n",
       "      <th>paymentRatio</th>\n",
       "      <th>firstPaymentDefault</th>\n",
       "      <th>loanDefault</th>\n",
       "    </tr>\n",
       "  </thead>\n",
       "  <tbody>\n",
       "    <tr>\n",
       "      <th>0</th>\n",
       "      <td>0</td>\n",
       "      <td>PP99804128</td>\n",
       "      <td>676059506</td>\n",
       "      <td>66452.66</td>\n",
       "      <td>True</td>\n",
       "      <td>38</td>\n",
       "      <td>MALE</td>\n",
       "      <td>Married</td>\n",
       "      <td>education</td>\n",
       "      <td>Employer Provided</td>\n",
       "      <td>...</td>\n",
       "      <td>6.0</td>\n",
       "      <td>90</td>\n",
       "      <td>1</td>\n",
       "      <td>1</td>\n",
       "      <td>5/26/2018 1:31</td>\n",
       "      <td>6/4/2018 12:00</td>\n",
       "      <td>-9</td>\n",
       "      <td>0.0</td>\n",
       "      <td>0</td>\n",
       "      <td>0</td>\n",
       "    </tr>\n",
       "    <tr>\n",
       "      <th>1</th>\n",
       "      <td>1</td>\n",
       "      <td>PP99781446</td>\n",
       "      <td>704436304</td>\n",
       "      <td>35000.00</td>\n",
       "      <td>True</td>\n",
       "      <td>35</td>\n",
       "      <td>MALE</td>\n",
       "      <td>Single</td>\n",
       "      <td>other</td>\n",
       "      <td>Rented</td>\n",
       "      <td>...</td>\n",
       "      <td>6.0</td>\n",
       "      <td>90</td>\n",
       "      <td>0</td>\n",
       "      <td>1</td>\n",
       "      <td>6/11/2018 10:41</td>\n",
       "      <td>6/5/2018 12:00</td>\n",
       "      <td>6</td>\n",
       "      <td>0.0</td>\n",
       "      <td>0</td>\n",
       "      <td>0</td>\n",
       "    </tr>\n",
       "    <tr>\n",
       "      <th>2</th>\n",
       "      <td>2</td>\n",
       "      <td>PP99274960</td>\n",
       "      <td>487954787</td>\n",
       "      <td>162851.11</td>\n",
       "      <td>True</td>\n",
       "      <td>47</td>\n",
       "      <td>FEMALE</td>\n",
       "      <td>Married</td>\n",
       "      <td>education</td>\n",
       "      <td>Own Residence</td>\n",
       "      <td>...</td>\n",
       "      <td>6.0</td>\n",
       "      <td>90</td>\n",
       "      <td>0</td>\n",
       "      <td>1</td>\n",
       "      <td>6/27/2018 11:19</td>\n",
       "      <td>6/4/2018 12:00</td>\n",
       "      <td>23</td>\n",
       "      <td>0.0</td>\n",
       "      <td>1</td>\n",
       "      <td>0</td>\n",
       "    </tr>\n",
       "  </tbody>\n",
       "</table>\n",
       "<p>3 rows × 34 columns</p>\n",
       "</div>"
      ],
      "text/plain": [
       "   Unnamed: 0      loanId   clientId  clientIncome incomeVerified  clientAge  \\\n",
       "0           0  PP99804128  676059506      66452.66           True         38   \n",
       "1           1  PP99781446  704436304      35000.00           True         35   \n",
       "2           2  PP99274960  487954787     162851.11           True         47   \n",
       "\n",
       "  clientGender clientMaritalStatus clientLoanPurpose clientResidentialStatus  \\\n",
       "0         MALE             Married         education       Employer Provided   \n",
       "1         MALE              Single             other                  Rented   \n",
       "2       FEMALE             Married         education           Own Residence   \n",
       "\n",
       "      ...     interestRate loanTerm  max_amount_taken  max_tenor_taken  \\\n",
       "0     ...              6.0       90                 1                1   \n",
       "1     ...              6.0       90                 0                1   \n",
       "2     ...              6.0       90                 0                1   \n",
       "\n",
       "        repaidDate  FirstPaymentDueDate settleDays paymentRatio  \\\n",
       "0   5/26/2018 1:31       6/4/2018 12:00         -9          0.0   \n",
       "1  6/11/2018 10:41       6/5/2018 12:00          6          0.0   \n",
       "2  6/27/2018 11:19       6/4/2018 12:00         23          0.0   \n",
       "\n",
       "  firstPaymentDefault loanDefault  \n",
       "0                   0           0  \n",
       "1                   0           0  \n",
       "2                   1           0  \n",
       "\n",
       "[3 rows x 34 columns]"
      ]
     },
     "execution_count": 2,
     "metadata": {},
     "output_type": "execute_result"
    }
   ],
   "source": [
    "data = pd.read_csv('C:\\\\Users\\\\JAHFAITH IROKANULO\\\\Desktop\\\\cleaned_loans.csv')\n",
    "data.head(3)"
   ]
  },
  {
   "cell_type": "code",
   "execution_count": 3,
   "metadata": {},
   "outputs": [
    {
     "data": {
      "text/plain": [
       "False    133286\n",
       "True      26207\n",
       "Name: incomeVerified, dtype: int64"
      ]
     },
     "execution_count": 3,
     "metadata": {},
     "output_type": "execute_result"
    }
   ],
   "source": [
    "data['incomeVerified'].value_counts()"
   ]
  },
  {
   "cell_type": "code",
   "execution_count": 4,
   "metadata": {},
   "outputs": [
    {
     "data": {
      "text/plain": [
       "incomeVerified  loanDefault\n",
       "False           0              94969\n",
       "                1              38317\n",
       "True            0              20261\n",
       "                1               5946\n",
       "Name: loanDefault, dtype: int64"
      ]
     },
     "execution_count": 4,
     "metadata": {},
     "output_type": "execute_result"
    }
   ],
   "source": [
    "# Grouping Verified Income by Default rate.\n",
    "verified_grp = data.groupby(['incomeVerified', 'loanDefault'])['loanDefault'].count()\n",
    "verified_grp"
   ]
  },
  {
   "cell_type": "code",
   "execution_count": 5,
   "metadata": {},
   "outputs": [
    {
     "data": {
      "text/plain": [
       "([<matplotlib.patches.Wedge at 0x264320be588>,\n",
       "  <matplotlib.patches.Wedge at 0x264320bec18>,\n",
       "  <matplotlib.patches.Wedge at 0x264320cb390>,\n",
       "  <matplotlib.patches.Wedge at 0x264320cbb38>],\n",
       " [Text(-0.324907,1.05092,'Unverified/NoDefault'),\n",
       "  Text(-0.23615,-1.07435,'Unverified/Defaulted'),\n",
       "  Text(0.886668,-0.651015,'Verified/NoDefault'),\n",
       "  Text(1.09246,-0.128538,'Verified/Defaulted')],\n",
       " [Text(-0.177222,0.57323,'59.54%'),\n",
       "  Text(-0.128809,-0.58601,'24.02%'),\n",
       "  Text(0.483637,-0.355099,'12.70%'),\n",
       "  Text(0.59589,-0.0701118,'3.73%')])"
      ]
     },
     "execution_count": 5,
     "metadata": {},
     "output_type": "execute_result"
    },
    {
     "data": {
      "image/png": "[encoded data removed]",
      "text/plain": [
       "<matplotlib.figure.Figure at 0x26433235748>"
      ]
     },
     "metadata": {},
     "output_type": "display_data"
    }
   ],
   "source": [
    "# Visualizing the verified_grp.\n",
    "\n",
    "acts = ['Unverified/NoDefault', 'Unverified/Defaulted', 'Verified/NoDefault', 'Verified/Defaulted']\n",
    "plt.pie(verified_grp, labels=acts, autopct='%.2f%%')"
   ]
  },
  {
   "cell_type": "code",
   "execution_count": 6,
   "metadata": {},
   "outputs": [
    {
     "data": {
      "text/plain": [
       "Index(['Unnamed: 0', 'loanId', 'clientId', 'clientIncome', 'incomeVerified',\n",
       "       'clientAge', 'clientGender', 'clientMaritalStatus', 'clientLoanPurpose',\n",
       "       'clientResidentialStatus', 'clientState', 'clientTimeAtEmployer',\n",
       "       'clientNumberPhoneContacts', 'clientAvgCallsPerDay', 'loanType',\n",
       "       'loanNumber', 'applicationDate', 'approvalDate', 'declinedDate',\n",
       "       'disbursementDate', 'payout_status', 'dueDate', 'paidAt', 'loanAmount',\n",
       "       'interestRate', 'loanTerm', 'max_amount_taken', 'max_tenor_taken',\n",
       "       'repaidDate', 'FirstPaymentDueDate', 'settleDays', 'paymentRatio',\n",
       "       'firstPaymentDefault', 'loanDefault'],\n",
       "      dtype='object')"
      ]
     },
     "execution_count": 6,
     "metadata": {},
     "output_type": "execute_result"
    }
   ],
   "source": [
    "data.columns"
   ]
  },
  {
   "cell_type": "code",
   "execution_count": 7,
   "metadata": {},
   "outputs": [
    {
     "data": {
      "text/plain": [
       "60     87908\n",
       "90     50568\n",
       "180    21120\n",
       "Name: loanTerm, dtype: int64"
      ]
     },
     "execution_count": 7,
     "metadata": {},
     "output_type": "execute_result"
    }
   ],
   "source": [
    "data.loanTerm.value_counts()"
   ]
  },
  {
   "cell_type": "code",
   "execution_count": 8,
   "metadata": {},
   "outputs": [
    {
     "data": {
      "text/plain": [
       "loanTerm  loanDefault\n",
       "60        0              63701\n",
       "          1              24207\n",
       "90        0              36588\n",
       "          1              13980\n",
       "180       0              15032\n",
       "          1               6088\n",
       "Name: loanDefault, dtype: int64"
      ]
     },
     "execution_count": 8,
     "metadata": {},
     "output_type": "execute_result"
    }
   ],
   "source": [
    "data.groupby(['loanTerm', 'loanDefault'])['loanDefault'].count()"
   ]
  },
  {
   "cell_type": "code",
   "execution_count": 9,
   "metadata": {},
   "outputs": [
    {
     "data": {
      "text/plain": [
       "([<matplotlib.patches.Wedge at 0x26432398518>,\n",
       "  <matplotlib.patches.Wedge at 0x26432398c50>,\n",
       "  <matplotlib.patches.Wedge at 0x264323a3438>,\n",
       "  <matplotlib.patches.Wedge at 0x264323a3be0>,\n",
       "  <matplotlib.patches.Wedge at 0x264323aa3c8>,\n",
       "  <matplotlib.patches.Wedge at 0x264323aab70>],\n",
       " [Text(0.342747,1.04524,'2months/NoDefault'),\n",
       "  Text(-1.08643,0.172232,'2months/Defaulted'),\n",
       "  Text(-0.55731,-0.94837,'3months/NoDefault'),\n",
       "  Text(0.492404,-0.983635,'3months/Defaulted'),\n",
       "  Text(0.94597,-0.561374,'6months/NoDefault'),\n",
       "  Text(1.09211,-0.131509,'6months/Defaulted')],\n",
       " [Text(0.186953,0.57013,'39.91%'),\n",
       "  Text(-0.5926,0.0939447,'15.17%'),\n",
       "  Text(-0.303987,-0.517293,'22.93%'),\n",
       "  Text(0.268584,-0.536528,'8.76%'),\n",
       "  Text(0.515984,-0.306204,'9.42%'),\n",
       "  Text(0.595697,-0.0717321,'3.81%')])"
      ]
     },
     "execution_count": 9,
     "metadata": {},
     "output_type": "execute_result"
    },
    {
     "data": {
      "image/png": "[encoded data removed]",
      "text/plain": [
       "<matplotlib.figure.Figure at 0x26431706278>"
      ]
     },
     "metadata": {},
     "output_type": "display_data"
    }
   ],
   "source": [
    "lab = ['2months/NoDefault', '2months/Defaulted', '3months/NoDefault', '3months/Defaulted', \n",
    "      '6months/NoDefault', '6months/Defaulted']\n",
    "\n",
    "plt.pie(data.groupby(['loanTerm', 'loanDefault'])['loanDefault'].count(), labels=lab, autopct='%.2f%%')"
   ]
  },
  {
   "cell_type": "code",
   "execution_count": 10,
   "metadata": {},
   "outputs": [],
   "source": [
    "cols = ['Unnamed: 0', 'loanId', 'incomeVerified', 'loanType', 'loanNumber', 'applicationDate',\n",
    "        'approvalDate', 'declinedDate', 'disbursementDate', 'payout_status', 'dueDate', 'paidAt',\n",
    "        'interestRate', 'max_amount_taken', 'max_tenor_taken', 'repaidDate', 'FirstPaymentDueDate',\n",
    "        'settleDays', 'paymentRatio', 'firstPaymentDefault']"
   ]
  },
  {
   "cell_type": "code",
   "execution_count": 11,
   "metadata": {},
   "outputs": [],
   "source": [
    "df = data.drop(cols, axis=1)"
   ]
  },
  {
   "cell_type": "code",
   "execution_count": 12,
   "metadata": {},
   "outputs": [
    {
     "data": {
      "text/plain": [
       "Index(['clientId', 'clientIncome', 'clientAge', 'clientGender',\n",
       "       'clientMaritalStatus', 'clientLoanPurpose', 'clientResidentialStatus',\n",
       "       'clientState', 'clientTimeAtEmployer', 'clientNumberPhoneContacts',\n",
       "       'clientAvgCallsPerDay', 'loanAmount', 'loanTerm', 'loanDefault'],\n",
       "      dtype='object')"
      ]
     },
     "execution_count": 12,
     "metadata": {},
     "output_type": "execute_result"
    }
   ],
   "source": [
    "df.columns"
   ]
  },
  {
   "cell_type": "code",
   "execution_count": 13,
   "metadata": {},
   "outputs": [
    {
     "data": {
      "text/plain": [
       "(159596, 14)"
      ]
     },
     "execution_count": 13,
     "metadata": {},
     "output_type": "execute_result"
    }
   ],
   "source": [
    "df.shape"
   ]
  },
  {
   "cell_type": "code",
   "execution_count": 14,
   "metadata": {},
   "outputs": [
    {
     "name": "stdout",
     "output_type": "stream",
     "text": [
      "<class 'pandas.core.frame.DataFrame'>\n",
      "RangeIndex: 159596 entries, 0 to 159595\n",
      "Data columns (total 14 columns):\n",
      "clientId                     159596 non-null int64\n",
      "clientIncome                 159596 non-null float64\n",
      "clientAge                    159596 non-null int64\n",
      "clientGender                 159596 non-null object\n",
      "clientMaritalStatus          159590 non-null object\n",
      "clientLoanPurpose            159596 non-null object\n",
      "clientResidentialStatus      158460 non-null object\n",
      "clientState                  159595 non-null object\n",
      "clientTimeAtEmployer         155402 non-null object\n",
      "clientNumberPhoneContacts    156888 non-null float64\n",
      "clientAvgCallsPerDay         156909 non-null float64\n",
      "loanAmount                   159596 non-null int64\n",
      "loanTerm                     159596 non-null int64\n",
      "loanDefault                  159596 non-null int64\n",
      "dtypes: float64(3), int64(5), object(6)\n",
      "memory usage: 17.0+ MB\n"
     ]
    }
   ],
   "source": [
    "df.info()"
   ]
  },
  {
   "cell_type": "code",
   "execution_count": 15,
   "metadata": {},
   "outputs": [
    {
     "data": {
      "text/plain": [
       "clientId                        0\n",
       "clientIncome                    0\n",
       "clientAge                       0\n",
       "clientGender                    0\n",
       "clientMaritalStatus             6\n",
       "clientLoanPurpose               0\n",
       "clientResidentialStatus      1136\n",
       "clientState                     1\n",
       "clientTimeAtEmployer         4194\n",
       "clientNumberPhoneContacts    2708\n",
       "clientAvgCallsPerDay         2687\n",
       "loanAmount                      0\n",
       "loanTerm                        0\n",
       "loanDefault                     0\n",
       "dtype: int64"
      ]
     },
     "execution_count": 15,
     "metadata": {},
     "output_type": "execute_result"
    }
   ],
   "source": [
    "# Checking for missing values.\n",
    "\n",
    "df.isna().sum()"
   ]
  },
  {
   "cell_type": "code",
   "execution_count": 16,
   "metadata": {},
   "outputs": [
    {
     "data": {
      "text/plain": [
       "36+    87294\n",
       "0       3373\n",
       "24      2926\n",
       "12      2643\n",
       "3       2391\n",
       "2       2358\n",
       "13      2356\n",
       "1       2325\n",
       "4       2295\n",
       "5       2202\n",
       "6       2142\n",
       "7       2039\n",
       "9       1991\n",
       "8       1910\n",
       "15      1886\n",
       "14      1882\n",
       "16      1860\n",
       "25      1847\n",
       "11      1813\n",
       "17      1767\n",
       "26      1763\n",
       "10      1741\n",
       "27      1731\n",
       "23      1704\n",
       "28      1688\n",
       "18      1673\n",
       "22      1582\n",
       "29      1576\n",
       "20      1562\n",
       "21      1513\n",
       "19      1510\n",
       "31      1425\n",
       "30      1418\n",
       "32      1375\n",
       "34      1287\n",
       "35      1282\n",
       "33      1268\n",
       "-6         2\n",
       "-5         1\n",
       "-7         1\n",
       "Name: clientTimeAtEmployer, dtype: int64"
      ]
     },
     "execution_count": 16,
     "metadata": {},
     "output_type": "execute_result"
    }
   ],
   "source": [
    "# Why is clientTimeAtEmployer an object type instead of integer?\n",
    "\n",
    "df.clientTimeAtEmployer.value_counts()"
   ]
  },
  {
   "cell_type": "code",
   "execution_count": 17,
   "metadata": {},
   "outputs": [],
   "source": [
    "# We'd convert 36+ to 40\n",
    "# We'd convert -6, -7, and -5 to 6, 7, and 5 respectively.\n",
    "\n",
    "df.loc[df['clientTimeAtEmployer']=='36+', 'clientTimeAtEmployer'] = '40'\n",
    "df.loc[df['clientTimeAtEmployer']=='-5', 'clientTimeAtEmployer'] = '5'\n",
    "df.loc[df['clientTimeAtEmployer']=='-6', 'clientTimeAtEmployer'] = '6'\n",
    "df.loc[df['clientTimeAtEmployer']=='-7', 'clientTimeAtEmployer'] = '7'"
   ]
  },
  {
   "cell_type": "code",
   "execution_count": 18,
   "metadata": {},
   "outputs": [
    {
     "data": {
      "text/plain": [
       "40    87294\n",
       "0      3373\n",
       "24     2926\n",
       "12     2643\n",
       "3      2391\n",
       "2      2358\n",
       "13     2356\n",
       "1      2325\n",
       "4      2295\n",
       "5      2203\n",
       "6      2144\n",
       "7      2040\n",
       "9      1991\n",
       "8      1910\n",
       "15     1886\n",
       "14     1882\n",
       "16     1860\n",
       "25     1847\n",
       "11     1813\n",
       "17     1767\n",
       "26     1763\n",
       "10     1741\n",
       "27     1731\n",
       "23     1704\n",
       "28     1688\n",
       "18     1673\n",
       "22     1582\n",
       "29     1576\n",
       "20     1562\n",
       "21     1513\n",
       "19     1510\n",
       "31     1425\n",
       "30     1418\n",
       "32     1375\n",
       "34     1287\n",
       "35     1282\n",
       "33     1268\n",
       "Name: clientTimeAtEmployer, dtype: int64"
      ]
     },
     "execution_count": 18,
     "metadata": {},
     "output_type": "execute_result"
    }
   ],
   "source": [
    "\n",
    "df.clientTimeAtEmployer.value_counts()"
   ]
  },
  {
   "cell_type": "code",
   "execution_count": 19,
   "metadata": {},
   "outputs": [
    {
     "data": {
      "text/html": [
       "<div>\n",
       "<style scoped>\n",
       "    .dataframe tbody tr th:only-of-type {\n",
       "        vertical-align: middle;\n",
       "    }\n",
       "\n",
       "    .dataframe tbody tr th {\n",
       "        vertical-align: top;\n",
       "    }\n",
       "\n",
       "    .dataframe thead th {\n",
       "        text-align: right;\n",
       "    }\n",
       "</style>\n",
       "<table border=\"1\" class=\"dataframe\">\n",
       "  <thead>\n",
       "    <tr style=\"text-align: right;\">\n",
       "      <th></th>\n",
       "      <th>clientId</th>\n",
       "      <th>clientIncome</th>\n",
       "      <th>clientAge</th>\n",
       "      <th>clientNumberPhoneContacts</th>\n",
       "      <th>clientAvgCallsPerDay</th>\n",
       "      <th>loanAmount</th>\n",
       "      <th>loanTerm</th>\n",
       "      <th>loanDefault</th>\n",
       "    </tr>\n",
       "  </thead>\n",
       "  <tbody>\n",
       "    <tr>\n",
       "      <th>count</th>\n",
       "      <td>1.595960e+05</td>\n",
       "      <td>1.595960e+05</td>\n",
       "      <td>159596.000000</td>\n",
       "      <td>156888.000000</td>\n",
       "      <td>156909.000000</td>\n",
       "      <td>159596.000000</td>\n",
       "      <td>159596.000000</td>\n",
       "      <td>159596.000000</td>\n",
       "    </tr>\n",
       "    <tr>\n",
       "      <th>mean</th>\n",
       "      <td>4.980082e+08</td>\n",
       "      <td>9.083906e+04</td>\n",
       "      <td>33.691847</td>\n",
       "      <td>1262.284936</td>\n",
       "      <td>59.137352</td>\n",
       "      <td>35324.184190</td>\n",
       "      <td>85.385599</td>\n",
       "      <td>0.277419</td>\n",
       "    </tr>\n",
       "    <tr>\n",
       "      <th>std</th>\n",
       "      <td>2.938655e+08</td>\n",
       "      <td>9.728033e+04</td>\n",
       "      <td>7.180870</td>\n",
       "      <td>1525.329265</td>\n",
       "      <td>102.064134</td>\n",
       "      <td>27840.824297</td>\n",
       "      <td>39.323756</td>\n",
       "      <td>0.447727</td>\n",
       "    </tr>\n",
       "    <tr>\n",
       "      <th>min</th>\n",
       "      <td>5.060000e+02</td>\n",
       "      <td>3.000000e+01</td>\n",
       "      <td>18.000000</td>\n",
       "      <td>0.000000</td>\n",
       "      <td>0.000000</td>\n",
       "      <td>11000.000000</td>\n",
       "      <td>60.000000</td>\n",
       "      <td>0.000000</td>\n",
       "    </tr>\n",
       "    <tr>\n",
       "      <th>25%</th>\n",
       "      <td>2.475166e+08</td>\n",
       "      <td>3.500000e+04</td>\n",
       "      <td>28.000000</td>\n",
       "      <td>429.000000</td>\n",
       "      <td>9.885246</td>\n",
       "      <td>20000.000000</td>\n",
       "      <td>60.000000</td>\n",
       "      <td>0.000000</td>\n",
       "    </tr>\n",
       "    <tr>\n",
       "      <th>50%</th>\n",
       "      <td>4.971904e+08</td>\n",
       "      <td>5.511621e+04</td>\n",
       "      <td>33.000000</td>\n",
       "      <td>825.000000</td>\n",
       "      <td>29.383838</td>\n",
       "      <td>25500.000000</td>\n",
       "      <td>60.000000</td>\n",
       "      <td>0.000000</td>\n",
       "    </tr>\n",
       "    <tr>\n",
       "      <th>75%</th>\n",
       "      <td>7.463713e+08</td>\n",
       "      <td>1.050000e+05</td>\n",
       "      <td>38.000000</td>\n",
       "      <td>1550.000000</td>\n",
       "      <td>70.046763</td>\n",
       "      <td>37500.000000</td>\n",
       "      <td>90.000000</td>\n",
       "      <td>1.000000</td>\n",
       "    </tr>\n",
       "    <tr>\n",
       "      <th>max</th>\n",
       "      <td>9.365832e+09</td>\n",
       "      <td>3.925000e+06</td>\n",
       "      <td>138.000000</td>\n",
       "      <td>60595.000000</td>\n",
       "      <td>10994.500000</td>\n",
       "      <td>500000.000000</td>\n",
       "      <td>180.000000</td>\n",
       "      <td>1.000000</td>\n",
       "    </tr>\n",
       "  </tbody>\n",
       "</table>\n",
       "</div>"
      ],
      "text/plain": [
       "           clientId  clientIncome      clientAge  clientNumberPhoneContacts  \\\n",
       "count  1.595960e+05  1.595960e+05  159596.000000              156888.000000   \n",
       "mean   4.980082e+08  9.083906e+04      33.691847                1262.284936   \n",
       "std    2.938655e+08  9.728033e+04       7.180870                1525.329265   \n",
       "min    5.060000e+02  3.000000e+01      18.000000                   0.000000   \n",
       "25%    2.475166e+08  3.500000e+04      28.000000                 429.000000   \n",
       "50%    4.971904e+08  5.511621e+04      33.000000                 825.000000   \n",
       "75%    7.463713e+08  1.050000e+05      38.000000                1550.000000   \n",
       "max    9.365832e+09  3.925000e+06     138.000000               60595.000000   \n",
       "\n",
       "       clientAvgCallsPerDay     loanAmount       loanTerm    loanDefault  \n",
       "count         156909.000000  159596.000000  159596.000000  159596.000000  \n",
       "mean              59.137352   35324.184190      85.385599       0.277419  \n",
       "std              102.064134   27840.824297      39.323756       0.447727  \n",
       "min                0.000000   11000.000000      60.000000       0.000000  \n",
       "25%                9.885246   20000.000000      60.000000       0.000000  \n",
       "50%               29.383838   25500.000000      60.000000       0.000000  \n",
       "75%               70.046763   37500.000000      90.000000       1.000000  \n",
       "max            10994.500000  500000.000000     180.000000       1.000000  "
      ]
     },
     "execution_count": 19,
     "metadata": {},
     "output_type": "execute_result"
    }
   ],
   "source": [
    "# Descriptive statistics.\n",
    "\n",
    "df.describe()"
   ]
  },
  {
   "cell_type": "code",
   "execution_count": 20,
   "metadata": {},
   "outputs": [],
   "source": [
    "# In filling missing Categorical variables we'd use mode, and median for missing numerical variables."
   ]
  },
  {
   "cell_type": "code",
   "execution_count": 21,
   "metadata": {},
   "outputs": [
    {
     "data": {
      "text/plain": [
       "0    Married\n",
       "dtype: object"
      ]
     },
     "execution_count": 21,
     "metadata": {},
     "output_type": "execute_result"
    }
   ],
   "source": [
    "df.clientMaritalStatus.mode()"
   ]
  },
  {
   "cell_type": "code",
   "execution_count": 22,
   "metadata": {},
   "outputs": [
    {
     "data": {
      "text/plain": [
       "0    Rented\n",
       "dtype: object"
      ]
     },
     "execution_count": 22,
     "metadata": {},
     "output_type": "execute_result"
    }
   ],
   "source": [
    "df.clientResidentialStatus.mode()"
   ]
  },
  {
   "cell_type": "code",
   "execution_count": 23,
   "metadata": {},
   "outputs": [
    {
     "data": {
      "text/plain": [
       "LAGOS          60666\n",
       "OGUN           14798\n",
       "ABUJA          13999\n",
       "OYO            12731\n",
       "RIVERS          7829\n",
       "DELTA           5081\n",
       "KWARA           3969\n",
       "OSUN            3816\n",
       "ONDO            3571\n",
       "KADUNA          3496\n",
       "EDO             2663\n",
       "NIGER           2462\n",
       "BENUE           2043\n",
       "EKITI           2023\n",
       "AKWA IBOM       1960\n",
       "KOGI            1896\n",
       "PLATEAU         1715\n",
       "CROSS RIVER     1608\n",
       "NASARAWA        1589\n",
       "ENUGU           1566\n",
       "ANAMBRA         1496\n",
       "ABIA            1426\n",
       "IMO             1287\n",
       "KANO            1233\n",
       "BAYELSA         1179\n",
       "ADAMAWA          569\n",
       "BAUCHI           418\n",
       "SOKOTO           398\n",
       "EBONYI           392\n",
       "TARABA           336\n",
       "KEBBI            279\n",
       "GOMBE            265\n",
       "KATSINA          248\n",
       "ZAMFARA          221\n",
       "BORNO            210\n",
       "YOBE              83\n",
       "JIGAWA            72\n",
       "OJO                1\n",
       "LAGOS              1\n",
       "Name: clientState, dtype: int64"
      ]
     },
     "execution_count": 23,
     "metadata": {},
     "output_type": "execute_result"
    }
   ],
   "source": [
    "df.clientState.value_counts()"
   ]
  },
  {
   "cell_type": "code",
   "execution_count": 24,
   "metadata": {},
   "outputs": [
    {
     "data": {
      "text/plain": [
       "LAGOS          60667\n",
       "OGUN           14798\n",
       "ABUJA          13999\n",
       "OYO            12732\n",
       "RIVERS          7829\n",
       "DELTA           5081\n",
       "KWARA           3969\n",
       "OSUN            3816\n",
       "ONDO            3571\n",
       "KADUNA          3496\n",
       "EDO             2663\n",
       "NIGER           2462\n",
       "BENUE           2043\n",
       "EKITI           2023\n",
       "AKWA IBOM       1960\n",
       "KOGI            1896\n",
       "PLATEAU         1715\n",
       "CROSS RIVER     1608\n",
       "NASARAWA        1589\n",
       "ENUGU           1566\n",
       "ANAMBRA         1496\n",
       "ABIA            1426\n",
       "IMO             1287\n",
       "KANO            1233\n",
       "BAYELSA         1179\n",
       "ADAMAWA          569\n",
       "BAUCHI           418\n",
       "SOKOTO           398\n",
       "EBONYI           392\n",
       "TARABA           336\n",
       "KEBBI            279\n",
       "GOMBE            265\n",
       "KATSINA          248\n",
       "ZAMFARA          221\n",
       "BORNO            210\n",
       "YOBE              83\n",
       "JIGAWA            72\n",
       "Name: clientState, dtype: int64"
      ]
     },
     "execution_count": 24,
     "metadata": {},
     "output_type": "execute_result"
    }
   ],
   "source": [
    "# Replacing OJO with OYO and 'LAGOS ' with 'LAGOS'.\n",
    "\n",
    "df['clientState'].replace({'LAGOS ':'LAGOS', 'OJO':'OYO'}, inplace=True)\n",
    "df.clientState.value_counts()"
   ]
  },
  {
   "cell_type": "code",
   "execution_count": 25,
   "metadata": {},
   "outputs": [
    {
     "data": {
      "text/plain": [
       "0    LAGOS\n",
       "dtype: object"
      ]
     },
     "execution_count": 25,
     "metadata": {},
     "output_type": "execute_result"
    }
   ],
   "source": [
    "df.clientState.mode()"
   ]
  },
  {
   "cell_type": "code",
   "execution_count": 26,
   "metadata": {},
   "outputs": [
    {
     "data": {
      "text/plain": [
       "40.0"
      ]
     },
     "execution_count": 26,
     "metadata": {},
     "output_type": "execute_result"
    }
   ],
   "source": [
    "df.clientTimeAtEmployer.median()"
   ]
  },
  {
   "cell_type": "code",
   "execution_count": 27,
   "metadata": {},
   "outputs": [
    {
     "data": {
      "text/plain": [
       "825.0"
      ]
     },
     "execution_count": 27,
     "metadata": {},
     "output_type": "execute_result"
    }
   ],
   "source": [
    "df.clientNumberPhoneContacts.median()"
   ]
  },
  {
   "cell_type": "code",
   "execution_count": 28,
   "metadata": {},
   "outputs": [
    {
     "data": {
      "text/plain": [
       "29.38383838"
      ]
     },
     "execution_count": 28,
     "metadata": {},
     "output_type": "execute_result"
    }
   ],
   "source": [
    "df.clientAvgCallsPerDay.median()"
   ]
  },
  {
   "cell_type": "code",
   "execution_count": 29,
   "metadata": {},
   "outputs": [
    {
     "data": {
      "text/plain": [
       "0"
      ]
     },
     "execution_count": 29,
     "metadata": {},
     "output_type": "execute_result"
    }
   ],
   "source": [
    "# Filling missing values.\n",
    "\n",
    "fill = {'clientMaritalStatus':'Married', 'clientResidentialStatus':'Rented', 'clientState':'LAGOS',\n",
    "        'clientTimeAtEmployer':40, 'clientNumberPhoneContacts':825, 'clientAvgCallsPerDay':29.38}\n",
    "\n",
    "df = df.fillna(value=fill)\n",
    "\n",
    "# Confirming that missing values have been filled.\n",
    "df.isna().values.sum()"
   ]
  },
  {
   "cell_type": "code",
   "execution_count": 30,
   "metadata": {},
   "outputs": [
    {
     "name": "stdout",
     "output_type": "stream",
     "text": [
      "int64\n"
     ]
    }
   ],
   "source": [
    "# Converting clientTimeAtEmployer from object to integer.\n",
    "\n",
    "df['clientTimeAtEmployer'] = df['clientTimeAtEmployer'].astype('int64')\n",
    "\n",
    "print(df.clientTimeAtEmployer.dtype)"
   ]
  },
  {
   "cell_type": "code",
   "execution_count": 31,
   "metadata": {},
   "outputs": [
    {
     "data": {
      "text/html": [
       "<div>\n",
       "<style scoped>\n",
       "    .dataframe tbody tr th:only-of-type {\n",
       "        vertical-align: middle;\n",
       "    }\n",
       "\n",
       "    .dataframe tbody tr th {\n",
       "        vertical-align: top;\n",
       "    }\n",
       "\n",
       "    .dataframe thead th {\n",
       "        text-align: right;\n",
       "    }\n",
       "</style>\n",
       "<table border=\"1\" class=\"dataframe\">\n",
       "  <thead>\n",
       "    <tr style=\"text-align: right;\">\n",
       "      <th></th>\n",
       "      <th>clientId</th>\n",
       "      <th>clientIncome</th>\n",
       "      <th>clientAge</th>\n",
       "      <th>clientTimeAtEmployer</th>\n",
       "      <th>clientNumberPhoneContacts</th>\n",
       "      <th>clientAvgCallsPerDay</th>\n",
       "      <th>loanAmount</th>\n",
       "      <th>loanTerm</th>\n",
       "      <th>loanDefault</th>\n",
       "    </tr>\n",
       "  </thead>\n",
       "  <tbody>\n",
       "    <tr>\n",
       "      <th>count</th>\n",
       "      <td>1.595960e+05</td>\n",
       "      <td>1.595960e+05</td>\n",
       "      <td>159596.000000</td>\n",
       "      <td>159596.000000</td>\n",
       "      <td>159596.000000</td>\n",
       "      <td>159596.000000</td>\n",
       "      <td>159596.000000</td>\n",
       "      <td>159596.000000</td>\n",
       "      <td>159596.000000</td>\n",
       "    </tr>\n",
       "    <tr>\n",
       "      <th>mean</th>\n",
       "      <td>4.980082e+08</td>\n",
       "      <td>9.083906e+04</td>\n",
       "      <td>33.691847</td>\n",
       "      <td>29.620717</td>\n",
       "      <td>1254.865153</td>\n",
       "      <td>58.636349</td>\n",
       "      <td>35324.184190</td>\n",
       "      <td>85.385599</td>\n",
       "      <td>0.277419</td>\n",
       "    </tr>\n",
       "    <tr>\n",
       "      <th>std</th>\n",
       "      <td>2.938655e+08</td>\n",
       "      <td>9.728033e+04</td>\n",
       "      <td>7.180870</td>\n",
       "      <td>13.795307</td>\n",
       "      <td>1513.387181</td>\n",
       "      <td>101.273684</td>\n",
       "      <td>27840.824297</td>\n",
       "      <td>39.323756</td>\n",
       "      <td>0.447727</td>\n",
       "    </tr>\n",
       "    <tr>\n",
       "      <th>min</th>\n",
       "      <td>5.060000e+02</td>\n",
       "      <td>3.000000e+01</td>\n",
       "      <td>18.000000</td>\n",
       "      <td>0.000000</td>\n",
       "      <td>0.000000</td>\n",
       "      <td>0.000000</td>\n",
       "      <td>11000.000000</td>\n",
       "      <td>60.000000</td>\n",
       "      <td>0.000000</td>\n",
       "    </tr>\n",
       "    <tr>\n",
       "      <th>25%</th>\n",
       "      <td>2.475166e+08</td>\n",
       "      <td>3.500000e+04</td>\n",
       "      <td>28.000000</td>\n",
       "      <td>18.000000</td>\n",
       "      <td>435.000000</td>\n",
       "      <td>10.050000</td>\n",
       "      <td>20000.000000</td>\n",
       "      <td>60.000000</td>\n",
       "      <td>0.000000</td>\n",
       "    </tr>\n",
       "    <tr>\n",
       "      <th>50%</th>\n",
       "      <td>4.971904e+08</td>\n",
       "      <td>5.511621e+04</td>\n",
       "      <td>33.000000</td>\n",
       "      <td>40.000000</td>\n",
       "      <td>825.000000</td>\n",
       "      <td>29.380000</td>\n",
       "      <td>25500.000000</td>\n",
       "      <td>60.000000</td>\n",
       "      <td>0.000000</td>\n",
       "    </tr>\n",
       "    <tr>\n",
       "      <th>75%</th>\n",
       "      <td>7.463713e+08</td>\n",
       "      <td>1.050000e+05</td>\n",
       "      <td>38.000000</td>\n",
       "      <td>40.000000</td>\n",
       "      <td>1532.000000</td>\n",
       "      <td>69.000000</td>\n",
       "      <td>37500.000000</td>\n",
       "      <td>90.000000</td>\n",
       "      <td>1.000000</td>\n",
       "    </tr>\n",
       "    <tr>\n",
       "      <th>max</th>\n",
       "      <td>9.365832e+09</td>\n",
       "      <td>3.925000e+06</td>\n",
       "      <td>138.000000</td>\n",
       "      <td>40.000000</td>\n",
       "      <td>60595.000000</td>\n",
       "      <td>10994.500000</td>\n",
       "      <td>500000.000000</td>\n",
       "      <td>180.000000</td>\n",
       "      <td>1.000000</td>\n",
       "    </tr>\n",
       "  </tbody>\n",
       "</table>\n",
       "</div>"
      ],
      "text/plain": [
       "           clientId  clientIncome      clientAge  clientTimeAtEmployer  \\\n",
       "count  1.595960e+05  1.595960e+05  159596.000000         159596.000000   \n",
       "mean   4.980082e+08  9.083906e+04      33.691847             29.620717   \n",
       "std    2.938655e+08  9.728033e+04       7.180870             13.795307   \n",
       "min    5.060000e+02  3.000000e+01      18.000000              0.000000   \n",
       "25%    2.475166e+08  3.500000e+04      28.000000             18.000000   \n",
       "50%    4.971904e+08  5.511621e+04      33.000000             40.000000   \n",
       "75%    7.463713e+08  1.050000e+05      38.000000             40.000000   \n",
       "max    9.365832e+09  3.925000e+06     138.000000             40.000000   \n",
       "\n",
       "       clientNumberPhoneContacts  clientAvgCallsPerDay     loanAmount  \\\n",
       "count              159596.000000         159596.000000  159596.000000   \n",
       "mean                 1254.865153             58.636349   35324.184190   \n",
       "std                  1513.387181            101.273684   27840.824297   \n",
       "min                     0.000000              0.000000   11000.000000   \n",
       "25%                   435.000000             10.050000   20000.000000   \n",
       "50%                   825.000000             29.380000   25500.000000   \n",
       "75%                  1532.000000             69.000000   37500.000000   \n",
       "max                 60595.000000          10994.500000  500000.000000   \n",
       "\n",
       "            loanTerm    loanDefault  \n",
       "count  159596.000000  159596.000000  \n",
       "mean       85.385599       0.277419  \n",
       "std        39.323756       0.447727  \n",
       "min        60.000000       0.000000  \n",
       "25%        60.000000       0.000000  \n",
       "50%        60.000000       0.000000  \n",
       "75%        90.000000       1.000000  \n",
       "max       180.000000       1.000000  "
      ]
     },
     "execution_count": 31,
     "metadata": {},
     "output_type": "execute_result"
    }
   ],
   "source": [
    "df.describe()"
   ]
  },
  {
   "cell_type": "code",
   "execution_count": 32,
   "metadata": {},
   "outputs": [
    {
     "data": {
      "text/html": [
       "<div>\n",
       "<style scoped>\n",
       "    .dataframe tbody tr th:only-of-type {\n",
       "        vertical-align: middle;\n",
       "    }\n",
       "\n",
       "    .dataframe tbody tr th {\n",
       "        vertical-align: top;\n",
       "    }\n",
       "\n",
       "    .dataframe thead th {\n",
       "        text-align: right;\n",
       "    }\n",
       "</style>\n",
       "<table border=\"1\" class=\"dataframe\">\n",
       "  <thead>\n",
       "    <tr style=\"text-align: right;\">\n",
       "      <th></th>\n",
       "      <th>clientId</th>\n",
       "      <th>clientIncome</th>\n",
       "      <th>clientAge</th>\n",
       "      <th>clientGender</th>\n",
       "      <th>clientMaritalStatus</th>\n",
       "      <th>clientLoanPurpose</th>\n",
       "      <th>clientResidentialStatus</th>\n",
       "      <th>clientState</th>\n",
       "      <th>clientTimeAtEmployer</th>\n",
       "      <th>clientNumberPhoneContacts</th>\n",
       "      <th>clientAvgCallsPerDay</th>\n",
       "      <th>loanAmount</th>\n",
       "      <th>loanTerm</th>\n",
       "      <th>loanDefault</th>\n",
       "    </tr>\n",
       "  </thead>\n",
       "  <tbody>\n",
       "    <tr>\n",
       "      <th>0</th>\n",
       "      <td>676059506</td>\n",
       "      <td>66452.66</td>\n",
       "      <td>38</td>\n",
       "      <td>MALE</td>\n",
       "      <td>Married</td>\n",
       "      <td>education</td>\n",
       "      <td>Employer Provided</td>\n",
       "      <td>SOKOTO</td>\n",
       "      <td>40</td>\n",
       "      <td>458.0</td>\n",
       "      <td>6.792453</td>\n",
       "      <td>42000</td>\n",
       "      <td>90</td>\n",
       "      <td>0</td>\n",
       "    </tr>\n",
       "    <tr>\n",
       "      <th>1</th>\n",
       "      <td>704436304</td>\n",
       "      <td>35000.00</td>\n",
       "      <td>35</td>\n",
       "      <td>MALE</td>\n",
       "      <td>Single</td>\n",
       "      <td>other</td>\n",
       "      <td>Rented</td>\n",
       "      <td>KOGI</td>\n",
       "      <td>40</td>\n",
       "      <td>708.0</td>\n",
       "      <td>2.144928</td>\n",
       "      <td>20000</td>\n",
       "      <td>90</td>\n",
       "      <td>0</td>\n",
       "    </tr>\n",
       "    <tr>\n",
       "      <th>2</th>\n",
       "      <td>487954787</td>\n",
       "      <td>162851.11</td>\n",
       "      <td>47</td>\n",
       "      <td>FEMALE</td>\n",
       "      <td>Married</td>\n",
       "      <td>education</td>\n",
       "      <td>Own Residence</td>\n",
       "      <td>OYO</td>\n",
       "      <td>40</td>\n",
       "      <td>622.0</td>\n",
       "      <td>36.095238</td>\n",
       "      <td>134000</td>\n",
       "      <td>90</td>\n",
       "      <td>0</td>\n",
       "    </tr>\n",
       "    <tr>\n",
       "      <th>3</th>\n",
       "      <td>349843136</td>\n",
       "      <td>55053.68</td>\n",
       "      <td>33</td>\n",
       "      <td>MALE</td>\n",
       "      <td>Single</td>\n",
       "      <td>other</td>\n",
       "      <td>Own Residence</td>\n",
       "      <td>ABUJA</td>\n",
       "      <td>40</td>\n",
       "      <td>825.0</td>\n",
       "      <td>29.380000</td>\n",
       "      <td>34500</td>\n",
       "      <td>90</td>\n",
       "      <td>1</td>\n",
       "    </tr>\n",
       "    <tr>\n",
       "      <th>4</th>\n",
       "      <td>925196860</td>\n",
       "      <td>32112.55</td>\n",
       "      <td>30</td>\n",
       "      <td>MALE</td>\n",
       "      <td>Single</td>\n",
       "      <td>house</td>\n",
       "      <td>Rented</td>\n",
       "      <td>PLATEAU</td>\n",
       "      <td>40</td>\n",
       "      <td>608.0</td>\n",
       "      <td>85.528481</td>\n",
       "      <td>20000</td>\n",
       "      <td>90</td>\n",
       "      <td>0</td>\n",
       "    </tr>\n",
       "  </tbody>\n",
       "</table>\n",
       "</div>"
      ],
      "text/plain": [
       "    clientId  clientIncome  clientAge clientGender clientMaritalStatus  \\\n",
       "0  676059506      66452.66         38         MALE             Married   \n",
       "1  704436304      35000.00         35         MALE              Single   \n",
       "2  487954787     162851.11         47       FEMALE             Married   \n",
       "3  349843136      55053.68         33         MALE              Single   \n",
       "4  925196860      32112.55         30         MALE              Single   \n",
       "\n",
       "  clientLoanPurpose clientResidentialStatus clientState  clientTimeAtEmployer  \\\n",
       "0         education       Employer Provided      SOKOTO                    40   \n",
       "1             other                  Rented        KOGI                    40   \n",
       "2         education           Own Residence         OYO                    40   \n",
       "3             other           Own Residence       ABUJA                    40   \n",
       "4             house                  Rented     PLATEAU                    40   \n",
       "\n",
       "   clientNumberPhoneContacts  clientAvgCallsPerDay  loanAmount  loanTerm  \\\n",
       "0                      458.0              6.792453       42000        90   \n",
       "1                      708.0              2.144928       20000        90   \n",
       "2                      622.0             36.095238      134000        90   \n",
       "3                      825.0             29.380000       34500        90   \n",
       "4                      608.0             85.528481       20000        90   \n",
       "\n",
       "   loanDefault  \n",
       "0            0  \n",
       "1            0  \n",
       "2            0  \n",
       "3            1  \n",
       "4            0  "
      ]
     },
     "execution_count": 32,
     "metadata": {},
     "output_type": "execute_result"
    }
   ],
   "source": [
    "df.head()"
   ]
  },
  {
   "cell_type": "markdown",
   "metadata": {},
   "source": [
    "# Exploring the features."
   ]
  },
  {
   "cell_type": "code",
   "execution_count": 33,
   "metadata": {},
   "outputs": [
    {
     "data": {
      "text/plain": [
       "<matplotlib.axes._subplots.AxesSubplot at 0x264323f1a90>"
      ]
     },
     "execution_count": 33,
     "metadata": {},
     "output_type": "execute_result"
    },
    {
     "data": {
      "image/png": "[encoded data removed]",
      "text/plain": [
       "<matplotlib.figure.Figure at 0x26432384198>"
      ]
     },
     "metadata": {},
     "output_type": "display_data"
    }
   ],
   "source": [
    "# ClientIncome\n",
    "\n",
    "plt.figure(figsize=(8,6))\n",
    "sns.distplot(df.clientIncome)"
   ]
  },
  {
   "cell_type": "code",
   "execution_count": 34,
   "metadata": {},
   "outputs": [
    {
     "data": {
      "text/plain": [
       "<matplotlib.collections.PathCollection at 0x264324e2c88>"
      ]
     },
     "execution_count": 34,
     "metadata": {},
     "output_type": "execute_result"
    },
    {
     "data": {
      "image/png": "[encoded data removed]",
      "text/plain": [
       "<matplotlib.figure.Figure at 0x2643203ca20>"
      ]
     },
     "metadata": {},
     "output_type": "display_data"
    }
   ],
   "source": [
    "plt.figure(figsize=(8,6))\n",
    "plt.scatter(df.clientIncome, df.loanDefault)"
   ]
  },
  {
   "cell_type": "code",
   "execution_count": 35,
   "metadata": {},
   "outputs": [
    {
     "data": {
      "text/plain": [
       "55116.21"
      ]
     },
     "execution_count": 35,
     "metadata": {},
     "output_type": "execute_result"
    }
   ],
   "source": [
    "# The graph above shows an obvious outlier at almost 4 million naira.\n",
    "# Instead of dropping the instance, we'd replace it with median income value.\n",
    "\n",
    "df.clientIncome.median()"
   ]
  },
  {
   "cell_type": "code",
   "execution_count": 36,
   "metadata": {},
   "outputs": [],
   "source": [
    "df.loc[df['clientIncome']==3925000, 'clientIncome'] = 55116.21"
   ]
  },
  {
   "cell_type": "code",
   "execution_count": 37,
   "metadata": {},
   "outputs": [
    {
     "data": {
      "text/plain": [
       "<matplotlib.axes._subplots.AxesSubplot at 0x264337d45f8>"
      ]
     },
     "execution_count": 37,
     "metadata": {},
     "output_type": "execute_result"
    },
    {
     "data": {
      "image/png": "[encoded data removed]",
      "text/plain": [
       "<matplotlib.figure.Figure at 0x264323f7eb8>"
      ]
     },
     "metadata": {},
     "output_type": "display_data"
    }
   ],
   "source": [
    "# Dis after outlier.\n",
    "\n",
    "plt.figure(figsize=(8,6))\n",
    "sns.distplot(df.clientIncome)"
   ]
  },
  {
   "cell_type": "code",
   "execution_count": 38,
   "metadata": {},
   "outputs": [
    {
     "data": {
      "text/plain": [
       "<matplotlib.collections.PathCollection at 0x2643262c710>"
      ]
     },
     "execution_count": 38,
     "metadata": {},
     "output_type": "execute_result"
    },
    {
     "data": {
      "image/png": "[encoded data removed]",
      "text/plain": [
       "<matplotlib.figure.Figure at 0x264323f8ef0>"
      ]
     },
     "metadata": {},
     "output_type": "display_data"
    }
   ],
   "source": [
    "plt.figure(figsize=(8,6))\n",
    "plt.scatter(df.clientIncome, df.loanDefault)"
   ]
  },
  {
   "cell_type": "code",
   "execution_count": 39,
   "metadata": {},
   "outputs": [],
   "source": [
    "# Using StandardScaler to reduce the variance in the feature.\n",
    "# from sklearn.preprocessing import StandardScaler"
   ]
  },
  {
   "cell_type": "code",
   "execution_count": null,
   "metadata": {},
   "outputs": [],
   "source": []
  },
  {
   "cell_type": "code",
   "execution_count": 40,
   "metadata": {},
   "outputs": [
    {
     "data": {
      "text/plain": [
       "<matplotlib.axes._subplots.AxesSubplot at 0x264325cc978>"
      ]
     },
     "execution_count": 40,
     "metadata": {},
     "output_type": "execute_result"
    },
    {
     "data": {
      "image/png": "[encoded data removed]",
      "text/plain": [
       "<matplotlib.figure.Figure at 0x2643260a5f8>"
      ]
     },
     "metadata": {},
     "output_type": "display_data"
    }
   ],
   "source": [
    "# clientAge.\n",
    "\n",
    "sns.distplot(df['clientAge'])"
   ]
  },
  {
   "cell_type": "code",
   "execution_count": 41,
   "metadata": {},
   "outputs": [
    {
     "data": {
      "text/plain": [
       "<matplotlib.collections.PathCollection at 0x26433ff5dd8>"
      ]
     },
     "execution_count": 41,
     "metadata": {},
     "output_type": "execute_result"
    },
    {
     "data": {
      "image/png": "[encoded data removed]",
      "text/plain": [
       "<matplotlib.figure.Figure at 0x264341487b8>"
      ]
     },
     "metadata": {},
     "output_type": "display_data"
    }
   ],
   "source": [
    "plt.scatter(df.clientAge, df.loanAmount)"
   ]
  },
  {
   "cell_type": "code",
   "execution_count": 42,
   "metadata": {},
   "outputs": [
    {
     "data": {
      "text/plain": [
       "138"
      ]
     },
     "execution_count": 42,
     "metadata": {},
     "output_type": "execute_result"
    }
   ],
   "source": [
    "# There's an outlier at almost 140 years\n",
    "\n",
    "df.clientAge.max()"
   ]
  },
  {
   "cell_type": "code",
   "execution_count": 43,
   "metadata": {},
   "outputs": [
    {
     "data": {
      "text/plain": [
       "33.0"
      ]
     },
     "execution_count": 43,
     "metadata": {},
     "output_type": "execute_result"
    }
   ],
   "source": [
    "# Let's replace it with the median age.\n",
    "df.clientAge.median()"
   ]
  },
  {
   "cell_type": "code",
   "execution_count": 44,
   "metadata": {},
   "outputs": [],
   "source": [
    "df.loc[df['clientAge']==138, 'clientAge'] = 33"
   ]
  },
  {
   "cell_type": "code",
   "execution_count": 45,
   "metadata": {},
   "outputs": [
    {
     "data": {
      "text/plain": [
       "<matplotlib.axes._subplots.AxesSubplot at 0x2643401c550>"
      ]
     },
     "execution_count": 45,
     "metadata": {},
     "output_type": "execute_result"
    },
    {
     "data": {
      "image/png": "[encoded data removed]",
      "text/plain": [
       "<matplotlib.figure.Figure at 0x264325447b8>"
      ]
     },
     "metadata": {},
     "output_type": "display_data"
    }
   ],
   "source": [
    "sns.distplot(df['clientAge'])"
   ]
  },
  {
   "cell_type": "code",
   "execution_count": 46,
   "metadata": {},
   "outputs": [
    {
     "data": {
      "text/plain": [
       "<matplotlib.collections.PathCollection at 0x26434006c88>"
      ]
     },
     "execution_count": 46,
     "metadata": {},
     "output_type": "execute_result"
    },
    {
     "data": {
      "image/png": "[encoded data removed]",
      "text/plain": [
       "<matplotlib.figure.Figure at 0x26434023d68>"
      ]
     },
     "metadata": {},
     "output_type": "display_data"
    }
   ],
   "source": [
    "plt.scatter(df.clientAge, df.loanAmount)"
   ]
  },
  {
   "cell_type": "code",
   "execution_count": null,
   "metadata": {},
   "outputs": [],
   "source": []
  },
  {
   "cell_type": "code",
   "execution_count": 47,
   "metadata": {},
   "outputs": [
    {
     "data": {
      "text/plain": [
       "MALE      109666\n",
       "FEMALE     49930\n",
       "Name: clientGender, dtype: int64"
      ]
     },
     "execution_count": 47,
     "metadata": {},
     "output_type": "execute_result"
    }
   ],
   "source": [
    "df.clientGender.value_counts()"
   ]
  },
  {
   "cell_type": "code",
   "execution_count": 48,
   "metadata": {},
   "outputs": [
    {
     "data": {
      "text/plain": [
       "<matplotlib.axes._subplots.AxesSubplot at 0x26434034a20>"
      ]
     },
     "execution_count": 48,
     "metadata": {},
     "output_type": "execute_result"
    },
    {
     "data": {
      "image/png": "[encoded data removed]",
      "text/plain": [
       "<matplotlib.figure.Figure at 0x264325dd550>"
      ]
     },
     "metadata": {},
     "output_type": "display_data"
    }
   ],
   "source": [
    "sns.countplot(df.clientGender)"
   ]
  },
  {
   "cell_type": "code",
   "execution_count": null,
   "metadata": {},
   "outputs": [],
   "source": []
  },
  {
   "cell_type": "code",
   "execution_count": 49,
   "metadata": {},
   "outputs": [
    {
     "data": {
      "text/plain": [
       "Married      85498\n",
       "Single       71361\n",
       "Separated     1795\n",
       "Widowed        939\n",
       "Divorced         3\n",
       "Name: clientMaritalStatus, dtype: int64"
      ]
     },
     "execution_count": 49,
     "metadata": {},
     "output_type": "execute_result"
    }
   ],
   "source": [
    "# clientmaritalStatus.\n",
    "\n",
    "df.clientMaritalStatus.value_counts()"
   ]
  },
  {
   "cell_type": "code",
   "execution_count": 50,
   "metadata": {},
   "outputs": [
    {
     "data": {
      "text/plain": [
       "<matplotlib.axes._subplots.AxesSubplot at 0x264341e4630>"
      ]
     },
     "execution_count": 50,
     "metadata": {},
     "output_type": "execute_result"
    },
    {
     "data": {
      "image/png": "[encoded data removed]",
      "text/plain": [
       "<matplotlib.figure.Figure at 0x26434188dd8>"
      ]
     },
     "metadata": {},
     "output_type": "display_data"
    }
   ],
   "source": [
    "df.clientMaritalStatus.replace({'Widowed':'Separated', 'Divorced':'Separated'}, inplace=True)\n",
    "\n",
    "sns.countplot(df.clientMaritalStatus)"
   ]
  },
  {
   "cell_type": "code",
   "execution_count": null,
   "metadata": {},
   "outputs": [],
   "source": []
  },
  {
   "cell_type": "code",
   "execution_count": 51,
   "metadata": {},
   "outputs": [
    {
     "data": {
      "text/plain": [
       "<matplotlib.axes._subplots.AxesSubplot at 0x26434224e80>"
      ]
     },
     "execution_count": 51,
     "metadata": {},
     "output_type": "execute_result"
    },
    {
     "data": {
      "image/png": "[encoded data removed]",
      "text/plain": [
       "<matplotlib.figure.Figure at 0x26434232828>"
      ]
     },
     "metadata": {},
     "output_type": "display_data"
    }
   ],
   "source": [
    "# clientLoanPurpose.\n",
    "\n",
    "sns.countplot(df.clientLoanPurpose)"
   ]
  },
  {
   "cell_type": "code",
   "execution_count": null,
   "metadata": {},
   "outputs": [],
   "source": []
  },
  {
   "cell_type": "code",
   "execution_count": 52,
   "metadata": {},
   "outputs": [
    {
     "data": {
      "text/plain": [
       "Rented               101670\n",
       "Own Residence         26406\n",
       "Family Owned          25668\n",
       "Employer Provided      5589\n",
       "Temp. Residence         263\n",
       "Name: clientResidentialStatus, dtype: int64"
      ]
     },
     "execution_count": 52,
     "metadata": {},
     "output_type": "execute_result"
    }
   ],
   "source": [
    "# clientResidentialStatus\n",
    "\n",
    "df.clientResidentialStatus.value_counts()"
   ]
  },
  {
   "cell_type": "code",
   "execution_count": 53,
   "metadata": {},
   "outputs": [
    {
     "data": {
      "text/plain": [
       "<matplotlib.axes._subplots.AxesSubplot at 0x264340e1fd0>"
      ]
     },
     "execution_count": 53,
     "metadata": {},
     "output_type": "execute_result"
    },
    {
     "data": {
      "image/png": "[encoded data removed]",
      "text/plain": [
       "<matplotlib.figure.Figure at 0x26434208a58>"
      ]
     },
     "metadata": {},
     "output_type": "display_data"
    }
   ],
   "source": [
    "df.clientResidentialStatus.replace({'Employer Provided':'Rented', 'Temp. Residence':'Rented', 'Family Owned':'Own', 'Own Residence':'Own'}, inplace=True)\n",
    "\n",
    "sns.countplot(df.clientResidentialStatus)"
   ]
  },
  {
   "cell_type": "code",
   "execution_count": null,
   "metadata": {},
   "outputs": [],
   "source": []
  },
  {
   "cell_type": "code",
   "execution_count": 54,
   "metadata": {},
   "outputs": [],
   "source": [
    "# clientState.\n",
    "# Let's create a function to group states into zones."
   ]
  },
  {
   "cell_type": "code",
   "execution_count": 55,
   "metadata": {},
   "outputs": [
    {
     "data": {
      "text/plain": [
       "array(['SOKOTO', 'KOGI', 'OYO', 'ABUJA', 'PLATEAU', 'AKWA IBOM', 'BENUE',\n",
       "       'OSUN', 'KWARA', 'OGUN', 'RIVERS', 'NIGER', 'ONDO', 'LAGOS',\n",
       "       'KANO', 'BAUCHI', 'ABIA', 'KADUNA', 'DELTA', 'BAYELSA', 'NASARAWA',\n",
       "       'IMO', 'ADAMAWA', 'TARABA', 'BORNO', 'CROSS RIVER', 'ZAMFARA',\n",
       "       'KATSINA', 'EKITI', 'EDO', 'KEBBI', 'JIGAWA', 'EBONYI', 'ANAMBRA',\n",
       "       'GOMBE', 'YOBE', 'ENUGU'], dtype=object)"
      ]
     },
     "execution_count": 55,
     "metadata": {},
     "output_type": "execute_result"
    }
   ],
   "source": [
    "df.clientState.unique()"
   ]
  },
  {
   "cell_type": "code",
   "execution_count": 56,
   "metadata": {},
   "outputs": [],
   "source": [
    "def Zone(state):\n",
    "    South_West = ['OYO','OSUN','OGUN','ONDO','LAGOS','EKITI']\n",
    "    South_East = ['ABIA','IMO','EBONYI','ANAMBRA','ENUGU']\n",
    "    South_South = ['AKWA IBOM','RIVERS','DELTA','BAYELSA','CROSS RIVER','EDO']\n",
    "    NorthOrCentral = ['SOKOTO','ABUJA','NIGER','KANO','BAUCHI','KADUNA','NASARAWA','ADAMAWA',\n",
    "             'TARABA','BORNO','ZAMFARA','KATSINA','KEBBI','JIGAWA','GOMBE','YOBE','KOGI',\n",
    "            'PLATEAU','BENUE','KWARA']\n",
    "    \n",
    "    if state in South_West:\n",
    "        return 'SW'\n",
    "    elif state in South_East:\n",
    "        return 'SE'\n",
    "    elif state in South_South:\n",
    "        return 'SS'\n",
    "    else:\n",
    "        return 'NOC'"
   ]
  },
  {
   "cell_type": "code",
   "execution_count": 57,
   "metadata": {},
   "outputs": [
    {
     "data": {
      "text/plain": [
       "<matplotlib.axes._subplots.AxesSubplot at 0x2643430c2e8>"
      ]
     },
     "execution_count": 57,
     "metadata": {},
     "output_type": "execute_result"
    },
    {
     "data": {
      "image/png": "[encoded data removed]",
      "text/plain": [
       "<matplotlib.figure.Figure at 0x264342f9fd0>"
      ]
     },
     "metadata": {},
     "output_type": "display_data"
    }
   ],
   "source": [
    "# Applying the function.\n",
    "df.clientState = df.clientState.map(Zone)\n",
    "\n",
    "# Visualizing clientState.\n",
    "sns.countplot(df.clientState)"
   ]
  },
  {
   "cell_type": "code",
   "execution_count": null,
   "metadata": {},
   "outputs": [],
   "source": []
  },
  {
   "cell_type": "code",
   "execution_count": 58,
   "metadata": {},
   "outputs": [
    {
     "data": {
      "text/plain": [
       "<matplotlib.axes._subplots.AxesSubplot at 0x264342f9b00>"
      ]
     },
     "execution_count": 58,
     "metadata": {},
     "output_type": "execute_result"
    },
    {
     "data": {
      "image/png": "[encoded data removed]",
      "text/plain": [
       "<matplotlib.figure.Figure at 0x26434292b00>"
      ]
     },
     "metadata": {},
     "output_type": "display_data"
    }
   ],
   "source": [
    "# clientTimeAtEmployer\n",
    "\n",
    "sns.distplot(df.clientTimeAtEmployer)"
   ]
  },
  {
   "cell_type": "code",
   "execution_count": 59,
   "metadata": {},
   "outputs": [
    {
     "data": {
      "text/plain": [
       "<matplotlib.axes._subplots.AxesSubplot at 0x2643472c5c0>"
      ]
     },
     "execution_count": 59,
     "metadata": {},
     "output_type": "execute_result"
    },
    {
     "data": {
      "image/png": "[encoded data removed]",
      "text/plain": [
       "<matplotlib.figure.Figure at 0x264346f8240>"
      ]
     },
     "metadata": {},
     "output_type": "display_data"
    }
   ],
   "source": [
    "# Converting TimeAtEmployer to Years.\n",
    "\n",
    "df['YearsEmployed'] = df['clientTimeAtEmployer']/12\n",
    "\n",
    "sns.distplot(df['YearsEmployed'])"
   ]
  },
  {
   "cell_type": "code",
   "execution_count": 60,
   "metadata": {},
   "outputs": [
    {
     "data": {
      "text/plain": [
       "<matplotlib.collections.PathCollection at 0x2643484f8d0>"
      ]
     },
     "execution_count": 60,
     "metadata": {},
     "output_type": "execute_result"
    },
    {
     "data": {
      "image/png": "[encoded data removed]",
      "text/plain": [
       "<matplotlib.figure.Figure at 0x2643477b080>"
      ]
     },
     "metadata": {},
     "output_type": "display_data"
    }
   ],
   "source": [
    "plt.scatter(df['YearsEmployed'], df['loanDefault'])"
   ]
  },
  {
   "cell_type": "code",
   "execution_count": 61,
   "metadata": {},
   "outputs": [],
   "source": [
    "# Dropping clientTimeAtEmployer.\n",
    "\n",
    "df = df.drop('clientTimeAtEmployer', axis=1)"
   ]
  },
  {
   "cell_type": "code",
   "execution_count": null,
   "metadata": {},
   "outputs": [],
   "source": []
  },
  {
   "cell_type": "code",
   "execution_count": 62,
   "metadata": {},
   "outputs": [
    {
     "data": {
      "text/plain": [
       "<matplotlib.axes._subplots.AxesSubplot at 0x2643483bd30>"
      ]
     },
     "execution_count": 62,
     "metadata": {},
     "output_type": "execute_result"
    },
    {
     "data": {
      "image/png": "[encoded data removed]",
      "text/plain": [
       "<matplotlib.figure.Figure at 0x26434865320>"
      ]
     },
     "metadata": {},
     "output_type": "display_data"
    }
   ],
   "source": [
    "# clientNumberPhoneContacts\n",
    "\n",
    "sns.distplot(df.clientNumberPhoneContacts)"
   ]
  },
  {
   "cell_type": "code",
   "execution_count": 63,
   "metadata": {},
   "outputs": [
    {
     "data": {
      "text/plain": [
       "<matplotlib.collections.PathCollection at 0x26434f8b748>"
      ]
     },
     "execution_count": 63,
     "metadata": {},
     "output_type": "execute_result"
    },
    {
     "data": {
      "image/png": "[encoded data removed]",
      "text/plain": [
       "<matplotlib.figure.Figure at 0x26434845eb8>"
      ]
     },
     "metadata": {},
     "output_type": "display_data"
    }
   ],
   "source": [
    "plt.scatter(df['clientNumberPhoneContacts'], df['loanDefault'])"
   ]
  },
  {
   "cell_type": "code",
   "execution_count": 64,
   "metadata": {},
   "outputs": [
    {
     "data": {
      "text/plain": [
       "60595.0"
      ]
     },
     "execution_count": 64,
     "metadata": {},
     "output_type": "execute_result"
    }
   ],
   "source": [
    "# There seem to be extreme values on the high extreme.\n",
    "# We'd inspect the high values.\n",
    "\n",
    "df['clientNumberPhoneContacts'].max()"
   ]
  },
  {
   "cell_type": "code",
   "execution_count": 65,
   "metadata": {},
   "outputs": [
    {
     "data": {
      "text/plain": [
       "1"
      ]
     },
     "execution_count": 65,
     "metadata": {},
     "output_type": "execute_result"
    }
   ],
   "source": [
    "# Finding how many customers have 60,595 contacts\n",
    "\n",
    "len(df.loc[df['clientNumberPhoneContacts']==60595])"
   ]
  },
  {
   "cell_type": "code",
   "execution_count": 66,
   "metadata": {},
   "outputs": [
    {
     "data": {
      "text/plain": [
       "0    825.0\n",
       "dtype: float64"
      ]
     },
     "execution_count": 66,
     "metadata": {},
     "output_type": "execute_result"
    }
   ],
   "source": [
    "# Modal value\n",
    "\n",
    "df['clientNumberPhoneContacts'].mode()"
   ]
  },
  {
   "cell_type": "code",
   "execution_count": 67,
   "metadata": {},
   "outputs": [
    {
     "data": {
      "text/plain": [
       "12941     60595.0\n",
       "132284    60292.0\n",
       "28672     57555.0\n",
       "29964     41861.0\n",
       "58080     41861.0\n",
       "139720    41211.0\n",
       "73040     37600.0\n",
       "157825    37583.0\n",
       "151435    34960.0\n",
       "56879     30200.0\n",
       "77813     30178.0\n",
       "120816    30178.0\n",
       "10171     30088.0\n",
       "25673     29892.0\n",
       "158297    29311.0\n",
       "130759    29234.0\n",
       "126462    28552.0\n",
       "145393    28499.0\n",
       "135845    28374.0\n",
       "36098     28255.0\n",
       "69941     27801.0\n",
       "5355      27762.0\n",
       "158078    27474.0\n",
       "155204    27470.0\n",
       "55671     27428.0\n",
       "119646    26740.0\n",
       "142925    26740.0\n",
       "127627    26224.0\n",
       "28370     26094.0\n",
       "137800    25386.0\n",
       "           ...   \n",
       "23375         1.0\n",
       "88443         1.0\n",
       "79055         1.0\n",
       "42193         1.0\n",
       "138206        1.0\n",
       "138366        1.0\n",
       "27006         1.0\n",
       "107487        1.0\n",
       "152199        1.0\n",
       "157943        1.0\n",
       "87297         1.0\n",
       "33527         1.0\n",
       "95131         1.0\n",
       "3127          1.0\n",
       "19559         1.0\n",
       "136694        1.0\n",
       "86203         1.0\n",
       "39185         1.0\n",
       "119762        1.0\n",
       "64988         1.0\n",
       "136930        1.0\n",
       "159066        1.0\n",
       "72495         1.0\n",
       "36243         1.0\n",
       "137132        1.0\n",
       "80217         1.0\n",
       "53553         1.0\n",
       "9888          1.0\n",
       "76241         1.0\n",
       "26158         0.0\n",
       "Name: clientNumberPhoneContacts, Length: 159596, dtype: float64"
      ]
     },
     "execution_count": 67,
     "metadata": {},
     "output_type": "execute_result"
    }
   ],
   "source": [
    "df['clientNumberPhoneContacts'].sort_values(ascending=False)"
   ]
  },
  {
   "cell_type": "code",
   "execution_count": 68,
   "metadata": {},
   "outputs": [],
   "source": [
    "# We may need to rescale this feature due to large variation in values.\n",
    "# We'd do this if monotonic binning doesn't solve it."
   ]
  },
  {
   "cell_type": "code",
   "execution_count": null,
   "metadata": {},
   "outputs": [],
   "source": []
  },
  {
   "cell_type": "code",
   "execution_count": 69,
   "metadata": {},
   "outputs": [
    {
     "data": {
      "text/plain": [
       "<matplotlib.axes._subplots.AxesSubplot at 0x26434f9e9e8>"
      ]
     },
     "execution_count": 69,
     "metadata": {},
     "output_type": "execute_result"
    },
    {
     "data": {
      "image/png": "[encoded data removed]",
      "text/plain": [
       "<matplotlib.figure.Figure at 0x26434f986d8>"
      ]
     },
     "metadata": {},
     "output_type": "display_data"
    }
   ],
   "source": [
    "# clientAvgCallsPerDay\n",
    "\n",
    "sns.distplot(df['clientAvgCallsPerDay'])"
   ]
  },
  {
   "cell_type": "code",
   "execution_count": 70,
   "metadata": {},
   "outputs": [
    {
     "data": {
      "text/plain": [
       "<matplotlib.collections.PathCollection at 0x2643505ad30>"
      ]
     },
     "execution_count": 70,
     "metadata": {},
     "output_type": "execute_result"
    },
    {
     "data": {
      "image/png": "[encoded data removed]",
      "text/plain": [
       "<matplotlib.figure.Figure at 0x2643401c780>"
      ]
     },
     "metadata": {},
     "output_type": "display_data"
    }
   ],
   "source": [
    "plt.scatter(df['clientAvgCallsPerDay'], df['loanDefault'])"
   ]
  },
  {
   "cell_type": "code",
   "execution_count": 71,
   "metadata": {},
   "outputs": [
    {
     "data": {
      "text/plain": [
       "10994.5"
      ]
     },
     "execution_count": 71,
     "metadata": {},
     "output_type": "execute_result"
    }
   ],
   "source": [
    "# Let's find that outlier and fix it.\n",
    "\n",
    "df['clientAvgCallsPerDay'].max()"
   ]
  },
  {
   "cell_type": "code",
   "execution_count": 72,
   "metadata": {},
   "outputs": [
    {
     "data": {
      "text/plain": [
       "29.38"
      ]
     },
     "execution_count": 72,
     "metadata": {},
     "output_type": "execute_result"
    }
   ],
   "source": [
    "# Let's replace it with the median value of the clientAvgCallsPerDay.\n",
    "\n",
    "df['clientAvgCallsPerDay'].median()"
   ]
  },
  {
   "cell_type": "code",
   "execution_count": 73,
   "metadata": {},
   "outputs": [],
   "source": [
    "df.loc[df['clientAvgCallsPerDay']==10994.5, 'clientAvgCallsPerDay'] = 29.38"
   ]
  },
  {
   "cell_type": "code",
   "execution_count": 74,
   "metadata": {},
   "outputs": [
    {
     "data": {
      "text/plain": [
       "<matplotlib.axes._subplots.AxesSubplot at 0x2643503fc18>"
      ]
     },
     "execution_count": 74,
     "metadata": {},
     "output_type": "execute_result"
    },
    {
     "data": {
      "image/png": "[encoded data removed]",
      "text/plain": [
       "<matplotlib.figure.Figure at 0x2643505a7f0>"
      ]
     },
     "metadata": {},
     "output_type": "display_data"
    }
   ],
   "source": [
    "sns.distplot(df['clientAvgCallsPerDay'])"
   ]
  },
  {
   "cell_type": "code",
   "execution_count": 75,
   "metadata": {},
   "outputs": [
    {
     "data": {
      "text/plain": [
       "<matplotlib.collections.PathCollection at 0x264353f4320>"
      ]
     },
     "execution_count": 75,
     "metadata": {},
     "output_type": "execute_result"
    },
    {
     "data": {
      "image/png": "[encoded data removed]",
      "text/plain": [
       "<matplotlib.figure.Figure at 0x264353a2860>"
      ]
     },
     "metadata": {},
     "output_type": "display_data"
    }
   ],
   "source": [
    "plt.scatter(df['clientAvgCallsPerDay'], df['loanDefault'])"
   ]
  },
  {
   "cell_type": "code",
   "execution_count": 76,
   "metadata": {},
   "outputs": [],
   "source": [
    "# This feature will require rescaling if monotonic binning doesn't manage the large variation."
   ]
  },
  {
   "cell_type": "code",
   "execution_count": null,
   "metadata": {},
   "outputs": [],
   "source": []
  },
  {
   "cell_type": "code",
   "execution_count": 77,
   "metadata": {},
   "outputs": [
    {
     "data": {
      "text/plain": [
       "<matplotlib.axes._subplots.AxesSubplot at 0x264353df630>"
      ]
     },
     "execution_count": 77,
     "metadata": {},
     "output_type": "execute_result"
    },
    {
     "data": {
      "image/png": "[encoded data removed]",
      "text/plain": [
       "<matplotlib.figure.Figure at 0x264353c8898>"
      ]
     },
     "metadata": {},
     "output_type": "display_data"
    }
   ],
   "source": [
    "# loanAmount\n",
    "\n",
    "sns.distplot(df['loanAmount'])"
   ]
  },
  {
   "cell_type": "code",
   "execution_count": 78,
   "metadata": {},
   "outputs": [
    {
     "data": {
      "text/plain": [
       "<matplotlib.collections.PathCollection at 0x26437617048>"
      ]
     },
     "execution_count": 78,
     "metadata": {},
     "output_type": "execute_result"
    },
    {
     "data": {
      "image/png": "[encoded data removed]",
      "text/plain": [
       "<matplotlib.figure.Figure at 0x264376adcc0>"
      ]
     },
     "metadata": {},
     "output_type": "display_data"
    }
   ],
   "source": [
    "plt.scatter(df['loanAmount'], df['loanDefault'])"
   ]
  },
  {
   "cell_type": "code",
   "execution_count": null,
   "metadata": {},
   "outputs": [],
   "source": []
  },
  {
   "cell_type": "code",
   "execution_count": 79,
   "metadata": {},
   "outputs": [
    {
     "data": {
      "text/plain": [
       "<matplotlib.axes._subplots.AxesSubplot at 0x26435401fd0>"
      ]
     },
     "execution_count": 79,
     "metadata": {},
     "output_type": "execute_result"
    },
    {
     "data": {
      "image/png": "[encoded data removed]",
      "text/plain": [
       "<matplotlib.figure.Figure at 0x26435407668>"
      ]
     },
     "metadata": {},
     "output_type": "display_data"
    }
   ],
   "source": [
    "# loanTerm.\n",
    "\n",
    "sns.distplot(df['loanTerm'])"
   ]
  },
  {
   "cell_type": "code",
   "execution_count": 80,
   "metadata": {},
   "outputs": [
    {
     "data": {
      "text/plain": [
       "<matplotlib.axes._subplots.AxesSubplot at 0x2643764c9b0>"
      ]
     },
     "execution_count": 80,
     "metadata": {},
     "output_type": "execute_result"
    },
    {
     "data": {
      "image/png": "[encoded data removed]",
      "text/plain": [
       "<matplotlib.figure.Figure at 0x264375bbba8>"
      ]
     },
     "metadata": {},
     "output_type": "display_data"
    }
   ],
   "source": [
    "sns.countplot(df['loanTerm'])"
   ]
  },
  {
   "cell_type": "code",
   "execution_count": 81,
   "metadata": {},
   "outputs": [],
   "source": [
    "# This feature is categorical in nature as it deals with periods - 2months(60days),\n",
    "# 3months(90days) and 6months(180days).\n",
    "\n",
    "#The machine would treat them in numerical order attaching more importance to higher values e.g\n",
    "#seeing 180 as greater than 90 and 60 (which is not our aim).\n",
    "\n",
    "#So We'd convert this feature to category either using df.loanTerm.astype('category')\n",
    "#Or changing 60, 90, and 180 to string(assigning Categorical names)."
   ]
  },
  {
   "cell_type": "code",
   "execution_count": 82,
   "metadata": {},
   "outputs": [
    {
     "data": {
      "text/plain": [
       "CategoricalDtype(categories=[60, 90, 180], ordered=False)"
      ]
     },
     "execution_count": 82,
     "metadata": {},
     "output_type": "execute_result"
    }
   ],
   "source": [
    "df['loanTerm'] = df['loanTerm'].astype('category')\n",
    "\n",
    "df['loanTerm'].dtype"
   ]
  },
  {
   "cell_type": "code",
   "execution_count": null,
   "metadata": {},
   "outputs": [],
   "source": []
  },
  {
   "cell_type": "markdown",
   "metadata": {},
   "source": [
    "# FINALLY, Let's explore the Target feature."
   ]
  },
  {
   "cell_type": "code",
   "execution_count": 83,
   "metadata": {},
   "outputs": [
    {
     "data": {
      "text/plain": [
       "0    115321\n",
       "1     44275\n",
       "Name: loanDefault, dtype: int64"
      ]
     },
     "execution_count": 83,
     "metadata": {},
     "output_type": "execute_result"
    }
   ],
   "source": [
    "df['loanDefault'].value_counts()"
   ]
  },
  {
   "cell_type": "code",
   "execution_count": 84,
   "metadata": {},
   "outputs": [
    {
     "data": {
      "text/plain": [
       "<matplotlib.axes._subplots.AxesSubplot at 0x2643816ae80>"
      ]
     },
     "execution_count": 84,
     "metadata": {},
     "output_type": "execute_result"
    },
    {
     "data": {
      "image/png": "[encoded data removed]",
      "text/plain": [
       "<matplotlib.figure.Figure at 0x264380cb320>"
      ]
     },
     "metadata": {},
     "output_type": "display_data"
    }
   ],
   "source": [
    "sns.countplot(df['loanDefault'])"
   ]
  },
  {
   "cell_type": "code",
   "execution_count": 85,
   "metadata": {},
   "outputs": [
    {
     "name": "stdout",
     "output_type": "stream",
     "text": [
      "percentage default rate: 27.7419233564751%\n"
     ]
    }
   ],
   "source": [
    "no_of_default = len(df.loc[df['loanDefault']==1])\n",
    "\n",
    "totalno_of_samples = len(df['loanDefault'])\n",
    "\n",
    "Pdr = (no_of_default/totalno_of_samples) * 100\n",
    "\n",
    "\n",
    "print(f'percentage default rate: {Pdr}%')"
   ]
  },
  {
   "cell_type": "code",
   "execution_count": null,
   "metadata": {},
   "outputs": [],
   "source": []
  },
  {
   "cell_type": "code",
   "execution_count": 86,
   "metadata": {},
   "outputs": [
    {
     "data": {
      "text/html": [
       "<div>\n",
       "<style scoped>\n",
       "    .dataframe tbody tr th:only-of-type {\n",
       "        vertical-align: middle;\n",
       "    }\n",
       "\n",
       "    .dataframe tbody tr th {\n",
       "        vertical-align: top;\n",
       "    }\n",
       "\n",
       "    .dataframe thead th {\n",
       "        text-align: right;\n",
       "    }\n",
       "</style>\n",
       "<table border=\"1\" class=\"dataframe\">\n",
       "  <thead>\n",
       "    <tr style=\"text-align: right;\">\n",
       "      <th></th>\n",
       "      <th>clientId</th>\n",
       "      <th>clientIncome</th>\n",
       "      <th>clientAge</th>\n",
       "      <th>clientGender</th>\n",
       "      <th>clientMaritalStatus</th>\n",
       "      <th>clientLoanPurpose</th>\n",
       "      <th>clientResidentialStatus</th>\n",
       "      <th>clientState</th>\n",
       "      <th>clientNumberPhoneContacts</th>\n",
       "      <th>clientAvgCallsPerDay</th>\n",
       "      <th>loanAmount</th>\n",
       "      <th>loanTerm</th>\n",
       "      <th>loanDefault</th>\n",
       "      <th>YearsEmployed</th>\n",
       "    </tr>\n",
       "  </thead>\n",
       "  <tbody>\n",
       "    <tr>\n",
       "      <th>0</th>\n",
       "      <td>676059506</td>\n",
       "      <td>66452.66</td>\n",
       "      <td>38</td>\n",
       "      <td>MALE</td>\n",
       "      <td>Married</td>\n",
       "      <td>education</td>\n",
       "      <td>Rented</td>\n",
       "      <td>NOC</td>\n",
       "      <td>458.0</td>\n",
       "      <td>6.792453</td>\n",
       "      <td>42000</td>\n",
       "      <td>90</td>\n",
       "      <td>0</td>\n",
       "      <td>3.333333</td>\n",
       "    </tr>\n",
       "    <tr>\n",
       "      <th>1</th>\n",
       "      <td>704436304</td>\n",
       "      <td>35000.00</td>\n",
       "      <td>35</td>\n",
       "      <td>MALE</td>\n",
       "      <td>Single</td>\n",
       "      <td>other</td>\n",
       "      <td>Rented</td>\n",
       "      <td>NOC</td>\n",
       "      <td>708.0</td>\n",
       "      <td>2.144928</td>\n",
       "      <td>20000</td>\n",
       "      <td>90</td>\n",
       "      <td>0</td>\n",
       "      <td>3.333333</td>\n",
       "    </tr>\n",
       "    <tr>\n",
       "      <th>2</th>\n",
       "      <td>487954787</td>\n",
       "      <td>162851.11</td>\n",
       "      <td>47</td>\n",
       "      <td>FEMALE</td>\n",
       "      <td>Married</td>\n",
       "      <td>education</td>\n",
       "      <td>Own</td>\n",
       "      <td>SW</td>\n",
       "      <td>622.0</td>\n",
       "      <td>36.095238</td>\n",
       "      <td>134000</td>\n",
       "      <td>90</td>\n",
       "      <td>0</td>\n",
       "      <td>3.333333</td>\n",
       "    </tr>\n",
       "  </tbody>\n",
       "</table>\n",
       "</div>"
      ],
      "text/plain": [
       "    clientId  clientIncome  clientAge clientGender clientMaritalStatus  \\\n",
       "0  676059506      66452.66         38         MALE             Married   \n",
       "1  704436304      35000.00         35         MALE              Single   \n",
       "2  487954787     162851.11         47       FEMALE             Married   \n",
       "\n",
       "  clientLoanPurpose clientResidentialStatus clientState  \\\n",
       "0         education                  Rented         NOC   \n",
       "1             other                  Rented         NOC   \n",
       "2         education                     Own          SW   \n",
       "\n",
       "   clientNumberPhoneContacts  clientAvgCallsPerDay  loanAmount loanTerm  \\\n",
       "0                      458.0              6.792453       42000       90   \n",
       "1                      708.0              2.144928       20000       90   \n",
       "2                      622.0             36.095238      134000       90   \n",
       "\n",
       "   loanDefault  YearsEmployed  \n",
       "0            0       3.333333  \n",
       "1            0       3.333333  \n",
       "2            0       3.333333  "
      ]
     },
     "execution_count": 86,
     "metadata": {},
     "output_type": "execute_result"
    }
   ],
   "source": [
    "# Splitting the data into numeric and categorical variables.\n",
    "\n",
    "df.head(3)"
   ]
  },
  {
   "cell_type": "code",
   "execution_count": 87,
   "metadata": {},
   "outputs": [
    {
     "data": {
      "text/html": [
       "<div>\n",
       "<style scoped>\n",
       "    .dataframe tbody tr th:only-of-type {\n",
       "        vertical-align: middle;\n",
       "    }\n",
       "\n",
       "    .dataframe tbody tr th {\n",
       "        vertical-align: top;\n",
       "    }\n",
       "\n",
       "    .dataframe thead th {\n",
       "        text-align: right;\n",
       "    }\n",
       "</style>\n",
       "<table border=\"1\" class=\"dataframe\">\n",
       "  <thead>\n",
       "    <tr style=\"text-align: right;\">\n",
       "      <th></th>\n",
       "      <th>clientId</th>\n",
       "      <th>clientIncome</th>\n",
       "      <th>clientAge</th>\n",
       "      <th>clientNumberPhoneContacts</th>\n",
       "      <th>clientAvgCallsPerDay</th>\n",
       "      <th>loanAmount</th>\n",
       "      <th>loanTerm</th>\n",
       "      <th>loanDefault</th>\n",
       "      <th>YearsEmployed</th>\n",
       "    </tr>\n",
       "  </thead>\n",
       "  <tbody>\n",
       "    <tr>\n",
       "      <th>0</th>\n",
       "      <td>676059506</td>\n",
       "      <td>66452.66</td>\n",
       "      <td>38</td>\n",
       "      <td>458.0</td>\n",
       "      <td>6.792453</td>\n",
       "      <td>42000</td>\n",
       "      <td>90</td>\n",
       "      <td>0</td>\n",
       "      <td>3.333333</td>\n",
       "    </tr>\n",
       "    <tr>\n",
       "      <th>1</th>\n",
       "      <td>704436304</td>\n",
       "      <td>35000.00</td>\n",
       "      <td>35</td>\n",
       "      <td>708.0</td>\n",
       "      <td>2.144928</td>\n",
       "      <td>20000</td>\n",
       "      <td>90</td>\n",
       "      <td>0</td>\n",
       "      <td>3.333333</td>\n",
       "    </tr>\n",
       "    <tr>\n",
       "      <th>2</th>\n",
       "      <td>487954787</td>\n",
       "      <td>162851.11</td>\n",
       "      <td>47</td>\n",
       "      <td>622.0</td>\n",
       "      <td>36.095238</td>\n",
       "      <td>134000</td>\n",
       "      <td>90</td>\n",
       "      <td>0</td>\n",
       "      <td>3.333333</td>\n",
       "    </tr>\n",
       "  </tbody>\n",
       "</table>\n",
       "</div>"
      ],
      "text/plain": [
       "    clientId  clientIncome  clientAge  clientNumberPhoneContacts  \\\n",
       "0  676059506      66452.66         38                      458.0   \n",
       "1  704436304      35000.00         35                      708.0   \n",
       "2  487954787     162851.11         47                      622.0   \n",
       "\n",
       "   clientAvgCallsPerDay  loanAmount loanTerm  loanDefault  YearsEmployed  \n",
       "0              6.792453       42000       90            0       3.333333  \n",
       "1              2.144928       20000       90            0       3.333333  \n",
       "2             36.095238      134000       90            0       3.333333  "
      ]
     },
     "execution_count": 87,
     "metadata": {},
     "output_type": "execute_result"
    }
   ],
   "source": [
    "# Numerical variables.\n",
    "\n",
    "num_var = df.select_dtypes(exclude=object)\n",
    "num_var.head(3)"
   ]
  },
  {
   "cell_type": "code",
   "execution_count": 88,
   "metadata": {},
   "outputs": [
    {
     "data": {
      "text/html": [
       "<div>\n",
       "<style scoped>\n",
       "    .dataframe tbody tr th:only-of-type {\n",
       "        vertical-align: middle;\n",
       "    }\n",
       "\n",
       "    .dataframe tbody tr th {\n",
       "        vertical-align: top;\n",
       "    }\n",
       "\n",
       "    .dataframe thead th {\n",
       "        text-align: right;\n",
       "    }\n",
       "</style>\n",
       "<table border=\"1\" class=\"dataframe\">\n",
       "  <thead>\n",
       "    <tr style=\"text-align: right;\">\n",
       "      <th></th>\n",
       "      <th>clientIncome</th>\n",
       "      <th>clientAge</th>\n",
       "      <th>clientNumberPhoneContacts</th>\n",
       "      <th>clientAvgCallsPerDay</th>\n",
       "      <th>loanAmount</th>\n",
       "      <th>YearsEmployed</th>\n",
       "    </tr>\n",
       "  </thead>\n",
       "  <tbody>\n",
       "    <tr>\n",
       "      <th>0</th>\n",
       "      <td>66452.66</td>\n",
       "      <td>38</td>\n",
       "      <td>458.0</td>\n",
       "      <td>6.792453</td>\n",
       "      <td>42000</td>\n",
       "      <td>3.333333</td>\n",
       "    </tr>\n",
       "    <tr>\n",
       "      <th>1</th>\n",
       "      <td>35000.00</td>\n",
       "      <td>35</td>\n",
       "      <td>708.0</td>\n",
       "      <td>2.144928</td>\n",
       "      <td>20000</td>\n",
       "      <td>3.333333</td>\n",
       "    </tr>\n",
       "    <tr>\n",
       "      <th>2</th>\n",
       "      <td>162851.11</td>\n",
       "      <td>47</td>\n",
       "      <td>622.0</td>\n",
       "      <td>36.095238</td>\n",
       "      <td>134000</td>\n",
       "      <td>3.333333</td>\n",
       "    </tr>\n",
       "  </tbody>\n",
       "</table>\n",
       "</div>"
      ],
      "text/plain": [
       "   clientIncome  clientAge  clientNumberPhoneContacts  clientAvgCallsPerDay  \\\n",
       "0      66452.66         38                      458.0              6.792453   \n",
       "1      35000.00         35                      708.0              2.144928   \n",
       "2     162851.11         47                      622.0             36.095238   \n",
       "\n",
       "   loanAmount  YearsEmployed  \n",
       "0       42000       3.333333  \n",
       "1       20000       3.333333  \n",
       "2      134000       3.333333  "
      ]
     },
     "execution_count": 88,
     "metadata": {},
     "output_type": "execute_result"
    }
   ],
   "source": [
    "# Dropping the not required numeric variables.\n",
    "\n",
    "X_num = num_var.drop(['clientId', 'loanDefault', 'loanTerm'], axis=1)\n",
    "X_num.head(3)"
   ]
  },
  {
   "cell_type": "code",
   "execution_count": 89,
   "metadata": {},
   "outputs": [
    {
     "data": {
      "text/plain": [
       "0    0\n",
       "1    0\n",
       "2    0\n",
       "Name: loanDefault, dtype: int64"
      ]
     },
     "execution_count": 89,
     "metadata": {},
     "output_type": "execute_result"
    }
   ],
   "source": [
    "Y_num = df['loanDefault']\n",
    "Y_num.head(3)"
   ]
  },
  {
   "cell_type": "code",
   "execution_count": 90,
   "metadata": {},
   "outputs": [
    {
     "data": {
      "text/html": [
       "<div>\n",
       "<style scoped>\n",
       "    .dataframe tbody tr th:only-of-type {\n",
       "        vertical-align: middle;\n",
       "    }\n",
       "\n",
       "    .dataframe tbody tr th {\n",
       "        vertical-align: top;\n",
       "    }\n",
       "\n",
       "    .dataframe thead th {\n",
       "        text-align: right;\n",
       "    }\n",
       "</style>\n",
       "<table border=\"1\" class=\"dataframe\">\n",
       "  <thead>\n",
       "    <tr style=\"text-align: right;\">\n",
       "      <th></th>\n",
       "      <th>clientGender</th>\n",
       "      <th>clientMaritalStatus</th>\n",
       "      <th>clientLoanPurpose</th>\n",
       "      <th>clientResidentialStatus</th>\n",
       "      <th>clientState</th>\n",
       "    </tr>\n",
       "  </thead>\n",
       "  <tbody>\n",
       "    <tr>\n",
       "      <th>0</th>\n",
       "      <td>MALE</td>\n",
       "      <td>Married</td>\n",
       "      <td>education</td>\n",
       "      <td>Rented</td>\n",
       "      <td>NOC</td>\n",
       "    </tr>\n",
       "    <tr>\n",
       "      <th>1</th>\n",
       "      <td>MALE</td>\n",
       "      <td>Single</td>\n",
       "      <td>other</td>\n",
       "      <td>Rented</td>\n",
       "      <td>NOC</td>\n",
       "    </tr>\n",
       "    <tr>\n",
       "      <th>2</th>\n",
       "      <td>FEMALE</td>\n",
       "      <td>Married</td>\n",
       "      <td>education</td>\n",
       "      <td>Own</td>\n",
       "      <td>SW</td>\n",
       "    </tr>\n",
       "  </tbody>\n",
       "</table>\n",
       "</div>"
      ],
      "text/plain": [
       "  clientGender clientMaritalStatus clientLoanPurpose clientResidentialStatus  \\\n",
       "0         MALE             Married         education                  Rented   \n",
       "1         MALE              Single             other                  Rented   \n",
       "2       FEMALE             Married         education                     Own   \n",
       "\n",
       "  clientState  \n",
       "0         NOC  \n",
       "1         NOC  \n",
       "2          SW  "
      ]
     },
     "execution_count": 90,
     "metadata": {},
     "output_type": "execute_result"
    }
   ],
   "source": [
    "# Categorical variables\n",
    "\n",
    "cat_var = df.select_dtypes(include=object)\n",
    "cat_var.head(3)"
   ]
  },
  {
   "cell_type": "code",
   "execution_count": 91,
   "metadata": {},
   "outputs": [
    {
     "data": {
      "text/html": [
       "<div>\n",
       "<style scoped>\n",
       "    .dataframe tbody tr th:only-of-type {\n",
       "        vertical-align: middle;\n",
       "    }\n",
       "\n",
       "    .dataframe tbody tr th {\n",
       "        vertical-align: top;\n",
       "    }\n",
       "\n",
       "    .dataframe thead th {\n",
       "        text-align: right;\n",
       "    }\n",
       "</style>\n",
       "<table border=\"1\" class=\"dataframe\">\n",
       "  <thead>\n",
       "    <tr style=\"text-align: right;\">\n",
       "      <th></th>\n",
       "      <th>clientGender_FEMALE</th>\n",
       "      <th>clientGender_MALE</th>\n",
       "      <th>clientMaritalStatus_Married</th>\n",
       "      <th>clientMaritalStatus_Separated</th>\n",
       "      <th>clientMaritalStatus_Single</th>\n",
       "      <th>clientLoanPurpose_business</th>\n",
       "      <th>clientLoanPurpose_education</th>\n",
       "      <th>clientLoanPurpose_house</th>\n",
       "      <th>clientLoanPurpose_medical</th>\n",
       "      <th>clientLoanPurpose_other</th>\n",
       "      <th>clientResidentialStatus_Own</th>\n",
       "      <th>clientResidentialStatus_Rented</th>\n",
       "      <th>clientState_NOC</th>\n",
       "      <th>clientState_SE</th>\n",
       "      <th>clientState_SS</th>\n",
       "      <th>clientState_SW</th>\n",
       "    </tr>\n",
       "  </thead>\n",
       "  <tbody>\n",
       "    <tr>\n",
       "      <th>0</th>\n",
       "      <td>0</td>\n",
       "      <td>1</td>\n",
       "      <td>1</td>\n",
       "      <td>0</td>\n",
       "      <td>0</td>\n",
       "      <td>0</td>\n",
       "      <td>1</td>\n",
       "      <td>0</td>\n",
       "      <td>0</td>\n",
       "      <td>0</td>\n",
       "      <td>0</td>\n",
       "      <td>1</td>\n",
       "      <td>1</td>\n",
       "      <td>0</td>\n",
       "      <td>0</td>\n",
       "      <td>0</td>\n",
       "    </tr>\n",
       "    <tr>\n",
       "      <th>1</th>\n",
       "      <td>0</td>\n",
       "      <td>1</td>\n",
       "      <td>0</td>\n",
       "      <td>0</td>\n",
       "      <td>1</td>\n",
       "      <td>0</td>\n",
       "      <td>0</td>\n",
       "      <td>0</td>\n",
       "      <td>0</td>\n",
       "      <td>1</td>\n",
       "      <td>0</td>\n",
       "      <td>1</td>\n",
       "      <td>1</td>\n",
       "      <td>0</td>\n",
       "      <td>0</td>\n",
       "      <td>0</td>\n",
       "    </tr>\n",
       "    <tr>\n",
       "      <th>2</th>\n",
       "      <td>1</td>\n",
       "      <td>0</td>\n",
       "      <td>1</td>\n",
       "      <td>0</td>\n",
       "      <td>0</td>\n",
       "      <td>0</td>\n",
       "      <td>1</td>\n",
       "      <td>0</td>\n",
       "      <td>0</td>\n",
       "      <td>0</td>\n",
       "      <td>1</td>\n",
       "      <td>0</td>\n",
       "      <td>0</td>\n",
       "      <td>0</td>\n",
       "      <td>0</td>\n",
       "      <td>1</td>\n",
       "    </tr>\n",
       "  </tbody>\n",
       "</table>\n",
       "</div>"
      ],
      "text/plain": [
       "   clientGender_FEMALE  clientGender_MALE  clientMaritalStatus_Married  \\\n",
       "0                    0                  1                            1   \n",
       "1                    0                  1                            0   \n",
       "2                    1                  0                            1   \n",
       "\n",
       "   clientMaritalStatus_Separated  clientMaritalStatus_Single  \\\n",
       "0                              0                           0   \n",
       "1                              0                           1   \n",
       "2                              0                           0   \n",
       "\n",
       "   clientLoanPurpose_business  clientLoanPurpose_education  \\\n",
       "0                           0                            1   \n",
       "1                           0                            0   \n",
       "2                           0                            1   \n",
       "\n",
       "   clientLoanPurpose_house  clientLoanPurpose_medical  \\\n",
       "0                        0                          0   \n",
       "1                        0                          0   \n",
       "2                        0                          0   \n",
       "\n",
       "   clientLoanPurpose_other  clientResidentialStatus_Own  \\\n",
       "0                        0                            0   \n",
       "1                        1                            0   \n",
       "2                        0                            1   \n",
       "\n",
       "   clientResidentialStatus_Rented  clientState_NOC  clientState_SE  \\\n",
       "0                               1                1               0   \n",
       "1                               1                1               0   \n",
       "2                               0                0               0   \n",
       "\n",
       "   clientState_SS  clientState_SW  \n",
       "0               0               0  \n",
       "1               0               0  \n",
       "2               0               1  "
      ]
     },
     "execution_count": 91,
     "metadata": {},
     "output_type": "execute_result"
    }
   ],
   "source": [
    "# Converting Categorical variables to dummy.\n",
    "\n",
    "CAT = pd.get_dummies(cat_var)\n",
    "CAT.head(3)"
   ]
  },
  {
   "cell_type": "code",
   "execution_count": 92,
   "metadata": {},
   "outputs": [
    {
     "data": {
      "text/html": [
       "<div>\n",
       "<style scoped>\n",
       "    .dataframe tbody tr th:only-of-type {\n",
       "        vertical-align: middle;\n",
       "    }\n",
       "\n",
       "    .dataframe tbody tr th {\n",
       "        vertical-align: top;\n",
       "    }\n",
       "\n",
       "    .dataframe thead th {\n",
       "        text-align: right;\n",
       "    }\n",
       "</style>\n",
       "<table border=\"1\" class=\"dataframe\">\n",
       "  <thead>\n",
       "    <tr style=\"text-align: right;\">\n",
       "      <th></th>\n",
       "      <th>clientIncome</th>\n",
       "      <th>clientAge</th>\n",
       "      <th>clientNumberPhoneContacts</th>\n",
       "      <th>clientAvgCallsPerDay</th>\n",
       "      <th>loanAmount</th>\n",
       "      <th>YearsEmployed</th>\n",
       "      <th>clientGender_FEMALE</th>\n",
       "      <th>clientGender_MALE</th>\n",
       "      <th>clientMaritalStatus_Married</th>\n",
       "      <th>clientMaritalStatus_Separated</th>\n",
       "      <th>...</th>\n",
       "      <th>clientLoanPurpose_house</th>\n",
       "      <th>clientLoanPurpose_medical</th>\n",
       "      <th>clientLoanPurpose_other</th>\n",
       "      <th>clientResidentialStatus_Own</th>\n",
       "      <th>clientResidentialStatus_Rented</th>\n",
       "      <th>clientState_NOC</th>\n",
       "      <th>clientState_SE</th>\n",
       "      <th>clientState_SS</th>\n",
       "      <th>clientState_SW</th>\n",
       "      <th>loanDefault</th>\n",
       "    </tr>\n",
       "  </thead>\n",
       "  <tbody>\n",
       "    <tr>\n",
       "      <th>0</th>\n",
       "      <td>66452.66</td>\n",
       "      <td>38</td>\n",
       "      <td>458.0</td>\n",
       "      <td>6.792453</td>\n",
       "      <td>42000</td>\n",
       "      <td>3.333333</td>\n",
       "      <td>0</td>\n",
       "      <td>1</td>\n",
       "      <td>1</td>\n",
       "      <td>0</td>\n",
       "      <td>...</td>\n",
       "      <td>0</td>\n",
       "      <td>0</td>\n",
       "      <td>0</td>\n",
       "      <td>0</td>\n",
       "      <td>1</td>\n",
       "      <td>1</td>\n",
       "      <td>0</td>\n",
       "      <td>0</td>\n",
       "      <td>0</td>\n",
       "      <td>0</td>\n",
       "    </tr>\n",
       "    <tr>\n",
       "      <th>1</th>\n",
       "      <td>35000.00</td>\n",
       "      <td>35</td>\n",
       "      <td>708.0</td>\n",
       "      <td>2.144928</td>\n",
       "      <td>20000</td>\n",
       "      <td>3.333333</td>\n",
       "      <td>0</td>\n",
       "      <td>1</td>\n",
       "      <td>0</td>\n",
       "      <td>0</td>\n",
       "      <td>...</td>\n",
       "      <td>0</td>\n",
       "      <td>0</td>\n",
       "      <td>1</td>\n",
       "      <td>0</td>\n",
       "      <td>1</td>\n",
       "      <td>1</td>\n",
       "      <td>0</td>\n",
       "      <td>0</td>\n",
       "      <td>0</td>\n",
       "      <td>0</td>\n",
       "    </tr>\n",
       "    <tr>\n",
       "      <th>2</th>\n",
       "      <td>162851.11</td>\n",
       "      <td>47</td>\n",
       "      <td>622.0</td>\n",
       "      <td>36.095238</td>\n",
       "      <td>134000</td>\n",
       "      <td>3.333333</td>\n",
       "      <td>1</td>\n",
       "      <td>0</td>\n",
       "      <td>1</td>\n",
       "      <td>0</td>\n",
       "      <td>...</td>\n",
       "      <td>0</td>\n",
       "      <td>0</td>\n",
       "      <td>0</td>\n",
       "      <td>1</td>\n",
       "      <td>0</td>\n",
       "      <td>0</td>\n",
       "      <td>0</td>\n",
       "      <td>0</td>\n",
       "      <td>1</td>\n",
       "      <td>0</td>\n",
       "    </tr>\n",
       "  </tbody>\n",
       "</table>\n",
       "<p>3 rows × 23 columns</p>\n",
       "</div>"
      ],
      "text/plain": [
       "   clientIncome  clientAge  clientNumberPhoneContacts  clientAvgCallsPerDay  \\\n",
       "0      66452.66         38                      458.0              6.792453   \n",
       "1      35000.00         35                      708.0              2.144928   \n",
       "2     162851.11         47                      622.0             36.095238   \n",
       "\n",
       "   loanAmount  YearsEmployed  clientGender_FEMALE  clientGender_MALE  \\\n",
       "0       42000       3.333333                    0                  1   \n",
       "1       20000       3.333333                    0                  1   \n",
       "2      134000       3.333333                    1                  0   \n",
       "\n",
       "   clientMaritalStatus_Married  clientMaritalStatus_Separated     ...       \\\n",
       "0                            1                              0     ...        \n",
       "1                            0                              0     ...        \n",
       "2                            1                              0     ...        \n",
       "\n",
       "   clientLoanPurpose_house  clientLoanPurpose_medical  \\\n",
       "0                        0                          0   \n",
       "1                        0                          0   \n",
       "2                        0                          0   \n",
       "\n",
       "   clientLoanPurpose_other  clientResidentialStatus_Own  \\\n",
       "0                        0                            0   \n",
       "1                        1                            0   \n",
       "2                        0                            1   \n",
       "\n",
       "   clientResidentialStatus_Rented  clientState_NOC  clientState_SE  \\\n",
       "0                               1                1               0   \n",
       "1                               1                1               0   \n",
       "2                               0                0               0   \n",
       "\n",
       "   clientState_SS  clientState_SW  loanDefault  \n",
       "0               0               0            0  \n",
       "1               0               0            0  \n",
       "2               0               1            0  \n",
       "\n",
       "[3 rows x 23 columns]"
      ]
     },
     "execution_count": 92,
     "metadata": {},
     "output_type": "execute_result"
    }
   ],
   "source": [
    "# Putting them together.\n",
    "\n",
    "dataset = pd.concat([X_num, CAT, Y_num], axis=1)\n",
    "dataset.head(3)"
   ]
  },
  {
   "cell_type": "code",
   "execution_count": null,
   "metadata": {},
   "outputs": [],
   "source": []
  },
  {
   "cell_type": "code",
   "execution_count": 93,
   "metadata": {},
   "outputs": [],
   "source": [
    "# Correlation.\n",
    "\n",
    "cor_matrix = dataset.corr()\n",
    "#cor_matrix"
   ]
  },
  {
   "cell_type": "code",
   "execution_count": 94,
   "metadata": {},
   "outputs": [
    {
     "data": {
      "text/plain": [
       "loanDefault                       1.000000\n",
       "clientLoanPurpose_business        0.073548\n",
       "clientGender_MALE                 0.026397\n",
       "clientMaritalStatus_Single        0.024378\n",
       "clientLoanPurpose_medical         0.008569\n",
       "clientState_SE                    0.008361\n",
       "YearsEmployed                     0.006398\n",
       "clientResidentialStatus_Own       0.005572\n",
       "clientState_NOC                   0.001660\n",
       "clientState_SW                   -0.002163\n",
       "clientState_SS                   -0.003743\n",
       "clientResidentialStatus_Rented   -0.005572\n",
       "clientMaritalStatus_Separated    -0.007254\n",
       "clientLoanPurpose_education      -0.016746\n",
       "loanAmount                       -0.017462\n",
       "clientMaritalStatus_Married      -0.022415\n",
       "clientGender_FEMALE              -0.026397\n",
       "clientNumberPhoneContacts        -0.027305\n",
       "clientAvgCallsPerDay             -0.027982\n",
       "clientIncome                     -0.035308\n",
       "clientLoanPurpose_house          -0.040403\n",
       "clientAge                        -0.048475\n",
       "clientLoanPurpose_other          -0.050132\n",
       "Name: loanDefault, dtype: float64"
      ]
     },
     "execution_count": 94,
     "metadata": {},
     "output_type": "execute_result"
    }
   ],
   "source": [
    "cor_matrix['loanDefault'].sort_values(ascending=False)"
   ]
  },
  {
   "cell_type": "code",
   "execution_count": null,
   "metadata": {},
   "outputs": [],
   "source": []
  },
  {
   "cell_type": "code",
   "execution_count": 95,
   "metadata": {},
   "outputs": [],
   "source": [
    "# Splitting dataset into X and y.\n",
    "\n",
    "X = dataset.drop('loanDefault', axis=1)\n",
    "y = dataset['loanDefault']"
   ]
  },
  {
   "cell_type": "code",
   "execution_count": 101,
   "metadata": {},
   "outputs": [
    {
     "ename": "ModuleNotFoundError",
     "evalue": "No module named 'imblearn'",
     "output_type": "error",
     "traceback": [
      "\u001b[1;31m---------------------------------------------------------------------------\u001b[0m",
      "\u001b[1;31mModuleNotFoundError\u001b[0m                       Traceback (most recent call last)",
      "\u001b[1;32m<ipython-input-101-22eabb17cf59>\u001b[0m in \u001b[0;36m<module>\u001b[1;34m()\u001b[0m\n\u001b[0;32m      1\u001b[0m \u001b[1;31m# Oversampling\u001b[0m\u001b[1;33m\u001b[0m\u001b[1;33m\u001b[0m\u001b[0m\n\u001b[0;32m      2\u001b[0m \u001b[1;32mfrom\u001b[0m \u001b[0mcollections\u001b[0m \u001b[1;32mimport\u001b[0m \u001b[0mCounter\u001b[0m\u001b[1;33m\u001b[0m\u001b[0m\n\u001b[1;32m----> 3\u001b[1;33m \u001b[1;32mfrom\u001b[0m \u001b[0mimblearn\u001b[0m\u001b[1;33m.\u001b[0m\u001b[0mover_sampling\u001b[0m \u001b[1;32mimport\u001b[0m \u001b[0mSMOTE\u001b[0m\u001b[1;33m\u001b[0m\u001b[0m\n\u001b[0m\u001b[0;32m      4\u001b[0m \u001b[1;33m\u001b[0m\u001b[0m\n\u001b[0;32m      5\u001b[0m \u001b[0msm\u001b[0m \u001b[1;33m=\u001b[0m \u001b[0mSMOTE\u001b[0m\u001b[1;33m(\u001b[0m\u001b[0mrandom_state\u001b[0m\u001b[1;33m=\u001b[0m\u001b[1;36m42\u001b[0m\u001b[1;33m,\u001b[0m \u001b[0mratio\u001b[0m\u001b[1;33m=\u001b[0m\u001b[1;33m{\u001b[0m\u001b[1;36m1\u001b[0m\u001b[1;33m:\u001b[0m\u001b[1;36m110000\u001b[0m\u001b[1;33m}\u001b[0m\u001b[1;33m)\u001b[0m\u001b[1;33m\u001b[0m\u001b[0m\n",
      "\u001b[1;31mModuleNotFoundError\u001b[0m: No module named 'imblearn'"
     ]
    }
   ],
   "source": [
    "# Oversampling\n",
    "from collections import Counter\n",
    "from imblearn.over_sampling import SMOTE\n",
    "\n",
    "sm = SMOTE(random_state=42, ratio={1:110000})\n",
    "x_res, y_res = sm.fit_sample(X, y)"
   ]
  },
  {
   "cell_type": "code",
   "execution_count": 142,
   "metadata": {},
   "outputs": [],
   "source": [
    "# Split into train and test sets.\n",
    "from sklearn.model_selection import train_test_split\n",
    "\n",
    "X_train, X_test, y_train, y_test = train_test_split(x_res,y_res, test_size=0.2, random_state=42)"
   ]
  },
  {
   "cell_type": "code",
   "execution_count": null,
   "metadata": {},
   "outputs": [],
   "source": []
  },
  {
   "cell_type": "code",
   "execution_count": 159,
   "metadata": {},
   "outputs": [],
   "source": [
    "from sklearn.preprocessing import StandardScaler\n",
    "\n",
    "scx = StandardScaler()\n",
    "X_train_scaled = scx.fit_transform(X_train)\n",
    "X_test_scaled = scx.transform(X_test)"
   ]
  },
  {
   "cell_type": "code",
   "execution_count": null,
   "metadata": {},
   "outputs": [],
   "source": []
  },
  {
   "cell_type": "code",
   "execution_count": 160,
   "metadata": {},
   "outputs": [
    {
     "data": {
      "text/plain": [
       "LogisticRegression(C=1.0, class_weight=None, dual=False, fit_intercept=True,\n",
       "                   intercept_scaling=1, l1_ratio=None, max_iter=100,\n",
       "                   multi_class='auto', n_jobs=None, penalty='l2',\n",
       "                   random_state=None, solver='lbfgs', tol=0.0001, verbose=0,\n",
       "                   warm_start=False)"
      ]
     },
     "execution_count": 160,
     "metadata": {},
     "output_type": "execute_result"
    }
   ],
   "source": [
    "# Building Models.\n",
    "# Logistic Regression.\n",
    "\n",
    "from sklearn.linear_model import LogisticRegression\n",
    "\n",
    "clf = LogisticRegression()\n",
    "clf.fit(X_train_scaled, y_train)"
   ]
  },
  {
   "cell_type": "code",
   "execution_count": 161,
   "metadata": {},
   "outputs": [],
   "source": [
    "y_pred1 = clf.predict(X_test_scaled)"
   ]
  },
  {
   "cell_type": "code",
   "execution_count": 162,
   "metadata": {},
   "outputs": [
    {
     "name": "stdout",
     "output_type": "stream",
     "text": [
      "Classification Report:\n",
      "\n",
      "              precision    recall  f1-score   support\n",
      "\n",
      "           0       0.56      0.59      0.57     22890\n",
      "           1       0.55      0.51      0.53     22175\n",
      "\n",
      "    accuracy                           0.55     45065\n",
      "   macro avg       0.55      0.55      0.55     45065\n",
      "weighted avg       0.55      0.55      0.55     45065\n",
      "\n"
     ]
    }
   ],
   "source": [
    "from sklearn.metrics import classification_report, confusion_matrix, accuracy_score\n",
    "\n",
    "c_report = classification_report(y_test, y_pred1)\n",
    "\n",
    "print(f'Classification Report:\\n\\n{c_report}')"
   ]
  },
  {
   "cell_type": "code",
   "execution_count": 163,
   "metadata": {},
   "outputs": [
    {
     "name": "stdout",
     "output_type": "stream",
     "text": [
      "Confusion Matrix:\n",
      "\n",
      "[[13545  9345]\n",
      " [10850 11325]]\n"
     ]
    }
   ],
   "source": [
    "con_mat = confusion_matrix(y_test, y_pred1)\n",
    "\n",
    "print(f'Confusion Matrix:\\n\\n{con_mat}')"
   ]
  },
  {
   "cell_type": "code",
   "execution_count": 164,
   "metadata": {},
   "outputs": [
    {
     "data": {
      "text/plain": [
       "RandomForestClassifier(bootstrap=True, ccp_alpha=0.0, class_weight=None,\n",
       "                       criterion='gini', max_depth=None, max_features='auto',\n",
       "                       max_leaf_nodes=None, max_samples=None,\n",
       "                       min_impurity_decrease=0.0, min_impurity_split=None,\n",
       "                       min_samples_leaf=1, min_samples_split=2,\n",
       "                       min_weight_fraction_leaf=0.0, n_estimators=100,\n",
       "                       n_jobs=None, oob_score=False, random_state=None,\n",
       "                       verbose=0, warm_start=False)"
      ]
     },
     "execution_count": 164,
     "metadata": {},
     "output_type": "execute_result"
    }
   ],
   "source": [
    "from sklearn.ensemble import RandomForestClassifier\n",
    "\n",
    "forest = RandomForestClassifier()\n",
    "forest.fit(X_train_scaled, y_train)"
   ]
  },
  {
   "cell_type": "code",
   "execution_count": 165,
   "metadata": {},
   "outputs": [],
   "source": [
    "y_pred2 = forest.predict(X_test_scaled)"
   ]
  },
  {
   "cell_type": "code",
   "execution_count": 166,
   "metadata": {},
   "outputs": [
    {
     "name": "stdout",
     "output_type": "stream",
     "text": [
      "Classification Report:\n",
      "\n",
      "              precision    recall  f1-score   support\n",
      "\n",
      "           0       0.73      0.94      0.82     22890\n",
      "           1       0.91      0.63      0.75     22175\n",
      "\n",
      "    accuracy                           0.79     45065\n",
      "   macro avg       0.82      0.79      0.78     45065\n",
      "weighted avg       0.82      0.79      0.78     45065\n",
      "\n"
     ]
    }
   ],
   "source": [
    "c_report = classification_report(y_test, y_pred2)\n",
    "\n",
    "print(f'Classification Report:\\n\\n{c_report}')"
   ]
  },
  {
   "cell_type": "code",
   "execution_count": 167,
   "metadata": {},
   "outputs": [
    {
     "name": "stdout",
     "output_type": "stream",
     "text": [
      "Confusion Matrix:\n",
      "\n",
      "[[21559  1331]\n",
      " [ 8133 14042]]\n"
     ]
    }
   ],
   "source": [
    "con_mat = confusion_matrix(y_test, y_pred2)\n",
    "\n",
    "print(f'Confusion Matrix:\\n\\n{con_mat}')"
   ]
  },
  {
   "cell_type": "code",
   "execution_count": 169,
   "metadata": {},
   "outputs": [
    {
     "name": "stdout",
     "output_type": "stream",
     "text": [
      "Train accuracy: 0.9985908929522457\n",
      "Test accuracy: 0.7899922334405858\n"
     ]
    }
   ],
   "source": [
    "train = forest.score(X_train_scaled, y_train)\n",
    "test = forest.score(X_test_scaled, y_test)\n",
    "\n",
    "print(f'Train accuracy: {train}')\n",
    "print(f'Test accuracy: {test}')"
   ]
  },
  {
   "cell_type": "code",
   "execution_count": null,
   "metadata": {},
   "outputs": [],
   "source": []
  },
  {
   "cell_type": "code",
   "execution_count": 157,
   "metadata": {
    "scrolled": true
   },
   "outputs": [
    {
     "data": {
      "text/plain": [
       "array([0.51747491, 0.51887291, 0.59156855, 0.94538507, 0.95054211,\n",
       "       0.95333665, 0.95066484])"
      ]
     },
     "execution_count": 157,
     "metadata": {},
     "output_type": "execute_result"
    }
   ],
   "source": [
    "from sklearn.model_selection import cross_val_score\n",
    "\n",
    "cv = cross_val_score(forest, x_res, y_res, cv=7, scoring='accuracy')\n",
    "cv"
   ]
  },
  {
   "cell_type": "code",
   "execution_count": null,
   "metadata": {},
   "outputs": [],
   "source": [
    "from sklearn.model_selection import GridSearchCV\n",
    "\n",
    "param = {'max_depth':[80,90,100], 'max_features':[10,12,15], 'n_estimators':[100,200,300,500], \n",
    "        'min_samples_split':[4,8,10], 'min_samples_leaf':[2,3,4,5]}\n",
    "\n",
    "grid = GridSearchCV(estimator=forest, param_grid=param, cv=3)\n",
    "grid.fit(X_train_scaled, y_train)"
   ]
  },
  {
   "cell_type": "code",
   "execution_count": null,
   "metadata": {},
   "outputs": [],
   "source": [
    "accuracy = grid.best_score_\n",
    "params = grid.best_params_\n",
    "\n",
    "print(f'Accuracy: {accuracy}')\n",
    "print(f'Selected Parameters: {params}')"
   ]
  },
  {
   "cell_type": "code",
   "execution_count": null,
   "metadata": {},
   "outputs": [],
   "source": []
  },
  {
   "cell_type": "code",
   "execution_count": null,
   "metadata": {},
   "outputs": [],
   "source": []
  },
  {
   "cell_type": "code",
   "execution_count": null,
   "metadata": {},
   "outputs": [],
   "source": []
  },
  {
   "cell_type": "code",
   "execution_count": null,
   "metadata": {},
   "outputs": [],
   "source": []
  },
  {
   "cell_type": "code",
   "execution_count": null,
   "metadata": {},
   "outputs": [],
   "source": []
  },
  {
   "cell_type": "code",
   "execution_count": 170,
   "metadata": {},
   "outputs": [
    {
     "data": {
      "text/plain": [
       "MLPClassifier(activation='relu', alpha=0.0001, batch_size='auto', beta_1=0.9,\n",
       "              beta_2=0.999, early_stopping=False, epsilon=1e-08,\n",
       "              hidden_layer_sizes=(100,), learning_rate='constant',\n",
       "              learning_rate_init=0.001, max_fun=15000, max_iter=200,\n",
       "              momentum=0.9, n_iter_no_change=10, nesterovs_momentum=True,\n",
       "              power_t=0.5, random_state=42, shuffle=True, solver='adam',\n",
       "              tol=0.0001, validation_fraction=0.1, verbose=False,\n",
       "              warm_start=False)"
      ]
     },
     "execution_count": 170,
     "metadata": {},
     "output_type": "execute_result"
    }
   ],
   "source": [
    "from sklearn.neural_network import MLPClassifier\n",
    "\n",
    "mlp = MLPClassifier(random_state=42)\n",
    "mlp.fit(X_train_scaled, y_train)"
   ]
  },
  {
   "cell_type": "code",
   "execution_count": 171,
   "metadata": {},
   "outputs": [],
   "source": [
    "pred3 = mlp.predict(X_test_scaled)"
   ]
  },
  {
   "cell_type": "code",
   "execution_count": 172,
   "metadata": {},
   "outputs": [],
   "source": [
    "train = mlp.score(X_train_scaled, y_train)\n",
    "test = mlp.score(X_test_scaled, y_test)"
   ]
  },
  {
   "cell_type": "code",
   "execution_count": 173,
   "metadata": {
    "scrolled": true
   },
   "outputs": [
    {
     "name": "stdout",
     "output_type": "stream",
     "text": [
      "Train Accuracy: 0.7841625244097283\n",
      "Test Accuracy: 0.7834017530234106\n"
     ]
    }
   ],
   "source": [
    "print(f'Train Accuracy: {train}')\n",
    "print(f'Test Accuracy: {test}')"
   ]
  },
  {
   "cell_type": "code",
   "execution_count": 175,
   "metadata": {},
   "outputs": [
    {
     "name": "stdout",
     "output_type": "stream",
     "text": [
      "(Classification Report:\n",
      "\n",
      "              precision    recall  f1-score   support\n",
      "\n",
      "           0       0.98      0.71      0.82     31707\n",
      "           1       0.58      0.96      0.73     13358\n",
      "\n",
      "    accuracy                           0.78     45065\n",
      "   macro avg       0.78      0.84      0.77     45065\n",
      "weighted avg       0.86      0.78      0.79     45065\n",
      "\n"
     ]
    }
   ],
   "source": [
    "print(f'(Classification Report:\\n\\n{classification_report(pred3, y_test)}')"
   ]
  },
  {
   "cell_type": "code",
   "execution_count": null,
   "metadata": {},
   "outputs": [],
   "source": []
  },
  {
   "cell_type": "code",
   "execution_count": 176,
   "metadata": {},
   "outputs": [
    {
     "data": {
      "text/plain": [
       "GradientBoostingClassifier(ccp_alpha=0.0, criterion='friedman_mse', init=None,\n",
       "                           learning_rate=0.1, loss='deviance', max_depth=3,\n",
       "                           max_features=None, max_leaf_nodes=None,\n",
       "                           min_impurity_decrease=0.0, min_impurity_split=None,\n",
       "                           min_samples_leaf=1, min_samples_split=2,\n",
       "                           min_weight_fraction_leaf=0.0, n_estimators=100,\n",
       "                           n_iter_no_change=None, presort='deprecated',\n",
       "                           random_state=None, subsample=1.0, tol=0.0001,\n",
       "                           validation_fraction=0.1, verbose=0,\n",
       "                           warm_start=False)"
      ]
     },
     "execution_count": 176,
     "metadata": {},
     "output_type": "execute_result"
    }
   ],
   "source": [
    "# Gradient Boosting Classifier.\n",
    "\n",
    "from sklearn.ensemble import GradientBoostingClassifier\n",
    "\n",
    "boost = GradientBoostingClassifier()\n",
    "boost.fit(X_train_scaled, y_train)"
   ]
  },
  {
   "cell_type": "code",
   "execution_count": 177,
   "metadata": {},
   "outputs": [],
   "source": [
    "pred4 = boost.predict(X_test_scaled)"
   ]
  },
  {
   "cell_type": "code",
   "execution_count": 178,
   "metadata": {},
   "outputs": [
    {
     "name": "stdout",
     "output_type": "stream",
     "text": [
      "Train Accuracy: 0.7945976832948696\n",
      "Test Accuracy: 0.7964939531787418\n"
     ]
    }
   ],
   "source": [
    "train = boost.score(X_train_scaled, y_train)\n",
    "test = boost.score(X_test_scaled, y_test)\n",
    "\n",
    "print(f'Train Accuracy: {train}')\n",
    "print(f'Test Accuracy: {test}')"
   ]
  },
  {
   "cell_type": "code",
   "execution_count": 179,
   "metadata": {},
   "outputs": [
    {
     "name": "stdout",
     "output_type": "stream",
     "text": [
      "(Classification Report:\n",
      "\n",
      "              precision    recall  f1-score   support\n",
      "\n",
      "           0       1.00      0.71      0.83     32019\n",
      "           1       0.59      1.00      0.74     13046\n",
      "\n",
      "    accuracy                           0.80     45065\n",
      "   macro avg       0.79      0.86      0.79     45065\n",
      "weighted avg       0.88      0.80      0.81     45065\n",
      "\n"
     ]
    }
   ],
   "source": [
    "print(f'(Classification Report:\\n\\n{classification_report(pred4, y_test)}')"
   ]
  },
  {
   "cell_type": "code",
   "execution_count": 180,
   "metadata": {},
   "outputs": [
    {
     "name": "stdout",
     "output_type": "stream",
     "text": [
      "Confusion matrix:\n",
      "\n",
      "[[22869  9150]\n",
      " [   21 13025]]\n"
     ]
    }
   ],
   "source": [
    "con_mat = confusion_matrix(pred4, y_test)\n",
    "\n",
    "print(f'Confusion matrix:\\n\\n{con_mat}')"
   ]
  },
  {
   "cell_type": "code",
   "execution_count": null,
   "metadata": {},
   "outputs": [],
   "source": []
  },
  {
   "cell_type": "code",
   "execution_count": null,
   "metadata": {},
   "outputs": [],
   "source": []
  },
  {
   "cell_type": "code",
   "execution_count": null,
   "metadata": {},
   "outputs": [],
   "source": []
  },
  {
   "cell_type": "code",
   "execution_count": null,
   "metadata": {},
   "outputs": [],
   "source": []
  },
  {
   "cell_type": "code",
   "execution_count": 131,
   "metadata": {},
   "outputs": [],
   "source": [
    "# Defining a function to split the data into X and Y.\n",
    "\n",
    "#def dataprep():\n",
    "    \n",
    "    #from xverse.feature_subset import SplitXY\n",
    "    \n",
    "    # Splitting the data into X and y.\n",
    "    #clf = SplitXY(['loanDefault'])\n",
    "    \n",
    "    # Transforming the data to return X (features) and then y (target) as a numpy array.\n",
    "    #X, y = clf.fit_transform(dataset)\n",
    "    #return X, y"
   ]
  },
  {
   "cell_type": "code",
   "execution_count": 132,
   "metadata": {},
   "outputs": [],
   "source": [
    "#X, y = dataprep()"
   ]
  },
  {
   "cell_type": "code",
   "execution_count": 134,
   "metadata": {},
   "outputs": [
    {
     "data": {
      "text/html": [
       "<div>\n",
       "<style scoped>\n",
       "    .dataframe tbody tr th:only-of-type {\n",
       "        vertical-align: middle;\n",
       "    }\n",
       "\n",
       "    .dataframe tbody tr th {\n",
       "        vertical-align: top;\n",
       "    }\n",
       "\n",
       "    .dataframe thead th {\n",
       "        text-align: right;\n",
       "    }\n",
       "</style>\n",
       "<table border=\"1\" class=\"dataframe\">\n",
       "  <thead>\n",
       "    <tr style=\"text-align: right;\">\n",
       "      <th></th>\n",
       "      <th>YearsEmployed</th>\n",
       "      <th>clientAge</th>\n",
       "      <th>clientAvgCallsPerDay</th>\n",
       "      <th>clientGender_FEMALE</th>\n",
       "      <th>clientGender_MALE</th>\n",
       "      <th>clientIncome</th>\n",
       "      <th>clientLoanPurpose_business</th>\n",
       "      <th>clientLoanPurpose_education</th>\n",
       "      <th>clientLoanPurpose_house</th>\n",
       "      <th>clientLoanPurpose_medical</th>\n",
       "      <th>...</th>\n",
       "      <th>clientMaritalStatus_Separated</th>\n",
       "      <th>clientMaritalStatus_Single</th>\n",
       "      <th>clientNumberPhoneContacts</th>\n",
       "      <th>clientResidentialStatus_Own</th>\n",
       "      <th>clientResidentialStatus_Rented</th>\n",
       "      <th>clientState_NOC</th>\n",
       "      <th>clientState_SE</th>\n",
       "      <th>clientState_SS</th>\n",
       "      <th>clientState_SW</th>\n",
       "      <th>loanAmount</th>\n",
       "    </tr>\n",
       "  </thead>\n",
       "  <tbody>\n",
       "    <tr>\n",
       "      <th>0</th>\n",
       "      <td>3.333333</td>\n",
       "      <td>38</td>\n",
       "      <td>6.792453</td>\n",
       "      <td>0</td>\n",
       "      <td>1</td>\n",
       "      <td>66452.66</td>\n",
       "      <td>0</td>\n",
       "      <td>1</td>\n",
       "      <td>0</td>\n",
       "      <td>0</td>\n",
       "      <td>...</td>\n",
       "      <td>0</td>\n",
       "      <td>0</td>\n",
       "      <td>458.0</td>\n",
       "      <td>0</td>\n",
       "      <td>1</td>\n",
       "      <td>1</td>\n",
       "      <td>0</td>\n",
       "      <td>0</td>\n",
       "      <td>0</td>\n",
       "      <td>42000</td>\n",
       "    </tr>\n",
       "    <tr>\n",
       "      <th>1</th>\n",
       "      <td>3.333333</td>\n",
       "      <td>35</td>\n",
       "      <td>2.144928</td>\n",
       "      <td>0</td>\n",
       "      <td>1</td>\n",
       "      <td>35000.00</td>\n",
       "      <td>0</td>\n",
       "      <td>0</td>\n",
       "      <td>0</td>\n",
       "      <td>0</td>\n",
       "      <td>...</td>\n",
       "      <td>0</td>\n",
       "      <td>1</td>\n",
       "      <td>708.0</td>\n",
       "      <td>0</td>\n",
       "      <td>1</td>\n",
       "      <td>1</td>\n",
       "      <td>0</td>\n",
       "      <td>0</td>\n",
       "      <td>0</td>\n",
       "      <td>20000</td>\n",
       "    </tr>\n",
       "  </tbody>\n",
       "</table>\n",
       "<p>2 rows × 22 columns</p>\n",
       "</div>"
      ],
      "text/plain": [
       "   YearsEmployed  clientAge  clientAvgCallsPerDay  clientGender_FEMALE  \\\n",
       "0       3.333333         38              6.792453                    0   \n",
       "1       3.333333         35              2.144928                    0   \n",
       "\n",
       "   clientGender_MALE  clientIncome  clientLoanPurpose_business  \\\n",
       "0                  1      66452.66                           0   \n",
       "1                  1      35000.00                           0   \n",
       "\n",
       "   clientLoanPurpose_education  clientLoanPurpose_house  \\\n",
       "0                            1                        0   \n",
       "1                            0                        0   \n",
       "\n",
       "   clientLoanPurpose_medical     ...      clientMaritalStatus_Separated  \\\n",
       "0                          0     ...                                  0   \n",
       "1                          0     ...                                  0   \n",
       "\n",
       "   clientMaritalStatus_Single  clientNumberPhoneContacts  \\\n",
       "0                           0                      458.0   \n",
       "1                           1                      708.0   \n",
       "\n",
       "   clientResidentialStatus_Own  clientResidentialStatus_Rented  \\\n",
       "0                            0                               1   \n",
       "1                            0                               1   \n",
       "\n",
       "   clientState_NOC  clientState_SE  clientState_SS  clientState_SW  loanAmount  \n",
       "0                1               0               0               0       42000  \n",
       "1                1               0               0               0       20000  \n",
       "\n",
       "[2 rows x 22 columns]"
      ]
     },
     "execution_count": 134,
     "metadata": {},
     "output_type": "execute_result"
    }
   ],
   "source": [
    "X.head(2)"
   ]
  },
  {
   "cell_type": "code",
   "execution_count": 133,
   "metadata": {},
   "outputs": [
    {
     "data": {
      "text/plain": [
       "array([0, 0, 0, ..., 0, 0, 0], dtype=int64)"
      ]
     },
     "execution_count": 133,
     "metadata": {},
     "output_type": "execute_result"
    }
   ],
   "source": [
    "y"
   ]
  },
  {
   "cell_type": "code",
   "execution_count": 141,
   "metadata": {},
   "outputs": [
    {
     "name": "stdout",
     "output_type": "stream",
     "text": [
      "<class 'pandas.core.frame.DataFrame'>\n",
      "RangeIndex: 159596 entries, 0 to 159595\n",
      "Data columns (total 22 columns):\n",
      "YearsEmployed                     159596 non-null float64\n",
      "clientAge                         159596 non-null int64\n",
      "clientAvgCallsPerDay              159596 non-null float64\n",
      "clientGender_FEMALE               159596 non-null uint8\n",
      "clientGender_MALE                 159596 non-null uint8\n",
      "clientIncome                      159596 non-null float64\n",
      "clientLoanPurpose_business        159596 non-null uint8\n",
      "clientLoanPurpose_education       159596 non-null uint8\n",
      "clientLoanPurpose_house           159596 non-null uint8\n",
      "clientLoanPurpose_medical         159596 non-null uint8\n",
      "clientLoanPurpose_other           159596 non-null uint8\n",
      "clientMaritalStatus_Married       159596 non-null uint8\n",
      "clientMaritalStatus_Separated     159596 non-null uint8\n",
      "clientMaritalStatus_Single        159596 non-null uint8\n",
      "clientNumberPhoneContacts         159596 non-null float64\n",
      "clientResidentialStatus_Own       159596 non-null uint8\n",
      "clientResidentialStatus_Rented    159596 non-null uint8\n",
      "clientState_NOC                   159596 non-null uint8\n",
      "clientState_SE                    159596 non-null uint8\n",
      "clientState_SS                    159596 non-null uint8\n",
      "clientState_SW                    159596 non-null uint8\n",
      "loanAmount                        159596 non-null int64\n",
      "dtypes: float64(4), int64(2), uint8(16)\n",
      "memory usage: 9.7 MB\n"
     ]
    }
   ],
   "source": [
    "X.info()"
   ]
  },
  {
   "cell_type": "code",
   "execution_count": 135,
   "metadata": {},
   "outputs": [
    {
     "data": {
      "text/plain": [
       "MonotonicBinning(cardinality_cutoff=5, custom_binning=None, feature_names='all',\n",
       "                 force_bins=4, max_bins=20, prefix=None)"
      ]
     },
     "execution_count": 135,
     "metadata": {},
     "output_type": "execute_result"
    }
   ],
   "source": [
    "from xverse.transformer import MonotonicBinning\n",
    "\n",
    "clf = MonotonicBinning()\n",
    "clf.fit(X, y)"
   ]
  },
  {
   "cell_type": "code",
   "execution_count": 136,
   "metadata": {},
   "outputs": [
    {
     "data": {
      "text/plain": [
       "{'YearsEmployed': array([0.        , 2.08333333, 3.33333333]),\n",
       " 'clientAge': array([18., 30., 36., 60.]),\n",
       " 'clientAvgCallsPerDay': array([   0.        ,   15.44727425,   50.92909702, 3429.701818  ]),\n",
       " 'clientGender_FEMALE': array([0., 1.]),\n",
       " 'clientGender_MALE': array([0., 1.]),\n",
       " 'clientIncome': array([3.0000000e+01, 3.5000000e+04, 8.7500000e+04, 1.9899804e+06]),\n",
       " 'clientLoanPurpose_business': array([0., 1.]),\n",
       " 'clientLoanPurpose_education': array([0., 1.]),\n",
       " 'clientLoanPurpose_house': array([0., 1.]),\n",
       " 'clientLoanPurpose_medical': array([0., 1.]),\n",
       " 'clientLoanPurpose_other': array([0., 1.]),\n",
       " 'clientMaritalStatus_Married': array([0., 1.]),\n",
       " 'clientMaritalStatus_Separated': array([0., 1.]),\n",
       " 'clientMaritalStatus_Single': array([0., 1.]),\n",
       " 'clientNumberPhoneContacts': array([    0.,   554.,  1220., 60595.]),\n",
       " 'clientResidentialStatus_Own': array([0., 1.]),\n",
       " 'clientResidentialStatus_Rented': array([0., 1.]),\n",
       " 'clientState_NOC': array([0., 1.]),\n",
       " 'clientState_SE': array([0., 1.]),\n",
       " 'clientState_SS': array([0., 1.]),\n",
       " 'clientState_SW': array([0., 1.]),\n",
       " 'loanAmount': array([ 11000.,  24000.,  34500., 500000.])}"
      ]
     },
     "execution_count": 136,
     "metadata": {},
     "output_type": "execute_result"
    }
   ],
   "source": [
    "output_bins = clf.bins\n",
    "output_bins"
   ]
  },
  {
   "cell_type": "code",
   "execution_count": 137,
   "metadata": {},
   "outputs": [
    {
     "data": {
      "text/plain": [
       "WOE(exclude_features=None, feature_names='all', mono_cardinality_cutoff=5,\n",
       "    mono_custom_binning={'YearsEmployed': array([0.        , 2.08333333, 3.33333333]),\n",
       "                         'clientAge': array([18., 30., 36., 60.]),\n",
       "                         'clientAvgCallsPerDay': array([   0.        ,   15.44727425,   50.92909702, 3429.701818  ]),\n",
       "                         'clientGender_FEMALE': array([0., 1.]),\n",
       "                         'clientGender_MALE': array([0., 1.]),\n",
       "                         'clientIncome': array([3.000...\n",
       "              'clientState_SS': {0: 0.0031912209107473246,\n",
       "                                 1: -0.02199663395130543},\n",
       "              'clientState_SW': {0: 0.006054674390853123,\n",
       "                                 1: -0.0038536319917312264},\n",
       "              'loanAmount': {Interval(10999.999, 24000.0, closed='right'): 0.08302674793157278,\n",
       "                             Interval(24000.0, 34500.0, closed='right'): -0.044386503001229906,\n",
       "                             Interval(34500.0, 500000.0, closed='right'): -0.04099626691332957}},\n",
       "    woe_prefix=None)"
      ]
     },
     "execution_count": 137,
     "metadata": {},
     "output_type": "execute_result"
    }
   ],
   "source": [
    "clf = WOE()\n",
    "clf.fit(X, y)"
   ]
  },
  {
   "cell_type": "code",
   "execution_count": 143,
   "metadata": {},
   "outputs": [
    {
     "data": {
      "text/html": [
       "<div>\n",
       "<style scoped>\n",
       "    .dataframe tbody tr th:only-of-type {\n",
       "        vertical-align: middle;\n",
       "    }\n",
       "\n",
       "    .dataframe tbody tr th {\n",
       "        vertical-align: top;\n",
       "    }\n",
       "\n",
       "    .dataframe thead th {\n",
       "        text-align: right;\n",
       "    }\n",
       "</style>\n",
       "<table border=\"1\" class=\"dataframe\">\n",
       "  <thead>\n",
       "    <tr style=\"text-align: right;\">\n",
       "      <th></th>\n",
       "      <th>Variable_Name</th>\n",
       "      <th>Category</th>\n",
       "      <th>Count</th>\n",
       "      <th>Event</th>\n",
       "      <th>Non_Event</th>\n",
       "      <th>Event_Rate</th>\n",
       "      <th>Non_Event_Rate</th>\n",
       "      <th>Event_Distribution</th>\n",
       "      <th>Non_Event_Distribution</th>\n",
       "      <th>WOE</th>\n",
       "      <th>Information_Value</th>\n",
       "    </tr>\n",
       "  </thead>\n",
       "  <tbody>\n",
       "    <tr>\n",
       "      <th>0</th>\n",
       "      <td>YearsEmployed</td>\n",
       "      <td>(-0.001, 2.083]</td>\n",
       "      <td>53295</td>\n",
       "      <td>14654</td>\n",
       "      <td>38641</td>\n",
       "      <td>0.274960</td>\n",
       "      <td>0.725040</td>\n",
       "      <td>0.330977</td>\n",
       "      <td>0.335073</td>\n",
       "      <td>-0.012301</td>\n",
       "      <td>0.000076</td>\n",
       "    </tr>\n",
       "    <tr>\n",
       "      <th>1</th>\n",
       "      <td>YearsEmployed</td>\n",
       "      <td>(2.083, 3.333]</td>\n",
       "      <td>106301</td>\n",
       "      <td>29621</td>\n",
       "      <td>76680</td>\n",
       "      <td>0.278652</td>\n",
       "      <td>0.721348</td>\n",
       "      <td>0.669023</td>\n",
       "      <td>0.664927</td>\n",
       "      <td>0.006142</td>\n",
       "      <td>0.000076</td>\n",
       "    </tr>\n",
       "    <tr>\n",
       "      <th>2</th>\n",
       "      <td>clientAge</td>\n",
       "      <td>(17.999, 30.0]</td>\n",
       "      <td>57829</td>\n",
       "      <td>17771</td>\n",
       "      <td>40058</td>\n",
       "      <td>0.307303</td>\n",
       "      <td>0.692697</td>\n",
       "      <td>0.401378</td>\n",
       "      <td>0.347361</td>\n",
       "      <td>0.144539</td>\n",
       "      <td>0.012515</td>\n",
       "    </tr>\n",
       "    <tr>\n",
       "      <th>3</th>\n",
       "      <td>clientAge</td>\n",
       "      <td>(30.0, 36.0]</td>\n",
       "      <td>51688</td>\n",
       "      <td>13541</td>\n",
       "      <td>38147</td>\n",
       "      <td>0.261976</td>\n",
       "      <td>0.738024</td>\n",
       "      <td>0.305839</td>\n",
       "      <td>0.330790</td>\n",
       "      <td>-0.078426</td>\n",
       "      <td>0.012515</td>\n",
       "    </tr>\n",
       "    <tr>\n",
       "      <th>4</th>\n",
       "      <td>clientAge</td>\n",
       "      <td>(36.0, 60.0]</td>\n",
       "      <td>50079</td>\n",
       "      <td>12963</td>\n",
       "      <td>37116</td>\n",
       "      <td>0.258851</td>\n",
       "      <td>0.741149</td>\n",
       "      <td>0.292784</td>\n",
       "      <td>0.321849</td>\n",
       "      <td>-0.094650</td>\n",
       "      <td>0.012515</td>\n",
       "    </tr>\n",
       "    <tr>\n",
       "      <th>5</th>\n",
       "      <td>clientAvgCallsPerDay</td>\n",
       "      <td>(-0.001, 15.447]</td>\n",
       "      <td>53199</td>\n",
       "      <td>15738</td>\n",
       "      <td>37461</td>\n",
       "      <td>0.295833</td>\n",
       "      <td>0.704167</td>\n",
       "      <td>0.355460</td>\n",
       "      <td>0.324841</td>\n",
       "      <td>0.090077</td>\n",
       "      <td>0.005497</td>\n",
       "    </tr>\n",
       "  </tbody>\n",
       "</table>\n",
       "</div>"
      ],
      "text/plain": [
       "          Variable_Name          Category   Count  Event  Non_Event  \\\n",
       "0         YearsEmployed   (-0.001, 2.083]   53295  14654      38641   \n",
       "1         YearsEmployed    (2.083, 3.333]  106301  29621      76680   \n",
       "2             clientAge    (17.999, 30.0]   57829  17771      40058   \n",
       "3             clientAge      (30.0, 36.0]   51688  13541      38147   \n",
       "4             clientAge      (36.0, 60.0]   50079  12963      37116   \n",
       "5  clientAvgCallsPerDay  (-0.001, 15.447]   53199  15738      37461   \n",
       "\n",
       "   Event_Rate  Non_Event_Rate  Event_Distribution  Non_Event_Distribution  \\\n",
       "0    0.274960        0.725040            0.330977                0.335073   \n",
       "1    0.278652        0.721348            0.669023                0.664927   \n",
       "2    0.307303        0.692697            0.401378                0.347361   \n",
       "3    0.261976        0.738024            0.305839                0.330790   \n",
       "4    0.258851        0.741149            0.292784                0.321849   \n",
       "5    0.295833        0.704167            0.355460                0.324841   \n",
       "\n",
       "        WOE  Information_Value  \n",
       "0 -0.012301           0.000076  \n",
       "1  0.006142           0.000076  \n",
       "2  0.144539           0.012515  \n",
       "3 -0.078426           0.012515  \n",
       "4 -0.094650           0.012515  \n",
       "5  0.090077           0.005497  "
      ]
     },
     "execution_count": 143,
     "metadata": {},
     "output_type": "execute_result"
    }
   ],
   "source": [
    "woe_output = clf.woe_df\n",
    "woe_output.head(6)"
   ]
  },
  {
   "cell_type": "code",
   "execution_count": 139,
   "metadata": {},
   "outputs": [
    {
     "data": {
      "text/html": [
       "<div>\n",
       "<style scoped>\n",
       "    .dataframe tbody tr th:only-of-type {\n",
       "        vertical-align: middle;\n",
       "    }\n",
       "\n",
       "    .dataframe tbody tr th {\n",
       "        vertical-align: top;\n",
       "    }\n",
       "\n",
       "    .dataframe thead th {\n",
       "        text-align: right;\n",
       "    }\n",
       "</style>\n",
       "<table border=\"1\" class=\"dataframe\">\n",
       "  <thead>\n",
       "    <tr style=\"text-align: right;\">\n",
       "      <th></th>\n",
       "      <th>Variable_Name</th>\n",
       "      <th>Information_Value</th>\n",
       "    </tr>\n",
       "  </thead>\n",
       "  <tbody>\n",
       "    <tr>\n",
       "      <th>6</th>\n",
       "      <td>clientLoanPurpose_business</td>\n",
       "      <td>0.027061</td>\n",
       "    </tr>\n",
       "    <tr>\n",
       "      <th>10</th>\n",
       "      <td>clientLoanPurpose_other</td>\n",
       "      <td>0.013089</td>\n",
       "    </tr>\n",
       "    <tr>\n",
       "      <th>1</th>\n",
       "      <td>clientAge</td>\n",
       "      <td>0.012515</td>\n",
       "    </tr>\n",
       "    <tr>\n",
       "      <th>5</th>\n",
       "      <td>clientIncome</td>\n",
       "      <td>0.012250</td>\n",
       "    </tr>\n",
       "    <tr>\n",
       "      <th>8</th>\n",
       "      <td>clientLoanPurpose_house</td>\n",
       "      <td>0.008537</td>\n",
       "    </tr>\n",
       "    <tr>\n",
       "      <th>14</th>\n",
       "      <td>clientNumberPhoneContacts</td>\n",
       "      <td>0.006393</td>\n",
       "    </tr>\n",
       "    <tr>\n",
       "      <th>2</th>\n",
       "      <td>clientAvgCallsPerDay</td>\n",
       "      <td>0.005497</td>\n",
       "    </tr>\n",
       "    <tr>\n",
       "      <th>21</th>\n",
       "      <td>loanAmount</td>\n",
       "      <td>0.003553</td>\n",
       "    </tr>\n",
       "    <tr>\n",
       "      <th>3</th>\n",
       "      <td>clientGender_FEMALE</td>\n",
       "      <td>0.003516</td>\n",
       "    </tr>\n",
       "    <tr>\n",
       "      <th>4</th>\n",
       "      <td>clientGender_MALE</td>\n",
       "      <td>0.003516</td>\n",
       "    </tr>\n",
       "    <tr>\n",
       "      <th>13</th>\n",
       "      <td>clientMaritalStatus_Single</td>\n",
       "      <td>0.002958</td>\n",
       "    </tr>\n",
       "    <tr>\n",
       "      <th>11</th>\n",
       "      <td>clientMaritalStatus_Married</td>\n",
       "      <td>0.002503</td>\n",
       "    </tr>\n",
       "    <tr>\n",
       "      <th>7</th>\n",
       "      <td>clientLoanPurpose_education</td>\n",
       "      <td>0.001433</td>\n",
       "    </tr>\n",
       "    <tr>\n",
       "      <th>9</th>\n",
       "      <td>clientLoanPurpose_medical</td>\n",
       "      <td>0.000361</td>\n",
       "    </tr>\n",
       "    <tr>\n",
       "      <th>18</th>\n",
       "      <td>clientState_SE</td>\n",
       "      <td>0.000342</td>\n",
       "    </tr>\n",
       "    <tr>\n",
       "      <th>12</th>\n",
       "      <td>clientMaritalStatus_Separated</td>\n",
       "      <td>0.000270</td>\n",
       "    </tr>\n",
       "    <tr>\n",
       "      <th>15</th>\n",
       "      <td>clientResidentialStatus_Own</td>\n",
       "      <td>0.000155</td>\n",
       "    </tr>\n",
       "    <tr>\n",
       "      <th>16</th>\n",
       "      <td>clientResidentialStatus_Rented</td>\n",
       "      <td>0.000155</td>\n",
       "    </tr>\n",
       "    <tr>\n",
       "      <th>0</th>\n",
       "      <td>YearsEmployed</td>\n",
       "      <td>0.000076</td>\n",
       "    </tr>\n",
       "    <tr>\n",
       "      <th>19</th>\n",
       "      <td>clientState_SS</td>\n",
       "      <td>0.000070</td>\n",
       "    </tr>\n",
       "    <tr>\n",
       "      <th>20</th>\n",
       "      <td>clientState_SW</td>\n",
       "      <td>0.000023</td>\n",
       "    </tr>\n",
       "    <tr>\n",
       "      <th>17</th>\n",
       "      <td>clientState_NOC</td>\n",
       "      <td>0.000014</td>\n",
       "    </tr>\n",
       "  </tbody>\n",
       "</table>\n",
       "</div>"
      ],
      "text/plain": [
       "                     Variable_Name  Information_Value\n",
       "6       clientLoanPurpose_business           0.027061\n",
       "10         clientLoanPurpose_other           0.013089\n",
       "1                        clientAge           0.012515\n",
       "5                     clientIncome           0.012250\n",
       "8          clientLoanPurpose_house           0.008537\n",
       "14       clientNumberPhoneContacts           0.006393\n",
       "2             clientAvgCallsPerDay           0.005497\n",
       "21                      loanAmount           0.003553\n",
       "3              clientGender_FEMALE           0.003516\n",
       "4                clientGender_MALE           0.003516\n",
       "13      clientMaritalStatus_Single           0.002958\n",
       "11     clientMaritalStatus_Married           0.002503\n",
       "7      clientLoanPurpose_education           0.001433\n",
       "9        clientLoanPurpose_medical           0.000361\n",
       "18                  clientState_SE           0.000342\n",
       "12   clientMaritalStatus_Separated           0.000270\n",
       "15     clientResidentialStatus_Own           0.000155\n",
       "16  clientResidentialStatus_Rented           0.000155\n",
       "0                    YearsEmployed           0.000076\n",
       "19                  clientState_SS           0.000070\n",
       "20                  clientState_SW           0.000023\n",
       "17                 clientState_NOC           0.000014"
      ]
     },
     "execution_count": 139,
     "metadata": {},
     "output_type": "execute_result"
    }
   ],
   "source": [
    "clf.iv_df"
   ]
  },
  {
   "cell_type": "code",
   "execution_count": null,
   "metadata": {},
   "outputs": [],
   "source": []
  }
 ],
 "metadata": {
  "kernelspec": {
   "display_name": "Python 3",
   "language": "python",
   "name": "python3"
  },
  "language_info": {
   "codemirror_mode": {
    "name": "ipython",
    "version": 3
   },
   "file_extension": ".py",
   "mimetype": "text/x-python",
   "name": "python",
   "nbconvert_exporter": "python",
   "pygments_lexer": "ipython3",
   "version": "3.6.4"
  }
 },
 "nbformat": 4,
 "nbformat_minor": 2
}
