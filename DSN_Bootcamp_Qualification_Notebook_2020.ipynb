{
 "cells": [
  {
   "cell_type": "code",
   "execution_count": null,
   "metadata": {},
   "outputs": [],
   "source": []
  },
  {
   "cell_type": "code",
   "execution_count": 1,
   "metadata": {},
   "outputs": [],
   "source": [
    "# Importing relevant libraries.\n",
    "\n",
    "import matplotlib.pyplot as plt\n",
    "import numpy as np\n",
    "import pandas as pd\n",
    "import random\n",
    "import seaborn as sns\n",
    "\n",
    "from sklearn.preprocessing import LabelEncoder, OneHotEncoder\n",
    "import catboost as cat\n",
    "import lightgbm as lgb\n",
    "from sklearn.model_selection import train_test_split, StratifiedKFold\n",
    "from sklearn.metrics import roc_auc_score, plot_confusion_matrix, plot_roc_curve \n",
    "import gc"
   ]
  },
  {
   "cell_type": "code",
   "execution_count": 2,
   "metadata": {},
   "outputs": [],
   "source": [
    "# Importing the datasets.\n",
    "\n",
    "#Train set.\n",
    "train = pd.read_csv('C:\\\\Users\\\\JAHFAITH IROKANULO\\\\Downloads\\\\Train.csv')\n",
    "\n",
    "#Test set\n",
    "test = pd.read_csv('C:\\\\Users\\\\JAHFAITH IROKANULO\\\\Downloads\\\\Test.csv')"
   ]
  },
  {
   "cell_type": "code",
   "execution_count": 3,
   "metadata": {},
   "outputs": [],
   "source": [
    "test_id = test['Applicant_ID']"
   ]
  },
  {
   "cell_type": "code",
   "execution_count": 4,
   "metadata": {},
   "outputs": [
    {
     "data": {
      "text/plain": [
       "((56000, 52), (24000, 51))"
      ]
     },
     "execution_count": 4,
     "metadata": {},
     "output_type": "execute_result"
    }
   ],
   "source": [
    "# Shape of train and test sets.\n",
    "train.shape, test.shape"
   ]
  },
  {
   "cell_type": "code",
   "execution_count": null,
   "metadata": {},
   "outputs": [],
   "source": []
  },
  {
   "cell_type": "markdown",
   "metadata": {},
   "source": [
    "## Target Feature."
   ]
  },
  {
   "cell_type": "code",
   "execution_count": 5,
   "metadata": {},
   "outputs": [
    {
     "data": {
      "text/plain": [
       "no     42285\n",
       "yes    13715\n",
       "Name: default_status, dtype: int64"
      ]
     },
     "execution_count": 5,
     "metadata": {},
     "output_type": "execute_result"
    }
   ],
   "source": [
    "train['default_status'].value_counts()"
   ]
  },
  {
   "cell_type": "code",
   "execution_count": 6,
   "metadata": {},
   "outputs": [
    {
     "data": {
      "text/plain": [
       "<matplotlib.axes._subplots.AxesSubplot at 0x22ec272fc88>"
      ]
     },
     "execution_count": 6,
     "metadata": {},
     "output_type": "execute_result"
    },
    {
     "data": {
      "image/png": "[encoded data removed]",
      "text/plain": [
       "<matplotlib.figure.Figure at 0x22ec272f3c8>"
      ]
     },
     "metadata": {},
     "output_type": "display_data"
    }
   ],
   "source": [
    "train['default_status'].value_counts().plot(kind='bar')"
   ]
  },
  {
   "cell_type": "code",
   "execution_count": 7,
   "metadata": {},
   "outputs": [],
   "source": [
    "# Encoding the target variable.\n",
    "\n",
    "label = LabelEncoder()\n",
    "train['default_status'] = label.fit_transform(train['default_status'])"
   ]
  },
  {
   "cell_type": "code",
   "execution_count": 8,
   "metadata": {},
   "outputs": [
    {
     "data": {
      "text/plain": [
       "0    42285\n",
       "1    13715\n",
       "Name: default_status, dtype: int64"
      ]
     },
     "execution_count": 8,
     "metadata": {},
     "output_type": "execute_result"
    }
   ],
   "source": [
    "train['default_status'].value_counts()"
   ]
  },
  {
   "cell_type": "code",
   "execution_count": null,
   "metadata": {},
   "outputs": [],
   "source": []
  },
  {
   "cell_type": "code",
   "execution_count": 9,
   "metadata": {},
   "outputs": [
    {
     "data": {
      "text/plain": [
       "(80000, 52)"
      ]
     },
     "execution_count": 9,
     "metadata": {},
     "output_type": "execute_result"
    }
   ],
   "source": [
    "# Concatenating train and test sets.\n",
    "\n",
    "df = pd.concat([train, test], axis=0)\n",
    "df.shape"
   ]
  },
  {
   "cell_type": "code",
   "execution_count": 10,
   "metadata": {},
   "outputs": [
    {
     "data": {
      "text/html": [
       "<div>\n",
       "<style scoped>\n",
       "    .dataframe tbody tr th:only-of-type {\n",
       "        vertical-align: middle;\n",
       "    }\n",
       "\n",
       "    .dataframe tbody tr th {\n",
       "        vertical-align: top;\n",
       "    }\n",
       "\n",
       "    .dataframe thead th {\n",
       "        text-align: right;\n",
       "    }\n",
       "</style>\n",
       "<table border=\"1\" class=\"dataframe\">\n",
       "  <thead>\n",
       "    <tr style=\"text-align: right;\">\n",
       "      <th></th>\n",
       "      <th>form_field1</th>\n",
       "      <th>form_field2</th>\n",
       "      <th>form_field3</th>\n",
       "      <th>form_field4</th>\n",
       "      <th>form_field5</th>\n",
       "      <th>form_field6</th>\n",
       "      <th>form_field7</th>\n",
       "      <th>form_field8</th>\n",
       "      <th>form_field9</th>\n",
       "      <th>form_field10</th>\n",
       "      <th>...</th>\n",
       "      <th>form_field41</th>\n",
       "      <th>form_field42</th>\n",
       "      <th>form_field43</th>\n",
       "      <th>form_field44</th>\n",
       "      <th>form_field45</th>\n",
       "      <th>form_field46</th>\n",
       "      <th>form_field48</th>\n",
       "      <th>form_field49</th>\n",
       "      <th>form_field50</th>\n",
       "      <th>default_status</th>\n",
       "    </tr>\n",
       "  </thead>\n",
       "  <tbody>\n",
       "    <tr>\n",
       "      <th>count</th>\n",
       "      <td>76361.000000</td>\n",
       "      <td>74447.000000</td>\n",
       "      <td>79499.000000</td>\n",
       "      <td>79499.000000</td>\n",
       "      <td>79499.000000</td>\n",
       "      <td>6.103600e+04</td>\n",
       "      <td>7.260600e+04</td>\n",
       "      <td>6.103600e+04</td>\n",
       "      <td>6.859200e+04</td>\n",
       "      <td>7.949800e+04</td>\n",
       "      <td>...</td>\n",
       "      <td>25422.000000</td>\n",
       "      <td>78099.000000</td>\n",
       "      <td>79182.000000</td>\n",
       "      <td>72255.000000</td>\n",
       "      <td>35145.000000</td>\n",
       "      <td>57211.000000</td>\n",
       "      <td>5.018900e+04</td>\n",
       "      <td>79499.000000</td>\n",
       "      <td>6.414700e+04</td>\n",
       "      <td>56000.000000</td>\n",
       "    </tr>\n",
       "    <tr>\n",
       "      <th>mean</th>\n",
       "      <td>3491.942169</td>\n",
       "      <td>0.552815</td>\n",
       "      <td>1.056191</td>\n",
       "      <td>0.854130</td>\n",
       "      <td>2.024495</td>\n",
       "      <td>6.250072e+05</td>\n",
       "      <td>6.844769e+06</td>\n",
       "      <td>2.634964e+06</td>\n",
       "      <td>1.326390e+07</td>\n",
       "      <td>1.186153e+07</td>\n",
       "      <td>...</td>\n",
       "      <td>108.145137</td>\n",
       "      <td>0.368656</td>\n",
       "      <td>6.618305</td>\n",
       "      <td>0.564228</td>\n",
       "      <td>0.070736</td>\n",
       "      <td>0.096135</td>\n",
       "      <td>3.041331e+05</td>\n",
       "      <td>1.053579</td>\n",
       "      <td>6.228580e+05</td>\n",
       "      <td>0.244911</td>\n",
       "    </tr>\n",
       "    <tr>\n",
       "      <th>std</th>\n",
       "      <td>189.075233</td>\n",
       "      <td>0.822650</td>\n",
       "      <td>2.163093</td>\n",
       "      <td>3.233269</td>\n",
       "      <td>10.791811</td>\n",
       "      <td>1.440721e+06</td>\n",
       "      <td>1.831476e+07</td>\n",
       "      <td>3.939693e+06</td>\n",
       "      <td>2.076362e+07</td>\n",
       "      <td>2.613218e+07</td>\n",
       "      <td>...</td>\n",
       "      <td>36.663235</td>\n",
       "      <td>0.413222</td>\n",
       "      <td>6.374198</td>\n",
       "      <td>0.196703</td>\n",
       "      <td>0.287365</td>\n",
       "      <td>0.346109</td>\n",
       "      <td>1.717065e+06</td>\n",
       "      <td>1.809372</td>\n",
       "      <td>6.066510e+06</td>\n",
       "      <td>0.430038</td>\n",
       "    </tr>\n",
       "    <tr>\n",
       "      <th>min</th>\n",
       "      <td>2986.000000</td>\n",
       "      <td>0.000000</td>\n",
       "      <td>0.000000</td>\n",
       "      <td>0.000000</td>\n",
       "      <td>0.000000</td>\n",
       "      <td>0.000000e+00</td>\n",
       "      <td>0.000000e+00</td>\n",
       "      <td>0.000000e+00</td>\n",
       "      <td>0.000000e+00</td>\n",
       "      <td>0.000000e+00</td>\n",
       "      <td>...</td>\n",
       "      <td>0.000000</td>\n",
       "      <td>0.000000</td>\n",
       "      <td>0.000000</td>\n",
       "      <td>0.048528</td>\n",
       "      <td>0.000000</td>\n",
       "      <td>0.000000</td>\n",
       "      <td>0.000000e+00</td>\n",
       "      <td>0.000000</td>\n",
       "      <td>0.000000e+00</td>\n",
       "      <td>0.000000</td>\n",
       "    </tr>\n",
       "    <tr>\n",
       "      <th>25%</th>\n",
       "      <td>3358.000000</td>\n",
       "      <td>0.070050</td>\n",
       "      <td>0.000000</td>\n",
       "      <td>0.000000</td>\n",
       "      <td>0.000000</td>\n",
       "      <td>1.400400e+04</td>\n",
       "      <td>6.830840e+05</td>\n",
       "      <td>1.906100e+05</td>\n",
       "      <td>1.360722e+06</td>\n",
       "      <td>4.411260e+05</td>\n",
       "      <td>...</td>\n",
       "      <td>87.229500</td>\n",
       "      <td>0.000000</td>\n",
       "      <td>2.020000</td>\n",
       "      <td>0.412176</td>\n",
       "      <td>0.000000</td>\n",
       "      <td>0.000000</td>\n",
       "      <td>7.706548e+01</td>\n",
       "      <td>0.000000</td>\n",
       "      <td>4.545456e-02</td>\n",
       "      <td>0.000000</td>\n",
       "    </tr>\n",
       "    <tr>\n",
       "      <th>50%</th>\n",
       "      <td>3484.000000</td>\n",
       "      <td>0.269450</td>\n",
       "      <td>0.060000</td>\n",
       "      <td>0.000000</td>\n",
       "      <td>0.000000</td>\n",
       "      <td>1.155330e+05</td>\n",
       "      <td>2.710163e+06</td>\n",
       "      <td>9.639420e+05</td>\n",
       "      <td>5.512519e+06</td>\n",
       "      <td>3.692582e+06</td>\n",
       "      <td>...</td>\n",
       "      <td>118.325250</td>\n",
       "      <td>0.220000</td>\n",
       "      <td>5.050000</td>\n",
       "      <td>0.589624</td>\n",
       "      <td>0.000000</td>\n",
       "      <td>0.000000</td>\n",
       "      <td>3.167076e+02</td>\n",
       "      <td>0.000000</td>\n",
       "      <td>1.697604e-01</td>\n",
       "      <td>0.000000</td>\n",
       "    </tr>\n",
       "    <tr>\n",
       "      <th>75%</th>\n",
       "      <td>3620.000000</td>\n",
       "      <td>0.722525</td>\n",
       "      <td>1.289400</td>\n",
       "      <td>0.000000</td>\n",
       "      <td>0.000000</td>\n",
       "      <td>5.225242e+05</td>\n",
       "      <td>7.023687e+06</td>\n",
       "      <td>3.767173e+06</td>\n",
       "      <td>1.705911e+07</td>\n",
       "      <td>1.323592e+07</td>\n",
       "      <td>...</td>\n",
       "      <td>137.459625</td>\n",
       "      <td>0.628573</td>\n",
       "      <td>10.100000</td>\n",
       "      <td>0.754780</td>\n",
       "      <td>0.000000</td>\n",
       "      <td>0.000000</td>\n",
       "      <td>1.167000e+03</td>\n",
       "      <td>1.200961</td>\n",
       "      <td>4.999999e-01</td>\n",
       "      <td>0.000000</td>\n",
       "    </tr>\n",
       "    <tr>\n",
       "      <th>max</th>\n",
       "      <td>3900.000000</td>\n",
       "      <td>22.315050</td>\n",
       "      <td>57.371600</td>\n",
       "      <td>206.452800</td>\n",
       "      <td>407.748600</td>\n",
       "      <td>5.313546e+07</td>\n",
       "      <td>2.158794e+09</td>\n",
       "      <td>1.135141e+08</td>\n",
       "      <td>1.443921e+09</td>\n",
       "      <td>2.191361e+09</td>\n",
       "      <td>...</td>\n",
       "      <td>255.000000</td>\n",
       "      <td>2.200000</td>\n",
       "      <td>91.910000</td>\n",
       "      <td>0.800000</td>\n",
       "      <td>5.000000</td>\n",
       "      <td>19.000000</td>\n",
       "      <td>1.213991e+08</td>\n",
       "      <td>28.000000</td>\n",
       "      <td>2.524591e+08</td>\n",
       "      <td>1.000000</td>\n",
       "    </tr>\n",
       "  </tbody>\n",
       "</table>\n",
       "<p>8 rows × 50 columns</p>\n",
       "</div>"
      ],
      "text/plain": [
       "        form_field1   form_field2   form_field3   form_field4   form_field5  \\\n",
       "count  76361.000000  74447.000000  79499.000000  79499.000000  79499.000000   \n",
       "mean    3491.942169      0.552815      1.056191      0.854130      2.024495   \n",
       "std      189.075233      0.822650      2.163093      3.233269     10.791811   \n",
       "min     2986.000000      0.000000      0.000000      0.000000      0.000000   \n",
       "25%     3358.000000      0.070050      0.000000      0.000000      0.000000   \n",
       "50%     3484.000000      0.269450      0.060000      0.000000      0.000000   \n",
       "75%     3620.000000      0.722525      1.289400      0.000000      0.000000   \n",
       "max     3900.000000     22.315050     57.371600    206.452800    407.748600   \n",
       "\n",
       "        form_field6   form_field7   form_field8   form_field9  form_field10  \\\n",
       "count  6.103600e+04  7.260600e+04  6.103600e+04  6.859200e+04  7.949800e+04   \n",
       "mean   6.250072e+05  6.844769e+06  2.634964e+06  1.326390e+07  1.186153e+07   \n",
       "std    1.440721e+06  1.831476e+07  3.939693e+06  2.076362e+07  2.613218e+07   \n",
       "min    0.000000e+00  0.000000e+00  0.000000e+00  0.000000e+00  0.000000e+00   \n",
       "25%    1.400400e+04  6.830840e+05  1.906100e+05  1.360722e+06  4.411260e+05   \n",
       "50%    1.155330e+05  2.710163e+06  9.639420e+05  5.512519e+06  3.692582e+06   \n",
       "75%    5.225242e+05  7.023687e+06  3.767173e+06  1.705911e+07  1.323592e+07   \n",
       "max    5.313546e+07  2.158794e+09  1.135141e+08  1.443921e+09  2.191361e+09   \n",
       "\n",
       "       ...  form_field41  form_field42  form_field43  form_field44  \\\n",
       "count  ...  25422.000000  78099.000000  79182.000000  72255.000000   \n",
       "mean   ...    108.145137      0.368656      6.618305      0.564228   \n",
       "std    ...     36.663235      0.413222      6.374198      0.196703   \n",
       "min    ...      0.000000      0.000000      0.000000      0.048528   \n",
       "25%    ...     87.229500      0.000000      2.020000      0.412176   \n",
       "50%    ...    118.325250      0.220000      5.050000      0.589624   \n",
       "75%    ...    137.459625      0.628573     10.100000      0.754780   \n",
       "max    ...    255.000000      2.200000     91.910000      0.800000   \n",
       "\n",
       "       form_field45  form_field46  form_field48  form_field49  form_field50  \\\n",
       "count  35145.000000  57211.000000  5.018900e+04  79499.000000  6.414700e+04   \n",
       "mean       0.070736      0.096135  3.041331e+05      1.053579  6.228580e+05   \n",
       "std        0.287365      0.346109  1.717065e+06      1.809372  6.066510e+06   \n",
       "min        0.000000      0.000000  0.000000e+00      0.000000  0.000000e+00   \n",
       "25%        0.000000      0.000000  7.706548e+01      0.000000  4.545456e-02   \n",
       "50%        0.000000      0.000000  3.167076e+02      0.000000  1.697604e-01   \n",
       "75%        0.000000      0.000000  1.167000e+03      1.200961  4.999999e-01   \n",
       "max        5.000000     19.000000  1.213991e+08     28.000000  2.524591e+08   \n",
       "\n",
       "       default_status  \n",
       "count    56000.000000  \n",
       "mean         0.244911  \n",
       "std          0.430038  \n",
       "min          0.000000  \n",
       "25%          0.000000  \n",
       "50%          0.000000  \n",
       "75%          0.000000  \n",
       "max          1.000000  \n",
       "\n",
       "[8 rows x 50 columns]"
      ]
     },
     "execution_count": 10,
     "metadata": {},
     "output_type": "execute_result"
    }
   ],
   "source": [
    "# Descriptive Statistics.\n",
    "df.describe()"
   ]
  },
  {
   "cell_type": "code",
   "execution_count": null,
   "metadata": {},
   "outputs": [],
   "source": []
  },
  {
   "cell_type": "code",
   "execution_count": 11,
   "metadata": {
    "scrolled": true
   },
   "outputs": [
    {
     "data": {
      "text/plain": [
       "Applicant_ID          0\n",
       "form_field1        3639\n",
       "form_field2        5553\n",
       "form_field3         501\n",
       "form_field4         501\n",
       "form_field5         501\n",
       "form_field6       18964\n",
       "form_field7        7394\n",
       "form_field8       18964\n",
       "form_field9       11408\n",
       "form_field10        502\n",
       "form_field11      44819\n",
       "form_field12      14078\n",
       "form_field13       8352\n",
       "form_field14          0\n",
       "form_field15      32067\n",
       "form_field16      18510\n",
       "form_field17      15846\n",
       "form_field18      14771\n",
       "form_field19          4\n",
       "form_field20        502\n",
       "form_field21      22561\n",
       "form_field22      29124\n",
       "form_field23      40248\n",
       "form_field24      18902\n",
       "form_field25       7706\n",
       "form_field26      10610\n",
       "form_field27      13209\n",
       "form_field28        502\n",
       "form_field29        502\n",
       "form_field30      36417\n",
       "form_field31      56218\n",
       "form_field32       7706\n",
       "form_field33       1751\n",
       "form_field34        502\n",
       "form_field35      33014\n",
       "form_field36       2898\n",
       "form_field37       7706\n",
       "form_field38        502\n",
       "form_field39       6040\n",
       "form_field40      62557\n",
       "form_field41      54578\n",
       "form_field42       1901\n",
       "form_field43        818\n",
       "form_field44       7745\n",
       "form_field45      44855\n",
       "form_field46      22789\n",
       "form_field47          0\n",
       "form_field48      29811\n",
       "form_field49        501\n",
       "form_field50      15853\n",
       "default_status    24000\n",
       "dtype: int64"
      ]
     },
     "execution_count": 11,
     "metadata": {},
     "output_type": "execute_result"
    }
   ],
   "source": [
    "# Missing values.\n",
    "df.isna().sum()"
   ]
  },
  {
   "cell_type": "code",
   "execution_count": 12,
   "metadata": {},
   "outputs": [
    {
     "data": {
      "text/plain": [
       "(80000, 47)"
      ]
     },
     "execution_count": 12,
     "metadata": {},
     "output_type": "execute_result"
    }
   ],
   "source": [
    "# Dropping the below features cos more than half of their observations are missing.\n",
    "\n",
    "df = df.drop(['form_field45', 'form_field40', 'form_field31', 'form_field23', 'form_field11'], axis=1)\n",
    "df.shape"
   ]
  },
  {
   "cell_type": "code",
   "execution_count": 13,
   "metadata": {},
   "outputs": [
    {
     "data": {
      "text/plain": [
       "0"
      ]
     },
     "execution_count": 13,
     "metadata": {},
     "output_type": "execute_result"
    }
   ],
   "source": [
    "# Filling missing columns with -999 to avoid noise.\n",
    "\n",
    "df.fillna(value=-999, inplace=True)\n",
    "\n",
    "df.isna().values.sum()"
   ]
  },
  {
   "cell_type": "code",
   "execution_count": null,
   "metadata": {},
   "outputs": [],
   "source": []
  },
  {
   "cell_type": "markdown",
   "metadata": {},
   "source": [
    "## Treating Categorical variables."
   ]
  },
  {
   "cell_type": "code",
   "execution_count": 14,
   "metadata": {},
   "outputs": [
    {
     "data": {
      "text/html": [
       "<div>\n",
       "<style scoped>\n",
       "    .dataframe tbody tr th:only-of-type {\n",
       "        vertical-align: middle;\n",
       "    }\n",
       "\n",
       "    .dataframe tbody tr th {\n",
       "        vertical-align: top;\n",
       "    }\n",
       "\n",
       "    .dataframe thead th {\n",
       "        text-align: right;\n",
       "    }\n",
       "</style>\n",
       "<table border=\"1\" class=\"dataframe\">\n",
       "  <thead>\n",
       "    <tr style=\"text-align: right;\">\n",
       "      <th></th>\n",
       "      <th>Applicant_ID</th>\n",
       "      <th>form_field47</th>\n",
       "    </tr>\n",
       "  </thead>\n",
       "  <tbody>\n",
       "    <tr>\n",
       "      <th>0</th>\n",
       "      <td>Apcnt_1000000</td>\n",
       "      <td>charge</td>\n",
       "    </tr>\n",
       "    <tr>\n",
       "      <th>1</th>\n",
       "      <td>Apcnt_1000004</td>\n",
       "      <td>charge</td>\n",
       "    </tr>\n",
       "    <tr>\n",
       "      <th>2</th>\n",
       "      <td>Apcnt_1000008</td>\n",
       "      <td>charge</td>\n",
       "    </tr>\n",
       "    <tr>\n",
       "      <th>3</th>\n",
       "      <td>Apcnt_1000012</td>\n",
       "      <td>charge</td>\n",
       "    </tr>\n",
       "    <tr>\n",
       "      <th>4</th>\n",
       "      <td>Apcnt_1000016</td>\n",
       "      <td>charge</td>\n",
       "    </tr>\n",
       "    <tr>\n",
       "      <th>...</th>\n",
       "      <td>...</td>\n",
       "      <td>...</td>\n",
       "    </tr>\n",
       "    <tr>\n",
       "      <th>23995</th>\n",
       "      <td>Apcnt_999940</td>\n",
       "      <td>charge</td>\n",
       "    </tr>\n",
       "    <tr>\n",
       "      <th>23996</th>\n",
       "      <td>Apcnt_999956</td>\n",
       "      <td>charge</td>\n",
       "    </tr>\n",
       "    <tr>\n",
       "      <th>23997</th>\n",
       "      <td>Apcnt_999976</td>\n",
       "      <td>charge</td>\n",
       "    </tr>\n",
       "    <tr>\n",
       "      <th>23998</th>\n",
       "      <td>Apcnt_999984</td>\n",
       "      <td>charge</td>\n",
       "    </tr>\n",
       "    <tr>\n",
       "      <th>23999</th>\n",
       "      <td>Apcnt_999992</td>\n",
       "      <td>charge</td>\n",
       "    </tr>\n",
       "  </tbody>\n",
       "</table>\n",
       "<p>80000 rows × 2 columns</p>\n",
       "</div>"
      ],
      "text/plain": [
       "        Applicant_ID form_field47\n",
       "0      Apcnt_1000000       charge\n",
       "1      Apcnt_1000004       charge\n",
       "2      Apcnt_1000008       charge\n",
       "3      Apcnt_1000012       charge\n",
       "4      Apcnt_1000016       charge\n",
       "...              ...          ...\n",
       "23995   Apcnt_999940       charge\n",
       "23996   Apcnt_999956       charge\n",
       "23997   Apcnt_999976       charge\n",
       "23998   Apcnt_999984       charge\n",
       "23999   Apcnt_999992       charge\n",
       "\n",
       "[80000 rows x 2 columns]"
      ]
     },
     "execution_count": 14,
     "metadata": {},
     "output_type": "execute_result"
    }
   ],
   "source": [
    "cat = df.select_dtypes(include=object)\n",
    "cat"
   ]
  },
  {
   "cell_type": "code",
   "execution_count": 15,
   "metadata": {},
   "outputs": [
    {
     "data": {
      "text/html": [
       "<div>\n",
       "<style scoped>\n",
       "    .dataframe tbody tr th:only-of-type {\n",
       "        vertical-align: middle;\n",
       "    }\n",
       "\n",
       "    .dataframe tbody tr th {\n",
       "        vertical-align: top;\n",
       "    }\n",
       "\n",
       "    .dataframe thead th {\n",
       "        text-align: right;\n",
       "    }\n",
       "</style>\n",
       "<table border=\"1\" class=\"dataframe\">\n",
       "  <thead>\n",
       "    <tr style=\"text-align: right;\">\n",
       "      <th></th>\n",
       "      <th>form_field47</th>\n",
       "    </tr>\n",
       "  </thead>\n",
       "  <tbody>\n",
       "    <tr>\n",
       "      <th>0</th>\n",
       "      <td>charge</td>\n",
       "    </tr>\n",
       "    <tr>\n",
       "      <th>1</th>\n",
       "      <td>charge</td>\n",
       "    </tr>\n",
       "    <tr>\n",
       "      <th>2</th>\n",
       "      <td>charge</td>\n",
       "    </tr>\n",
       "    <tr>\n",
       "      <th>3</th>\n",
       "      <td>charge</td>\n",
       "    </tr>\n",
       "    <tr>\n",
       "      <th>4</th>\n",
       "      <td>charge</td>\n",
       "    </tr>\n",
       "  </tbody>\n",
       "</table>\n",
       "</div>"
      ],
      "text/plain": [
       "  form_field47\n",
       "0       charge\n",
       "1       charge\n",
       "2       charge\n",
       "3       charge\n",
       "4       charge"
      ]
     },
     "execution_count": 15,
     "metadata": {},
     "output_type": "execute_result"
    }
   ],
   "source": [
    "cat = cat.drop('Applicant_ID', axis=1)\n",
    "cat.head()"
   ]
  },
  {
   "cell_type": "code",
   "execution_count": 16,
   "metadata": {},
   "outputs": [
    {
     "data": {
      "text/html": [
       "<div>\n",
       "<style scoped>\n",
       "    .dataframe tbody tr th:only-of-type {\n",
       "        vertical-align: middle;\n",
       "    }\n",
       "\n",
       "    .dataframe tbody tr th {\n",
       "        vertical-align: top;\n",
       "    }\n",
       "\n",
       "    .dataframe thead th {\n",
       "        text-align: right;\n",
       "    }\n",
       "</style>\n",
       "<table border=\"1\" class=\"dataframe\">\n",
       "  <thead>\n",
       "    <tr style=\"text-align: right;\">\n",
       "      <th></th>\n",
       "      <th>form_field47_lending</th>\n",
       "    </tr>\n",
       "  </thead>\n",
       "  <tbody>\n",
       "    <tr>\n",
       "      <th>0</th>\n",
       "      <td>0</td>\n",
       "    </tr>\n",
       "    <tr>\n",
       "      <th>1</th>\n",
       "      <td>0</td>\n",
       "    </tr>\n",
       "    <tr>\n",
       "      <th>2</th>\n",
       "      <td>0</td>\n",
       "    </tr>\n",
       "    <tr>\n",
       "      <th>3</th>\n",
       "      <td>0</td>\n",
       "    </tr>\n",
       "    <tr>\n",
       "      <th>4</th>\n",
       "      <td>0</td>\n",
       "    </tr>\n",
       "    <tr>\n",
       "      <th>...</th>\n",
       "      <td>...</td>\n",
       "    </tr>\n",
       "    <tr>\n",
       "      <th>23995</th>\n",
       "      <td>0</td>\n",
       "    </tr>\n",
       "    <tr>\n",
       "      <th>23996</th>\n",
       "      <td>0</td>\n",
       "    </tr>\n",
       "    <tr>\n",
       "      <th>23997</th>\n",
       "      <td>0</td>\n",
       "    </tr>\n",
       "    <tr>\n",
       "      <th>23998</th>\n",
       "      <td>0</td>\n",
       "    </tr>\n",
       "    <tr>\n",
       "      <th>23999</th>\n",
       "      <td>0</td>\n",
       "    </tr>\n",
       "  </tbody>\n",
       "</table>\n",
       "<p>80000 rows × 1 columns</p>\n",
       "</div>"
      ],
      "text/plain": [
       "       form_field47_lending\n",
       "0                         0\n",
       "1                         0\n",
       "2                         0\n",
       "3                         0\n",
       "4                         0\n",
       "...                     ...\n",
       "23995                     0\n",
       "23996                     0\n",
       "23997                     0\n",
       "23998                     0\n",
       "23999                     0\n",
       "\n",
       "[80000 rows x 1 columns]"
      ]
     },
     "execution_count": 16,
     "metadata": {},
     "output_type": "execute_result"
    }
   ],
   "source": [
    "# Dummifying the cat variable.\n",
    "cat_dum = pd.get_dummies(cat, drop_first=True)\n",
    "cat_dum"
   ]
  },
  {
   "cell_type": "code",
   "execution_count": 17,
   "metadata": {},
   "outputs": [
    {
     "data": {
      "text/html": [
       "<div>\n",
       "<style scoped>\n",
       "    .dataframe tbody tr th:only-of-type {\n",
       "        vertical-align: middle;\n",
       "    }\n",
       "\n",
       "    .dataframe tbody tr th {\n",
       "        vertical-align: top;\n",
       "    }\n",
       "\n",
       "    .dataframe thead th {\n",
       "        text-align: right;\n",
       "    }\n",
       "</style>\n",
       "<table border=\"1\" class=\"dataframe\">\n",
       "  <thead>\n",
       "    <tr style=\"text-align: right;\">\n",
       "      <th></th>\n",
       "      <th>Applicant_ID</th>\n",
       "      <th>form_field1</th>\n",
       "      <th>form_field2</th>\n",
       "      <th>form_field3</th>\n",
       "      <th>form_field4</th>\n",
       "      <th>form_field5</th>\n",
       "      <th>form_field6</th>\n",
       "      <th>form_field7</th>\n",
       "      <th>form_field8</th>\n",
       "      <th>form_field9</th>\n",
       "      <th>...</th>\n",
       "      <th>form_field42</th>\n",
       "      <th>form_field43</th>\n",
       "      <th>form_field44</th>\n",
       "      <th>form_field46</th>\n",
       "      <th>form_field47</th>\n",
       "      <th>form_field48</th>\n",
       "      <th>form_field49</th>\n",
       "      <th>form_field50</th>\n",
       "      <th>default_status</th>\n",
       "      <th>form_field47_lending</th>\n",
       "    </tr>\n",
       "  </thead>\n",
       "  <tbody>\n",
       "    <tr>\n",
       "      <th>0</th>\n",
       "      <td>Apcnt_1000000</td>\n",
       "      <td>3436.0</td>\n",
       "      <td>0.28505</td>\n",
       "      <td>1.6560</td>\n",
       "      <td>0.0</td>\n",
       "      <td>0.000</td>\n",
       "      <td>0.0</td>\n",
       "      <td>10689720.0</td>\n",
       "      <td>252072.0</td>\n",
       "      <td>4272776.0</td>\n",
       "      <td>...</td>\n",
       "      <td>0.392854</td>\n",
       "      <td>2.02</td>\n",
       "      <td>0.711632</td>\n",
       "      <td>0.0</td>\n",
       "      <td>charge</td>\n",
       "      <td>-999.000000</td>\n",
       "      <td>1.129518</td>\n",
       "      <td>0.044335</td>\n",
       "      <td>0.0</td>\n",
       "      <td>0</td>\n",
       "    </tr>\n",
       "    <tr>\n",
       "      <th>1</th>\n",
       "      <td>Apcnt_1000004</td>\n",
       "      <td>3456.0</td>\n",
       "      <td>0.67400</td>\n",
       "      <td>0.2342</td>\n",
       "      <td>0.0</td>\n",
       "      <td>0.000</td>\n",
       "      <td>0.0</td>\n",
       "      <td>898979.0</td>\n",
       "      <td>497531.0</td>\n",
       "      <td>9073814.0</td>\n",
       "      <td>...</td>\n",
       "      <td>0.314281</td>\n",
       "      <td>8.08</td>\n",
       "      <td>0.183584</td>\n",
       "      <td>0.0</td>\n",
       "      <td>charge</td>\n",
       "      <td>349.805730</td>\n",
       "      <td>1.620483</td>\n",
       "      <td>0.322436</td>\n",
       "      <td>0.0</td>\n",
       "      <td>0</td>\n",
       "    </tr>\n",
       "    <tr>\n",
       "      <th>2</th>\n",
       "      <td>Apcnt_1000008</td>\n",
       "      <td>3276.0</td>\n",
       "      <td>0.53845</td>\n",
       "      <td>3.1510</td>\n",
       "      <td>0.0</td>\n",
       "      <td>6.282</td>\n",
       "      <td>-999.0</td>\n",
       "      <td>956940.0</td>\n",
       "      <td>-999.0</td>\n",
       "      <td>192944.0</td>\n",
       "      <td>...</td>\n",
       "      <td>0.162965</td>\n",
       "      <td>18.18</td>\n",
       "      <td>0.791136</td>\n",
       "      <td>0.0</td>\n",
       "      <td>charge</td>\n",
       "      <td>-999.000000</td>\n",
       "      <td>1.513370</td>\n",
       "      <td>0.011640</td>\n",
       "      <td>1.0</td>\n",
       "      <td>0</td>\n",
       "    </tr>\n",
       "    <tr>\n",
       "      <th>3</th>\n",
       "      <td>Apcnt_1000012</td>\n",
       "      <td>3372.0</td>\n",
       "      <td>0.17005</td>\n",
       "      <td>0.5050</td>\n",
       "      <td>0.0</td>\n",
       "      <td>0.000</td>\n",
       "      <td>192166.0</td>\n",
       "      <td>3044703.0</td>\n",
       "      <td>385499.0</td>\n",
       "      <td>3986472.0</td>\n",
       "      <td>...</td>\n",
       "      <td>0.488884</td>\n",
       "      <td>2.02</td>\n",
       "      <td>0.685168</td>\n",
       "      <td>0.0</td>\n",
       "      <td>charge</td>\n",
       "      <td>89.940100</td>\n",
       "      <td>0.664452</td>\n",
       "      <td>0.082729</td>\n",
       "      <td>0.0</td>\n",
       "      <td>0</td>\n",
       "    </tr>\n",
       "    <tr>\n",
       "      <th>4</th>\n",
       "      <td>Apcnt_1000016</td>\n",
       "      <td>3370.0</td>\n",
       "      <td>0.77270</td>\n",
       "      <td>1.1010</td>\n",
       "      <td>0.0</td>\n",
       "      <td>0.000</td>\n",
       "      <td>1556.0</td>\n",
       "      <td>214728.0</td>\n",
       "      <td>214728.0</td>\n",
       "      <td>1284089.0</td>\n",
       "      <td>...</td>\n",
       "      <td>0.275000</td>\n",
       "      <td>12.12</td>\n",
       "      <td>0.438168</td>\n",
       "      <td>0.0</td>\n",
       "      <td>charge</td>\n",
       "      <td>97.887502</td>\n",
       "      <td>1.427891</td>\n",
       "      <td>0.045630</td>\n",
       "      <td>0.0</td>\n",
       "      <td>0</td>\n",
       "    </tr>\n",
       "  </tbody>\n",
       "</table>\n",
       "<p>5 rows × 48 columns</p>\n",
       "</div>"
      ],
      "text/plain": [
       "    Applicant_ID  form_field1  form_field2  form_field3  form_field4  \\\n",
       "0  Apcnt_1000000       3436.0      0.28505       1.6560          0.0   \n",
       "1  Apcnt_1000004       3456.0      0.67400       0.2342          0.0   \n",
       "2  Apcnt_1000008       3276.0      0.53845       3.1510          0.0   \n",
       "3  Apcnt_1000012       3372.0      0.17005       0.5050          0.0   \n",
       "4  Apcnt_1000016       3370.0      0.77270       1.1010          0.0   \n",
       "\n",
       "   form_field5  form_field6  form_field7  form_field8  form_field9  ...  \\\n",
       "0        0.000          0.0   10689720.0     252072.0    4272776.0  ...   \n",
       "1        0.000          0.0     898979.0     497531.0    9073814.0  ...   \n",
       "2        6.282       -999.0     956940.0       -999.0     192944.0  ...   \n",
       "3        0.000     192166.0    3044703.0     385499.0    3986472.0  ...   \n",
       "4        0.000       1556.0     214728.0     214728.0    1284089.0  ...   \n",
       "\n",
       "   form_field42  form_field43  form_field44  form_field46  form_field47  \\\n",
       "0      0.392854          2.02      0.711632           0.0        charge   \n",
       "1      0.314281          8.08      0.183584           0.0        charge   \n",
       "2      0.162965         18.18      0.791136           0.0        charge   \n",
       "3      0.488884          2.02      0.685168           0.0        charge   \n",
       "4      0.275000         12.12      0.438168           0.0        charge   \n",
       "\n",
       "   form_field48  form_field49  form_field50  default_status  \\\n",
       "0   -999.000000      1.129518      0.044335             0.0   \n",
       "1    349.805730      1.620483      0.322436             0.0   \n",
       "2   -999.000000      1.513370      0.011640             1.0   \n",
       "3     89.940100      0.664452      0.082729             0.0   \n",
       "4     97.887502      1.427891      0.045630             0.0   \n",
       "\n",
       "   form_field47_lending  \n",
       "0                     0  \n",
       "1                     0  \n",
       "2                     0  \n",
       "3                     0  \n",
       "4                     0  \n",
       "\n",
       "[5 rows x 48 columns]"
      ]
     },
     "execution_count": 17,
     "metadata": {},
     "output_type": "execute_result"
    }
   ],
   "source": [
    "# Joining the dummified cat feature to the main dataset.\n",
    "\n",
    "df = pd.concat([df, cat_dum], axis=1)\n",
    "df.head()"
   ]
  },
  {
   "cell_type": "code",
   "execution_count": 18,
   "metadata": {},
   "outputs": [
    {
     "data": {
      "text/plain": [
       "(80000, 47)"
      ]
     },
     "execution_count": 18,
     "metadata": {},
     "output_type": "execute_result"
    }
   ],
   "source": [
    "df = df.drop('form_field47', axis=1)\n",
    "df.shape"
   ]
  },
  {
   "cell_type": "code",
   "execution_count": null,
   "metadata": {},
   "outputs": [],
   "source": []
  },
  {
   "cell_type": "code",
   "execution_count": 19,
   "metadata": {},
   "outputs": [],
   "source": [
    "# Engineering new features.\n",
    "# based on feature importance from catboost.\n",
    "\n",
    "df['form_field47n1'] = df['form_field47_lending'] * df['form_field1']\n",
    "df['form_field47nn1'] = df['form_field47_lending'] / df['form_field1']\n",
    "df['form_field2n6'] = df['form_field6'] * df['form_field2']\n",
    "df['form_field2nn6'] = df['form_field6'] / df['form_field2']\n",
    "df['form_field3n25'] = df['form_field3'] * df['form_field25']\n",
    "df['form_field3nn25'] = df['form_field3'] / df['form_field25']"
   ]
  },
  {
   "cell_type": "code",
   "execution_count": null,
   "metadata": {},
   "outputs": [],
   "source": []
  },
  {
   "cell_type": "code",
   "execution_count": 20,
   "metadata": {
    "scrolled": true
   },
   "outputs": [
    {
     "data": {
      "text/plain": [
       "form_field1              -4.094538\n",
       "form_field2              -3.388400\n",
       "form_field3             -12.503422\n",
       "form_field4             -12.485453\n",
       "form_field5             -12.147764\n",
       "form_field6               7.340283\n",
       "form_field7              32.941666\n",
       "form_field8               4.330886\n",
       "form_field9               8.136562\n",
       "form_field10             15.433010\n",
       "form_field12              5.901909\n",
       "form_field13             50.972921\n",
       "form_field14            105.898366\n",
       "form_field15              5.671541\n",
       "form_field16             -1.273993\n",
       "form_field17             -1.515140\n",
       "form_field18             -1.625586\n",
       "form_field19           -129.594209\n",
       "form_field20            -12.495402\n",
       "form_field21             -0.939402\n",
       "form_field22              1.194198\n",
       "form_field24             11.034882\n",
       "form_field25              1.171982\n",
       "form_field26              1.428277\n",
       "form_field27              1.371521\n",
       "form_field28              0.991017\n",
       "form_field29              0.905375\n",
       "form_field30              0.704285\n",
       "form_field32              1.664213\n",
       "form_field33             -6.428331\n",
       "form_field34            -12.503584\n",
       "form_field35             -0.354757\n",
       "form_field36             -4.939712\n",
       "form_field37             -2.731876\n",
       "form_field38            -12.317154\n",
       "form_field39             -3.213565\n",
       "form_field41              0.787803\n",
       "form_field42             -6.253642\n",
       "form_field43             -9.678511\n",
       "form_field44             -2.727032\n",
       "form_field46             -0.953325\n",
       "form_field48             19.820069\n",
       "form_field49            -12.507737\n",
       "form_field50             17.367679\n",
       "default_status           -0.872886\n",
       "form_field47_lending      0.619785\n",
       "form_field47n1            0.673480\n",
       "form_field47nn1          -2.251015\n",
       "form_field2n6           -14.097618\n",
       "form_field2nn6                 NaN\n",
       "form_field3n25           12.418167\n",
       "form_field3nn25                NaN\n",
       "dtype: float64"
      ]
     },
     "execution_count": 20,
     "metadata": {},
     "output_type": "execute_result"
    }
   ],
   "source": [
    "# Skewness/abnormality.\n",
    "df.skew()"
   ]
  },
  {
   "cell_type": "code",
   "execution_count": 21,
   "metadata": {},
   "outputs": [],
   "source": [
    "# Highly skewed features.\n",
    "\n",
    "skewed_col = ['form_field50', 'form_field49', 'form_field48', 'form_field46', 'form_field43', 'form_field42', 'form_field39', \n",
    "             'form_field38', 'form_field37', 'form_field36', 'form_field34', 'form_field33', 'form_field32', \n",
    "             'form_field27', 'form_field26', 'form_field25', 'form_field24', 'form_field22', 'form_field21', 'form_field20', \n",
    "             'form_field19', 'form_field18', 'form_field17', 'form_field16', 'form_field15', 'form_field14', 'form_field13', \n",
    "             'form_field12', 'form_field10', 'form_field9', 'form_field8', 'form_field7', 'form_field6', 'form_field5', \n",
    "             'form_field4', 'form_field3', 'form_field2', 'form_field1', 'form_field44', 'form_field21', 'form_field47nn1', \n",
    "             'form_field2n6', 'form_field3n25']"
   ]
  },
  {
   "cell_type": "code",
   "execution_count": null,
   "metadata": {},
   "outputs": [],
   "source": []
  },
  {
   "cell_type": "code",
   "execution_count": 22,
   "metadata": {},
   "outputs": [
    {
     "name": "stderr",
     "output_type": "stream",
     "text": [
      "C:\\Users\\JAHFAITH IROKANULO\\Anaconda3\\lib\\site-packages\\pandas\\core\\series.py:726: RuntimeWarning: divide by zero encountered in log\n",
      "  result = getattr(ufunc, method)(*inputs, **kwargs)\n",
      "C:\\Users\\JAHFAITH IROKANULO\\Anaconda3\\lib\\site-packages\\pandas\\core\\series.py:726: RuntimeWarning: invalid value encountered in log\n",
      "  result = getattr(ufunc, method)(*inputs, **kwargs)\n"
     ]
    }
   ],
   "source": [
    "# Log transforming these columns.\n",
    "\n",
    "for col in skewed_col:\n",
    "    df[col] = np.log(df[col])"
   ]
  },
  {
   "cell_type": "code",
   "execution_count": 23,
   "metadata": {
    "scrolled": true
   },
   "outputs": [
    {
     "data": {
      "text/plain": [
       "form_field1             0.004696\n",
       "form_field2                  NaN\n",
       "form_field3                  NaN\n",
       "form_field4                  NaN\n",
       "form_field5                  NaN\n",
       "form_field6                  NaN\n",
       "form_field7                  NaN\n",
       "form_field8                  NaN\n",
       "form_field9                  NaN\n",
       "form_field10                 NaN\n",
       "form_field12                 NaN\n",
       "form_field13                 NaN\n",
       "form_field14                 NaN\n",
       "form_field15           -0.440615\n",
       "form_field16                 NaN\n",
       "form_field17                 NaN\n",
       "form_field18                 NaN\n",
       "form_field19                 NaN\n",
       "form_field20                 NaN\n",
       "form_field21           -4.125905\n",
       "form_field22                 NaN\n",
       "form_field24                 NaN\n",
       "form_field25                 NaN\n",
       "form_field26                 NaN\n",
       "form_field27                 NaN\n",
       "form_field28            0.991017\n",
       "form_field29            0.905375\n",
       "form_field30            0.704285\n",
       "form_field32                 NaN\n",
       "form_field33           -0.636550\n",
       "form_field34                 NaN\n",
       "form_field35           -0.354757\n",
       "form_field36           -0.193057\n",
       "form_field37                 NaN\n",
       "form_field38                 NaN\n",
       "form_field39                 NaN\n",
       "form_field41            0.787803\n",
       "form_field42                 NaN\n",
       "form_field43                 NaN\n",
       "form_field44           -1.302952\n",
       "form_field46                 NaN\n",
       "form_field48                 NaN\n",
       "form_field49                 NaN\n",
       "form_field50                 NaN\n",
       "default_status         -0.872886\n",
       "form_field47_lending    0.619785\n",
       "dtype: float64"
      ]
     },
     "execution_count": 23,
     "metadata": {},
     "output_type": "execute_result"
    }
   ],
   "source": [
    "df.skew()"
   ]
  },
  {
   "cell_type": "code",
   "execution_count": null,
   "metadata": {},
   "outputs": [],
   "source": []
  },
  {
   "cell_type": "markdown",
   "metadata": {},
   "source": [
    "## Correlation."
   ]
  },
  {
   "cell_type": "code",
   "execution_count": 23,
   "metadata": {},
   "outputs": [],
   "source": [
    "corr_mat = df.corr()"
   ]
  },
  {
   "cell_type": "code",
   "execution_count": 24,
   "metadata": {
    "scrolled": true
   },
   "outputs": [
    {
     "data": {
      "text/plain": [
       "default_status          1.000000\n",
       "form_field2nn6          0.005703\n",
       "form_field15            0.004702\n",
       "form_field48            0.004129\n",
       "form_field13            0.004051\n",
       "form_field38            0.003823\n",
       "form_field20            0.003361\n",
       "form_field46            0.003334\n",
       "form_field12            0.003165\n",
       "form_field2n6           0.002998\n",
       "form_field43            0.002658\n",
       "form_field10            0.002387\n",
       "form_field47nn1         0.002223\n",
       "form_field22            0.002194\n",
       "form_field36            0.002129\n",
       "form_field19            0.001825\n",
       "form_field3nn25         0.001588\n",
       "form_field7             0.000622\n",
       "form_field50            0.000408\n",
       "form_field29            0.000185\n",
       "form_field21           -0.000352\n",
       "form_field14           -0.000439\n",
       "form_field26           -0.000488\n",
       "form_field27           -0.000492\n",
       "form_field3n25         -0.000594\n",
       "form_field24           -0.000748\n",
       "form_field32           -0.000862\n",
       "form_field25           -0.001035\n",
       "form_field9            -0.001049\n",
       "form_field1            -0.001186\n",
       "form_field41           -0.001467\n",
       "form_field8            -0.001920\n",
       "form_field35           -0.002134\n",
       "form_field37           -0.002409\n",
       "form_field3            -0.002658\n",
       "form_field30           -0.003080\n",
       "form_field16           -0.003281\n",
       "form_field33           -0.004347\n",
       "form_field6            -0.004389\n",
       "form_field47_lending   -0.005004\n",
       "form_field2            -0.005414\n",
       "form_field47n1         -0.005751\n",
       "form_field42           -0.005758\n",
       "form_field39           -0.005914\n",
       "form_field49           -0.007069\n",
       "form_field44           -0.007075\n",
       "form_field28           -0.007666\n",
       "form_field4            -0.010035\n",
       "form_field17           -0.011194\n",
       "form_field18           -0.011710\n",
       "form_field34           -0.016134\n",
       "form_field5            -0.029038\n",
       "Name: default_status, dtype: float64"
      ]
     },
     "execution_count": 24,
     "metadata": {},
     "output_type": "execute_result"
    }
   ],
   "source": [
    "corr_mat['default_status'].sort_values(ascending=False)"
   ]
  },
  {
   "cell_type": "code",
   "execution_count": null,
   "metadata": {},
   "outputs": [],
   "source": []
  },
  {
   "cell_type": "code",
   "execution_count": 25,
   "metadata": {},
   "outputs": [],
   "source": [
    "# Split into train and test sets.\n",
    "\n",
    "train = df.loc[df['default_status'] != -999]\n",
    "test = df.loc[df['default_status'] == -999]"
   ]
  },
  {
   "cell_type": "code",
   "execution_count": 26,
   "metadata": {},
   "outputs": [
    {
     "data": {
      "text/plain": [
       "((56000, 53), (24000, 53))"
      ]
     },
     "execution_count": 26,
     "metadata": {},
     "output_type": "execute_result"
    }
   ],
   "source": [
    "train.shape, test.shape"
   ]
  },
  {
   "cell_type": "code",
   "execution_count": null,
   "metadata": {},
   "outputs": [],
   "source": []
  },
  {
   "cell_type": "code",
   "execution_count": 27,
   "metadata": {},
   "outputs": [],
   "source": [
    "# Splitting train set into X and Y.\n",
    "\n",
    "X = train.drop(['Applicant_ID', 'default_status'], axis=1)\n",
    "Y = train['default_status']\n",
    "test_data = test.drop(['Applicant_ID', 'default_status'], axis=1)"
   ]
  },
  {
   "cell_type": "code",
   "execution_count": null,
   "metadata": {},
   "outputs": [],
   "source": []
  },
  {
   "cell_type": "markdown",
   "metadata": {},
   "source": [
    "## Model Training."
   ]
  },
  {
   "cell_type": "code",
   "execution_count": 28,
   "metadata": {},
   "outputs": [],
   "source": [
    "# Importing more libraries.\n",
    "import catboost as cat\n",
    "import lightgbm as lgb\n",
    "from sklearn.model_selection import train_test_split, StratifiedKFold, KFold, StratifiedKFold, cross_val_score\n",
    "from sklearn.metrics import roc_auc_score, plot_confusion_matrix, plot_roc_curve\n",
    "from imblearn.over_sampling import SMOTE\n",
    "import gc"
   ]
  },
  {
   "cell_type": "code",
   "execution_count": 29,
   "metadata": {},
   "outputs": [],
   "source": [
    "def crossVal(model):\n",
    "    avg = 0\n",
    "    for fold, (tr, te) in enumerate(skfolds.split(xtrainval, ytrainval), 1):\n",
    "        train_x, test_x = xtrainval.iloc[tr], xtrainval.iloc[te]\n",
    "        train_y, test_y = ytrainval.iloc[tr], ytrainval.iloc[te]\n",
    "        \n",
    "        model.fit(train_x, train_y, eval_set=[(train_x, train_y), (test_x, test_y)], \n",
    "                  early_stopping_rounds=200, verbose=False)\n",
    "        preds = model.predict_proba(test_x)[:,1]\n",
    "        auc = roc_auc_score(test_y, preds)\n",
    "        print(f'Fold {fold}: AUC: {auc}')\n",
    "        avg += auc\n",
    "    free = gc.collect()\n",
    "    print(f'Avg AUC: {avg/fold}')"
   ]
  },
  {
   "cell_type": "code",
   "execution_count": 30,
   "metadata": {},
   "outputs": [],
   "source": [
    "def crossValPred(model):\n",
    "    avg = 0\n",
    "    test_scores = []\n",
    "    for fold, (tr, te) in enumerate(skfolds.split(X, Y), 1):\n",
    "        train_x, test_x = X.iloc[tr], X.iloc[te]\n",
    "        train_y, test_y = Y.iloc[tr], Y.iloc[te]\n",
    "        \n",
    "        model.fit(train_x, train_y, eval_set=[(train_x, train_y), (test_x, test_y)], \n",
    "                  early_stopping_rounds=200, verbose=False)\n",
    "        \n",
    "        preds = model.predict_proba(test_x)[:, 1]\n",
    "        auc = roc_auc_score(test_y, preds)\n",
    "        print(f'Fold {fold}: AUC: {auc}')\n",
    "        avg += auc\n",
    "        \n",
    "        \n",
    "        test_pred = model.predict_proba(test_data)[:,1]\n",
    "        test_scores.append(test_pred)\n",
    "    print(f'Avg AUC: {avg/fold}')\n",
    "    free = gc.collect()\n",
    "    return np.mean(test_scores, 0)"
   ]
  },
  {
   "cell_type": "code",
   "execution_count": 31,
   "metadata": {},
   "outputs": [],
   "source": [
    "skfolds = StratifiedKFold(n_splits=5, shuffle=True, random_state=5)"
   ]
  },
  {
   "cell_type": "code",
   "execution_count": 32,
   "metadata": {},
   "outputs": [],
   "source": [
    "xtrainval, xtest, ytrainval, ytest = train_test_split(X, Y, test_size=0.15, stratify=Y, random_state=12)\n",
    "xtrain, xval, ytrain, yval = train_test_split(xtrainval, ytrainval, test_size=0.20, stratify=ytrainval, random_state=12)"
   ]
  },
  {
   "cell_type": "code",
   "execution_count": 33,
   "metadata": {},
   "outputs": [
    {
     "data": {
      "text/plain": [
       "((38080, 51), (9520, 51), (8400, 51))"
      ]
     },
     "execution_count": 33,
     "metadata": {},
     "output_type": "execute_result"
    }
   ],
   "source": [
    "xtrain.shape, xval.shape, xtest.shape"
   ]
  },
  {
   "cell_type": "markdown",
   "metadata": {},
   "source": [
    "## CATBOOST CLASSIFIER"
   ]
  },
  {
   "cell_type": "code",
   "execution_count": 34,
   "metadata": {},
   "outputs": [],
   "source": [
    "cat = cat.CatBoostClassifier(random_seed=12, bootstrap_type='Bernoulli',  \n",
    "                              iterations=1000, silent=True, eval_metric='AUC') "
   ]
  },
  {
   "cell_type": "code",
   "execution_count": 35,
   "metadata": {},
   "outputs": [
    {
     "name": "stdout",
     "output_type": "stream",
     "text": [
      "Learning rate set to 0.077865\n",
      "0:\ttest: 0.7810485\tbest: 0.7810485 (0)\ttotal: 116ms\tremaining: 1m 55s\n",
      "200:\ttest: 0.8341765\tbest: 0.8342001 (199)\ttotal: 8.13s\tremaining: 32.3s\n",
      "400:\ttest: 0.8351876\tbest: 0.8352427 (380)\ttotal: 16.3s\tremaining: 24.4s\n",
      "600:\ttest: 0.8342900\tbest: 0.8352427 (380)\ttotal: 24.3s\tremaining: 16.1s\n",
      "Stopped by overfitting detector  (350 iterations wait)\n",
      "\n",
      "bestTest = 0.8352426643\n",
      "bestIteration = 380\n",
      "\n",
      "Shrink model to first 381 iterations.\n"
     ]
    },
    {
     "data": {
      "text/plain": [
       "<catboost.core.CatBoostClassifier at 0x22ec23d27b8>"
      ]
     },
     "execution_count": 35,
     "metadata": {},
     "output_type": "execute_result"
    }
   ],
   "source": [
    "cat.fit(xtrain, ytrain, eval_set=[(xval,yval)], early_stopping_rounds=350, verbose=200)"
   ]
  },
  {
   "cell_type": "code",
   "execution_count": 36,
   "metadata": {},
   "outputs": [
    {
     "name": "stdout",
     "output_type": "stream",
     "text": [
      "Fold 1: AUC: 0.834180204885449\n",
      "Fold 2: AUC: 0.8418569792891674\n",
      "Fold 3: AUC: 0.8369877886338103\n",
      "Fold 4: AUC: 0.8420026683504336\n",
      "Fold 5: AUC: 0.8424137069501199\n",
      "Avg AUC: 0.839488269621796\n"
     ]
    }
   ],
   "source": [
    "crossVal(cat)"
   ]
  },
  {
   "cell_type": "code",
   "execution_count": 37,
   "metadata": {},
   "outputs": [
    {
     "name": "stdout",
     "output_type": "stream",
     "text": [
      "Fold 1: AUC: 0.8425008743379849\n",
      "Fold 2: AUC: 0.8354066125342284\n",
      "Fold 3: AUC: 0.8376282910208928\n",
      "Fold 4: AUC: 0.8445748001588614\n",
      "Fold 5: AUC: 0.8372214808364902\n",
      "Avg AUC: 0.8394664117776915\n"
     ]
    }
   ],
   "source": [
    "cat_pred = crossValPred(cat)"
   ]
  },
  {
   "cell_type": "code",
   "execution_count": null,
   "metadata": {},
   "outputs": [],
   "source": []
  },
  {
   "cell_type": "markdown",
   "metadata": {},
   "source": [
    "## LGBM"
   ]
  },
  {
   "cell_type": "code",
   "execution_count": 38,
   "metadata": {},
   "outputs": [],
   "source": [
    "lgbm = lgb.LGBMClassifier(metric='AUC')"
   ]
  },
  {
   "cell_type": "code",
   "execution_count": 39,
   "metadata": {},
   "outputs": [
    {
     "name": "stdout",
     "output_type": "stream",
     "text": [
      "Training until validation scores don't improve for 200 rounds\n",
      "Did not meet early stopping. Best iteration is:\n",
      "[100]\ttraining's auc: 0.899587\tvalid_1's auc: 0.833808\n"
     ]
    },
    {
     "data": {
      "text/plain": [
       "LGBMClassifier(metric='AUC')"
      ]
     },
     "execution_count": 39,
     "metadata": {},
     "output_type": "execute_result"
    }
   ],
   "source": [
    "lgbm.fit(xtrain, ytrain, eval_set=[(xtrain, ytrain), (xval,yval)], verbose=200, early_stopping_rounds=200)"
   ]
  },
  {
   "cell_type": "code",
   "execution_count": 40,
   "metadata": {},
   "outputs": [
    {
     "name": "stdout",
     "output_type": "stream",
     "text": [
      "Fold 1: AUC: 0.8327978138104721\n",
      "Fold 2: AUC: 0.8407860297552883\n",
      "Fold 3: AUC: 0.8346768449130483\n",
      "Fold 4: AUC: 0.8362469049807618\n",
      "Fold 5: AUC: 0.8396366311395684\n",
      "Avg AUC: 0.8368288449198278\n"
     ]
    }
   ],
   "source": [
    "crossVal(lgbm)"
   ]
  },
  {
   "cell_type": "code",
   "execution_count": 41,
   "metadata": {},
   "outputs": [
    {
     "name": "stdout",
     "output_type": "stream",
     "text": [
      "Fold 1: AUC: 0.8374747834372689\n",
      "Fold 2: AUC: 0.8317989041170768\n",
      "Fold 3: AUC: 0.8348202144269453\n",
      "Fold 4: AUC: 0.8391625478051541\n",
      "Fold 5: AUC: 0.8356506038072727\n",
      "Avg AUC: 0.8357814107187436\n"
     ]
    }
   ],
   "source": [
    "lgb_pred = crossValPred(lgbm)"
   ]
  },
  {
   "cell_type": "code",
   "execution_count": null,
   "metadata": {},
   "outputs": [],
   "source": []
  },
  {
   "cell_type": "markdown",
   "metadata": {},
   "source": [
    "## Ensemble"
   ]
  },
  {
   "cell_type": "code",
   "execution_count": 42,
   "metadata": {},
   "outputs": [],
   "source": [
    "blend = ((0.4 * lgb_pred + 0.6 * cat_pred) + (0.6 * lgb_pred + 0.4 * cat_pred))/2"
   ]
  },
  {
   "cell_type": "code",
   "execution_count": 43,
   "metadata": {},
   "outputs": [],
   "source": [
    "lgb_df =  pd.DataFrame({'Applicant_ID' : test_id, 'default_status' : lgb_pred})\n",
    "cat_df =  pd.DataFrame({'Applicant_ID' : test_id, 'default_status' : cat_pred})\n",
    "blend_df =  pd.DataFrame({'Applicant_ID' : test_id, 'default_status' : blend})"
   ]
  },
  {
   "cell_type": "code",
   "execution_count": 44,
   "metadata": {},
   "outputs": [
    {
     "data": {
      "text/html": [
       "<div>\n",
       "<style scoped>\n",
       "    .dataframe tbody tr th:only-of-type {\n",
       "        vertical-align: middle;\n",
       "    }\n",
       "\n",
       "    .dataframe tbody tr th {\n",
       "        vertical-align: top;\n",
       "    }\n",
       "\n",
       "    .dataframe thead th {\n",
       "        text-align: right;\n",
       "    }\n",
       "</style>\n",
       "<table border=\"1\" class=\"dataframe\">\n",
       "  <thead>\n",
       "    <tr style=\"text-align: right;\">\n",
       "      <th></th>\n",
       "      <th>LGB</th>\n",
       "      <th>CAT</th>\n",
       "      <th>BLEND</th>\n",
       "    </tr>\n",
       "  </thead>\n",
       "  <tbody>\n",
       "    <tr>\n",
       "      <th>0</th>\n",
       "      <td>0.322517</td>\n",
       "      <td>0.331968</td>\n",
       "      <td>0.327242</td>\n",
       "    </tr>\n",
       "    <tr>\n",
       "      <th>1</th>\n",
       "      <td>0.318040</td>\n",
       "      <td>0.287071</td>\n",
       "      <td>0.302555</td>\n",
       "    </tr>\n",
       "    <tr>\n",
       "      <th>2</th>\n",
       "      <td>0.418821</td>\n",
       "      <td>0.396320</td>\n",
       "      <td>0.407571</td>\n",
       "    </tr>\n",
       "    <tr>\n",
       "      <th>3</th>\n",
       "      <td>0.738731</td>\n",
       "      <td>0.720812</td>\n",
       "      <td>0.729771</td>\n",
       "    </tr>\n",
       "    <tr>\n",
       "      <th>4</th>\n",
       "      <td>0.134688</td>\n",
       "      <td>0.195103</td>\n",
       "      <td>0.164896</td>\n",
       "    </tr>\n",
       "    <tr>\n",
       "      <th>...</th>\n",
       "      <td>...</td>\n",
       "      <td>...</td>\n",
       "      <td>...</td>\n",
       "    </tr>\n",
       "    <tr>\n",
       "      <th>23995</th>\n",
       "      <td>0.698761</td>\n",
       "      <td>0.715607</td>\n",
       "      <td>0.707184</td>\n",
       "    </tr>\n",
       "    <tr>\n",
       "      <th>23996</th>\n",
       "      <td>0.198990</td>\n",
       "      <td>0.244687</td>\n",
       "      <td>0.221839</td>\n",
       "    </tr>\n",
       "    <tr>\n",
       "      <th>23997</th>\n",
       "      <td>0.289213</td>\n",
       "      <td>0.303773</td>\n",
       "      <td>0.296493</td>\n",
       "    </tr>\n",
       "    <tr>\n",
       "      <th>23998</th>\n",
       "      <td>0.556238</td>\n",
       "      <td>0.539218</td>\n",
       "      <td>0.547728</td>\n",
       "    </tr>\n",
       "    <tr>\n",
       "      <th>23999</th>\n",
       "      <td>0.176318</td>\n",
       "      <td>0.257651</td>\n",
       "      <td>0.216985</td>\n",
       "    </tr>\n",
       "  </tbody>\n",
       "</table>\n",
       "<p>24000 rows × 3 columns</p>\n",
       "</div>"
      ],
      "text/plain": [
       "            LGB       CAT     BLEND\n",
       "0      0.322517  0.331968  0.327242\n",
       "1      0.318040  0.287071  0.302555\n",
       "2      0.418821  0.396320  0.407571\n",
       "3      0.738731  0.720812  0.729771\n",
       "4      0.134688  0.195103  0.164896\n",
       "...         ...       ...       ...\n",
       "23995  0.698761  0.715607  0.707184\n",
       "23996  0.198990  0.244687  0.221839\n",
       "23997  0.289213  0.303773  0.296493\n",
       "23998  0.556238  0.539218  0.547728\n",
       "23999  0.176318  0.257651  0.216985\n",
       "\n",
       "[24000 rows x 3 columns]"
      ]
     },
     "execution_count": 44,
     "metadata": {},
     "output_type": "execute_result"
    }
   ],
   "source": [
    "pd.DataFrame(np.c_[lgb_pred, cat_pred, blend], columns=['LGB', 'CAT', 'BLEND'])"
   ]
  },
  {
   "cell_type": "code",
   "execution_count": 45,
   "metadata": {},
   "outputs": [
    {
     "data": {
      "text/plain": [
       "0.192388    2\n",
       "0.248700    2\n",
       "0.015358    2\n",
       "0.187684    2\n",
       "0.390915    2\n",
       "           ..\n",
       "0.158656    1\n",
       "0.194906    1\n",
       "0.027357    1\n",
       "0.174160    1\n",
       "0.183654    1\n",
       "Name: default_status, Length: 23995, dtype: int64"
      ]
     },
     "execution_count": 45,
     "metadata": {},
     "output_type": "execute_result"
    }
   ],
   "source": [
    "lgb_df['default_status'].value_counts()"
   ]
  },
  {
   "cell_type": "code",
   "execution_count": 46,
   "metadata": {},
   "outputs": [
    {
     "data": {
      "text/plain": [
       "0.041571    2\n",
       "0.258849    2\n",
       "0.191346    1\n",
       "0.287428    1\n",
       "0.339596    1\n",
       "           ..\n",
       "0.004464    1\n",
       "0.343360    1\n",
       "0.730506    1\n",
       "0.141487    1\n",
       "0.380262    1\n",
       "Name: default_status, Length: 23998, dtype: int64"
      ]
     },
     "execution_count": 46,
     "metadata": {},
     "output_type": "execute_result"
    }
   ],
   "source": [
    "cat_df['default_status'].value_counts()"
   ]
  },
  {
   "cell_type": "code",
   "execution_count": 47,
   "metadata": {},
   "outputs": [
    {
     "data": {
      "text/plain": [
       "0.253774    2\n",
       "0.028464    2\n",
       "0.490456    1\n",
       "0.016690    1\n",
       "0.772750    1\n",
       "           ..\n",
       "0.102246    1\n",
       "0.009397    1\n",
       "0.628776    1\n",
       "0.105962    1\n",
       "0.017147    1\n",
       "Name: default_status, Length: 23998, dtype: int64"
      ]
     },
     "execution_count": 47,
     "metadata": {},
     "output_type": "execute_result"
    }
   ],
   "source": [
    "blend_df['default_status'].value_counts()"
   ]
  },
  {
   "cell_type": "code",
   "execution_count": null,
   "metadata": {},
   "outputs": [],
   "source": []
  },
  {
   "cell_type": "markdown",
   "metadata": {},
   "source": [
    "## Submission"
   ]
  },
  {
   "cell_type": "code",
   "execution_count": 48,
   "metadata": {},
   "outputs": [],
   "source": [
    "lgb_df.to_csv('Submission201', index=False)\n",
    "cat_df.to_csv('Submission202', index=False)\n",
    "blend_df.to_csv('Submission203', index=False)"
   ]
  },
  {
   "cell_type": "code",
   "execution_count": null,
   "metadata": {},
   "outputs": [],
   "source": []
  }
 ],
 "metadata": {
  "kernelspec": {
   "display_name": "Python 3",
   "language": "python",
   "name": "python3"
  },
  "language_info": {
   "codemirror_mode": {
    "name": "ipython",
    "version": 3
   },
   "file_extension": ".py",
   "mimetype": "text/x-python",
   "name": "python",
   "nbconvert_exporter": "python",
   "pygments_lexer": "ipython3",
   "version": "3.6.4"
  }
 },
 "nbformat": 4,
 "nbformat_minor": 2
}
