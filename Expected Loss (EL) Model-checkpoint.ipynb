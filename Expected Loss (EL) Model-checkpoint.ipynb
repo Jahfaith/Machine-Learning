{
 "cells": [
  {
   "cell_type": "code",
   "execution_count": 1,
   "metadata": {},
   "outputs": [],
   "source": [
    "import pandas as pd\n",
    "import numpy as np\n",
    "import matplotlib.pyplot as plt\n",
    "import seaborn as sns"
   ]
  },
  {
   "cell_type": "code",
   "execution_count": 2,
   "metadata": {},
   "outputs": [
    {
     "data": {
      "text/html": [
       "<div>\n",
       "<style scoped>\n",
       "    .dataframe tbody tr th:only-of-type {\n",
       "        vertical-align: middle;\n",
       "    }\n",
       "\n",
       "    .dataframe tbody tr th {\n",
       "        vertical-align: top;\n",
       "    }\n",
       "\n",
       "    .dataframe thead th {\n",
       "        text-align: right;\n",
       "    }\n",
       "</style>\n",
       "<table border=\"1\" class=\"dataframe\">\n",
       "  <thead>\n",
       "    <tr style=\"text-align: right;\">\n",
       "      <th></th>\n",
       "      <th>id</th>\n",
       "      <th>loan_amnt</th>\n",
       "      <th>term</th>\n",
       "      <th>int_rate</th>\n",
       "      <th>emp_title</th>\n",
       "      <th>emp_length</th>\n",
       "      <th>home_ownership</th>\n",
       "      <th>annual_inc</th>\n",
       "      <th>verification_status</th>\n",
       "      <th>loan_status</th>\n",
       "      <th>purpose</th>\n",
       "      <th>recoveries</th>\n",
       "      <th>total_rec_prncp</th>\n",
       "      <th>total_rec_int</th>\n",
       "    </tr>\n",
       "  </thead>\n",
       "  <tbody>\n",
       "    <tr>\n",
       "      <th>0</th>\n",
       "      <td>68407277</td>\n",
       "      <td>3600.0</td>\n",
       "      <td>36 months</td>\n",
       "      <td>13.99</td>\n",
       "      <td>leadman</td>\n",
       "      <td>10+ years</td>\n",
       "      <td>MORTGAGE</td>\n",
       "      <td>55000.0</td>\n",
       "      <td>Not Verified</td>\n",
       "      <td>Fully Paid</td>\n",
       "      <td>debt_consolidation</td>\n",
       "      <td>0.0</td>\n",
       "      <td>3600.0</td>\n",
       "      <td>821.72</td>\n",
       "    </tr>\n",
       "    <tr>\n",
       "      <th>1</th>\n",
       "      <td>68355089</td>\n",
       "      <td>24700.0</td>\n",
       "      <td>36 months</td>\n",
       "      <td>11.99</td>\n",
       "      <td>Engineer</td>\n",
       "      <td>10+ years</td>\n",
       "      <td>MORTGAGE</td>\n",
       "      <td>65000.0</td>\n",
       "      <td>Not Verified</td>\n",
       "      <td>Fully Paid</td>\n",
       "      <td>small_business</td>\n",
       "      <td>0.0</td>\n",
       "      <td>24700.0</td>\n",
       "      <td>979.66</td>\n",
       "    </tr>\n",
       "    <tr>\n",
       "      <th>2</th>\n",
       "      <td>68341763</td>\n",
       "      <td>20000.0</td>\n",
       "      <td>60 months</td>\n",
       "      <td>10.78</td>\n",
       "      <td>truck driver</td>\n",
       "      <td>10+ years</td>\n",
       "      <td>MORTGAGE</td>\n",
       "      <td>63000.0</td>\n",
       "      <td>Not Verified</td>\n",
       "      <td>Fully Paid</td>\n",
       "      <td>home_improvement</td>\n",
       "      <td>0.0</td>\n",
       "      <td>20000.0</td>\n",
       "      <td>2705.92</td>\n",
       "    </tr>\n",
       "  </tbody>\n",
       "</table>\n",
       "</div>"
      ],
      "text/plain": [
       "         id  loan_amnt        term  int_rate     emp_title emp_length  \\\n",
       "0  68407277     3600.0   36 months     13.99       leadman  10+ years   \n",
       "1  68355089    24700.0   36 months     11.99      Engineer  10+ years   \n",
       "2  68341763    20000.0   60 months     10.78  truck driver  10+ years   \n",
       "\n",
       "  home_ownership  annual_inc verification_status loan_status  \\\n",
       "0       MORTGAGE     55000.0        Not Verified  Fully Paid   \n",
       "1       MORTGAGE     65000.0        Not Verified  Fully Paid   \n",
       "2       MORTGAGE     63000.0        Not Verified  Fully Paid   \n",
       "\n",
       "              purpose  recoveries  total_rec_prncp  total_rec_int  \n",
       "0  debt_consolidation         0.0           3600.0         821.72  \n",
       "1      small_business         0.0          24700.0         979.66  \n",
       "2    home_improvement         0.0          20000.0        2705.92  "
      ]
     },
     "execution_count": 2,
     "metadata": {},
     "output_type": "execute_result"
    }
   ],
   "source": [
    "pd.options.display.max_columns = None\n",
    "data = pd.read_excel('C:\\\\Users\\\\JAHFAITH IROKANULO\\\\Desktop\\\\LGD-Accepted_Loan_Data.xlsx')\n",
    "data.head(3)"
   ]
  },
  {
   "cell_type": "code",
   "execution_count": 3,
   "metadata": {},
   "outputs": [],
   "source": [
    "feature = ['loan_amnt','term','int_rate','emp_title','emp_length','home_ownership','annual_inc','purpose']\n",
    "\n",
    "target = data['loan_status']"
   ]
  },
  {
   "cell_type": "code",
   "execution_count": 4,
   "metadata": {},
   "outputs": [],
   "source": [
    "X = data[feature]\n",
    "Y = target"
   ]
  },
  {
   "cell_type": "code",
   "execution_count": 5,
   "metadata": {},
   "outputs": [
    {
     "name": "stderr",
     "output_type": "stream",
     "text": [
      "C:\\Users\\JAHFAITH IROKANULO\\Anaconda3\\lib\\site-packages\\pandas\\core\\generic.py:4619: SettingWithCopyWarning: \n",
      "A value is trying to be set on a copy of a slice from a DataFrame\n",
      "\n",
      "See the caveats in the documentation: http://pandas.pydata.org/pandas-docs/stable/indexing.html#indexing-view-versus-copy\n",
      "  self._update_inplace(new_data)\n"
     ]
    }
   ],
   "source": [
    "X['term'].replace({' 36 months':'36 months'}, inplace=True)"
   ]
  },
  {
   "cell_type": "code",
   "execution_count": 6,
   "metadata": {},
   "outputs": [],
   "source": [
    "# JobTitle\n",
    "\n",
    "# WC = White Collar\n",
    "# BC = Blue Collar\n",
    "\n",
    "\n",
    "def job(title):\n",
    "    WC = ['Doctor','Attorney ','Surgical Technologist','Docket Administrator','Chief Deputy US Marshal','Auditor','Engineer ','University of California, Los Angeles','IT tech',\n",
    "          'Senior Software Engineer','CEO','Senior Sales Manager ','Sr Business Analyst','Economic Development Specialist ','Nuclear Medicine Technologist','Principal Engineer','Respiratory therapist','Rocket Technician',\n",
    "          'Marketing Manager / Lead','Sr Tech Analyst Prod Owner Data Infrastr','Administrative Coordinator','Associate Director','Research Asst.','University Professor','Consultant','Regional Director','Wells Fargo Bank','Pharmacy Technician','registered nurse','VP Manufacturing','Innovations','Managing Partner','HR Manager','Review Appraiser','Analyst','Secretary','Paralegal','Manager of Project Controls','School Psychologist','Vice President Finance','Physician','Manager of Administration','service advisor','Administrative','Director','Account Manager','Assistant manager','Network Administrator','Dealership Operations Director',\n",
    "          'RESIDENT MANAGER','Director of Mortgage Compliance','Accounting Assistant','Compliance analyst ','Project Manager','Executive/Administrative Assistant','Sr. Email Marketing Manager',\n",
    "         'pharmacist','Relationship Manager', 'VP Sales and Marketing','Manager','Broker associate','regional sales manager/trainer','Accounting','Business banker','HR manager',\n",
    "         'Senior Operations Manager','Marshalls ','Sr Project Manager','Vice President Sales','Estate Manager','Director of Security','HR','Counsel','Assistant Manager','accounting','School Counselor','IT SPECIALIST',\n",
    "         'Technical Director','Ophthalmic Technician','Practice manager ','Financial analyst','STAFF NURSE','University Hospital','Assistant Manager ','Owner/President','Chief Architect',\n",
    "         'Professor','us bank','Administrative assistant','Tax Auditor','Genstar Capital','mechanical engineer','Senior Vice President','Director ','Neuroscience therapeutic specialist',\n",
    "          'Owner','Executive Team Lead - Assets Protection','Northeast Family Institute (NFI Vt)','Registered Nurse','Director of Research','Senior Experience Designer','Marketing manager','BCB Community Bank','Chief of Staff','Attorney','Senior protective service rep','PROFESSOR',\n",
    "          'Deputy','IT Manager','Software Engineer','OFFICE MANAGER ','Installment Loan Representative','Western national','Sr. Director, Heart','Principal Analyst','Sr. Mgr. Tax',\n",
    "          'general manager','senior program specilist','Sales','Computer Programmer','Management Analyst','Engineer','CML Loan Specialist','Asset Manager','Associate Vice President',\n",
    "          'Account Clerk','Performance Metrics Reporting Manager','Manager ','Sales Manager','Cervical Technicial ','Laboratory Assistant ','Accountant','HVAC Engineer','EMT',\n",
    "          'Senior Project Scientist','Sample Dept. Manager','Claim Analyst','Admin asst/secretary','Park Supervisor ','Treatment coordinator','Case Manager','Division Manager','Brand Manager','WellPoint, Inc.','RN, Charge Nurse',\n",
    "         'Commercial lines Manager','Executive Vice President ','Medical Assistant','Captain ','Presentation Team Leader','Communications','Senior Associate','Realtor','Pharmacist','Accounting Tech',\n",
    "          'Office Manager','Operations tech ','Business Manager','Accounting Clerk','Bar Manager','tmobile','Associate Director, Intl Banking','Mgr, Enterprise Applications ',\n",
    "          'Medical Technologist','Property Manager','construction manager','Manager sales operations','Physician Assistant','Vice President of Sales','Accounting Manager','Executive Editor','Service coordinator','Senior Big Data Engineer',\n",
    "          'General Manager','dental hygienist','QA Manager','Lt. Inspector','Holy Redeemer Health System and Hospital','service manager','Software Developer','business partner ','Captain',\n",
    "         'Respiratory Therapist','Director of Operations','cashier/manager','Deputy ','Colorado State University','Branch Manager','Dean of Students','Production. Manager','senior officer specialist','Manger','Project manager','Vice President/Customer & Content Strat','Operations/Benefits Administrator',\n",
    "          'certified coder','World wide developer relations','Financial Solutions Advisor','Texas worlds advisor','Director, Panther STEPS','Residential Counselor ','Assistant Manager of Payrolls',\n",
    "          'Regional Facilities Director','Business Cordinator','Manager-Bartender','Clerk','Chief Deputy Clerk ','Microbiologist ','Collections Manager','Vice President Tax Control','Sr. Lead Transport','PR Manager, Americas','Instructional Specialist','Prototype Build Lead','Personal Vacation Advisor','Administrative ','Professional Umpire',\n",
    "         'Recruiting Manager','Business Systems Analyst','External Manufacturing Consultant','Bank of America','Assistant Case Manager','Sr. Director of Planning',\n",
    "          'Chief Pilot','Project Engineer ','MD Anderson Cancer Center','Business Analyst','Identity Access Administrator','nurse','Director of Engineering',\n",
    "          'INVESTMENT CONSULTANT','Wisconsin Resource Center','Private Client Advisor','Clinical Application Specialist','Director of Farm Fresh CSAs & IT','Director, Consultant','Senior Account Manager','SENIOR FIELD SERVICE TECH',\n",
    "          'operations manager ','operations manager','Vice President','Oral and Maxillofacial Surgeon','Facilities Manager','Program Analyst','The Boeing Company','V.P Operations','Senior Manager','Program Counselor','Sr. HRA','Residential director',\n",
    "          'Registered nurse','registered nurse ','manager','Practice Manager','IT Technology Analyst','Relationship banker ','Staffing manager','Associate Broker','Product Manager',\n",
    "          'Partner','Account Executive ','Executive Assistant','Financial Solution Advisor','Vice President ','Assembly','Teller','Sr. Accounting Manager','Management Analyst/GS-12',\n",
    "          'Finance Manager','Principal','Logistics Analyst','Litigation Analyst ','Nurse','MANAGER','DIRECTOR OF FOOD SAFETY','IT','Director of Military Personnel',\n",
    "          'Senior Network Engineer','Regional Traffic Director','Senior Project Manager','Purchasing Manager','Senior Consultant',\n",
    "         'Financial Manager','Credit Manager','Sr Systems Programmer','MD. Dept Of Corrections','bus operator','Financial Analyst','Hospice Support Team Supervisor','Managing Broker','Audit Manager','Payment Specialist','Director of Integrated Marketing','Rehab Director','Account Sales Representative ','Metro-Nashville Public Schools',\n",
    "         'DIRECTOR OF OPERATIONS','Programmer 2 / Web Designer','Sr Computer Programmer Analyst','Civil Engineer',\n",
    "          'professor','VP of Sales & Marketing','Senior Product Manager','Senior Accountant','Programmer',\n",
    "         'assistant manager','Senior Professional Knowledge Mgmt','Cyber Intel Analyst','Hospital Services Supervisor','Director of National Sales',]\n",
    "    \n",
    "    \n",
    "    BC = ['Pipe welder','Truck driver','mail carrier','Installer','Table Game Dealer','Graphic Artist / Prepress Operator','Custodian 2 supervisor',\n",
    "         'Safety Director','switcher','Cook 2','Production labor','Finish Line','rural carrier','Server', 'Bag Line Operator ','Wire Technician',\n",
    "          'Phone Rep','MANAGEMENT/ CARPENTER','Secuirty Gaurd','Service Tech','Private Caregiver','IKO Midwest','housekeeping','Plant maintenance  Apprentice',\n",
    "         'Physical therapist','Assembler ','Cap supervisor','Table Game Supervisor','Driver','Paddock Swimming Pools','Machine Operator','Painter',\n",
    "         'Dispatcher','Traffic director','Cafe ala cart ','City catrier','Fire Sprinkler Designer','Machinist ','Reach truck driver',\n",
    "          'Ryder Truck Rental','machine operator','server','Fulfillment ','Dispatcher ','Housekeeping Aid','CNC Machinist',\n",
    "         'Security Officer','Die cut operator ','Cnc machinist','Mechanic','Mechanic. Foreman','Caregiver ','Commercial Driver',\n",
    "         'Laborer ','Courier','Mechanic ','Housekeeper','cdl truck driver','Labor','customer care loan team','Sales/Marketing','CNC Operator','shift supervisor',\n",
    "          'Loan Officer','Flaum Navigators','agent','Agreement Administrator',\n",
    "          'On-Site Property Manager','Teachr','Administrative Assistant','Moravian Academy',\n",
    "         'Technical Writer','Teacher','Dispatch Specialist','Assistant Processor','LVN',\n",
    "         'Flight Attendant','Human Resources Specialist ','Security Supervisor','Retail Manager',\n",
    "          'Estimator','RN','Control room operations','CDM Coordinator','Transportation deputy',\n",
    "         'Warehouse Manager','Altanidia Beauty Supplies Inc','At sales rep','Business Customer Service Representative',\n",
    "         'Auto sales team members ','Detailer','Company Driver','Sr Systems Engineer','Lead Chemical Operator',\n",
    "          'visual merch','Intensive Psychiatric Rehabilitator','Food And Nutrition Specialist','Police Communications Operator',\n",
    "          'Ophthalmic Tech','joyce leslie','Market Head of Sales','Bookkeeper ','Lead teller','Detective','deputy sheriff',\n",
    "         'Sales Associate','Military','Cobham Surveillance','headwaters agency  inc','Officer','Commercial Loan Officer']\n",
    "    \n",
    "    if title in WC:\n",
    "        return 'WC'\n",
    "    else:\n",
    "        return 'BC'"
   ]
  },
  {
   "cell_type": "code",
   "execution_count": 7,
   "metadata": {},
   "outputs": [
    {
     "name": "stderr",
     "output_type": "stream",
     "text": [
      "C:\\Users\\JAHFAITH IROKANULO\\Anaconda3\\lib\\site-packages\\ipykernel_launcher.py:3: SettingWithCopyWarning: \n",
      "A value is trying to be set on a copy of a slice from a DataFrame.\n",
      "Try using .loc[row_indexer,col_indexer] = value instead\n",
      "\n",
      "See the caveats in the documentation: http://pandas.pydata.org/pandas-docs/stable/indexing.html#indexing-view-versus-copy\n",
      "  This is separate from the ipykernel package so we can avoid doing imports until\n"
     ]
    },
    {
     "data": {
      "text/plain": [
       "BC    896191\n",
       "WC    152384\n",
       "Name: emp_title, dtype: int64"
      ]
     },
     "execution_count": 7,
     "metadata": {},
     "output_type": "execute_result"
    }
   ],
   "source": [
    "# Applying the function.\n",
    "\n",
    "X['emp_title'] = X['emp_title'].map(job)\n",
    "X['emp_title'].value_counts()"
   ]
  },
  {
   "cell_type": "code",
   "execution_count": 8,
   "metadata": {},
   "outputs": [
    {
     "name": "stderr",
     "output_type": "stream",
     "text": [
      "C:\\Users\\JAHFAITH IROKANULO\\Anaconda3\\lib\\site-packages\\pandas\\core\\indexing.py:537: SettingWithCopyWarning: \n",
      "A value is trying to be set on a copy of a slice from a DataFrame.\n",
      "Try using .loc[row_indexer,col_indexer] = value instead\n",
      "\n",
      "See the caveats in the documentation: http://pandas.pydata.org/pandas-docs/stable/indexing.html#indexing-view-versus-copy\n",
      "  self.obj[item] = s\n"
     ]
    }
   ],
   "source": [
    "X.loc[X['emp_length']=='6 years', 'emp_length'] = '6'\n",
    "X.loc[X['emp_length']=='10+ years', 'emp_length'] = '10'\n",
    "X.loc[X['emp_length']=='7 years', 'emp_length'] = '7'\n",
    "X.loc[X['emp_length']=='3 years', 'emp_length'] = '3'\n",
    "X.loc[X['emp_length']=='1 year', 'emp_length'] = '1'\n",
    "X.loc[X['emp_length']=='8 years', 'emp_length'] = '8'\n",
    "X.loc[X['emp_length']=='< 1 year', 'emp_length'] = '0'\n",
    "X.loc[X['emp_length']=='2 years', 'emp_length'] = '2'\n",
    "X.loc[X['emp_length']=='5 years', 'emp_length'] = '5'\n",
    "X.loc[X['emp_length']=='9 years', 'emp_length'] = '9'\n",
    "X.loc[X['emp_length']=='4 years', 'emp_length'] = '4'"
   ]
  },
  {
   "cell_type": "code",
   "execution_count": 9,
   "metadata": {},
   "outputs": [
    {
     "name": "stderr",
     "output_type": "stream",
     "text": [
      "C:\\Users\\JAHFAITH IROKANULO\\Anaconda3\\lib\\site-packages\\pandas\\core\\generic.py:4619: SettingWithCopyWarning: \n",
      "A value is trying to be set on a copy of a slice from a DataFrame\n",
      "\n",
      "See the caveats in the documentation: http://pandas.pydata.org/pandas-docs/stable/indexing.html#indexing-view-versus-copy\n",
      "  self._update_inplace(new_data)\n"
     ]
    }
   ],
   "source": [
    "X['home_ownership'].replace({'NONE':'RENT', 'ANY':'RENT'}, inplace=True)"
   ]
  },
  {
   "cell_type": "code",
   "execution_count": 10,
   "metadata": {},
   "outputs": [
    {
     "name": "stderr",
     "output_type": "stream",
     "text": [
      "C:\\Users\\JAHFAITH IROKANULO\\Anaconda3\\lib\\site-packages\\pandas\\core\\generic.py:4619: SettingWithCopyWarning: \n",
      "A value is trying to be set on a copy of a slice from a DataFrame\n",
      "\n",
      "See the caveats in the documentation: http://pandas.pydata.org/pandas-docs/stable/indexing.html#indexing-view-versus-copy\n",
      "  self._update_inplace(new_data)\n"
     ]
    }
   ],
   "source": [
    "X['purpose'].replace({'home_improvement':'major_purchase', 'house':'major_purchase', 'car':'major_purchase',\n",
    "                            'moving':'other', 'vacation':'other', 'wedding':'other', 'renewable_energy':'other',\n",
    "                           'small_business':'major_purchase', 'medical':'other', 'educational':'other'}, inplace=True)"
   ]
  },
  {
   "cell_type": "code",
   "execution_count": 11,
   "metadata": {},
   "outputs": [],
   "source": [
    "# Fill Missing values.\n",
    "\n",
    "val = {'loan_amnt':13200,'emp_title':'BC', 'term':'36 months', 'int_rate':12.29, 'emp_title':'BC',\n",
    "       'emp_length':6, 'home_ownership':'MORTGAGE', 'annual_inc':65000, 'purpose':'debt_consolidation'}\n",
    "\n",
    "X = X.fillna(value = val)"
   ]
  },
  {
   "cell_type": "code",
   "execution_count": 12,
   "metadata": {},
   "outputs": [],
   "source": [
    "X['emp_length'] = X['emp_length'].astype('int64')"
   ]
  },
  {
   "cell_type": "markdown",
   "metadata": {},
   "source": [
    "# Creating Dummies for categorical variables."
   ]
  },
  {
   "cell_type": "code",
   "execution_count": 13,
   "metadata": {},
   "outputs": [],
   "source": [
    "# Term\n",
    "\n",
    "X['term:36months'] = np.where((X['term']=='36 months'), 1, 0)\n",
    "X['term:60months'] = np.where((X['term']=='60 months'), 1, 0)"
   ]
  },
  {
   "cell_type": "code",
   "execution_count": 14,
   "metadata": {},
   "outputs": [],
   "source": [
    "# Emp_title\n",
    "\n",
    "X['emp_title:BC'] = np.where((X['emp_title']=='BC'), 1, 0)\n",
    "X['emp_title:WC'] = np.where((X['emp_title']=='WC'), 1, 0)"
   ]
  },
  {
   "cell_type": "code",
   "execution_count": 15,
   "metadata": {},
   "outputs": [],
   "source": [
    "# Home_ownership\n",
    "\n",
    "X['home_ownership:OWN'] = np.where((X['home_ownership']=='OWN'), 1, 0)\n",
    "X['home_ownership:RENT'] = np.where((X['home_ownership']=='RENT'), 1, 0)\n",
    "X['home_ownership:MORTGAGE'] = np.where((X['home_ownership']=='MORTGAGE'), 1, 0)"
   ]
  },
  {
   "cell_type": "code",
   "execution_count": 16,
   "metadata": {},
   "outputs": [],
   "source": [
    "# Purpose\n",
    "\n",
    "X['purpose:debt'] = np.where((X['purpose']=='debt_consolidation'), 1, 0)\n",
    "X['purpose:other'] = np.where((X['purpose']=='other'), 1, 0)\n",
    "X['purpose:major_purchase'] = np.where((X['purpose']=='major_purchase'), 1, 0)\n",
    "X['purpose_credit_card'] = np.where((X['purpose']=='credit_card'), 1, 0)"
   ]
  },
  {
   "cell_type": "code",
   "execution_count": 17,
   "metadata": {},
   "outputs": [],
   "source": [
    "# Emp_length.\n",
    "\n",
    "X['emp_length:0-1'] = np.where(X['emp_length'].isin(range(0,2)), 1, 0)\n",
    "X['emp_length:2-5'] = np.where(X['emp_length'].isin(range(2,6)), 1, 0)\n",
    "X['emp_length:6-9'] = np.where(X['emp_length'].isin(range(6,10)), 1, 0)\n",
    "X['emp_length:10+'] = np.where(X['emp_length'].isin([10]), 1, 0)"
   ]
  },
  {
   "cell_type": "code",
   "execution_count": 18,
   "metadata": {},
   "outputs": [
    {
     "data": {
      "text/plain": [
       "((1048575, 23),\n",
       " Index(['loan_amnt', 'term', 'int_rate', 'emp_title', 'emp_length',\n",
       "        'home_ownership', 'annual_inc', 'purpose', 'term:36months',\n",
       "        'term:60months', 'emp_title:BC', 'emp_title:WC', 'home_ownership:OWN',\n",
       "        'home_ownership:RENT', 'home_ownership:MORTGAGE', 'purpose:debt',\n",
       "        'purpose:other', 'purpose:major_purchase', 'purpose_credit_card',\n",
       "        'emp_length:0-1', 'emp_length:2-5', 'emp_length:6-9', 'emp_length:10+'],\n",
       "       dtype='object'))"
      ]
     },
     "execution_count": 18,
     "metadata": {},
     "output_type": "execute_result"
    }
   ],
   "source": [
    "# Storing preprocessed X as loan_data_prep\n",
    "\n",
    "X.shape, X.columns"
   ]
  },
  {
   "cell_type": "code",
   "execution_count": 19,
   "metadata": {},
   "outputs": [
    {
     "data": {
      "text/plain": [
       "((1048575, 18),\n",
       " Index(['loan_amnt', 'int_rate', 'annual_inc', 'term:36months', 'term:60months',\n",
       "        'emp_title:BC', 'emp_title:WC', 'home_ownership:OWN',\n",
       "        'home_ownership:RENT', 'home_ownership:MORTGAGE', 'purpose:debt',\n",
       "        'purpose:other', 'purpose:major_purchase', 'purpose_credit_card',\n",
       "        'emp_length:0-1', 'emp_length:2-5', 'emp_length:6-9', 'emp_length:10+'],\n",
       "       dtype='object'))"
      ]
     },
     "execution_count": 19,
     "metadata": {},
     "output_type": "execute_result"
    }
   ],
   "source": [
    "X = X.drop(['term', 'emp_title', 'emp_length', 'home_ownership', 'purpose'], axis=1)\n",
    "\n",
    "X.shape, X.columns"
   ]
  },
  {
   "cell_type": "code",
   "execution_count": 20,
   "metadata": {},
   "outputs": [],
   "source": [
    "# Storing preprocessed X as loan_data_prep\n",
    "loan_data_prep = X\n",
    "\n",
    "# Making a copy of loan_data_prep so that the original is untampered with.\n",
    "pd_input_data = loan_data_prep.copy()"
   ]
  },
  {
   "cell_type": "code",
   "execution_count": null,
   "metadata": {},
   "outputs": [],
   "source": []
  },
  {
   "cell_type": "markdown",
   "metadata": {},
   "source": [
    "# PD Model"
   ]
  },
  {
   "cell_type": "code",
   "execution_count": 21,
   "metadata": {},
   "outputs": [
    {
     "data": {
      "text/html": [
       "<div>\n",
       "<style scoped>\n",
       "    .dataframe tbody tr th:only-of-type {\n",
       "        vertical-align: middle;\n",
       "    }\n",
       "\n",
       "    .dataframe tbody tr th {\n",
       "        vertical-align: top;\n",
       "    }\n",
       "\n",
       "    .dataframe thead th {\n",
       "        text-align: right;\n",
       "    }\n",
       "</style>\n",
       "<table border=\"1\" class=\"dataframe\">\n",
       "  <thead>\n",
       "    <tr style=\"text-align: right;\">\n",
       "      <th></th>\n",
       "      <th>loan_amnt</th>\n",
       "      <th>int_rate</th>\n",
       "      <th>annual_inc</th>\n",
       "      <th>term:36months</th>\n",
       "      <th>term:60months</th>\n",
       "      <th>emp_title:BC</th>\n",
       "      <th>emp_title:WC</th>\n",
       "      <th>home_ownership:OWN</th>\n",
       "      <th>home_ownership:RENT</th>\n",
       "      <th>home_ownership:MORTGAGE</th>\n",
       "      <th>purpose:debt</th>\n",
       "      <th>purpose:other</th>\n",
       "      <th>purpose:major_purchase</th>\n",
       "      <th>purpose_credit_card</th>\n",
       "      <th>emp_length:0-1</th>\n",
       "      <th>emp_length:2-5</th>\n",
       "      <th>emp_length:6-9</th>\n",
       "      <th>emp_length:10+</th>\n",
       "    </tr>\n",
       "  </thead>\n",
       "  <tbody>\n",
       "    <tr>\n",
       "      <th>0</th>\n",
       "      <td>3600.0</td>\n",
       "      <td>13.99</td>\n",
       "      <td>55000.0</td>\n",
       "      <td>1</td>\n",
       "      <td>0</td>\n",
       "      <td>1</td>\n",
       "      <td>0</td>\n",
       "      <td>0</td>\n",
       "      <td>0</td>\n",
       "      <td>1</td>\n",
       "      <td>1</td>\n",
       "      <td>0</td>\n",
       "      <td>0</td>\n",
       "      <td>0</td>\n",
       "      <td>0</td>\n",
       "      <td>0</td>\n",
       "      <td>0</td>\n",
       "      <td>1</td>\n",
       "    </tr>\n",
       "    <tr>\n",
       "      <th>1</th>\n",
       "      <td>24700.0</td>\n",
       "      <td>11.99</td>\n",
       "      <td>65000.0</td>\n",
       "      <td>1</td>\n",
       "      <td>0</td>\n",
       "      <td>0</td>\n",
       "      <td>1</td>\n",
       "      <td>0</td>\n",
       "      <td>0</td>\n",
       "      <td>1</td>\n",
       "      <td>0</td>\n",
       "      <td>0</td>\n",
       "      <td>1</td>\n",
       "      <td>0</td>\n",
       "      <td>0</td>\n",
       "      <td>0</td>\n",
       "      <td>0</td>\n",
       "      <td>1</td>\n",
       "    </tr>\n",
       "    <tr>\n",
       "      <th>2</th>\n",
       "      <td>20000.0</td>\n",
       "      <td>10.78</td>\n",
       "      <td>63000.0</td>\n",
       "      <td>0</td>\n",
       "      <td>0</td>\n",
       "      <td>1</td>\n",
       "      <td>0</td>\n",
       "      <td>0</td>\n",
       "      <td>0</td>\n",
       "      <td>1</td>\n",
       "      <td>0</td>\n",
       "      <td>0</td>\n",
       "      <td>1</td>\n",
       "      <td>0</td>\n",
       "      <td>0</td>\n",
       "      <td>0</td>\n",
       "      <td>0</td>\n",
       "      <td>1</td>\n",
       "    </tr>\n",
       "  </tbody>\n",
       "</table>\n",
       "</div>"
      ],
      "text/plain": [
       "   loan_amnt  int_rate  annual_inc  term:36months  term:60months  \\\n",
       "0     3600.0     13.99     55000.0              1              0   \n",
       "1    24700.0     11.99     65000.0              1              0   \n",
       "2    20000.0     10.78     63000.0              0              0   \n",
       "\n",
       "   emp_title:BC  emp_title:WC  home_ownership:OWN  home_ownership:RENT  \\\n",
       "0             1             0                   0                    0   \n",
       "1             0             1                   0                    0   \n",
       "2             1             0                   0                    0   \n",
       "\n",
       "   home_ownership:MORTGAGE  purpose:debt  purpose:other  \\\n",
       "0                        1             1              0   \n",
       "1                        1             0              0   \n",
       "2                        1             0              0   \n",
       "\n",
       "   purpose:major_purchase  purpose_credit_card  emp_length:0-1  \\\n",
       "0                       0                    0               0   \n",
       "1                       1                    0               0   \n",
       "2                       1                    0               0   \n",
       "\n",
       "   emp_length:2-5  emp_length:6-9  emp_length:10+  \n",
       "0               0               0               1  \n",
       "1               0               0               1  \n",
       "2               0               0               1  "
      ]
     },
     "execution_count": 21,
     "metadata": {},
     "output_type": "execute_result"
    }
   ],
   "source": [
    "# Preprocessing the data for PD Model.\n",
    "\n",
    "# Independent Features.\n",
    "pd_input_data.head(3)"
   ]
  },
  {
   "cell_type": "code",
   "execution_count": null,
   "metadata": {},
   "outputs": [],
   "source": [
    "# The classes below were obtained from the WOE preparation performed earlier in the Credit Score model (PD)."
   ]
  },
  {
   "cell_type": "code",
   "execution_count": 22,
   "metadata": {},
   "outputs": [],
   "source": [
    "# Coarse classing loan_amnt\n",
    "\n",
    "pd_input_data['loan_amnt:<9580'] = np.where(pd_input_data['loan_amnt'].isin(range(9581)), 1, 0)\n",
    "pd_input_data['loan_amnt:9581-18940'] = np.where(pd_input_data['loan_amnt'].isin(range(9581,18941)), 1, 0)\n",
    "pd_input_data['loan_amnt:18941-29860'] = np.where(pd_input_data['loan_amnt'].isin(range(18941,29861)), 1, 0)\n",
    "pd_input_data['loan_amnt:29861-35320'] = np.where(pd_input_data['loan_amnt'].isin(range(29861,35321)), 1, 0)\n",
    "pd_input_data['loan_amnt:35321-40000'] = np.where(pd_input_data['loan_amnt'].isin(range(35321,40001)), 1, 0)\n",
    "#X['loan_amnt:>40000'] = np.where((X['loan_amnt'] >= 40000), 1, 0)\n",
    "pd_input_data['loan_amnt:(>40000)'] = np.where(pd_input_data['loan_amnt'].isin(range(40001, int(pd_input_data['loan_amnt'].max()))), 1, 0)"
   ]
  },
  {
   "cell_type": "code",
   "execution_count": 23,
   "metadata": {},
   "outputs": [],
   "source": [
    "# Coarse Classing int_rate.\n",
    "\n",
    "pd_input_data['int_rate:<10'] = np.where((pd_input_data['int_rate'] <= 10.00), 1, 0)\n",
    "pd_input_data['int_rate:<15.1'] = np.where((pd_input_data['int_rate'] > 10.00) & (pd_input_data['int_rate'] <= 15.068), 1, 0)\n",
    "pd_input_data['int_rate:<20'] = np.where((pd_input_data['int_rate'] > 15.068) & (pd_input_data['int_rate'] <= 19.691), 1, 0)\n",
    "pd_input_data['int_rate:<25'] = np.where((pd_input_data['int_rate'] > 19.691) & (pd_input_data['int_rate'] <= 24.313), 1, 0)\n",
    "pd_input_data['int_rate:>25'] = np.where((pd_input_data['int_rate'] > 24.313), 1, 0)"
   ]
  },
  {
   "cell_type": "code",
   "execution_count": 24,
   "metadata": {},
   "outputs": [],
   "source": [
    "# Coarse Classing annual_inc.\n",
    "\n",
    "pd_input_data['annual_inc:<20k'] = np.where((pd_input_data['annual_inc'] < 20000), 1, 0)\n",
    "pd_input_data['annual_inc:<100k'] = np.where((pd_input_data['annual_inc'] >= 20000) & (pd_input_data['annual_inc'] < 100000), 1, 0)\n",
    "pd_input_data['annual_inc:<150k'] = np.where((pd_input_data['annual_inc'] >= 100000) & (pd_input_data['annual_inc'] < 150000), 1, 0)\n",
    "pd_input_data['annual_inc(<200k)'] = np.where((pd_input_data['annual_inc'] >= 150000) & (pd_input_data['annual_inc'] < 200000), 1, 0)\n",
    "pd_input_data['annual_inc(>200k)'] = np.where((pd_input_data['annual_inc'] >= 200000), 1, 0)"
   ]
  },
  {
   "cell_type": "code",
   "execution_count": 25,
   "metadata": {},
   "outputs": [
    {
     "data": {
      "text/plain": [
       "((1048575, 34),\n",
       " Index(['loan_amnt', 'int_rate', 'annual_inc', 'term:36months', 'term:60months',\n",
       "        'emp_title:BC', 'emp_title:WC', 'home_ownership:OWN',\n",
       "        'home_ownership:RENT', 'home_ownership:MORTGAGE', 'purpose:debt',\n",
       "        'purpose:other', 'purpose:major_purchase', 'purpose_credit_card',\n",
       "        'emp_length:0-1', 'emp_length:2-5', 'emp_length:6-9', 'emp_length:10+',\n",
       "        'loan_amnt:<9580', 'loan_amnt:9581-18940', 'loan_amnt:18941-29860',\n",
       "        'loan_amnt:29861-35320', 'loan_amnt:35321-40000', 'loan_amnt:(>40000)',\n",
       "        'int_rate:<10', 'int_rate:<15.1', 'int_rate:<20', 'int_rate:<25',\n",
       "        'int_rate:>25', 'annual_inc:<20k', 'annual_inc:<100k',\n",
       "        'annual_inc:<150k', 'annual_inc(<200k)', 'annual_inc(>200k)'],\n",
       "       dtype='object'))"
      ]
     },
     "execution_count": 25,
     "metadata": {},
     "output_type": "execute_result"
    }
   ],
   "source": [
    "pd_input_data.shape, pd_input_data.columns"
   ]
  },
  {
   "cell_type": "code",
   "execution_count": 26,
   "metadata": {},
   "outputs": [
    {
     "data": {
      "text/plain": [
       "(1048575, 31)"
      ]
     },
     "execution_count": 26,
     "metadata": {},
     "output_type": "execute_result"
    }
   ],
   "source": [
    "pd_input_data = pd_input_data.drop(['loan_amnt', 'int_rate', 'annual_inc'], axis=1)\n",
    "pd_input_data.shape"
   ]
  },
  {
   "cell_type": "code",
   "execution_count": 27,
   "metadata": {},
   "outputs": [
    {
     "data": {
      "text/plain": [
       "(1048575, 18)"
      ]
     },
     "execution_count": 27,
     "metadata": {},
     "output_type": "execute_result"
    }
   ],
   "source": [
    "# Checking that the original loan_data_prep is still intact.\n",
    "loan_data_prep.shape"
   ]
  },
  {
   "cell_type": "code",
   "execution_count": 28,
   "metadata": {},
   "outputs": [
    {
     "data": {
      "text/plain": [
       "(1048575, 23)"
      ]
     },
     "execution_count": 28,
     "metadata": {},
     "output_type": "execute_result"
    }
   ],
   "source": [
    "# Reference categories.\n",
    "\n",
    "ref_cat = ['term:60months','emp_title:BC','home_ownership:RENT','purpose:debt','emp_length:0-1','loan_amnt:<9580','int_rate:<10','annual_inc:<20k']\n",
    "\n",
    "# Drop reference categories.\n",
    "pd_input_data = pd_input_data.drop(ref_cat, axis=1)\n",
    "\n",
    "pd_input_data.shape"
   ]
  },
  {
   "cell_type": "code",
   "execution_count": null,
   "metadata": {},
   "outputs": [],
   "source": []
  },
  {
   "cell_type": "markdown",
   "metadata": {},
   "source": [
    "# Treating the Dependent Variable."
   ]
  },
  {
   "cell_type": "code",
   "execution_count": 29,
   "metadata": {},
   "outputs": [
    {
     "data": {
      "text/plain": [
       "Fully Paid            482595\n",
       "Current               419550\n",
       "Charged Off           129187\n",
       "Late (31-120 days)     10879\n",
       "In Grace Period         4227\n",
       "Late (16-30 days)       2104\n",
       "Default                   21\n",
       "Name: loan_status, dtype: int64"
      ]
     },
     "execution_count": 29,
     "metadata": {},
     "output_type": "execute_result"
    }
   ],
   "source": [
    "Y.value_counts()"
   ]
  },
  {
   "cell_type": "code",
   "execution_count": 30,
   "metadata": {},
   "outputs": [
    {
     "data": {
      "text/plain": [
       "array([1, 1, 1, ..., 1, 1, 1])"
      ]
     },
     "execution_count": 30,
     "metadata": {},
     "output_type": "execute_result"
    }
   ],
   "source": [
    "Y = np.where(Y.isin(['Charged Off','Late (31-120 days)','Default']), 0, 1)\n",
    "Y"
   ]
  },
  {
   "cell_type": "code",
   "execution_count": 31,
   "metadata": {},
   "outputs": [
    {
     "data": {
      "text/plain": [
       "<matplotlib.axes._subplots.AxesSubplot at 0x1d01f685ef0>"
      ]
     },
     "execution_count": 31,
     "metadata": {},
     "output_type": "execute_result"
    },
    {
     "data": {
      "image/png": "[encoded data removed]",
      "text/plain": [
       "<matplotlib.figure.Figure at 0x1d01f652c18>"
      ]
     },
     "metadata": {},
     "output_type": "display_data"
    }
   ],
   "source": [
    "sns.countplot(Y)"
   ]
  },
  {
   "cell_type": "code",
   "execution_count": 32,
   "metadata": {},
   "outputs": [
    {
     "data": {
      "text/plain": [
       "1    908488\n",
       "0    140087\n",
       "dtype: int64"
      ]
     },
     "execution_count": 32,
     "metadata": {},
     "output_type": "execute_result"
    }
   ],
   "source": [
    "Y = pd.Series(Y)\n",
    "Y.value_counts()"
   ]
  },
  {
   "cell_type": "code",
   "execution_count": null,
   "metadata": {},
   "outputs": [],
   "source": []
  },
  {
   "cell_type": "code",
   "execution_count": 33,
   "metadata": {},
   "outputs": [],
   "source": [
    "from sklearn.model_selection import train_test_split\n",
    "\n",
    "Xtrain, Xtest, ytrain, ytest = train_test_split(pd_input_data, Y, test_size=0.20, random_state=42) "
   ]
  },
  {
   "cell_type": "code",
   "execution_count": 34,
   "metadata": {},
   "outputs": [
    {
     "data": {
      "text/plain": [
       "((838860, 23), (838860,))"
      ]
     },
     "execution_count": 34,
     "metadata": {},
     "output_type": "execute_result"
    }
   ],
   "source": [
    "Xtrain.shape, ytrain.shape"
   ]
  },
  {
   "cell_type": "code",
   "execution_count": 35,
   "metadata": {},
   "outputs": [
    {
     "data": {
      "text/plain": [
       "((209715, 23), (209715,))"
      ]
     },
     "execution_count": 35,
     "metadata": {},
     "output_type": "execute_result"
    }
   ],
   "source": [
    "Xtest.shape, ytest.shape"
   ]
  },
  {
   "cell_type": "code",
   "execution_count": 36,
   "metadata": {},
   "outputs": [
    {
     "data": {
      "text/plain": [
       "LogisticRegression(C=1.0, class_weight=None, dual=False, fit_intercept=True,\n",
       "          intercept_scaling=1, max_iter=100, multi_class='ovr', n_jobs=1,\n",
       "          penalty='l2', random_state=None, solver='liblinear', tol=0.0001,\n",
       "          verbose=0, warm_start=False)"
      ]
     },
     "execution_count": 36,
     "metadata": {},
     "output_type": "execute_result"
    }
   ],
   "source": [
    "# Building the model.\n",
    "\n",
    "from sklearn.linear_model import LogisticRegression\n",
    "\n",
    "reg_pd = LogisticRegression()\n",
    "reg_pd.fit(Xtrain, ytrain)"
   ]
  },
  {
   "cell_type": "code",
   "execution_count": 37,
   "metadata": {},
   "outputs": [
    {
     "data": {
      "text/plain": [
       "array([[0.22847045, 0.77152955],\n",
       "       [0.28122987, 0.71877013],\n",
       "       [0.07609487, 0.92390513],\n",
       "       ...,\n",
       "       [0.21697752, 0.78302248],\n",
       "       [0.18365037, 0.81634963],\n",
       "       [0.10431234, 0.89568766]])"
      ]
     },
     "execution_count": 37,
     "metadata": {},
     "output_type": "execute_result"
    }
   ],
   "source": [
    "# Testing the Model.\n",
    "ypred = reg_pd.predict(Xtest)\n",
    "\n",
    "# Using Predict_proba\n",
    "# Predict_proba\n",
    "\n",
    "ypred_prob = reg_pd.predict_proba(Xtest)\n",
    "ypred_prob"
   ]
  },
  {
   "cell_type": "code",
   "execution_count": 38,
   "metadata": {},
   "outputs": [
    {
     "data": {
      "text/plain": [
       "(209715, 2)"
      ]
     },
     "execution_count": 38,
     "metadata": {},
     "output_type": "execute_result"
    }
   ],
   "source": [
    "ypred_prob = ypred_prob[:][:, 1]\n",
    "ytest.reset_index(drop=True, inplace=True)\n",
    "pred_proba = pd.concat([ytest, pd.DataFrame(ypred_prob)], axis=1)\n",
    "pred_proba.shape"
   ]
  },
  {
   "cell_type": "code",
   "execution_count": 39,
   "metadata": {},
   "outputs": [
    {
     "data": {
      "text/html": [
       "<div>\n",
       "<style scoped>\n",
       "    .dataframe tbody tr th:only-of-type {\n",
       "        vertical-align: middle;\n",
       "    }\n",
       "\n",
       "    .dataframe tbody tr th {\n",
       "        vertical-align: top;\n",
       "    }\n",
       "\n",
       "    .dataframe thead th {\n",
       "        text-align: right;\n",
       "    }\n",
       "</style>\n",
       "<table border=\"1\" class=\"dataframe\">\n",
       "  <thead>\n",
       "    <tr style=\"text-align: right;\">\n",
       "      <th></th>\n",
       "      <th>ytest</th>\n",
       "      <th>ypred_prob</th>\n",
       "    </tr>\n",
       "  </thead>\n",
       "  <tbody>\n",
       "    <tr>\n",
       "      <th>781974</th>\n",
       "      <td>1</td>\n",
       "      <td>0.771530</td>\n",
       "    </tr>\n",
       "    <tr>\n",
       "      <th>937737</th>\n",
       "      <td>1</td>\n",
       "      <td>0.718770</td>\n",
       "    </tr>\n",
       "    <tr>\n",
       "      <th>907828</th>\n",
       "      <td>1</td>\n",
       "      <td>0.923905</td>\n",
       "    </tr>\n",
       "    <tr>\n",
       "      <th>784628</th>\n",
       "      <td>1</td>\n",
       "      <td>0.859021</td>\n",
       "    </tr>\n",
       "    <tr>\n",
       "      <th>662460</th>\n",
       "      <td>1</td>\n",
       "      <td>0.872807</td>\n",
       "    </tr>\n",
       "  </tbody>\n",
       "</table>\n",
       "</div>"
      ],
      "text/plain": [
       "        ytest  ypred_prob\n",
       "781974      1    0.771530\n",
       "937737      1    0.718770\n",
       "907828      1    0.923905\n",
       "784628      1    0.859021\n",
       "662460      1    0.872807"
      ]
     },
     "execution_count": 39,
     "metadata": {},
     "output_type": "execute_result"
    }
   ],
   "source": [
    "pred_proba.columns = ['ytest', 'ypred_prob']\n",
    "pred_proba.index = Xtest.index\n",
    "pred_proba.head()"
   ]
  },
  {
   "cell_type": "code",
   "execution_count": 40,
   "metadata": {},
   "outputs": [],
   "source": [
    "t = 0.8\n",
    "pred_proba['ypredicted'] = np.where(pred_proba['ypred_prob'] > t, 1, 0)"
   ]
  },
  {
   "cell_type": "code",
   "execution_count": 41,
   "metadata": {},
   "outputs": [
    {
     "data": {
      "text/html": [
       "<div>\n",
       "<style scoped>\n",
       "    .dataframe tbody tr th:only-of-type {\n",
       "        vertical-align: middle;\n",
       "    }\n",
       "\n",
       "    .dataframe tbody tr th {\n",
       "        vertical-align: top;\n",
       "    }\n",
       "\n",
       "    .dataframe thead th {\n",
       "        text-align: right;\n",
       "    }\n",
       "</style>\n",
       "<table border=\"1\" class=\"dataframe\">\n",
       "  <thead>\n",
       "    <tr style=\"text-align: right;\">\n",
       "      <th>Predicted</th>\n",
       "      <th>0</th>\n",
       "      <th>1</th>\n",
       "    </tr>\n",
       "    <tr>\n",
       "      <th>Actuals</th>\n",
       "      <th></th>\n",
       "      <th></th>\n",
       "    </tr>\n",
       "  </thead>\n",
       "  <tbody>\n",
       "    <tr>\n",
       "      <th>0</th>\n",
       "      <td>10952</td>\n",
       "      <td>17158</td>\n",
       "    </tr>\n",
       "    <tr>\n",
       "      <th>1</th>\n",
       "      <td>32331</td>\n",
       "      <td>149274</td>\n",
       "    </tr>\n",
       "  </tbody>\n",
       "</table>\n",
       "</div>"
      ],
      "text/plain": [
       "Predicted      0       1\n",
       "Actuals                 \n",
       "0          10952   17158\n",
       "1          32331  149274"
      ]
     },
     "execution_count": 41,
     "metadata": {},
     "output_type": "execute_result"
    }
   ],
   "source": [
    "pd.crosstab(pred_proba['ytest'], pred_proba['ypredicted'], rownames = ['Actuals'], colnames = ['Predicted'])"
   ]
  },
  {
   "cell_type": "code",
   "execution_count": 42,
   "metadata": {},
   "outputs": [
    {
     "name": "stderr",
     "output_type": "stream",
     "text": [
      "C:\\Users\\JAHFAITH IROKANULO\\Anaconda3\\lib\\site-packages\\ipykernel_launcher.py:2: FutureWarning: reshape is deprecated and will raise in a subsequent release. Please use .values.reshape(...) instead\n",
      "  \n"
     ]
    }
   ],
   "source": [
    "ypred3 = pred_proba['ypredicted']\n",
    "ypred3 = ypred3.reshape(-1,1)"
   ]
  },
  {
   "cell_type": "code",
   "execution_count": 43,
   "metadata": {},
   "outputs": [
    {
     "data": {
      "text/plain": [
       "0.7640178337267244"
      ]
     },
     "execution_count": 43,
     "metadata": {},
     "output_type": "execute_result"
    }
   ],
   "source": [
    "# Accuracy\n",
    "from sklearn import metrics\n",
    "\n",
    "metrics.accuracy_score(ytest, ypred3)"
   ]
  },
  {
   "cell_type": "code",
   "execution_count": null,
   "metadata": {},
   "outputs": [],
   "source": []
  },
  {
   "cell_type": "code",
   "execution_count": null,
   "metadata": {},
   "outputs": [],
   "source": [
    "# Preparing features/columns needed for LGD and EAD"
   ]
  },
  {
   "cell_type": "code",
   "execution_count": 44,
   "metadata": {},
   "outputs": [
    {
     "data": {
      "text/plain": [
       "12"
      ]
     },
     "execution_count": 44,
     "metadata": {},
     "output_type": "execute_result"
    }
   ],
   "source": [
    "data['recoveries'].isna().sum()"
   ]
  },
  {
   "cell_type": "code",
   "execution_count": 45,
   "metadata": {},
   "outputs": [
    {
     "data": {
      "text/plain": [
       "0"
      ]
     },
     "execution_count": 45,
     "metadata": {},
     "output_type": "execute_result"
    }
   ],
   "source": [
    "# We'd fill missing values with zero, adopting a risk conservation approach.\n",
    "\n",
    "data['recoveries'] = data['recoveries'].fillna(0)\n",
    "data['recoveries'].isna().sum()"
   ]
  },
  {
   "cell_type": "markdown",
   "metadata": {},
   "source": [
    "# Target Variable"
   ]
  },
  {
   "cell_type": "code",
   "execution_count": 46,
   "metadata": {},
   "outputs": [
    {
     "data": {
      "text/plain": [
       "Fully Paid            482595\n",
       "Current               419550\n",
       "Charged Off           129187\n",
       "Late (31-120 days)     10879\n",
       "In Grace Period         4227\n",
       "Late (16-30 days)       2104\n",
       "Default                   21\n",
       "Name: loan_status, dtype: int64"
      ]
     },
     "execution_count": 46,
     "metadata": {},
     "output_type": "execute_result"
    }
   ],
   "source": [
    "data['loan_status'].value_counts()"
   ]
  },
  {
   "cell_type": "code",
   "execution_count": null,
   "metadata": {},
   "outputs": [],
   "source": []
  },
  {
   "cell_type": "markdown",
   "metadata": {},
   "source": [
    "# LGD and EAD models "
   ]
  },
  {
   "cell_type": "code",
   "execution_count": 47,
   "metadata": {},
   "outputs": [
    {
     "data": {
      "text/plain": [
       "(129187, 14)"
      ]
     },
     "execution_count": 47,
     "metadata": {},
     "output_type": "execute_result"
    }
   ],
   "source": [
    "# The model will be built using data of those that have had enough time to repay part of their debt.\n",
    "# This is portrayed in 'Charged Off' and 'Does not meet the credit policy. Status:Charged Off' categories.\n",
    "\n",
    "default = data[data['loan_status'].isin(['Charged Off', 'Does not meet the credit policy. Status:Charged Off'])]\n",
    "\n",
    "default.shape"
   ]
  },
  {
   "cell_type": "markdown",
   "metadata": {},
   "source": [
    "# Independent Variables."
   ]
  },
  {
   "cell_type": "code",
   "execution_count": 48,
   "metadata": {},
   "outputs": [
    {
     "data": {
      "text/html": [
       "<div>\n",
       "<style scoped>\n",
       "    .dataframe tbody tr th:only-of-type {\n",
       "        vertical-align: middle;\n",
       "    }\n",
       "\n",
       "    .dataframe tbody tr th {\n",
       "        vertical-align: top;\n",
       "    }\n",
       "\n",
       "    .dataframe thead th {\n",
       "        text-align: right;\n",
       "    }\n",
       "</style>\n",
       "<table border=\"1\" class=\"dataframe\">\n",
       "  <thead>\n",
       "    <tr style=\"text-align: right;\">\n",
       "      <th></th>\n",
       "      <th>id</th>\n",
       "      <th>loan_amnt</th>\n",
       "      <th>term</th>\n",
       "      <th>int_rate</th>\n",
       "      <th>emp_title</th>\n",
       "      <th>emp_length</th>\n",
       "      <th>home_ownership</th>\n",
       "      <th>annual_inc</th>\n",
       "      <th>verification_status</th>\n",
       "      <th>loan_status</th>\n",
       "      <th>purpose</th>\n",
       "      <th>recoveries</th>\n",
       "      <th>total_rec_prncp</th>\n",
       "      <th>total_rec_int</th>\n",
       "    </tr>\n",
       "  </thead>\n",
       "  <tbody>\n",
       "    <tr>\n",
       "      <th>13</th>\n",
       "      <td>66624733</td>\n",
       "      <td>18000.0</td>\n",
       "      <td>60 months</td>\n",
       "      <td>19.48</td>\n",
       "      <td>Software Manager</td>\n",
       "      <td>7 years</td>\n",
       "      <td>RENT</td>\n",
       "      <td>150000.0</td>\n",
       "      <td>Not Verified</td>\n",
       "      <td>Charged Off</td>\n",
       "      <td>debt_consolidation</td>\n",
       "      <td>1618.90</td>\n",
       "      <td>3481.86</td>\n",
       "      <td>4351.98</td>\n",
       "    </tr>\n",
       "    <tr>\n",
       "      <th>25</th>\n",
       "      <td>67849662</td>\n",
       "      <td>4225.0</td>\n",
       "      <td>36 months</td>\n",
       "      <td>14.85</td>\n",
       "      <td>mechanic</td>\n",
       "      <td>5 years</td>\n",
       "      <td>RENT</td>\n",
       "      <td>35000.0</td>\n",
       "      <td>Source Verified</td>\n",
       "      <td>Charged Off</td>\n",
       "      <td>debt_consolidation</td>\n",
       "      <td>368.37</td>\n",
       "      <td>1536.90</td>\n",
       "      <td>653.60</td>\n",
       "    </tr>\n",
       "    <tr>\n",
       "      <th>30</th>\n",
       "      <td>67715283</td>\n",
       "      <td>16000.0</td>\n",
       "      <td>36 months</td>\n",
       "      <td>12.88</td>\n",
       "      <td>Owner, Fee Appraiser</td>\n",
       "      <td>10+ years</td>\n",
       "      <td>MORTGAGE</td>\n",
       "      <td>65000.0</td>\n",
       "      <td>Not Verified</td>\n",
       "      <td>Charged Off</td>\n",
       "      <td>small_business</td>\n",
       "      <td>0.00</td>\n",
       "      <td>13833.12</td>\n",
       "      <td>3402.05</td>\n",
       "    </tr>\n",
       "  </tbody>\n",
       "</table>\n",
       "</div>"
      ],
      "text/plain": [
       "          id  loan_amnt        term  int_rate              emp_title  \\\n",
       "13  66624733    18000.0   60 months     19.48       Software Manager   \n",
       "25  67849662     4225.0   36 months     14.85               mechanic   \n",
       "30  67715283    16000.0   36 months     12.88  Owner, Fee Appraiser    \n",
       "\n",
       "   emp_length home_ownership  annual_inc verification_status  loan_status  \\\n",
       "13    7 years           RENT    150000.0        Not Verified  Charged Off   \n",
       "25    5 years           RENT     35000.0     Source Verified  Charged Off   \n",
       "30  10+ years       MORTGAGE     65000.0        Not Verified  Charged Off   \n",
       "\n",
       "               purpose  recoveries  total_rec_prncp  total_rec_int  \n",
       "13  debt_consolidation     1618.90          3481.86        4351.98  \n",
       "25  debt_consolidation      368.37          1536.90         653.60  \n",
       "30      small_business        0.00         13833.12        3402.05  "
      ]
     },
     "execution_count": 48,
     "metadata": {},
     "output_type": "execute_result"
    }
   ],
   "source": [
    "default.head(3)"
   ]
  },
  {
   "cell_type": "code",
   "execution_count": 49,
   "metadata": {},
   "outputs": [
    {
     "data": {
      "text/plain": [
       "id                         0\n",
       "loan_amnt                  0\n",
       "term                       0\n",
       "int_rate                   0\n",
       "emp_title              10713\n",
       "emp_length             10642\n",
       "home_ownership             0\n",
       "annual_inc                 0\n",
       "verification_status        0\n",
       "loan_status                0\n",
       "purpose                    0\n",
       "recoveries                 0\n",
       "total_rec_prncp            0\n",
       "total_rec_int              0\n",
       "dtype: int64"
      ]
     },
     "execution_count": 49,
     "metadata": {},
     "output_type": "execute_result"
    }
   ],
   "source": [
    "# Checking for missing values.\n",
    "\n",
    "default.isna().sum()"
   ]
  },
  {
   "cell_type": "code",
   "execution_count": 50,
   "metadata": {},
   "outputs": [
    {
     "name": "stderr",
     "output_type": "stream",
     "text": [
      "C:\\Users\\JAHFAITH IROKANULO\\Anaconda3\\lib\\site-packages\\ipykernel_launcher.py:1: SettingWithCopyWarning: \n",
      "A value is trying to be set on a copy of a slice from a DataFrame.\n",
      "Try using .loc[row_indexer,col_indexer] = value instead\n",
      "\n",
      "See the caveats in the documentation: http://pandas.pydata.org/pandas-docs/stable/indexing.html#indexing-view-versus-copy\n",
      "  \"\"\"Entry point for launching an IPython kernel.\n"
     ]
    }
   ],
   "source": [
    "default['emp_title'] = default['emp_title'].map(job)"
   ]
  },
  {
   "cell_type": "code",
   "execution_count": 51,
   "metadata": {},
   "outputs": [
    {
     "name": "stderr",
     "output_type": "stream",
     "text": [
      "C:\\Users\\JAHFAITH IROKANULO\\Anaconda3\\lib\\site-packages\\pandas\\core\\indexing.py:537: SettingWithCopyWarning: \n",
      "A value is trying to be set on a copy of a slice from a DataFrame.\n",
      "Try using .loc[row_indexer,col_indexer] = value instead\n",
      "\n",
      "See the caveats in the documentation: http://pandas.pydata.org/pandas-docs/stable/indexing.html#indexing-view-versus-copy\n",
      "  self.obj[item] = s\n"
     ]
    }
   ],
   "source": [
    "default.loc[default['emp_length']=='6 years', 'emp_length'] = '6'\n",
    "default.loc[default['emp_length']=='10+ years', 'emp_length'] = '10'\n",
    "default.loc[default['emp_length']=='7 years', 'emp_length'] = '7'\n",
    "default.loc[default['emp_length']=='3 years', 'emp_length'] = '3'\n",
    "default.loc[default['emp_length']=='1 year', 'emp_length'] = '1'\n",
    "default.loc[default['emp_length']=='8 years', 'emp_length'] = '8'\n",
    "default.loc[default['emp_length']=='< 1 year', 'emp_length'] = '0'\n",
    "default.loc[default['emp_length']=='2 years', 'emp_length'] = '2'\n",
    "default.loc[default['emp_length']=='5 years', 'emp_length'] = '5'\n",
    "default.loc[default['emp_length']=='9 years', 'emp_length'] = '9'\n",
    "default.loc[default['emp_length']=='4 years', 'emp_length'] = '4'"
   ]
  },
  {
   "cell_type": "code",
   "execution_count": 52,
   "metadata": {},
   "outputs": [
    {
     "name": "stderr",
     "output_type": "stream",
     "text": [
      "C:\\Users\\JAHFAITH IROKANULO\\Anaconda3\\lib\\site-packages\\pandas\\core\\generic.py:4619: SettingWithCopyWarning: \n",
      "A value is trying to be set on a copy of a slice from a DataFrame\n",
      "\n",
      "See the caveats in the documentation: http://pandas.pydata.org/pandas-docs/stable/indexing.html#indexing-view-versus-copy\n",
      "  self._update_inplace(new_data)\n"
     ]
    }
   ],
   "source": [
    "default['term'].replace({' 36 months':'36 months'}, inplace=True)"
   ]
  },
  {
   "cell_type": "code",
   "execution_count": 53,
   "metadata": {},
   "outputs": [
    {
     "name": "stderr",
     "output_type": "stream",
     "text": [
      "C:\\Users\\JAHFAITH IROKANULO\\Anaconda3\\lib\\site-packages\\pandas\\core\\generic.py:4619: SettingWithCopyWarning: \n",
      "A value is trying to be set on a copy of a slice from a DataFrame\n",
      "\n",
      "See the caveats in the documentation: http://pandas.pydata.org/pandas-docs/stable/indexing.html#indexing-view-versus-copy\n",
      "  self._update_inplace(new_data)\n"
     ]
    }
   ],
   "source": [
    "default['home_ownership'].replace({'NONE':'RENT', 'ANY':'RENT'}, inplace=True)"
   ]
  },
  {
   "cell_type": "code",
   "execution_count": 54,
   "metadata": {},
   "outputs": [
    {
     "name": "stderr",
     "output_type": "stream",
     "text": [
      "C:\\Users\\JAHFAITH IROKANULO\\Anaconda3\\lib\\site-packages\\pandas\\core\\generic.py:4619: SettingWithCopyWarning: \n",
      "A value is trying to be set on a copy of a slice from a DataFrame\n",
      "\n",
      "See the caveats in the documentation: http://pandas.pydata.org/pandas-docs/stable/indexing.html#indexing-view-versus-copy\n",
      "  self._update_inplace(new_data)\n"
     ]
    }
   ],
   "source": [
    "default['purpose'].replace({'home_improvement':'major_purchase', 'house':'major_purchase', 'car':'major_purchase',\n",
    "                            'moving':'other', 'vacation':'other', 'wedding':'other', 'renewable_energy':'other',\n",
    "                           'small_business':'major_purchase', 'medical':'other', 'educational':'other'}, inplace=True)"
   ]
  },
  {
   "cell_type": "code",
   "execution_count": 55,
   "metadata": {},
   "outputs": [
    {
     "data": {
      "text/plain": [
       "6.0"
      ]
     },
     "execution_count": 55,
     "metadata": {},
     "output_type": "execute_result"
    }
   ],
   "source": [
    "default['emp_length'].median()"
   ]
  },
  {
   "cell_type": "code",
   "execution_count": 56,
   "metadata": {},
   "outputs": [
    {
     "data": {
      "text/plain": [
       "0    BC\n",
       "dtype: object"
      ]
     },
     "execution_count": 56,
     "metadata": {},
     "output_type": "execute_result"
    }
   ],
   "source": [
    "default['emp_title'].mode()"
   ]
  },
  {
   "cell_type": "code",
   "execution_count": 57,
   "metadata": {},
   "outputs": [
    {
     "data": {
      "text/plain": [
       "0"
      ]
     },
     "execution_count": 57,
     "metadata": {},
     "output_type": "execute_result"
    }
   ],
   "source": [
    "# Dictionary for filling nan\n",
    "fill = {'emp_length':6, 'emp_title':'BC'}\n",
    "\n",
    "# Filling nan\n",
    "default = default.fillna(value = fill)\n",
    "\n",
    "# Checking if there are still nans\n",
    "default.isna().values.sum()"
   ]
  },
  {
   "cell_type": "markdown",
   "metadata": {},
   "source": [
    "# Creating dummies\n",
    "based on WOE we created during the PD model.\n",
    "\n",
    "This time, it's only for categorical variables."
   ]
  },
  {
   "cell_type": "code",
   "execution_count": 58,
   "metadata": {},
   "outputs": [],
   "source": [
    "# Term\n",
    "\n",
    "default['term:36months'] = np.where((default['term']=='36 months'), 1, 0)\n",
    "default['term:60months'] = np.where((default['term']=='60 months'), 1, 0)"
   ]
  },
  {
   "cell_type": "code",
   "execution_count": 59,
   "metadata": {},
   "outputs": [],
   "source": [
    "# Emp_title\n",
    "\n",
    "default['emp_title:BC'] = np.where((default['emp_title']=='BC'), 1, 0)\n",
    "default['emp_title:WC'] = np.where((default['emp_title']=='WC'), 1, 0)"
   ]
  },
  {
   "cell_type": "code",
   "execution_count": 60,
   "metadata": {},
   "outputs": [],
   "source": [
    "# Home_ownership\n",
    "\n",
    "default['home_ownership:OWN'] = np.where((default['home_ownership']=='OWN'), 1, 0)\n",
    "default['home_ownership:RENT'] = np.where((default['home_ownership']=='RENT'), 1, 0)\n",
    "default['home_ownership:MORTGAGE'] = np.where((default['home_ownership']=='MORTGAGE'), 1, 0)"
   ]
  },
  {
   "cell_type": "code",
   "execution_count": 61,
   "metadata": {},
   "outputs": [],
   "source": [
    "# Purpose\n",
    "\n",
    "default['purpose:debt'] = np.where((default['purpose']=='debt_consolidation'), 1, 0)\n",
    "default['purpose:other'] = np.where((default['purpose']=='other'), 1, 0)\n",
    "default['purpose:major_purchase'] = np.where((default['purpose']=='major_purchase'), 1, 0)\n",
    "default['purpose_credit_card'] = np.where((default['purpose']=='credit_card'), 1, 0)"
   ]
  },
  {
   "cell_type": "code",
   "execution_count": 62,
   "metadata": {},
   "outputs": [],
   "source": [
    "# Emp_length.\n",
    "\n",
    "default['emp_length:0-1'] = np.where(default['emp_length'].isin(range(0,2)), 1, 0)\n",
    "default['emp_length:2-5'] = np.where(default['emp_length'].isin(range(2,6)), 1, 0)\n",
    "default['emp_length:6-9'] = np.where(default['emp_length'].isin(range(6,10)), 1, 0)\n",
    "default['emp_length:10+'] = np.where(default['emp_length'].isin([10]), 1, 0)"
   ]
  },
  {
   "cell_type": "code",
   "execution_count": 63,
   "metadata": {},
   "outputs": [
    {
     "data": {
      "text/plain": [
       "Index(['id', 'loan_amnt', 'term', 'int_rate', 'emp_title', 'emp_length',\n",
       "       'home_ownership', 'annual_inc', 'verification_status', 'loan_status',\n",
       "       'purpose', 'recoveries', 'total_rec_prncp', 'total_rec_int',\n",
       "       'term:36months', 'term:60months', 'emp_title:BC', 'emp_title:WC',\n",
       "       'home_ownership:OWN', 'home_ownership:RENT', 'home_ownership:MORTGAGE',\n",
       "       'purpose:debt', 'purpose:other', 'purpose:major_purchase',\n",
       "       'purpose_credit_card', 'emp_length:0-1', 'emp_length:2-5',\n",
       "       'emp_length:6-9', 'emp_length:10+'],\n",
       "      dtype='object')"
      ]
     },
     "execution_count": 63,
     "metadata": {},
     "output_type": "execute_result"
    }
   ],
   "source": [
    "default.columns"
   ]
  },
  {
   "cell_type": "code",
   "execution_count": 64,
   "metadata": {},
   "outputs": [
    {
     "data": {
      "text/plain": [
       "Index(['id', 'loan_amnt', 'term', 'int_rate', 'emp_title', 'emp_length',\n",
       "       'home_ownership', 'annual_inc', 'verification_status', 'loan_status',\n",
       "       'purpose', 'recoveries', 'total_rec_prncp', 'total_rec_int',\n",
       "       'term:36months', 'term:60months', 'emp_title:BC', 'emp_title:WC',\n",
       "       'home_ownership:OWN', 'home_ownership:RENT', 'home_ownership:MORTGAGE',\n",
       "       'purpose:debt', 'purpose:other', 'purpose:major_purchase',\n",
       "       'purpose_credit_card', 'emp_length:0-1', 'emp_length:2-5',\n",
       "       'emp_length:6-9', 'emp_length:10+'],\n",
       "      dtype='object')"
      ]
     },
     "execution_count": 64,
     "metadata": {},
     "output_type": "execute_result"
    }
   ],
   "source": [
    "# Let's not tamper with this dataset, we'd therefore store a copy in another variable.\n",
    "\n",
    "Defaults = default\n",
    "Defaults.columns"
   ]
  },
  {
   "cell_type": "markdown",
   "metadata": {},
   "source": [
    "# Dependent Variables per Model."
   ]
  },
  {
   "cell_type": "markdown",
   "metadata": {},
   "source": [
    "LGD is the total unrecovered amount when a borrower defaults."
   ]
  },
  {
   "cell_type": "code",
   "execution_count": 65,
   "metadata": {},
   "outputs": [],
   "source": [
    "# Recovery rate is the dependent variable for the LGD model.\n",
    "\n",
    "Defaults['recovery_rate'] = Defaults['recoveries'] / Defaults['loan_amnt']"
   ]
  },
  {
   "cell_type": "code",
   "execution_count": 66,
   "metadata": {},
   "outputs": [
    {
     "data": {
      "text/plain": [
       "count    129187.000000\n",
       "mean          0.075247\n",
       "std           0.096644\n",
       "min           0.000000\n",
       "25%           0.000000\n",
       "50%           0.062286\n",
       "75%           0.106881\n",
       "max           1.294209\n",
       "Name: recovery_rate, dtype: float64"
      ]
     },
     "execution_count": 66,
     "metadata": {},
     "output_type": "execute_result"
    }
   ],
   "source": [
    "Defaults['recovery_rate'].describe()"
   ]
  },
  {
   "cell_type": "code",
   "execution_count": 67,
   "metadata": {},
   "outputs": [],
   "source": [
    "Defaults['recovery_rate'] = np.where(Defaults['recovery_rate'] > 1, 1, Defaults['recovery_rate'])\n",
    "Defaults['recovery_rate'] = np.where(Defaults['recovery_rate'] < 0, 0, Defaults['recovery_rate'])"
   ]
  },
  {
   "cell_type": "code",
   "execution_count": 68,
   "metadata": {},
   "outputs": [
    {
     "data": {
      "text/plain": [
       "count    129187.000000\n",
       "mean          0.075229\n",
       "std           0.096462\n",
       "min           0.000000\n",
       "25%           0.000000\n",
       "50%           0.062286\n",
       "75%           0.106881\n",
       "max           1.000000\n",
       "Name: recovery_rate, dtype: float64"
      ]
     },
     "execution_count": 68,
     "metadata": {},
     "output_type": "execute_result"
    }
   ],
   "source": [
    "Defaults['recovery_rate'].describe()"
   ]
  },
  {
   "cell_type": "markdown",
   "metadata": {},
   "source": [
    "EAD is the maximum amount a lender may lose at default of a borrower.\n",
    "\n",
    "EAD = total funded amount * CCF"
   ]
  },
  {
   "cell_type": "code",
   "execution_count": 69,
   "metadata": {},
   "outputs": [],
   "source": [
    "# Credit Conversion Factor (CCF) is the dependent variable for the EAD model.\n",
    "\n",
    "Defaults['CCF'] = (Defaults['loan_amnt'] - Defaults['total_rec_prncp']) / Defaults['loan_amnt']"
   ]
  },
  {
   "cell_type": "markdown",
   "metadata": {},
   "source": [
    "CCF is 0 if all the principal is paid.\n",
    "\n",
    "CCF is between 0 and 1 if a proportion of the principal has been paid.\n",
    "\n",
    "CCF is 1 if nothing at all has been paid."
   ]
  },
  {
   "cell_type": "code",
   "execution_count": 70,
   "metadata": {},
   "outputs": [
    {
     "data": {
      "text/plain": [
       "count    129187.000000\n",
       "mean          0.706098\n",
       "std           0.213790\n",
       "min           0.000000\n",
       "25%           0.585246\n",
       "50%           0.754280\n",
       "75%           0.875441\n",
       "max           1.000000\n",
       "Name: CCF, dtype: float64"
      ]
     },
     "execution_count": 70,
     "metadata": {},
     "output_type": "execute_result"
    }
   ],
   "source": [
    "Defaults['CCF'].describe()"
   ]
  },
  {
   "cell_type": "code",
   "execution_count": 71,
   "metadata": {},
   "outputs": [],
   "source": [
    "# Save to csv.\n",
    "\n",
    "Defaults.to_csv('LGD and EAD Defaults_data.csv')"
   ]
  },
  {
   "cell_type": "code",
   "execution_count": 72,
   "metadata": {},
   "outputs": [
    {
     "data": {
      "text/plain": [
       "(array([4.9588e+04, 5.7660e+03, 7.9840e+03, 1.2412e+04, 1.7534e+04,\n",
       "        9.0020e+03, 9.6800e+03, 3.8100e+03, 2.6340e+03, 2.0750e+03,\n",
       "        1.4880e+03, 6.9900e+02, 5.5600e+02, 5.5400e+02, 5.3500e+02,\n",
       "        5.7100e+02, 5.5200e+02, 5.5900e+02, 4.7200e+02, 4.8400e+02,\n",
       "        4.3500e+02, 3.3300e+02, 2.8200e+02, 1.8600e+02, 1.4800e+02,\n",
       "        1.2400e+02, 1.0500e+02, 8.9000e+01, 5.2000e+01, 5.1000e+01,\n",
       "        5.2000e+01, 5.0000e+01, 3.3000e+01, 2.1000e+01, 2.0000e+01,\n",
       "        1.3000e+01, 1.7000e+01, 1.7000e+01, 1.7000e+01, 2.1000e+01,\n",
       "        1.3000e+01, 1.4000e+01, 1.8000e+01, 1.4000e+01, 1.2000e+01,\n",
       "        7.0000e+00, 1.0000e+01, 1.5000e+01, 1.3000e+01, 5.0000e+01]),\n",
       " array([0.  , 0.02, 0.04, 0.06, 0.08, 0.1 , 0.12, 0.14, 0.16, 0.18, 0.2 ,\n",
       "        0.22, 0.24, 0.26, 0.28, 0.3 , 0.32, 0.34, 0.36, 0.38, 0.4 , 0.42,\n",
       "        0.44, 0.46, 0.48, 0.5 , 0.52, 0.54, 0.56, 0.58, 0.6 , 0.62, 0.64,\n",
       "        0.66, 0.68, 0.7 , 0.72, 0.74, 0.76, 0.78, 0.8 , 0.82, 0.84, 0.86,\n",
       "        0.88, 0.9 , 0.92, 0.94, 0.96, 0.98, 1.  ]),\n",
       " <a list of 50 Patch objects>)"
      ]
     },
     "execution_count": 72,
     "metadata": {},
     "output_type": "execute_result"
    },
    {
     "data": {
      "image/png": "[encoded data removed]",
      "text/plain": [
       "<matplotlib.figure.Figure at 0x1d022103898>"
      ]
     },
     "metadata": {},
     "output_type": "display_data"
    }
   ],
   "source": [
    "# Plotting Recovery rate.\n",
    "# Using histogram to see its distribution.\n",
    "\n",
    "plt.hist(Defaults['recovery_rate'], bins=50)"
   ]
  },
  {
   "cell_type": "code",
   "execution_count": null,
   "metadata": {},
   "outputs": [],
   "source": [
    "# We'd split the distribution into two. the first part will be where recovery rate = 0, while the second category will be\n",
    "# where recovery rate > 0. We'd run a Logistic Regression to see if individuals fall within the 0 or greater than 0 category.\n",
    "# If they fall in the greater than 0 category, we'd run a Linear Regression to ascertain the extent to which the recovery rate > 0.\n",
    "\n",
    "# Thye LogReg part is the LGD Stage1 while the LinReg part is the LGD Stage2. Stage2 is only required if the individual's\n",
    "# recovery rate is greater than 0."
   ]
  },
  {
   "cell_type": "code",
   "execution_count": 73,
   "metadata": {},
   "outputs": [
    {
     "data": {
      "text/plain": [
       "(array([  78.,  307.,   74.,  446.,  404.,  254.,  589.,  407.,  564.,\n",
       "         697.,  599.,  807.,  957.,  807.,  908., 1081., 1057., 1194.,\n",
       "        1295., 1325., 1428., 1587., 1651., 1741., 1867., 2029., 2119.,\n",
       "        2439., 2840., 2809., 3170., 3368., 3770., 3792., 4161., 4459.,\n",
       "        4463., 4483., 4604., 4964., 5220., 5682., 5916., 5956., 5971.,\n",
       "        6351., 6056., 5436., 4390., 2615.]),\n",
       " array([0.  , 0.02, 0.04, 0.06, 0.08, 0.1 , 0.12, 0.14, 0.16, 0.18, 0.2 ,\n",
       "        0.22, 0.24, 0.26, 0.28, 0.3 , 0.32, 0.34, 0.36, 0.38, 0.4 , 0.42,\n",
       "        0.44, 0.46, 0.48, 0.5 , 0.52, 0.54, 0.56, 0.58, 0.6 , 0.62, 0.64,\n",
       "        0.66, 0.68, 0.7 , 0.72, 0.74, 0.76, 0.78, 0.8 , 0.82, 0.84, 0.86,\n",
       "        0.88, 0.9 , 0.92, 0.94, 0.96, 0.98, 1.  ]),\n",
       " <a list of 50 Patch objects>)"
      ]
     },
     "execution_count": 73,
     "metadata": {},
     "output_type": "execute_result"
    },
    {
     "data": {
      "image/png": "[encoded data removed]",
      "text/plain": [
       "<matplotlib.figure.Figure at 0x1d022b162b0>"
      ]
     },
     "metadata": {},
     "output_type": "display_data"
    }
   ],
   "source": [
    "# Plotting CCF.\n",
    "# checking the distribution of CCF.\n",
    "\n",
    "plt.hist(Defaults['CCF'], bins=50)"
   ]
  },
  {
   "cell_type": "code",
   "execution_count": null,
   "metadata": {},
   "outputs": [],
   "source": [
    "# This distribution comprises of a wide spread/range of continuous values. Therefore, Linear Regression will provide satisfactory results.  "
   ]
  },
  {
   "cell_type": "code",
   "execution_count": 74,
   "metadata": {},
   "outputs": [],
   "source": [
    "# Creating dependent variable for stage1 LGD\n",
    "# Stage1(using Log Reg) ascertains whether recovery rate = 0 or > 0.\n",
    "# If > 0, stage2(using Linear Reg) determines the extent.\n",
    "\n",
    "Defaults['recovery_rate_0_1'] = np.where(Defaults['recovery_rate'] == 0, 0, 1)"
   ]
  },
  {
   "cell_type": "code",
   "execution_count": 75,
   "metadata": {},
   "outputs": [
    {
     "data": {
      "text/plain": [
       "count    129187.000000\n",
       "mean          0.643246\n",
       "std           0.479043\n",
       "min           0.000000\n",
       "25%           0.000000\n",
       "50%           1.000000\n",
       "75%           1.000000\n",
       "max           1.000000\n",
       "Name: recovery_rate_0_1, dtype: float64"
      ]
     },
     "execution_count": 75,
     "metadata": {},
     "output_type": "execute_result"
    }
   ],
   "source": [
    "Defaults['recovery_rate_0_1'].describe()"
   ]
  },
  {
   "cell_type": "code",
   "execution_count": 76,
   "metadata": {},
   "outputs": [],
   "source": [
    "#Drop unwanted columns.\n",
    "\n",
    "default_data = Defaults.drop(['term','emp_title', 'emp_length','home_ownership', 'purpose', 'verification_status', 'total_rec_int'], axis=1)"
   ]
  },
  {
   "cell_type": "code",
   "execution_count": 77,
   "metadata": {},
   "outputs": [
    {
     "data": {
      "text/plain": [
       "(129187, 20)"
      ]
     },
     "execution_count": 77,
     "metadata": {},
     "output_type": "execute_result"
    }
   ],
   "source": [
    "# Reference categories.\n",
    "\n",
    "ref_cat = ['term:60months','emp_title:BC','home_ownership:RENT','purpose:debt','emp_length:0-1']\n",
    "\n",
    "# Drop reference categories.\n",
    "default_data = default_data.drop(ref_cat, axis=1)\n",
    "\n",
    "default_data.shape"
   ]
  },
  {
   "cell_type": "code",
   "execution_count": 78,
   "metadata": {},
   "outputs": [
    {
     "data": {
      "text/plain": [
       "Index(['id', 'loan_amnt', 'int_rate', 'annual_inc', 'loan_status',\n",
       "       'recoveries', 'total_rec_prncp', 'term:36months', 'emp_title:WC',\n",
       "       'home_ownership:OWN', 'home_ownership:MORTGAGE', 'purpose:other',\n",
       "       'purpose:major_purchase', 'purpose_credit_card', 'emp_length:2-5',\n",
       "       'emp_length:6-9', 'emp_length:10+', 'recovery_rate', 'CCF',\n",
       "       'recovery_rate_0_1'],\n",
       "      dtype='object')"
      ]
     },
     "execution_count": 78,
     "metadata": {},
     "output_type": "execute_result"
    }
   ],
   "source": [
    "default_data.columns"
   ]
  },
  {
   "cell_type": "code",
   "execution_count": 79,
   "metadata": {},
   "outputs": [],
   "source": [
    "# Stage1 LGD\n",
    "# Organizing dependent and independent variables.\n",
    "\n",
    "Independent = default_data.drop(['id', 'loan_status', 'recovery_rate', 'recovery_rate_0_1', 'CCF'], axis=1)\n",
    "Dependent = default_data['recovery_rate_0_1']\n",
    "\n",
    "# recovery_rate_0_1 is the dependent variable for LGD stage1"
   ]
  },
  {
   "cell_type": "code",
   "execution_count": 80,
   "metadata": {},
   "outputs": [
    {
     "data": {
      "text/plain": [
       "((129187, 15), (129187,))"
      ]
     },
     "execution_count": 80,
     "metadata": {},
     "output_type": "execute_result"
    }
   ],
   "source": [
    "Independent.shape, Dependent.shape"
   ]
  },
  {
   "cell_type": "code",
   "execution_count": 81,
   "metadata": {},
   "outputs": [],
   "source": [
    "from sklearn.model_selection import train_test_split\n",
    "\n",
    "x1_train, x1_test, y1_train, y1_test = train_test_split(Independent, Dependent, test_size=0.20, random_state=42)"
   ]
  },
  {
   "cell_type": "code",
   "execution_count": 82,
   "metadata": {},
   "outputs": [
    {
     "data": {
      "text/plain": [
       "((103349, 15), (103349,))"
      ]
     },
     "execution_count": 82,
     "metadata": {},
     "output_type": "execute_result"
    }
   ],
   "source": [
    "#x1_train = x1_train[features]\n",
    "\n",
    "x1_train.shape, y1_train.shape"
   ]
  },
  {
   "cell_type": "code",
   "execution_count": null,
   "metadata": {},
   "outputs": [],
   "source": []
  },
  {
   "cell_type": "markdown",
   "metadata": {},
   "source": [
    "# LGD stage1"
   ]
  },
  {
   "cell_type": "code",
   "execution_count": 83,
   "metadata": {},
   "outputs": [
    {
     "data": {
      "text/plain": [
       "LogisticRegression(C=1.0, class_weight=None, dual=False, fit_intercept=True,\n",
       "          intercept_scaling=1, max_iter=100, multi_class='ovr', n_jobs=1,\n",
       "          penalty='l2', random_state=None, solver='liblinear', tol=0.0001,\n",
       "          verbose=0, warm_start=False)"
      ]
     },
     "execution_count": 83,
     "metadata": {},
     "output_type": "execute_result"
    }
   ],
   "source": [
    "from sklearn.linear_model import LogisticRegression\n",
    "\n",
    "reg = LogisticRegression()\n",
    "reg.fit(x1_train, y1_train)"
   ]
  },
  {
   "cell_type": "code",
   "execution_count": 84,
   "metadata": {},
   "outputs": [],
   "source": [
    "#Coefficient\n",
    "coefficient = reg.coef_\n",
    "\n",
    "#Intercept\n",
    "Intercept = reg.intercept_"
   ]
  },
  {
   "cell_type": "code",
   "execution_count": 85,
   "metadata": {
    "scrolled": true
   },
   "outputs": [
    {
     "data": {
      "text/html": [
       "<div>\n",
       "<style scoped>\n",
       "    .dataframe tbody tr th:only-of-type {\n",
       "        vertical-align: middle;\n",
       "    }\n",
       "\n",
       "    .dataframe tbody tr th {\n",
       "        vertical-align: top;\n",
       "    }\n",
       "\n",
       "    .dataframe thead th {\n",
       "        text-align: right;\n",
       "    }\n",
       "</style>\n",
       "<table border=\"1\" class=\"dataframe\">\n",
       "  <thead>\n",
       "    <tr style=\"text-align: right;\">\n",
       "      <th></th>\n",
       "      <th>Features</th>\n",
       "      <th>Coefficients</th>\n",
       "    </tr>\n",
       "  </thead>\n",
       "  <tbody>\n",
       "    <tr>\n",
       "      <th>0</th>\n",
       "      <td>Intercept</td>\n",
       "      <td>-0.004940</td>\n",
       "    </tr>\n",
       "    <tr>\n",
       "      <th>1</th>\n",
       "      <td>loan_amnt</td>\n",
       "      <td>-0.000223</td>\n",
       "    </tr>\n",
       "    <tr>\n",
       "      <th>2</th>\n",
       "      <td>int_rate</td>\n",
       "      <td>-0.066830</td>\n",
       "    </tr>\n",
       "    <tr>\n",
       "      <th>3</th>\n",
       "      <td>annual_inc</td>\n",
       "      <td>-0.000017</td>\n",
       "    </tr>\n",
       "    <tr>\n",
       "      <th>4</th>\n",
       "      <td>recoveries</td>\n",
       "      <td>0.179684</td>\n",
       "    </tr>\n",
       "    <tr>\n",
       "      <th>5</th>\n",
       "      <td>total_rec_prncp</td>\n",
       "      <td>-0.000058</td>\n",
       "    </tr>\n",
       "    <tr>\n",
       "      <th>6</th>\n",
       "      <td>term:36months</td>\n",
       "      <td>-0.005280</td>\n",
       "    </tr>\n",
       "    <tr>\n",
       "      <th>7</th>\n",
       "      <td>emp_title:WC</td>\n",
       "      <td>-0.000284</td>\n",
       "    </tr>\n",
       "    <tr>\n",
       "      <th>8</th>\n",
       "      <td>home_ownership:OWN</td>\n",
       "      <td>-0.000774</td>\n",
       "    </tr>\n",
       "    <tr>\n",
       "      <th>9</th>\n",
       "      <td>home_ownership:MORTGAGE</td>\n",
       "      <td>-0.000853</td>\n",
       "    </tr>\n",
       "    <tr>\n",
       "      <th>10</th>\n",
       "      <td>purpose:other</td>\n",
       "      <td>-0.001073</td>\n",
       "    </tr>\n",
       "    <tr>\n",
       "      <th>11</th>\n",
       "      <td>purpose:major_purchase</td>\n",
       "      <td>-0.000556</td>\n",
       "    </tr>\n",
       "    <tr>\n",
       "      <th>12</th>\n",
       "      <td>purpose_credit_card</td>\n",
       "      <td>-0.000930</td>\n",
       "    </tr>\n",
       "    <tr>\n",
       "      <th>13</th>\n",
       "      <td>emp_length:2-5</td>\n",
       "      <td>0.000000</td>\n",
       "    </tr>\n",
       "    <tr>\n",
       "      <th>14</th>\n",
       "      <td>emp_length:6-9</td>\n",
       "      <td>-0.001518</td>\n",
       "    </tr>\n",
       "    <tr>\n",
       "      <th>15</th>\n",
       "      <td>emp_length:10+</td>\n",
       "      <td>0.000000</td>\n",
       "    </tr>\n",
       "  </tbody>\n",
       "</table>\n",
       "</div>"
      ],
      "text/plain": [
       "                   Features  Coefficients\n",
       "0                 Intercept     -0.004940\n",
       "1                 loan_amnt     -0.000223\n",
       "2                  int_rate     -0.066830\n",
       "3                annual_inc     -0.000017\n",
       "4                recoveries      0.179684\n",
       "5           total_rec_prncp     -0.000058\n",
       "6             term:36months     -0.005280\n",
       "7              emp_title:WC     -0.000284\n",
       "8        home_ownership:OWN     -0.000774\n",
       "9   home_ownership:MORTGAGE     -0.000853\n",
       "10            purpose:other     -0.001073\n",
       "11   purpose:major_purchase     -0.000556\n",
       "12      purpose_credit_card     -0.000930\n",
       "13           emp_length:2-5      0.000000\n",
       "14           emp_length:6-9     -0.001518\n",
       "15           emp_length:10+      0.000000"
      ]
     },
     "execution_count": 85,
     "metadata": {},
     "output_type": "execute_result"
    }
   ],
   "source": [
    "feature_name = x1_train.columns.values\n",
    "\n",
    "# Creating a summary table.\n",
    "\n",
    "summary = pd.DataFrame(feature_name, columns=['Features'])\n",
    "summary['Coefficients'] = np.transpose(coefficient)\n",
    "summary.index = summary.index + 1\n",
    "summary.loc[0] = ['Intercept', Intercept[0]]\n",
    "summary = summary.sort_index()\n",
    "\n",
    "summary"
   ]
  },
  {
   "cell_type": "code",
   "execution_count": 86,
   "metadata": {},
   "outputs": [
    {
     "data": {
      "text/plain": [
       "array([1, 0, 1, ..., 1, 1, 1])"
      ]
     },
     "execution_count": 86,
     "metadata": {},
     "output_type": "execute_result"
    }
   ],
   "source": [
    "# Testing the model\n",
    "\n",
    "ypred1 = reg.predict(x1_test)\n",
    "ypred1"
   ]
  },
  {
   "cell_type": "code",
   "execution_count": 87,
   "metadata": {},
   "outputs": [
    {
     "data": {
      "text/plain": [
       "(9186, 16652)"
      ]
     },
     "execution_count": 87,
     "metadata": {},
     "output_type": "execute_result"
    }
   ],
   "source": [
    "len(ypred1[ypred1==0]), len(ypred1[ypred1==1])"
   ]
  },
  {
   "cell_type": "code",
   "execution_count": 88,
   "metadata": {},
   "outputs": [
    {
     "data": {
      "text/plain": [
       "array([[0.        , 1.        ],\n",
       "       [0.98509932, 0.01490068],\n",
       "       [0.        , 1.        ],\n",
       "       ...,\n",
       "       [0.        , 1.        ],\n",
       "       [0.        , 1.        ],\n",
       "       [0.        , 1.        ]])"
      ]
     },
     "execution_count": 88,
     "metadata": {},
     "output_type": "execute_result"
    }
   ],
   "source": [
    "# Using predict proba to fetch estimated probability of the recovery rate.\n",
    "\n",
    "ypred1_proba = reg.predict_proba(x1_test)\n",
    "ypred1_proba"
   ]
  },
  {
   "cell_type": "code",
   "execution_count": 89,
   "metadata": {},
   "outputs": [
    {
     "data": {
      "text/plain": [
       "array([1.        , 0.01490068, 1.        , ..., 1.        , 1.        ,\n",
       "       1.        ])"
      ]
     },
     "execution_count": 89,
     "metadata": {},
     "output_type": "execute_result"
    }
   ],
   "source": [
    "# probability of recovery rate greater than zero.\n",
    "\n",
    "ypred1_proba = ypred1_proba[:][:, 1]\n",
    "ypred1_proba"
   ]
  },
  {
   "cell_type": "markdown",
   "metadata": {},
   "source": [
    "# Tabulating the Predicted vs Actual Outcomes"
   ]
  },
  {
   "cell_type": "code",
   "execution_count": 90,
   "metadata": {},
   "outputs": [],
   "source": [
    "# saving y1_test in a new and temporary variable so any change doesn't affect the original data.\n",
    "\n",
    "y1_test_temp = y1_test"
   ]
  },
  {
   "cell_type": "code",
   "execution_count": 91,
   "metadata": {},
   "outputs": [],
   "source": [
    "y1_test_temp.reset_index(drop=True, inplace=True)"
   ]
  },
  {
   "cell_type": "code",
   "execution_count": 92,
   "metadata": {},
   "outputs": [],
   "source": [
    "actual_predicted_prob = pd.concat([y1_test_temp, pd.DataFrame(ypred1_proba)], axis=1)"
   ]
  },
  {
   "cell_type": "code",
   "execution_count": 93,
   "metadata": {},
   "outputs": [],
   "source": [
    "actual_predicted_prob.columns = ['Actual Outcome (y1_test)', 'Predicted Probability (ypred1_proba)']"
   ]
  },
  {
   "cell_type": "code",
   "execution_count": 94,
   "metadata": {},
   "outputs": [],
   "source": [
    "actual_predicted_prob.index = x1_test.index"
   ]
  },
  {
   "cell_type": "code",
   "execution_count": 95,
   "metadata": {},
   "outputs": [
    {
     "data": {
      "text/html": [
       "<div>\n",
       "<style scoped>\n",
       "    .dataframe tbody tr th:only-of-type {\n",
       "        vertical-align: middle;\n",
       "    }\n",
       "\n",
       "    .dataframe tbody tr th {\n",
       "        vertical-align: top;\n",
       "    }\n",
       "\n",
       "    .dataframe thead th {\n",
       "        text-align: right;\n",
       "    }\n",
       "</style>\n",
       "<table border=\"1\" class=\"dataframe\">\n",
       "  <thead>\n",
       "    <tr style=\"text-align: right;\">\n",
       "      <th></th>\n",
       "      <th>Actual Outcome (y1_test)</th>\n",
       "      <th>Predicted Probability (ypred1_proba)</th>\n",
       "    </tr>\n",
       "  </thead>\n",
       "  <tbody>\n",
       "    <tr>\n",
       "      <th>294019</th>\n",
       "      <td>1</td>\n",
       "      <td>1.000000</td>\n",
       "    </tr>\n",
       "    <tr>\n",
       "      <th>969604</th>\n",
       "      <td>0</td>\n",
       "      <td>0.014901</td>\n",
       "    </tr>\n",
       "    <tr>\n",
       "      <th>656873</th>\n",
       "      <td>1</td>\n",
       "      <td>1.000000</td>\n",
       "    </tr>\n",
       "    <tr>\n",
       "      <th>351486</th>\n",
       "      <td>1</td>\n",
       "      <td>1.000000</td>\n",
       "    </tr>\n",
       "    <tr>\n",
       "      <th>183447</th>\n",
       "      <td>1</td>\n",
       "      <td>1.000000</td>\n",
       "    </tr>\n",
       "  </tbody>\n",
       "</table>\n",
       "</div>"
      ],
      "text/plain": [
       "        Actual Outcome (y1_test)  Predicted Probability (ypred1_proba)\n",
       "294019                         1                              1.000000\n",
       "969604                         0                              0.014901\n",
       "656873                         1                              1.000000\n",
       "351486                         1                              1.000000\n",
       "183447                         1                              1.000000"
      ]
     },
     "execution_count": 95,
     "metadata": {},
     "output_type": "execute_result"
    }
   ],
   "source": [
    "actual_predicted_prob.head()"
   ]
  },
  {
   "cell_type": "markdown",
   "metadata": {},
   "source": [
    "# Estimating the accuracy of the model."
   ]
  },
  {
   "cell_type": "code",
   "execution_count": 96,
   "metadata": {},
   "outputs": [],
   "source": [
    "# Now, to the accuracy.\n",
    "# First we set our thresholds.\n",
    "\n",
    "t = 0.5\n",
    "\n",
    "actual_predicted_prob['ypred1'] = np.where(actual_predicted_prob['Predicted Probability (ypred1_proba)'] > t, 1, 0)"
   ]
  },
  {
   "cell_type": "code",
   "execution_count": 97,
   "metadata": {},
   "outputs": [],
   "source": [
    "actual_predicted_prob['ypred1'] = ypred1"
   ]
  },
  {
   "cell_type": "code",
   "execution_count": 98,
   "metadata": {},
   "outputs": [
    {
     "data": {
      "text/html": [
       "<div>\n",
       "<style scoped>\n",
       "    .dataframe tbody tr th:only-of-type {\n",
       "        vertical-align: middle;\n",
       "    }\n",
       "\n",
       "    .dataframe tbody tr th {\n",
       "        vertical-align: top;\n",
       "    }\n",
       "\n",
       "    .dataframe thead th {\n",
       "        text-align: right;\n",
       "    }\n",
       "</style>\n",
       "<table border=\"1\" class=\"dataframe\">\n",
       "  <thead>\n",
       "    <tr style=\"text-align: right;\">\n",
       "      <th>Predicted</th>\n",
       "      <th>0</th>\n",
       "      <th>1</th>\n",
       "    </tr>\n",
       "    <tr>\n",
       "      <th>Actual</th>\n",
       "      <th></th>\n",
       "      <th></th>\n",
       "    </tr>\n",
       "  </thead>\n",
       "  <tbody>\n",
       "    <tr>\n",
       "      <th>0</th>\n",
       "      <td>9147</td>\n",
       "      <td>0</td>\n",
       "    </tr>\n",
       "    <tr>\n",
       "      <th>1</th>\n",
       "      <td>39</td>\n",
       "      <td>16652</td>\n",
       "    </tr>\n",
       "  </tbody>\n",
       "</table>\n",
       "</div>"
      ],
      "text/plain": [
       "Predicted     0      1\n",
       "Actual                \n",
       "0          9147      0\n",
       "1            39  16652"
      ]
     },
     "execution_count": 98,
     "metadata": {},
     "output_type": "execute_result"
    }
   ],
   "source": [
    "# Confusion Matrix\n",
    "\n",
    "pd.crosstab(actual_predicted_prob['Actual Outcome (y1_test)'], actual_predicted_prob['ypred1'], rownames=['Actual'], colnames=['Predicted'])"
   ]
  },
  {
   "cell_type": "code",
   "execution_count": null,
   "metadata": {},
   "outputs": [],
   "source": [
    "# It is more important to have a large proportion of correctly classified values that are greater than 0,\n",
    "# than to have correctly classified 0s. The regression in stage2 will take care of the misclassified 0s."
   ]
  },
  {
   "cell_type": "code",
   "execution_count": 99,
   "metadata": {},
   "outputs": [
    {
     "data": {
      "text/html": [
       "<div>\n",
       "<style scoped>\n",
       "    .dataframe tbody tr th:only-of-type {\n",
       "        vertical-align: middle;\n",
       "    }\n",
       "\n",
       "    .dataframe tbody tr th {\n",
       "        vertical-align: top;\n",
       "    }\n",
       "\n",
       "    .dataframe thead th {\n",
       "        text-align: right;\n",
       "    }\n",
       "</style>\n",
       "<table border=\"1\" class=\"dataframe\">\n",
       "  <thead>\n",
       "    <tr style=\"text-align: right;\">\n",
       "      <th>Predicted</th>\n",
       "      <th>0</th>\n",
       "      <th>1</th>\n",
       "    </tr>\n",
       "    <tr>\n",
       "      <th>Actual</th>\n",
       "      <th></th>\n",
       "      <th></th>\n",
       "    </tr>\n",
       "  </thead>\n",
       "  <tbody>\n",
       "    <tr>\n",
       "      <th>0</th>\n",
       "      <td>0.354013</td>\n",
       "      <td>0.000000</td>\n",
       "    </tr>\n",
       "    <tr>\n",
       "      <th>1</th>\n",
       "      <td>0.001509</td>\n",
       "      <td>0.644477</td>\n",
       "    </tr>\n",
       "  </tbody>\n",
       "</table>\n",
       "</div>"
      ],
      "text/plain": [
       "Predicted         0         1\n",
       "Actual                       \n",
       "0          0.354013  0.000000\n",
       "1          0.001509  0.644477"
      ]
     },
     "execution_count": 99,
     "metadata": {},
     "output_type": "execute_result"
    }
   ],
   "source": [
    "pd.crosstab(actual_predicted_prob['Actual Outcome (y1_test)'], actual_predicted_prob['ypred1'], rownames=['Actual'], colnames=['Predicted']) / actual_predicted_prob.shape[0]"
   ]
  },
  {
   "cell_type": "code",
   "execution_count": 100,
   "metadata": {},
   "outputs": [
    {
     "data": {
      "text/plain": [
       "0.6444771267125938"
      ]
     },
     "execution_count": 100,
     "metadata": {},
     "output_type": "execute_result"
    }
   ],
   "source": [
    "# Accuracy Score\n",
    "\n",
    "(pd.crosstab(actual_predicted_prob['Actual Outcome (y1_test)'], actual_predicted_prob['ypred1'], rownames=['Actual'], colnames=['Predicted']) / actual_predicted_prob.shape[0]).iloc[1, 1]"
   ]
  },
  {
   "cell_type": "code",
   "execution_count": 101,
   "metadata": {},
   "outputs": [],
   "source": [
    "# ROC_Curve\n",
    "\n",
    "from sklearn.metrics import roc_curve, roc_auc_score\n",
    "\n",
    "fpr, tpr, threshold = roc_curve(actual_predicted_prob['Actual Outcome (y1_test)'], actual_predicted_prob['Predicted Probability (ypred1_proba)'])"
   ]
  },
  {
   "cell_type": "code",
   "execution_count": 102,
   "metadata": {},
   "outputs": [
    {
     "data": {
      "text/plain": [
       "Text(0.5,1,'ROC Curve')"
      ]
     },
     "execution_count": 102,
     "metadata": {},
     "output_type": "execute_result"
    },
    {
     "data": {
      "image/png": "[encoded data removed]",
      "text/plain": [
       "<matplotlib.figure.Figure at 0x1d022cb4320>"
      ]
     },
     "metadata": {},
     "output_type": "display_data"
    }
   ],
   "source": [
    "plt.plot(fpr, tpr)\n",
    "plt.plot(fpr, fpr, linestyle='--', color='k')\n",
    "plt.xlabel('False Positive rate')\n",
    "plt.ylabel('True Positive rate')\n",
    "plt.title('ROC Curve')"
   ]
  },
  {
   "cell_type": "code",
   "execution_count": 103,
   "metadata": {},
   "outputs": [
    {
     "data": {
      "text/plain": [
       "0.9997263031723109"
      ]
     },
     "execution_count": 103,
     "metadata": {},
     "output_type": "execute_result"
    }
   ],
   "source": [
    "AUCROC = roc_auc_score(actual_predicted_prob['Actual Outcome (y1_test)'], actual_predicted_prob['Predicted Probability (ypred1_proba)'])\n",
    "AUCROC"
   ]
  },
  {
   "cell_type": "code",
   "execution_count": null,
   "metadata": {},
   "outputs": [],
   "source": []
  },
  {
   "cell_type": "code",
   "execution_count": 104,
   "metadata": {},
   "outputs": [],
   "source": [
    "# setting the treshold to 0.6\n",
    "\n",
    "t = 0.6\n",
    "\n",
    "actual_predicted_prob['ypred1'] = np.where(actual_predicted_prob['Predicted Probability (ypred1_proba)'] > t, 1, 0)"
   ]
  },
  {
   "cell_type": "code",
   "execution_count": 105,
   "metadata": {},
   "outputs": [
    {
     "data": {
      "text/html": [
       "<div>\n",
       "<style scoped>\n",
       "    .dataframe tbody tr th:only-of-type {\n",
       "        vertical-align: middle;\n",
       "    }\n",
       "\n",
       "    .dataframe tbody tr th {\n",
       "        vertical-align: top;\n",
       "    }\n",
       "\n",
       "    .dataframe thead th {\n",
       "        text-align: right;\n",
       "    }\n",
       "</style>\n",
       "<table border=\"1\" class=\"dataframe\">\n",
       "  <thead>\n",
       "    <tr style=\"text-align: right;\">\n",
       "      <th>Predicted</th>\n",
       "      <th>0</th>\n",
       "      <th>1</th>\n",
       "    </tr>\n",
       "    <tr>\n",
       "      <th>Actual</th>\n",
       "      <th></th>\n",
       "      <th></th>\n",
       "    </tr>\n",
       "  </thead>\n",
       "  <tbody>\n",
       "    <tr>\n",
       "      <th>0</th>\n",
       "      <td>9147</td>\n",
       "      <td>0</td>\n",
       "    </tr>\n",
       "    <tr>\n",
       "      <th>1</th>\n",
       "      <td>45</td>\n",
       "      <td>16646</td>\n",
       "    </tr>\n",
       "  </tbody>\n",
       "</table>\n",
       "</div>"
      ],
      "text/plain": [
       "Predicted     0      1\n",
       "Actual                \n",
       "0          9147      0\n",
       "1            45  16646"
      ]
     },
     "execution_count": 105,
     "metadata": {},
     "output_type": "execute_result"
    }
   ],
   "source": [
    "# Confusion Matrix\n",
    "\n",
    "pd.crosstab(actual_predicted_prob['Actual Outcome (y1_test)'], actual_predicted_prob['ypred1'], rownames=['Actual'], colnames=['Predicted'])"
   ]
  },
  {
   "cell_type": "code",
   "execution_count": 106,
   "metadata": {},
   "outputs": [
    {
     "data": {
      "text/html": [
       "<div>\n",
       "<style scoped>\n",
       "    .dataframe tbody tr th:only-of-type {\n",
       "        vertical-align: middle;\n",
       "    }\n",
       "\n",
       "    .dataframe tbody tr th {\n",
       "        vertical-align: top;\n",
       "    }\n",
       "\n",
       "    .dataframe thead th {\n",
       "        text-align: right;\n",
       "    }\n",
       "</style>\n",
       "<table border=\"1\" class=\"dataframe\">\n",
       "  <thead>\n",
       "    <tr style=\"text-align: right;\">\n",
       "      <th>Predicted</th>\n",
       "      <th>0</th>\n",
       "      <th>1</th>\n",
       "    </tr>\n",
       "    <tr>\n",
       "      <th>Actual</th>\n",
       "      <th></th>\n",
       "      <th></th>\n",
       "    </tr>\n",
       "  </thead>\n",
       "  <tbody>\n",
       "    <tr>\n",
       "      <th>0</th>\n",
       "      <td>0.354013</td>\n",
       "      <td>0.000000</td>\n",
       "    </tr>\n",
       "    <tr>\n",
       "      <th>1</th>\n",
       "      <td>0.001742</td>\n",
       "      <td>0.644245</td>\n",
       "    </tr>\n",
       "  </tbody>\n",
       "</table>\n",
       "</div>"
      ],
      "text/plain": [
       "Predicted         0         1\n",
       "Actual                       \n",
       "0          0.354013  0.000000\n",
       "1          0.001742  0.644245"
      ]
     },
     "execution_count": 106,
     "metadata": {},
     "output_type": "execute_result"
    }
   ],
   "source": [
    "pd.crosstab(actual_predicted_prob['Actual Outcome (y1_test)'], actual_predicted_prob['ypred1'], rownames=['Actual'], colnames=['Predicted']) / actual_predicted_prob.shape[0]"
   ]
  },
  {
   "cell_type": "code",
   "execution_count": 107,
   "metadata": {},
   "outputs": [
    {
     "data": {
      "text/plain": [
       "0.6442449105967955"
      ]
     },
     "execution_count": 107,
     "metadata": {},
     "output_type": "execute_result"
    }
   ],
   "source": [
    "# Accuracy Score\n",
    "\n",
    "(pd.crosstab(actual_predicted_prob['Actual Outcome (y1_test)'], actual_predicted_prob['ypred1'], rownames=['Actual'], colnames=['Predicted']) / actual_predicted_prob.shape[0]).iloc[1, 1]"
   ]
  },
  {
   "cell_type": "code",
   "execution_count": 108,
   "metadata": {},
   "outputs": [],
   "source": [
    "# ROC_Curve\n",
    "\n",
    "fpr, tpr, threshold = roc_curve(actual_predicted_prob['Actual Outcome (y1_test)'], actual_predicted_prob['Predicted Probability (ypred1_proba)'])"
   ]
  },
  {
   "cell_type": "code",
   "execution_count": 109,
   "metadata": {},
   "outputs": [
    {
     "data": {
      "text/plain": [
       "Text(0.5,1,'ROC Curve')"
      ]
     },
     "execution_count": 109,
     "metadata": {},
     "output_type": "execute_result"
    },
    {
     "data": {
      "image/png": "[encoded data removed]",
      "text/plain": [
       "<matplotlib.figure.Figure at 0x1d022da10f0>"
      ]
     },
     "metadata": {},
     "output_type": "display_data"
    }
   ],
   "source": [
    "plt.plot(fpr, tpr)\n",
    "plt.plot(fpr, fpr, linestyle='--', color='k')\n",
    "plt.xlabel('False Positive rate')\n",
    "plt.ylabel('True Positive rate')\n",
    "plt.title('ROC Curve')"
   ]
  },
  {
   "cell_type": "code",
   "execution_count": 110,
   "metadata": {},
   "outputs": [
    {
     "data": {
      "text/plain": [
       "0.9997263031723109"
      ]
     },
     "execution_count": 110,
     "metadata": {},
     "output_type": "execute_result"
    }
   ],
   "source": [
    "AUCROC = roc_auc_score(actual_predicted_prob['Actual Outcome (y1_test)'], actual_predicted_prob['Predicted Probability (ypred1_proba)'])\n",
    "AUCROC"
   ]
  },
  {
   "cell_type": "code",
   "execution_count": null,
   "metadata": {},
   "outputs": [],
   "source": []
  },
  {
   "cell_type": "markdown",
   "metadata": {},
   "source": [
    "We'd stick with threshold at 0.5 since it has same AUCROC, but higher accuracy and more correctly classified 1s than t = 0.6. So we'd re-run the codes for t = 0.5 and then save it using Pickle."
   ]
  },
  {
   "cell_type": "code",
   "execution_count": 111,
   "metadata": {},
   "outputs": [],
   "source": [
    "# Now, to the accuracy.\n",
    "# First we set our thresholds.\n",
    "\n",
    "t = 0.5\n",
    "\n",
    "actual_predicted_prob['ypred1'] = np.where(actual_predicted_prob['Predicted Probability (ypred1_proba)'] > t, 1, 0)"
   ]
  },
  {
   "cell_type": "code",
   "execution_count": 112,
   "metadata": {},
   "outputs": [
    {
     "data": {
      "text/html": [
       "<div>\n",
       "<style scoped>\n",
       "    .dataframe tbody tr th:only-of-type {\n",
       "        vertical-align: middle;\n",
       "    }\n",
       "\n",
       "    .dataframe tbody tr th {\n",
       "        vertical-align: top;\n",
       "    }\n",
       "\n",
       "    .dataframe thead th {\n",
       "        text-align: right;\n",
       "    }\n",
       "</style>\n",
       "<table border=\"1\" class=\"dataframe\">\n",
       "  <thead>\n",
       "    <tr style=\"text-align: right;\">\n",
       "      <th>Predicted</th>\n",
       "      <th>0</th>\n",
       "      <th>1</th>\n",
       "    </tr>\n",
       "    <tr>\n",
       "      <th>Actual</th>\n",
       "      <th></th>\n",
       "      <th></th>\n",
       "    </tr>\n",
       "  </thead>\n",
       "  <tbody>\n",
       "    <tr>\n",
       "      <th>0</th>\n",
       "      <td>9147</td>\n",
       "      <td>0</td>\n",
       "    </tr>\n",
       "    <tr>\n",
       "      <th>1</th>\n",
       "      <td>39</td>\n",
       "      <td>16652</td>\n",
       "    </tr>\n",
       "  </tbody>\n",
       "</table>\n",
       "</div>"
      ],
      "text/plain": [
       "Predicted     0      1\n",
       "Actual                \n",
       "0          9147      0\n",
       "1            39  16652"
      ]
     },
     "execution_count": 112,
     "metadata": {},
     "output_type": "execute_result"
    }
   ],
   "source": [
    "# Confusion Matrix\n",
    "\n",
    "pd.crosstab(actual_predicted_prob['Actual Outcome (y1_test)'], actual_predicted_prob['ypred1'], rownames=['Actual'], colnames=['Predicted'])"
   ]
  },
  {
   "cell_type": "code",
   "execution_count": 113,
   "metadata": {},
   "outputs": [
    {
     "data": {
      "text/html": [
       "<div>\n",
       "<style scoped>\n",
       "    .dataframe tbody tr th:only-of-type {\n",
       "        vertical-align: middle;\n",
       "    }\n",
       "\n",
       "    .dataframe tbody tr th {\n",
       "        vertical-align: top;\n",
       "    }\n",
       "\n",
       "    .dataframe thead th {\n",
       "        text-align: right;\n",
       "    }\n",
       "</style>\n",
       "<table border=\"1\" class=\"dataframe\">\n",
       "  <thead>\n",
       "    <tr style=\"text-align: right;\">\n",
       "      <th>Predicted</th>\n",
       "      <th>0</th>\n",
       "      <th>1</th>\n",
       "    </tr>\n",
       "    <tr>\n",
       "      <th>Actual</th>\n",
       "      <th></th>\n",
       "      <th></th>\n",
       "    </tr>\n",
       "  </thead>\n",
       "  <tbody>\n",
       "    <tr>\n",
       "      <th>0</th>\n",
       "      <td>0.354013</td>\n",
       "      <td>0.000000</td>\n",
       "    </tr>\n",
       "    <tr>\n",
       "      <th>1</th>\n",
       "      <td>0.001509</td>\n",
       "      <td>0.644477</td>\n",
       "    </tr>\n",
       "  </tbody>\n",
       "</table>\n",
       "</div>"
      ],
      "text/plain": [
       "Predicted         0         1\n",
       "Actual                       \n",
       "0          0.354013  0.000000\n",
       "1          0.001509  0.644477"
      ]
     },
     "execution_count": 113,
     "metadata": {},
     "output_type": "execute_result"
    }
   ],
   "source": [
    "pd.crosstab(actual_predicted_prob['Actual Outcome (y1_test)'], actual_predicted_prob['ypred1'], rownames=['Actual'], colnames=['Predicted']) / actual_predicted_prob.shape[0]"
   ]
  },
  {
   "cell_type": "code",
   "execution_count": 114,
   "metadata": {},
   "outputs": [
    {
     "data": {
      "text/plain": [
       "0.6444771267125938"
      ]
     },
     "execution_count": 114,
     "metadata": {},
     "output_type": "execute_result"
    }
   ],
   "source": [
    "# Accuracy Score\n",
    "\n",
    "(pd.crosstab(actual_predicted_prob['Actual Outcome (y1_test)'], actual_predicted_prob['ypred1'], rownames=['Actual'], colnames=['Predicted']) / actual_predicted_prob.shape[0]).iloc[1, 1]"
   ]
  },
  {
   "cell_type": "code",
   "execution_count": 115,
   "metadata": {},
   "outputs": [],
   "source": [
    "# Saving the model\n",
    "\n",
    "import pickle\n",
    "\n",
    "pickle.dump(reg, open('LGD_STAGE1.sav', 'wb'))"
   ]
  },
  {
   "cell_type": "markdown",
   "metadata": {},
   "source": [
    "# LGD Stage2 -Linear Regression"
   ]
  },
  {
   "cell_type": "code",
   "execution_count": 116,
   "metadata": {},
   "outputs": [],
   "source": [
    "# We are interested in the data where recovery_rate_0_1 is greater than 0 (that is, where recovery_rate_0_1 == 1)\n",
    "\n",
    "lgd2_data = default_data[default_data['recovery_rate_0_1'] == 1]"
   ]
  },
  {
   "cell_type": "code",
   "execution_count": 117,
   "metadata": {},
   "outputs": [
    {
     "data": {
      "text/plain": [
       "Index(['id', 'loan_amnt', 'int_rate', 'annual_inc', 'loan_status',\n",
       "       'recoveries', 'total_rec_prncp', 'term:36months', 'emp_title:WC',\n",
       "       'home_ownership:OWN', 'home_ownership:MORTGAGE', 'purpose:other',\n",
       "       'purpose:major_purchase', 'purpose_credit_card', 'emp_length:2-5',\n",
       "       'emp_length:6-9', 'emp_length:10+', 'recovery_rate', 'CCF',\n",
       "       'recovery_rate_0_1'],\n",
       "      dtype='object')"
      ]
     },
     "execution_count": 117,
     "metadata": {},
     "output_type": "execute_result"
    }
   ],
   "source": [
    "lgd2_data.columns"
   ]
  },
  {
   "cell_type": "code",
   "execution_count": 91,
   "metadata": {},
   "outputs": [],
   "source": [
    "#lgd2_data['recovery_rate'].value_counts()"
   ]
  },
  {
   "cell_type": "code",
   "execution_count": 118,
   "metadata": {},
   "outputs": [
    {
     "data": {
      "text/html": [
       "<div>\n",
       "<style scoped>\n",
       "    .dataframe tbody tr th:only-of-type {\n",
       "        vertical-align: middle;\n",
       "    }\n",
       "\n",
       "    .dataframe tbody tr th {\n",
       "        vertical-align: top;\n",
       "    }\n",
       "\n",
       "    .dataframe thead th {\n",
       "        text-align: right;\n",
       "    }\n",
       "</style>\n",
       "<table border=\"1\" class=\"dataframe\">\n",
       "  <thead>\n",
       "    <tr style=\"text-align: right;\">\n",
       "      <th></th>\n",
       "      <th>id</th>\n",
       "      <th>loan_amnt</th>\n",
       "      <th>int_rate</th>\n",
       "      <th>annual_inc</th>\n",
       "      <th>loan_status</th>\n",
       "      <th>recoveries</th>\n",
       "      <th>total_rec_prncp</th>\n",
       "      <th>term:36months</th>\n",
       "      <th>emp_title:WC</th>\n",
       "      <th>home_ownership:OWN</th>\n",
       "      <th>home_ownership:MORTGAGE</th>\n",
       "      <th>purpose:other</th>\n",
       "      <th>purpose:major_purchase</th>\n",
       "      <th>purpose_credit_card</th>\n",
       "      <th>emp_length:2-5</th>\n",
       "      <th>emp_length:6-9</th>\n",
       "      <th>emp_length:10+</th>\n",
       "      <th>recovery_rate</th>\n",
       "      <th>CCF</th>\n",
       "      <th>recovery_rate_0_1</th>\n",
       "    </tr>\n",
       "  </thead>\n",
       "  <tbody>\n",
       "    <tr>\n",
       "      <th>13</th>\n",
       "      <td>66624733</td>\n",
       "      <td>18000.0</td>\n",
       "      <td>19.48</td>\n",
       "      <td>150000.0</td>\n",
       "      <td>Charged Off</td>\n",
       "      <td>1618.90</td>\n",
       "      <td>3481.86</td>\n",
       "      <td>0</td>\n",
       "      <td>0</td>\n",
       "      <td>0</td>\n",
       "      <td>0</td>\n",
       "      <td>0</td>\n",
       "      <td>0</td>\n",
       "      <td>0</td>\n",
       "      <td>0</td>\n",
       "      <td>0</td>\n",
       "      <td>0</td>\n",
       "      <td>0.089939</td>\n",
       "      <td>0.806563</td>\n",
       "      <td>1</td>\n",
       "    </tr>\n",
       "    <tr>\n",
       "      <th>25</th>\n",
       "      <td>67849662</td>\n",
       "      <td>4225.0</td>\n",
       "      <td>14.85</td>\n",
       "      <td>35000.0</td>\n",
       "      <td>Charged Off</td>\n",
       "      <td>368.37</td>\n",
       "      <td>1536.90</td>\n",
       "      <td>1</td>\n",
       "      <td>0</td>\n",
       "      <td>0</td>\n",
       "      <td>0</td>\n",
       "      <td>0</td>\n",
       "      <td>0</td>\n",
       "      <td>0</td>\n",
       "      <td>0</td>\n",
       "      <td>0</td>\n",
       "      <td>0</td>\n",
       "      <td>0.087188</td>\n",
       "      <td>0.636237</td>\n",
       "      <td>1</td>\n",
       "    </tr>\n",
       "    <tr>\n",
       "      <th>63</th>\n",
       "      <td>68475450</td>\n",
       "      <td>35000.0</td>\n",
       "      <td>12.88</td>\n",
       "      <td>106000.0</td>\n",
       "      <td>Charged Off</td>\n",
       "      <td>5558.60</td>\n",
       "      <td>10323.88</td>\n",
       "      <td>0</td>\n",
       "      <td>0</td>\n",
       "      <td>0</td>\n",
       "      <td>1</td>\n",
       "      <td>0</td>\n",
       "      <td>0</td>\n",
       "      <td>0</td>\n",
       "      <td>0</td>\n",
       "      <td>0</td>\n",
       "      <td>0</td>\n",
       "      <td>0.158817</td>\n",
       "      <td>0.705032</td>\n",
       "      <td>1</td>\n",
       "    </tr>\n",
       "    <tr>\n",
       "      <th>65</th>\n",
       "      <td>68340446</td>\n",
       "      <td>14000.0</td>\n",
       "      <td>14.85</td>\n",
       "      <td>60000.0</td>\n",
       "      <td>Charged Off</td>\n",
       "      <td>1495.90</td>\n",
       "      <td>3175.67</td>\n",
       "      <td>0</td>\n",
       "      <td>1</td>\n",
       "      <td>0</td>\n",
       "      <td>1</td>\n",
       "      <td>0</td>\n",
       "      <td>0</td>\n",
       "      <td>0</td>\n",
       "      <td>0</td>\n",
       "      <td>0</td>\n",
       "      <td>0</td>\n",
       "      <td>0.106850</td>\n",
       "      <td>0.773166</td>\n",
       "      <td>1</td>\n",
       "    </tr>\n",
       "    <tr>\n",
       "      <th>68</th>\n",
       "      <td>68506862</td>\n",
       "      <td>20000.0</td>\n",
       "      <td>13.99</td>\n",
       "      <td>70000.0</td>\n",
       "      <td>Charged Off</td>\n",
       "      <td>9915.00</td>\n",
       "      <td>2965.17</td>\n",
       "      <td>0</td>\n",
       "      <td>0</td>\n",
       "      <td>1</td>\n",
       "      <td>0</td>\n",
       "      <td>0</td>\n",
       "      <td>0</td>\n",
       "      <td>0</td>\n",
       "      <td>0</td>\n",
       "      <td>0</td>\n",
       "      <td>0</td>\n",
       "      <td>0.495750</td>\n",
       "      <td>0.851742</td>\n",
       "      <td>1</td>\n",
       "    </tr>\n",
       "  </tbody>\n",
       "</table>\n",
       "</div>"
      ],
      "text/plain": [
       "          id  loan_amnt  int_rate  annual_inc  loan_status  recoveries  \\\n",
       "13  66624733    18000.0     19.48    150000.0  Charged Off     1618.90   \n",
       "25  67849662     4225.0     14.85     35000.0  Charged Off      368.37   \n",
       "63  68475450    35000.0     12.88    106000.0  Charged Off     5558.60   \n",
       "65  68340446    14000.0     14.85     60000.0  Charged Off     1495.90   \n",
       "68  68506862    20000.0     13.99     70000.0  Charged Off     9915.00   \n",
       "\n",
       "    total_rec_prncp  term:36months  emp_title:WC  home_ownership:OWN  \\\n",
       "13          3481.86              0             0                   0   \n",
       "25          1536.90              1             0                   0   \n",
       "63         10323.88              0             0                   0   \n",
       "65          3175.67              0             1                   0   \n",
       "68          2965.17              0             0                   1   \n",
       "\n",
       "    home_ownership:MORTGAGE  purpose:other  purpose:major_purchase  \\\n",
       "13                        0              0                       0   \n",
       "25                        0              0                       0   \n",
       "63                        1              0                       0   \n",
       "65                        1              0                       0   \n",
       "68                        0              0                       0   \n",
       "\n",
       "    purpose_credit_card  emp_length:2-5  emp_length:6-9  emp_length:10+  \\\n",
       "13                    0               0               0               0   \n",
       "25                    0               0               0               0   \n",
       "63                    0               0               0               0   \n",
       "65                    0               0               0               0   \n",
       "68                    0               0               0               0   \n",
       "\n",
       "    recovery_rate       CCF  recovery_rate_0_1  \n",
       "13       0.089939  0.806563                  1  \n",
       "25       0.087188  0.636237                  1  \n",
       "63       0.158817  0.705032                  1  \n",
       "65       0.106850  0.773166                  1  \n",
       "68       0.495750  0.851742                  1  "
      ]
     },
     "execution_count": 118,
     "metadata": {},
     "output_type": "execute_result"
    }
   ],
   "source": [
    "lgd2_data.head()"
   ]
  },
  {
   "cell_type": "code",
   "execution_count": 119,
   "metadata": {},
   "outputs": [],
   "source": [
    "Independent2 = lgd2_data.drop(['id', 'loan_status', 'recovery_rate', 'CCF', 'recovery_rate_0_1'], axis=1)\n",
    "Dependent2 = lgd2_data['recovery_rate']\n",
    "\n",
    "# while recovery_rate_0_1 was the dependent variable for LGD Stage1 cos we wanted to classify individuals into 0 or 1\n",
    "# based on recovery rate, recovery_rate is the dependent variable for LGD2 cos its content is continous (and not just 0 and 1) "
   ]
  },
  {
   "cell_type": "code",
   "execution_count": 120,
   "metadata": {},
   "outputs": [],
   "source": [
    "x2_train, x2_test, y2_train, y2_test = train_test_split(Independent2, Dependent2, test_size=0.20, random_state=42)"
   ]
  },
  {
   "cell_type": "code",
   "execution_count": 121,
   "metadata": {},
   "outputs": [
    {
     "data": {
      "text/plain": [
       "((66479, 15), (66479,))"
      ]
     },
     "execution_count": 121,
     "metadata": {},
     "output_type": "execute_result"
    }
   ],
   "source": [
    "x2_train.shape, y2_train.shape"
   ]
  },
  {
   "cell_type": "code",
   "execution_count": 122,
   "metadata": {},
   "outputs": [],
   "source": [
    "# Importing required dependencies.\n",
    "\n",
    "from sklearn import linear_model\n",
    "from sklearn.metrics import mean_squared_error, r2_score"
   ]
  },
  {
   "cell_type": "code",
   "execution_count": 123,
   "metadata": {},
   "outputs": [],
   "source": [
    "# We'd create a Linear Regression Class that has p_values as one of its parameters.\n",
    "import scipy.stats as stat\n",
    "\n",
    "class LinearRegressionP(linear_model.LinearRegression):\n",
    "    \n",
    "    def __init__(self, fit_intercept=True, normalize=False, copy_X=True, n_jobs=1):\n",
    "        self.fit_intercept = fit_intercept\n",
    "        self.normalize = normalize\n",
    "        self.copy_X = copy_X\n",
    "        self.n_jobs = n_jobs\n",
    "    \n",
    "    def fit(self, X, y, n_jobs=1):\n",
    "        self = super(LinearRegressionP, self).fit(X, y, n_jobs)\n",
    "        sse = np.sum((self.predict(X) - y) ** 2, axis=0) / float(X.shape[0] - X.shape[1])\n",
    "        se = np.array([np.sqrt(np.diagonal(sse * np.linalg.pinv(np.dot(X.T, X))))])\n",
    "        self.t = self.coef_/se\n",
    "        self.p = np.squeeze(2 * (1 - stat.t.cdf(np.abs(self.t), y.shape[0] - X.shape[1])))\n",
    "        return self"
   ]
  },
  {
   "cell_type": "code",
   "execution_count": null,
   "metadata": {},
   "outputs": [],
   "source": [
    "# Notice that in line12 of the class, I used pinv instead of inv.\n",
    "# That is cos the input is a Singular matrix (one whose determinant is 0) and so can not be inverted.\n",
    "# So, I used pinv(which leverages SVD to approximate initial matrix) to get the inverse matrix of the input."
   ]
  },
  {
   "cell_type": "code",
   "execution_count": 124,
   "metadata": {},
   "outputs": [
    {
     "name": "stderr",
     "output_type": "stream",
     "text": [
      "C:\\Users\\JAHFAITH IROKANULO\\Anaconda3\\lib\\site-packages\\ipykernel_launcher.py:16: RuntimeWarning: invalid value encountered in true_divide\n",
      "  app.launch_new_instance()\n",
      "C:\\Users\\JAHFAITH IROKANULO\\Anaconda3\\lib\\site-packages\\scipy\\stats\\_distn_infrastructure.py:879: RuntimeWarning: invalid value encountered in greater\n",
      "  return (self.a < x) & (x < self.b)\n",
      "C:\\Users\\JAHFAITH IROKANULO\\Anaconda3\\lib\\site-packages\\scipy\\stats\\_distn_infrastructure.py:879: RuntimeWarning: invalid value encountered in less\n",
      "  return (self.a < x) & (x < self.b)\n",
      "C:\\Users\\JAHFAITH IROKANULO\\Anaconda3\\lib\\site-packages\\scipy\\stats\\_distn_infrastructure.py:1738: RuntimeWarning: invalid value encountered in greater_equal\n",
      "  cond2 = (x >= self.b) & cond0\n"
     ]
    },
    {
     "data": {
      "text/plain": [
       "LinearRegressionP(copy_X=True, fit_intercept=True, n_jobs=1, normalize=False)"
      ]
     },
     "execution_count": 124,
     "metadata": {},
     "output_type": "execute_result"
    }
   ],
   "source": [
    "reg2 = LinearRegressionP()\n",
    "reg2.fit(x2_train, y2_train)"
   ]
  },
  {
   "cell_type": "code",
   "execution_count": 125,
   "metadata": {},
   "outputs": [],
   "source": [
    "# Coefficients of LGD2.\n",
    "Coefficient2 = reg2.coef_\n",
    "\n",
    "# Intercept of LGD2.\n",
    "Intercept2 = reg2.intercept_\n",
    "\n",
    "# P-values\n",
    "p_values = reg2.p\n",
    "\n",
    "# Feature names.\n",
    "feature_names2 = x2_train.columns.values"
   ]
  },
  {
   "cell_type": "code",
   "execution_count": 126,
   "metadata": {},
   "outputs": [
    {
     "data": {
      "text/html": [
       "<div>\n",
       "<style scoped>\n",
       "    .dataframe tbody tr th:only-of-type {\n",
       "        vertical-align: middle;\n",
       "    }\n",
       "\n",
       "    .dataframe tbody tr th {\n",
       "        vertical-align: top;\n",
       "    }\n",
       "\n",
       "    .dataframe thead th {\n",
       "        text-align: right;\n",
       "    }\n",
       "</style>\n",
       "<table border=\"1\" class=\"dataframe\">\n",
       "  <thead>\n",
       "    <tr style=\"text-align: right;\">\n",
       "      <th></th>\n",
       "      <th>Features</th>\n",
       "      <th>Coefficient</th>\n",
       "      <th>P-values</th>\n",
       "    </tr>\n",
       "  </thead>\n",
       "  <tbody>\n",
       "    <tr>\n",
       "      <th>0</th>\n",
       "      <td>Intercept</td>\n",
       "      <td>1.147157e-01</td>\n",
       "      <td>NaN</td>\n",
       "    </tr>\n",
       "    <tr>\n",
       "      <th>1</th>\n",
       "      <td>loan_amnt</td>\n",
       "      <td>-5.803800e-06</td>\n",
       "      <td>0.000</td>\n",
       "    </tr>\n",
       "    <tr>\n",
       "      <th>2</th>\n",
       "      <td>int_rate</td>\n",
       "      <td>7.725526e-05</td>\n",
       "      <td>0.006</td>\n",
       "    </tr>\n",
       "    <tr>\n",
       "      <th>3</th>\n",
       "      <td>annual_inc</td>\n",
       "      <td>1.439733e-08</td>\n",
       "      <td>0.000</td>\n",
       "    </tr>\n",
       "    <tr>\n",
       "      <th>4</th>\n",
       "      <td>recoveries</td>\n",
       "      <td>4.926642e-05</td>\n",
       "      <td>0.000</td>\n",
       "    </tr>\n",
       "    <tr>\n",
       "      <th>5</th>\n",
       "      <td>total_rec_prncp</td>\n",
       "      <td>-1.305314e-07</td>\n",
       "      <td>0.039</td>\n",
       "    </tr>\n",
       "    <tr>\n",
       "      <th>6</th>\n",
       "      <td>term:36months</td>\n",
       "      <td>-1.685310e-03</td>\n",
       "      <td>0.000</td>\n",
       "    </tr>\n",
       "    <tr>\n",
       "      <th>7</th>\n",
       "      <td>emp_title:WC</td>\n",
       "      <td>-2.451853e-04</td>\n",
       "      <td>0.661</td>\n",
       "    </tr>\n",
       "    <tr>\n",
       "      <th>8</th>\n",
       "      <td>home_ownership:OWN</td>\n",
       "      <td>2.032975e-03</td>\n",
       "      <td>0.001</td>\n",
       "    </tr>\n",
       "    <tr>\n",
       "      <th>9</th>\n",
       "      <td>home_ownership:MORTGAGE</td>\n",
       "      <td>1.887512e-03</td>\n",
       "      <td>0.000</td>\n",
       "    </tr>\n",
       "    <tr>\n",
       "      <th>10</th>\n",
       "      <td>purpose:other</td>\n",
       "      <td>2.270664e-03</td>\n",
       "      <td>0.001</td>\n",
       "    </tr>\n",
       "    <tr>\n",
       "      <th>11</th>\n",
       "      <td>purpose:major_purchase</td>\n",
       "      <td>4.700542e-04</td>\n",
       "      <td>0.458</td>\n",
       "    </tr>\n",
       "    <tr>\n",
       "      <th>12</th>\n",
       "      <td>purpose_credit_card</td>\n",
       "      <td>-1.706315e-04</td>\n",
       "      <td>0.729</td>\n",
       "    </tr>\n",
       "    <tr>\n",
       "      <th>13</th>\n",
       "      <td>emp_length:2-5</td>\n",
       "      <td>0.000000e+00</td>\n",
       "      <td>NaN</td>\n",
       "    </tr>\n",
       "    <tr>\n",
       "      <th>14</th>\n",
       "      <td>emp_length:6-9</td>\n",
       "      <td>1.852251e-03</td>\n",
       "      <td>0.015</td>\n",
       "    </tr>\n",
       "    <tr>\n",
       "      <th>15</th>\n",
       "      <td>emp_length:10+</td>\n",
       "      <td>0.000000e+00</td>\n",
       "      <td>NaN</td>\n",
       "    </tr>\n",
       "  </tbody>\n",
       "</table>\n",
       "</div>"
      ],
      "text/plain": [
       "                   Features   Coefficient  P-values\n",
       "0                 Intercept  1.147157e-01       NaN\n",
       "1                 loan_amnt -5.803800e-06     0.000\n",
       "2                  int_rate  7.725526e-05     0.006\n",
       "3                annual_inc  1.439733e-08     0.000\n",
       "4                recoveries  4.926642e-05     0.000\n",
       "5           total_rec_prncp -1.305314e-07     0.039\n",
       "6             term:36months -1.685310e-03     0.000\n",
       "7              emp_title:WC -2.451853e-04     0.661\n",
       "8        home_ownership:OWN  2.032975e-03     0.001\n",
       "9   home_ownership:MORTGAGE  1.887512e-03     0.000\n",
       "10            purpose:other  2.270664e-03     0.001\n",
       "11   purpose:major_purchase  4.700542e-04     0.458\n",
       "12      purpose_credit_card -1.706315e-04     0.729\n",
       "13           emp_length:2-5  0.000000e+00       NaN\n",
       "14           emp_length:6-9  1.852251e-03     0.015\n",
       "15           emp_length:10+  0.000000e+00       NaN"
      ]
     },
     "execution_count": 126,
     "metadata": {},
     "output_type": "execute_result"
    }
   ],
   "source": [
    "# Summary table\n",
    "\n",
    "summary2 = pd.DataFrame(columns = ['Features'], data = feature_names2)\n",
    "summary2['Coefficient'] = np.transpose(Coefficient2)\n",
    "\n",
    "summary2.index = summary2.index + 1\n",
    "summary2.loc[0] = ['Intercept', Intercept2]\n",
    "summary2 = summary2.sort_index()\n",
    "\n",
    "P_values = np.append(np.nan, np.array(p_values))\n",
    "summary2['P-values'] = P_values.round(3)\n",
    "\n",
    "summary2"
   ]
  },
  {
   "cell_type": "code",
   "execution_count": null,
   "metadata": {},
   "outputs": [],
   "source": [
    "# We may decide to remove emp_title, and purpose because most of their categories are not statistically significant at 5%\n",
    "# and 10% as shown by their P-values."
   ]
  },
  {
   "cell_type": "markdown",
   "metadata": {},
   "source": [
    "# LGD2 Model Evaluation"
   ]
  },
  {
   "cell_type": "code",
   "execution_count": null,
   "metadata": {},
   "outputs": [],
   "source": [
    "# In evaluating the model we could try a different metric -correlation.\n",
    "# as well as Mean Squared Error(MSE)."
   ]
  },
  {
   "cell_type": "code",
   "execution_count": 127,
   "metadata": {},
   "outputs": [],
   "source": [
    "# testing the model\n",
    "\n",
    "ypred2 = reg2.predict(x2_test)"
   ]
  },
  {
   "cell_type": "code",
   "execution_count": 128,
   "metadata": {},
   "outputs": [],
   "source": [
    "# To avoid altering the original y2_test data, we'd duplicate it and then work with the duplicate.\n",
    "\n",
    "y2_test_temp = y2_test"
   ]
  },
  {
   "cell_type": "code",
   "execution_count": 129,
   "metadata": {},
   "outputs": [],
   "source": [
    "y2_test_temp = y2_test_temp.reset_index(drop=True)"
   ]
  },
  {
   "cell_type": "code",
   "execution_count": 130,
   "metadata": {},
   "outputs": [
    {
     "data": {
      "text/html": [
       "<div>\n",
       "<style scoped>\n",
       "    .dataframe tbody tr th:only-of-type {\n",
       "        vertical-align: middle;\n",
       "    }\n",
       "\n",
       "    .dataframe tbody tr th {\n",
       "        vertical-align: top;\n",
       "    }\n",
       "\n",
       "    .dataframe thead th {\n",
       "        text-align: right;\n",
       "    }\n",
       "</style>\n",
       "<table border=\"1\" class=\"dataframe\">\n",
       "  <thead>\n",
       "    <tr style=\"text-align: right;\">\n",
       "      <th></th>\n",
       "      <th>recovery_rate</th>\n",
       "      <th>0</th>\n",
       "    </tr>\n",
       "  </thead>\n",
       "  <tbody>\n",
       "    <tr>\n",
       "      <th>recovery_rate</th>\n",
       "      <td>1.000000</td>\n",
       "      <td>0.871681</td>\n",
       "    </tr>\n",
       "    <tr>\n",
       "      <th>0</th>\n",
       "      <td>0.871681</td>\n",
       "      <td>1.000000</td>\n",
       "    </tr>\n",
       "  </tbody>\n",
       "</table>\n",
       "</div>"
      ],
      "text/plain": [
       "               recovery_rate         0\n",
       "recovery_rate       1.000000  0.871681\n",
       "0                   0.871681  1.000000"
      ]
     },
     "execution_count": 130,
     "metadata": {},
     "output_type": "execute_result"
    }
   ],
   "source": [
    "pd.concat([y2_test_temp, pd.DataFrame(ypred2)], axis=1).corr()"
   ]
  },
  {
   "cell_type": "code",
   "execution_count": null,
   "metadata": {},
   "outputs": [],
   "source": [
    "# Good, since it corresponds with stg1 which shows almost no correlation.\n",
    "\n",
    "# low could be satisfactory. If the lower left to upper right diagonals were very high(considering stg1 results),\n",
    "# then we'd be questioning our model."
   ]
  },
  {
   "cell_type": "code",
   "execution_count": 131,
   "metadata": {},
   "outputs": [
    {
     "data": {
      "text/plain": [
       "<matplotlib.axes._subplots.AxesSubplot at 0x1d022f39dd8>"
      ]
     },
     "execution_count": 131,
     "metadata": {},
     "output_type": "execute_result"
    },
    {
     "data": {
      "image/png": "[encoded data removed]",
      "text/plain": [
       "<matplotlib.figure.Figure at 0x1d022e7c7f0>"
      ]
     },
     "metadata": {},
     "output_type": "display_data"
    }
   ],
   "source": [
    "# Plotting the distibution of residuals.\n",
    "\n",
    "sns.distplot(y2_test - ypred2)"
   ]
  },
  {
   "cell_type": "code",
   "execution_count": null,
   "metadata": {},
   "outputs": [],
   "source": [
    "# Most of the observations are symmetrically distributed around 0.\n",
    "# It is nearly normally distibuted and thus, is satisfactory."
   ]
  },
  {
   "cell_type": "code",
   "execution_count": 132,
   "metadata": {},
   "outputs": [],
   "source": [
    "# Save the model using pickle.\n",
    "\n",
    "pickle.dump(reg2, open('LGD_STAGE2.sav', 'wb'))"
   ]
  },
  {
   "cell_type": "code",
   "execution_count": null,
   "metadata": {},
   "outputs": [],
   "source": [
    "# wb = write bytes and is for saving(pickling)\n",
    "# to unpickle(read), the format is thus: pickle.load(open('name of file', 'rb')), where rb = read bytes.   "
   ]
  },
  {
   "cell_type": "markdown",
   "metadata": {},
   "source": [
    "# Combining Stage1 and Stage2 to get the final LGD model."
   ]
  },
  {
   "cell_type": "code",
   "execution_count": 133,
   "metadata": {},
   "outputs": [],
   "source": [
    "# Use the linear regression model (stage2 model) to predict test set for stage1.\n",
    "# Store it in a new variable (ypred2_all)\n",
    "\n",
    "ypred2_all = reg2.predict(x1_test)"
   ]
  },
  {
   "cell_type": "code",
   "execution_count": 134,
   "metadata": {},
   "outputs": [
    {
     "data": {
      "text/plain": [
       "array([0.07749938, 0.09908898, 0.13533148, ..., 0.08464582, 0.09326175,\n",
       "       0.1039687 ])"
      ]
     },
     "execution_count": 134,
     "metadata": {},
     "output_type": "execute_result"
    }
   ],
   "source": [
    "ypred2_all"
   ]
  },
  {
   "cell_type": "code",
   "execution_count": 135,
   "metadata": {},
   "outputs": [],
   "source": [
    "ypred_lgd = ypred1 * ypred2_all"
   ]
  },
  {
   "cell_type": "code",
   "execution_count": 136,
   "metadata": {},
   "outputs": [
    {
     "data": {
      "text/html": [
       "<div>\n",
       "<style scoped>\n",
       "    .dataframe tbody tr th:only-of-type {\n",
       "        vertical-align: middle;\n",
       "    }\n",
       "\n",
       "    .dataframe tbody tr th {\n",
       "        vertical-align: top;\n",
       "    }\n",
       "\n",
       "    .dataframe thead th {\n",
       "        text-align: right;\n",
       "    }\n",
       "</style>\n",
       "<table border=\"1\" class=\"dataframe\">\n",
       "  <thead>\n",
       "    <tr style=\"text-align: right;\">\n",
       "      <th></th>\n",
       "      <th>0</th>\n",
       "    </tr>\n",
       "  </thead>\n",
       "  <tbody>\n",
       "    <tr>\n",
       "      <th>count</th>\n",
       "      <td>25838.000000</td>\n",
       "    </tr>\n",
       "    <tr>\n",
       "      <th>mean</th>\n",
       "      <td>0.075603</td>\n",
       "    </tr>\n",
       "    <tr>\n",
       "      <th>std</th>\n",
       "      <td>0.088493</td>\n",
       "    </tr>\n",
       "    <tr>\n",
       "      <th>min</th>\n",
       "      <td>-0.087604</td>\n",
       "    </tr>\n",
       "    <tr>\n",
       "      <th>25%</th>\n",
       "      <td>0.000000</td>\n",
       "    </tr>\n",
       "    <tr>\n",
       "      <th>50%</th>\n",
       "      <td>0.080482</td>\n",
       "    </tr>\n",
       "    <tr>\n",
       "      <th>75%</th>\n",
       "      <td>0.111829</td>\n",
       "    </tr>\n",
       "    <tr>\n",
       "      <th>max</th>\n",
       "      <td>1.669127</td>\n",
       "    </tr>\n",
       "  </tbody>\n",
       "</table>\n",
       "</div>"
      ],
      "text/plain": [
       "                  0\n",
       "count  25838.000000\n",
       "mean       0.075603\n",
       "std        0.088493\n",
       "min       -0.087604\n",
       "25%        0.000000\n",
       "50%        0.080482\n",
       "75%        0.111829\n",
       "max        1.669127"
      ]
     },
     "execution_count": 136,
     "metadata": {},
     "output_type": "execute_result"
    }
   ],
   "source": [
    "pd.DataFrame(ypred_lgd).describe()"
   ]
  },
  {
   "cell_type": "code",
   "execution_count": 137,
   "metadata": {},
   "outputs": [],
   "source": [
    "# By chance, there may be values less than 0 and/or values greater than 1.\n",
    "# Making sure that the range of values is between 0 and 1.\n",
    "\n",
    "ypred_lgd = np.where(ypred_lgd < 0, 0, ypred_lgd)\n",
    "ypred_lgd = np.where(ypred_lgd > 1, 1, ypred_lgd)"
   ]
  },
  {
   "cell_type": "code",
   "execution_count": 138,
   "metadata": {},
   "outputs": [
    {
     "data": {
      "text/html": [
       "<div>\n",
       "<style scoped>\n",
       "    .dataframe tbody tr th:only-of-type {\n",
       "        vertical-align: middle;\n",
       "    }\n",
       "\n",
       "    .dataframe tbody tr th {\n",
       "        vertical-align: top;\n",
       "    }\n",
       "\n",
       "    .dataframe thead th {\n",
       "        text-align: right;\n",
       "    }\n",
       "</style>\n",
       "<table border=\"1\" class=\"dataframe\">\n",
       "  <thead>\n",
       "    <tr style=\"text-align: right;\">\n",
       "      <th></th>\n",
       "      <th>0</th>\n",
       "    </tr>\n",
       "  </thead>\n",
       "  <tbody>\n",
       "    <tr>\n",
       "      <th>count</th>\n",
       "      <td>25838.000000</td>\n",
       "    </tr>\n",
       "    <tr>\n",
       "      <th>mean</th>\n",
       "      <td>0.075877</td>\n",
       "    </tr>\n",
       "    <tr>\n",
       "      <th>std</th>\n",
       "      <td>0.087227</td>\n",
       "    </tr>\n",
       "    <tr>\n",
       "      <th>min</th>\n",
       "      <td>0.000000</td>\n",
       "    </tr>\n",
       "    <tr>\n",
       "      <th>25%</th>\n",
       "      <td>0.000000</td>\n",
       "    </tr>\n",
       "    <tr>\n",
       "      <th>50%</th>\n",
       "      <td>0.080482</td>\n",
       "    </tr>\n",
       "    <tr>\n",
       "      <th>75%</th>\n",
       "      <td>0.111829</td>\n",
       "    </tr>\n",
       "    <tr>\n",
       "      <th>max</th>\n",
       "      <td>1.000000</td>\n",
       "    </tr>\n",
       "  </tbody>\n",
       "</table>\n",
       "</div>"
      ],
      "text/plain": [
       "                  0\n",
       "count  25838.000000\n",
       "mean       0.075877\n",
       "std        0.087227\n",
       "min        0.000000\n",
       "25%        0.000000\n",
       "50%        0.080482\n",
       "75%        0.111829\n",
       "max        1.000000"
      ]
     },
     "execution_count": 138,
     "metadata": {},
     "output_type": "execute_result"
    }
   ],
   "source": [
    "pd.DataFrame(ypred_lgd).describe()"
   ]
  },
  {
   "cell_type": "code",
   "execution_count": null,
   "metadata": {},
   "outputs": [],
   "source": []
  },
  {
   "cell_type": "markdown",
   "metadata": {},
   "source": [
    "# Exposure At Default (EAD) Model."
   ]
  },
  {
   "cell_type": "code",
   "execution_count": 139,
   "metadata": {},
   "outputs": [],
   "source": [
    "# Organizing the dependent and independent variables.\n",
    "\n",
    "Independent3 = default_data.drop(['id', 'loan_status', 'recovery_rate', 'CCF', 'recovery_rate_0_1'], axis=1)\n",
    "Dependent3 = default_data['CCF']"
   ]
  },
  {
   "cell_type": "code",
   "execution_count": 140,
   "metadata": {},
   "outputs": [],
   "source": [
    "# Splitting into train and test sets.\n",
    "\n",
    "xtrain_ead, xtest_ead, ytrain_ead, ytest_ead = train_test_split(Independent3, Dependent3, test_size=0.20, random_state=42)"
   ]
  },
  {
   "cell_type": "code",
   "execution_count": 141,
   "metadata": {},
   "outputs": [
    {
     "data": {
      "text/plain": [
       "((103349, 15), (103349,))"
      ]
     },
     "execution_count": 141,
     "metadata": {},
     "output_type": "execute_result"
    }
   ],
   "source": [
    "xtrain_ead.shape, ytrain_ead.shape"
   ]
  },
  {
   "cell_type": "code",
   "execution_count": 142,
   "metadata": {},
   "outputs": [
    {
     "name": "stderr",
     "output_type": "stream",
     "text": [
      "C:\\Users\\JAHFAITH IROKANULO\\Anaconda3\\lib\\site-packages\\ipykernel_launcher.py:16: RuntimeWarning: invalid value encountered in true_divide\n",
      "  app.launch_new_instance()\n",
      "C:\\Users\\JAHFAITH IROKANULO\\Anaconda3\\lib\\site-packages\\scipy\\stats\\_distn_infrastructure.py:879: RuntimeWarning: invalid value encountered in greater\n",
      "  return (self.a < x) & (x < self.b)\n",
      "C:\\Users\\JAHFAITH IROKANULO\\Anaconda3\\lib\\site-packages\\scipy\\stats\\_distn_infrastructure.py:879: RuntimeWarning: invalid value encountered in less\n",
      "  return (self.a < x) & (x < self.b)\n",
      "C:\\Users\\JAHFAITH IROKANULO\\Anaconda3\\lib\\site-packages\\scipy\\stats\\_distn_infrastructure.py:1738: RuntimeWarning: invalid value encountered in greater_equal\n",
      "  cond2 = (x >= self.b) & cond0\n"
     ]
    },
    {
     "data": {
      "text/plain": [
       "LinearRegressionP(copy_X=True, fit_intercept=True, n_jobs=1, normalize=False)"
      ]
     },
     "execution_count": 142,
     "metadata": {},
     "output_type": "execute_result"
    }
   ],
   "source": [
    "# training the model.\n",
    "\n",
    "reg3 = LinearRegressionP()\n",
    "reg3.fit(xtrain_ead, ytrain_ead)"
   ]
  },
  {
   "cell_type": "code",
   "execution_count": 143,
   "metadata": {},
   "outputs": [],
   "source": [
    "# Intercept\n",
    "Intercept3 = reg3.intercept_\n",
    "\n",
    "# Coefficient\n",
    "Coefficient3 = reg3.coef_\n",
    "\n",
    "# P-values\n",
    "p_values3 = reg3.p\n",
    "\n",
    "# Feature name\n",
    "feature_name3 = xtrain_ead.columns.values"
   ]
  },
  {
   "cell_type": "code",
   "execution_count": 144,
   "metadata": {},
   "outputs": [
    {
     "data": {
      "text/html": [
       "<div>\n",
       "<style scoped>\n",
       "    .dataframe tbody tr th:only-of-type {\n",
       "        vertical-align: middle;\n",
       "    }\n",
       "\n",
       "    .dataframe tbody tr th {\n",
       "        vertical-align: top;\n",
       "    }\n",
       "\n",
       "    .dataframe thead th {\n",
       "        text-align: right;\n",
       "    }\n",
       "</style>\n",
       "<table border=\"1\" class=\"dataframe\">\n",
       "  <thead>\n",
       "    <tr style=\"text-align: right;\">\n",
       "      <th></th>\n",
       "      <th>Features</th>\n",
       "      <th>Coefficients</th>\n",
       "      <th>P-values</th>\n",
       "    </tr>\n",
       "  </thead>\n",
       "  <tbody>\n",
       "    <tr>\n",
       "      <th>0</th>\n",
       "      <td>Intercept</td>\n",
       "      <td>[-0.004940067388507399]</td>\n",
       "      <td>NaN</td>\n",
       "    </tr>\n",
       "    <tr>\n",
       "      <th>1</th>\n",
       "      <td>loan_amnt</td>\n",
       "      <td>1.40223e-05</td>\n",
       "      <td>0.000000e+00</td>\n",
       "    </tr>\n",
       "    <tr>\n",
       "      <th>2</th>\n",
       "      <td>int_rate</td>\n",
       "      <td>0.00207844</td>\n",
       "      <td>0.000000e+00</td>\n",
       "    </tr>\n",
       "    <tr>\n",
       "      <th>3</th>\n",
       "      <td>annual_inc</td>\n",
       "      <td>3.50743e-08</td>\n",
       "      <td>1.717737e-12</td>\n",
       "    </tr>\n",
       "    <tr>\n",
       "      <th>4</th>\n",
       "      <td>recoveries</td>\n",
       "      <td>7.06339e-08</td>\n",
       "      <td>7.241800e-01</td>\n",
       "    </tr>\n",
       "    <tr>\n",
       "      <th>5</th>\n",
       "      <td>total_rec_prncp</td>\n",
       "      <td>-4.95173e-05</td>\n",
       "      <td>0.000000e+00</td>\n",
       "    </tr>\n",
       "    <tr>\n",
       "      <th>6</th>\n",
       "      <td>term:36months</td>\n",
       "      <td>-0.0184142</td>\n",
       "      <td>0.000000e+00</td>\n",
       "    </tr>\n",
       "    <tr>\n",
       "      <th>7</th>\n",
       "      <td>emp_title:WC</td>\n",
       "      <td>0.000628781</td>\n",
       "      <td>5.308818e-01</td>\n",
       "    </tr>\n",
       "    <tr>\n",
       "      <th>8</th>\n",
       "      <td>home_ownership:OWN</td>\n",
       "      <td>0.00243215</td>\n",
       "      <td>2.719506e-02</td>\n",
       "    </tr>\n",
       "    <tr>\n",
       "      <th>9</th>\n",
       "      <td>home_ownership:MORTGAGE</td>\n",
       "      <td>0.00272824</td>\n",
       "      <td>1.611859e-04</td>\n",
       "    </tr>\n",
       "    <tr>\n",
       "      <th>10</th>\n",
       "      <td>purpose:other</td>\n",
       "      <td>0.00617292</td>\n",
       "      <td>6.662078e-07</td>\n",
       "    </tr>\n",
       "    <tr>\n",
       "      <th>11</th>\n",
       "      <td>purpose:major_purchase</td>\n",
       "      <td>-0.0032203</td>\n",
       "      <td>4.219252e-03</td>\n",
       "    </tr>\n",
       "    <tr>\n",
       "      <th>12</th>\n",
       "      <td>purpose_credit_card</td>\n",
       "      <td>-0.00138673</td>\n",
       "      <td>1.108454e-01</td>\n",
       "    </tr>\n",
       "    <tr>\n",
       "      <th>13</th>\n",
       "      <td>emp_length:2-5</td>\n",
       "      <td>0</td>\n",
       "      <td>NaN</td>\n",
       "    </tr>\n",
       "    <tr>\n",
       "      <th>14</th>\n",
       "      <td>emp_length:6-9</td>\n",
       "      <td>-0.000606343</td>\n",
       "      <td>6.256346e-01</td>\n",
       "    </tr>\n",
       "    <tr>\n",
       "      <th>15</th>\n",
       "      <td>emp_length:10+</td>\n",
       "      <td>0</td>\n",
       "      <td>NaN</td>\n",
       "    </tr>\n",
       "  </tbody>\n",
       "</table>\n",
       "</div>"
      ],
      "text/plain": [
       "                   Features             Coefficients      P-values\n",
       "0                 Intercept  [-0.004940067388507399]           NaN\n",
       "1                 loan_amnt              1.40223e-05  0.000000e+00\n",
       "2                  int_rate               0.00207844  0.000000e+00\n",
       "3                annual_inc              3.50743e-08  1.717737e-12\n",
       "4                recoveries              7.06339e-08  7.241800e-01\n",
       "5           total_rec_prncp             -4.95173e-05  0.000000e+00\n",
       "6             term:36months               -0.0184142  0.000000e+00\n",
       "7              emp_title:WC              0.000628781  5.308818e-01\n",
       "8        home_ownership:OWN               0.00243215  2.719506e-02\n",
       "9   home_ownership:MORTGAGE               0.00272824  1.611859e-04\n",
       "10            purpose:other               0.00617292  6.662078e-07\n",
       "11   purpose:major_purchase               -0.0032203  4.219252e-03\n",
       "12      purpose_credit_card              -0.00138673  1.108454e-01\n",
       "13           emp_length:2-5                        0           NaN\n",
       "14           emp_length:6-9             -0.000606343  6.256346e-01\n",
       "15           emp_length:10+                        0           NaN"
      ]
     },
     "execution_count": 144,
     "metadata": {},
     "output_type": "execute_result"
    }
   ],
   "source": [
    "# Summary table.\n",
    "\n",
    "summary = pd.DataFrame(columns = ['Features'], data = feature_name3)\n",
    "summary['Coefficients'] = np.transpose(Coefficient3)\n",
    "\n",
    "summary.index = summary.index + 1\n",
    "summary.loc[0] = ['Intercept', Intercept]\n",
    "summary = summary.sort_index()\n",
    "\n",
    "p_values3 = np.append(np.nan, np.array(p_values3))\n",
    "summary['P-values'] = p_values3\n",
    "\n",
    "summary"
   ]
  },
  {
   "cell_type": "code",
   "execution_count": null,
   "metadata": {},
   "outputs": [],
   "source": [
    "# Positive coefficients denote an increase in the CCF and implies higher risk --if the loan amount\n",
    "# increases by $1, the CCF will increase by 0.0000140223.\n",
    "\n",
    "# Negative coefficients denote a decrease in the CCF and implies lower risk --if the number of borrowers whose\n",
    "# loan purpose is major purchase increase by 1, the CCF will decrease by 0.0032203 or 0.3%\n",
    "\n",
    "# The above interpretation is only plausible for features(variables) with statistically significant P-values."
   ]
  },
  {
   "cell_type": "markdown",
   "metadata": {},
   "source": [
    "# EAD Model Evaluation."
   ]
  },
  {
   "cell_type": "code",
   "execution_count": 145,
   "metadata": {},
   "outputs": [],
   "source": [
    "ypred3 = reg3.predict(xtest_ead)"
   ]
  },
  {
   "cell_type": "code",
   "execution_count": 146,
   "metadata": {},
   "outputs": [],
   "source": [
    "ytest_temp = ytest_ead\n",
    "ytest_temp = ytest_temp.reset_index(drop=True)"
   ]
  },
  {
   "cell_type": "code",
   "execution_count": 147,
   "metadata": {},
   "outputs": [
    {
     "data": {
      "text/html": [
       "<div>\n",
       "<style scoped>\n",
       "    .dataframe tbody tr th:only-of-type {\n",
       "        vertical-align: middle;\n",
       "    }\n",
       "\n",
       "    .dataframe tbody tr th {\n",
       "        vertical-align: top;\n",
       "    }\n",
       "\n",
       "    .dataframe thead th {\n",
       "        text-align: right;\n",
       "    }\n",
       "</style>\n",
       "<table border=\"1\" class=\"dataframe\">\n",
       "  <thead>\n",
       "    <tr style=\"text-align: right;\">\n",
       "      <th></th>\n",
       "      <th>CCF</th>\n",
       "      <th>0</th>\n",
       "    </tr>\n",
       "  </thead>\n",
       "  <tbody>\n",
       "    <tr>\n",
       "      <th>CCF</th>\n",
       "      <td>1.000000</td>\n",
       "      <td>0.861818</td>\n",
       "    </tr>\n",
       "    <tr>\n",
       "      <th>0</th>\n",
       "      <td>0.861818</td>\n",
       "      <td>1.000000</td>\n",
       "    </tr>\n",
       "  </tbody>\n",
       "</table>\n",
       "</div>"
      ],
      "text/plain": [
       "          CCF         0\n",
       "CCF  1.000000  0.861818\n",
       "0    0.861818  1.000000"
      ]
     },
     "execution_count": 147,
     "metadata": {},
     "output_type": "execute_result"
    }
   ],
   "source": [
    "pd.concat([ytest_temp, pd.DataFrame(ypred3)], axis=1).corr()"
   ]
  },
  {
   "cell_type": "code",
   "execution_count": 148,
   "metadata": {},
   "outputs": [
    {
     "data": {
      "text/plain": [
       "<matplotlib.axes._subplots.AxesSubplot at 0x1d0228565c0>"
      ]
     },
     "execution_count": 148,
     "metadata": {},
     "output_type": "execute_result"
    },
    {
     "data": {
      "image/png": "[encoded data removed]",
      "text/plain": [
       "<matplotlib.figure.Figure at 0x1d023216f98>"
      ]
     },
     "metadata": {},
     "output_type": "display_data"
    }
   ],
   "source": [
    "# Plotting the distribution of the residuals.\n",
    "\n",
    "sns.distplot(ytest_ead - ypred3)"
   ]
  },
  {
   "cell_type": "code",
   "execution_count": 149,
   "metadata": {},
   "outputs": [
    {
     "data": {
      "text/plain": [
       "0.011718553677165837"
      ]
     },
     "execution_count": 149,
     "metadata": {},
     "output_type": "execute_result"
    }
   ],
   "source": [
    "mse = mean_squared_error(ytest_ead, ypred3)\n",
    "mse"
   ]
  },
  {
   "cell_type": "code",
   "execution_count": 150,
   "metadata": {},
   "outputs": [
    {
     "data": {
      "text/plain": [
       "0.7427234691284427"
      ]
     },
     "execution_count": 150,
     "metadata": {},
     "output_type": "execute_result"
    }
   ],
   "source": [
    "r2 = r2_score(ytest_ead, ypred3)\n",
    "r2"
   ]
  },
  {
   "cell_type": "code",
   "execution_count": null,
   "metadata": {},
   "outputs": [],
   "source": []
  },
  {
   "cell_type": "markdown",
   "metadata": {},
   "source": [
    "# Expected Loss"
   ]
  },
  {
   "cell_type": "markdown",
   "metadata": {},
   "source": [
    "# EL = PD x LGD x EAD"
   ]
  },
  {
   "cell_type": "code",
   "execution_count": 151,
   "metadata": {},
   "outputs": [],
   "source": [
    "lgd_ead_data = default_data.drop(['id', 'loan_status', 'recovery_rate', 'CCF', 'recovery_rate_0_1'], axis=1)"
   ]
  },
  {
   "cell_type": "code",
   "execution_count": 152,
   "metadata": {},
   "outputs": [
    {
     "data": {
      "text/plain": [
       "Index(['loan_amnt', 'int_rate', 'annual_inc', 'recoveries', 'total_rec_prncp',\n",
       "       'term:36months', 'emp_title:WC', 'home_ownership:OWN',\n",
       "       'home_ownership:MORTGAGE', 'purpose:other', 'purpose:major_purchase',\n",
       "       'purpose_credit_card', 'emp_length:2-5', 'emp_length:6-9',\n",
       "       'emp_length:10+'],\n",
       "      dtype='object')"
      ]
     },
     "execution_count": 152,
     "metadata": {},
     "output_type": "execute_result"
    }
   ],
   "source": [
    "lgd_ead_data.columns"
   ]
  },
  {
   "cell_type": "code",
   "execution_count": null,
   "metadata": {},
   "outputs": [],
   "source": []
  },
  {
   "cell_type": "markdown",
   "metadata": {},
   "source": [
    "# Modeling LGD"
   ]
  },
  {
   "cell_type": "code",
   "execution_count": 153,
   "metadata": {},
   "outputs": [
    {
     "data": {
      "text/plain": [
       "((1048575, 18),\n",
       " Index(['loan_amnt', 'int_rate', 'annual_inc', 'term:36months', 'term:60months',\n",
       "        'emp_title:BC', 'emp_title:WC', 'home_ownership:OWN',\n",
       "        'home_ownership:RENT', 'home_ownership:MORTGAGE', 'purpose:debt',\n",
       "        'purpose:other', 'purpose:major_purchase', 'purpose_credit_card',\n",
       "        'emp_length:0-1', 'emp_length:2-5', 'emp_length:6-9', 'emp_length:10+'],\n",
       "       dtype='object'))"
      ]
     },
     "execution_count": 153,
     "metadata": {},
     "output_type": "execute_result"
    }
   ],
   "source": [
    "# The loan data consisting of the entire rows.\n",
    "\n",
    "loan_data_prep.shape, loan_data_prep.columns"
   ]
  },
  {
   "cell_type": "code",
   "execution_count": 154,
   "metadata": {},
   "outputs": [],
   "source": [
    "# Ensuring it contains all the columns in lgd and ead dataset.\n",
    "\n",
    "loan_data_prep['recoveries'] = data['recoveries']\n",
    "loan_data_prep['total_rec_prncp'] = data['total_rec_prncp']"
   ]
  },
  {
   "cell_type": "code",
   "execution_count": 155,
   "metadata": {},
   "outputs": [
    {
     "data": {
      "text/plain": [
       "loan_amnt                   0\n",
       "int_rate                    0\n",
       "annual_inc                  0\n",
       "term:36months               0\n",
       "term:60months               0\n",
       "emp_title:BC                0\n",
       "emp_title:WC                0\n",
       "home_ownership:OWN          0\n",
       "home_ownership:RENT         0\n",
       "home_ownership:MORTGAGE     0\n",
       "purpose:debt                0\n",
       "purpose:other               0\n",
       "purpose:major_purchase      0\n",
       "purpose_credit_card         0\n",
       "emp_length:0-1              0\n",
       "emp_length:2-5              0\n",
       "emp_length:6-9              0\n",
       "emp_length:10+              0\n",
       "recoveries                  0\n",
       "total_rec_prncp            12\n",
       "dtype: int64"
      ]
     },
     "execution_count": 155,
     "metadata": {},
     "output_type": "execute_result"
    }
   ],
   "source": [
    "# Check for missing values\n",
    "\n",
    "loan_data_prep.isna().sum()"
   ]
  },
  {
   "cell_type": "code",
   "execution_count": 156,
   "metadata": {},
   "outputs": [],
   "source": [
    "m = loan_data_prep['total_rec_prncp'].median()"
   ]
  },
  {
   "cell_type": "code",
   "execution_count": 157,
   "metadata": {},
   "outputs": [],
   "source": [
    "loan_data_prep['total_rec_prncp'] = data['total_rec_prncp'].fillna(m)"
   ]
  },
  {
   "cell_type": "code",
   "execution_count": 158,
   "metadata": {},
   "outputs": [
    {
     "data": {
      "text/plain": [
       "((129187, 15),\n",
       " Index(['loan_amnt', 'int_rate', 'annual_inc', 'recoveries', 'total_rec_prncp',\n",
       "        'term:36months', 'emp_title:WC', 'home_ownership:OWN',\n",
       "        'home_ownership:MORTGAGE', 'purpose:other', 'purpose:major_purchase',\n",
       "        'purpose_credit_card', 'emp_length:2-5', 'emp_length:6-9',\n",
       "        'emp_length:10+'],\n",
       "       dtype='object'))"
      ]
     },
     "execution_count": 158,
     "metadata": {},
     "output_type": "execute_result"
    }
   ],
   "source": [
    "# The LGD and EAD model data -consisting of only written-off accounts.\n",
    "\n",
    "lgd_ead_data.shape, lgd_ead_data.columns"
   ]
  },
  {
   "cell_type": "code",
   "execution_count": 161,
   "metadata": {},
   "outputs": [],
   "source": [
    "features = ['loan_amnt', 'int_rate', 'annual_inc', 'recoveries', 'total_rec_prncp',\n",
    "       'term:36months', 'emp_title:WC', 'home_ownership:OWN',\n",
    "       'home_ownership:MORTGAGE', 'purpose:other', 'purpose:major_purchase',\n",
    "       'purpose_credit_card', 'emp_length:2-5', 'emp_length:6-9',\n",
    "       'emp_length:10+']"
   ]
  },
  {
   "cell_type": "code",
   "execution_count": 162,
   "metadata": {},
   "outputs": [],
   "source": [
    "# we need features in the LGD and EAD models to also be in the main (preprocessed loan data -loan_data_prep)\n",
    "\n",
    "loan_data_prep_lgd_ead = loan_data_prep[features]"
   ]
  },
  {
   "cell_type": "code",
   "execution_count": 163,
   "metadata": {},
   "outputs": [
    {
     "data": {
      "text/plain": [
       "((1048575, 20), (1048575, 15), (129187, 15))"
      ]
     },
     "execution_count": 163,
     "metadata": {},
     "output_type": "execute_result"
    }
   ],
   "source": [
    "loan_data_prep.shape,  loan_data_prep_lgd_ead.shape,  lgd_ead_data.shape"
   ]
  },
  {
   "cell_type": "code",
   "execution_count": 216,
   "metadata": {},
   "outputs": [],
   "source": [
    "#loan_data_prep_lgd_ead['recoveries'] = data['recoveries']  #lgd_ead_data\n",
    "#loan_data_prep_lgd_ead['total_rec_prncp'] = data['total_rec_prncp']"
   ]
  },
  {
   "cell_type": "code",
   "execution_count": 164,
   "metadata": {},
   "outputs": [
    {
     "data": {
      "text/plain": [
       "((129187, 15), (1048575, 15))"
      ]
     },
     "execution_count": 164,
     "metadata": {},
     "output_type": "execute_result"
    }
   ],
   "source": [
    "lgd_ead_data.shape,  loan_data_prep_lgd_ead.shape"
   ]
  },
  {
   "cell_type": "code",
   "execution_count": 165,
   "metadata": {},
   "outputs": [],
   "source": [
    "# The loan_data_prep consists of all the LGD and EAD independent features excluding their dependent features.\n",
    "\n",
    "loan_data_prep['recovery_rate_stg1'] = reg.predict(loan_data_prep_lgd_ead)"
   ]
  },
  {
   "cell_type": "code",
   "execution_count": 166,
   "metadata": {},
   "outputs": [],
   "source": [
    "loan_data_prep['recovery_rate_stg2'] = reg2.predict(loan_data_prep_lgd_ead)"
   ]
  },
  {
   "cell_type": "code",
   "execution_count": 167,
   "metadata": {},
   "outputs": [],
   "source": [
    "loan_data_prep['recovery_rate'] = loan_data_prep['recovery_rate_stg1'] * loan_data_prep['recovery_rate_stg2']"
   ]
  },
  {
   "cell_type": "code",
   "execution_count": 168,
   "metadata": {},
   "outputs": [],
   "source": [
    "# Ensuring that the results are between 0 and 1.\n",
    "\n",
    "loan_data_prep['recovery_rate'] = np.where(loan_data_prep['recovery_rate'] < 0, 0, loan_data_prep['recovery_rate'])\n",
    "loan_data_prep['recovery_rate'] = np.where(loan_data_prep['recovery_rate'] > 1, 1, loan_data_prep['recovery_rate'])"
   ]
  },
  {
   "cell_type": "code",
   "execution_count": 169,
   "metadata": {},
   "outputs": [],
   "source": [
    "# LGD\n",
    "# LGD = 1 - recovery_rate.\n",
    "\n",
    "loan_data_prep['LGD'] = 1 - loan_data_prep['recovery_rate']"
   ]
  },
  {
   "cell_type": "code",
   "execution_count": 170,
   "metadata": {},
   "outputs": [
    {
     "data": {
      "text/plain": [
       "count    1.048575e+06\n",
       "mean     9.906700e-01\n",
       "std      3.950005e-02\n",
       "min      0.000000e+00\n",
       "25%      1.000000e+00\n",
       "50%      1.000000e+00\n",
       "75%      1.000000e+00\n",
       "max      1.000000e+00\n",
       "Name: LGD, dtype: float64"
      ]
     },
     "execution_count": 170,
     "metadata": {},
     "output_type": "execute_result"
    }
   ],
   "source": [
    "loan_data_prep['LGD'].describe()"
   ]
  },
  {
   "cell_type": "markdown",
   "metadata": {},
   "source": [
    "# Modeling EAD"
   ]
  },
  {
   "cell_type": "code",
   "execution_count": 171,
   "metadata": {},
   "outputs": [],
   "source": [
    "# CCF\n",
    "\n",
    "loan_data_prep['CCF'] = reg3.predict(loan_data_prep_lgd_ead)  #lgd_ead_data"
   ]
  },
  {
   "cell_type": "code",
   "execution_count": 172,
   "metadata": {},
   "outputs": [],
   "source": [
    "# Zero - One adjustment.\n",
    "\n",
    "loan_data_prep['CCF'] = np.where(loan_data_prep['CCF'] < 0, 0, loan_data_prep['CCF'])\n",
    "loan_data_prep['CCF'] = np.where(loan_data_prep['CCF'] > 1, 1, loan_data_prep['CCF'])"
   ]
  },
  {
   "cell_type": "code",
   "execution_count": 173,
   "metadata": {},
   "outputs": [],
   "source": [
    "# EAD = CCF * Funded Amount\n",
    "# In our case, funded amount = loan_amount\n",
    "\n",
    "loan_data_prep['EAD'] = loan_data_prep['CCF'] * loan_data_prep['loan_amnt']"
   ]
  },
  {
   "cell_type": "code",
   "execution_count": 174,
   "metadata": {},
   "outputs": [
    {
     "data": {
      "text/plain": [
       "count    1.048575e+06\n",
       "mean     6.413953e+03\n",
       "std      7.329610e+03\n",
       "min      0.000000e+00\n",
       "25%      2.212244e+03\n",
       "50%      3.283774e+03\n",
       "75%      8.223517e+03\n",
       "max      4.000000e+04\n",
       "Name: EAD, dtype: float64"
      ]
     },
     "execution_count": 174,
     "metadata": {},
     "output_type": "execute_result"
    }
   ],
   "source": [
    "loan_data_prep['EAD'].describe()"
   ]
  },
  {
   "cell_type": "code",
   "execution_count": 175,
   "metadata": {},
   "outputs": [
    {
     "data": {
      "text/html": [
       "<div>\n",
       "<style scoped>\n",
       "    .dataframe tbody tr th:only-of-type {\n",
       "        vertical-align: middle;\n",
       "    }\n",
       "\n",
       "    .dataframe tbody tr th {\n",
       "        vertical-align: top;\n",
       "    }\n",
       "\n",
       "    .dataframe thead th {\n",
       "        text-align: right;\n",
       "    }\n",
       "</style>\n",
       "<table border=\"1\" class=\"dataframe\">\n",
       "  <thead>\n",
       "    <tr style=\"text-align: right;\">\n",
       "      <th></th>\n",
       "      <th>loan_amnt</th>\n",
       "      <th>int_rate</th>\n",
       "      <th>annual_inc</th>\n",
       "      <th>term:36months</th>\n",
       "      <th>term:60months</th>\n",
       "      <th>emp_title:BC</th>\n",
       "      <th>emp_title:WC</th>\n",
       "      <th>home_ownership:OWN</th>\n",
       "      <th>home_ownership:RENT</th>\n",
       "      <th>home_ownership:MORTGAGE</th>\n",
       "      <th>purpose:debt</th>\n",
       "      <th>purpose:other</th>\n",
       "      <th>purpose:major_purchase</th>\n",
       "      <th>purpose_credit_card</th>\n",
       "      <th>emp_length:0-1</th>\n",
       "      <th>emp_length:2-5</th>\n",
       "      <th>emp_length:6-9</th>\n",
       "      <th>emp_length:10+</th>\n",
       "      <th>recoveries</th>\n",
       "      <th>total_rec_prncp</th>\n",
       "      <th>recovery_rate_stg1</th>\n",
       "      <th>recovery_rate_stg2</th>\n",
       "      <th>recovery_rate</th>\n",
       "      <th>LGD</th>\n",
       "      <th>CCF</th>\n",
       "      <th>EAD</th>\n",
       "    </tr>\n",
       "  </thead>\n",
       "  <tbody>\n",
       "    <tr>\n",
       "      <th>0</th>\n",
       "      <td>3600.0</td>\n",
       "      <td>13.99</td>\n",
       "      <td>55000.0</td>\n",
       "      <td>1</td>\n",
       "      <td>0</td>\n",
       "      <td>1</td>\n",
       "      <td>0</td>\n",
       "      <td>0</td>\n",
       "      <td>0</td>\n",
       "      <td>1</td>\n",
       "      <td>1</td>\n",
       "      <td>0</td>\n",
       "      <td>0</td>\n",
       "      <td>0</td>\n",
       "      <td>0</td>\n",
       "      <td>0</td>\n",
       "      <td>0</td>\n",
       "      <td>1</td>\n",
       "      <td>0.0</td>\n",
       "      <td>3600.0</td>\n",
       "      <td>0</td>\n",
       "      <td>0.095427</td>\n",
       "      <td>0.0</td>\n",
       "      <td>1.0</td>\n",
       "      <td>0.560423</td>\n",
       "      <td>2017.521078</td>\n",
       "    </tr>\n",
       "    <tr>\n",
       "      <th>1</th>\n",
       "      <td>24700.0</td>\n",
       "      <td>11.99</td>\n",
       "      <td>65000.0</td>\n",
       "      <td>1</td>\n",
       "      <td>0</td>\n",
       "      <td>0</td>\n",
       "      <td>1</td>\n",
       "      <td>0</td>\n",
       "      <td>0</td>\n",
       "      <td>1</td>\n",
       "      <td>0</td>\n",
       "      <td>0</td>\n",
       "      <td>1</td>\n",
       "      <td>0</td>\n",
       "      <td>0</td>\n",
       "      <td>0</td>\n",
       "      <td>0</td>\n",
       "      <td>1</td>\n",
       "      <td>0.0</td>\n",
       "      <td>24700.0</td>\n",
       "      <td>0</td>\n",
       "      <td>-0.029573</td>\n",
       "      <td>-0.0</td>\n",
       "      <td>1.0</td>\n",
       "      <td>0.000000</td>\n",
       "      <td>0.000000</td>\n",
       "    </tr>\n",
       "    <tr>\n",
       "      <th>2</th>\n",
       "      <td>20000.0</td>\n",
       "      <td>10.78</td>\n",
       "      <td>63000.0</td>\n",
       "      <td>0</td>\n",
       "      <td>0</td>\n",
       "      <td>1</td>\n",
       "      <td>0</td>\n",
       "      <td>0</td>\n",
       "      <td>0</td>\n",
       "      <td>1</td>\n",
       "      <td>0</td>\n",
       "      <td>0</td>\n",
       "      <td>1</td>\n",
       "      <td>0</td>\n",
       "      <td>0</td>\n",
       "      <td>0</td>\n",
       "      <td>0</td>\n",
       "      <td>1</td>\n",
       "      <td>0.0</td>\n",
       "      <td>20000.0</td>\n",
       "      <td>0</td>\n",
       "      <td>0.000127</td>\n",
       "      <td>0.0</td>\n",
       "      <td>1.0</td>\n",
       "      <td>0.000000</td>\n",
       "      <td>0.000000</td>\n",
       "    </tr>\n",
       "  </tbody>\n",
       "</table>\n",
       "</div>"
      ],
      "text/plain": [
       "   loan_amnt  int_rate  annual_inc  term:36months  term:60months  \\\n",
       "0     3600.0     13.99     55000.0              1              0   \n",
       "1    24700.0     11.99     65000.0              1              0   \n",
       "2    20000.0     10.78     63000.0              0              0   \n",
       "\n",
       "   emp_title:BC  emp_title:WC  home_ownership:OWN  home_ownership:RENT  \\\n",
       "0             1             0                   0                    0   \n",
       "1             0             1                   0                    0   \n",
       "2             1             0                   0                    0   \n",
       "\n",
       "   home_ownership:MORTGAGE  purpose:debt  purpose:other  \\\n",
       "0                        1             1              0   \n",
       "1                        1             0              0   \n",
       "2                        1             0              0   \n",
       "\n",
       "   purpose:major_purchase  purpose_credit_card  emp_length:0-1  \\\n",
       "0                       0                    0               0   \n",
       "1                       1                    0               0   \n",
       "2                       1                    0               0   \n",
       "\n",
       "   emp_length:2-5  emp_length:6-9  emp_length:10+  recoveries  \\\n",
       "0               0               0               1         0.0   \n",
       "1               0               0               1         0.0   \n",
       "2               0               0               1         0.0   \n",
       "\n",
       "   total_rec_prncp  recovery_rate_stg1  recovery_rate_stg2  recovery_rate  \\\n",
       "0           3600.0                   0            0.095427            0.0   \n",
       "1          24700.0                   0           -0.029573           -0.0   \n",
       "2          20000.0                   0            0.000127            0.0   \n",
       "\n",
       "   LGD       CCF          EAD  \n",
       "0  1.0  0.560423  2017.521078  \n",
       "1  1.0  0.000000     0.000000  \n",
       "2  1.0  0.000000     0.000000  "
      ]
     },
     "execution_count": 175,
     "metadata": {},
     "output_type": "execute_result"
    }
   ],
   "source": [
    "loan_data_prep.head(3)"
   ]
  },
  {
   "cell_type": "code",
   "execution_count": null,
   "metadata": {},
   "outputs": [],
   "source": []
  },
  {
   "cell_type": "markdown",
   "metadata": {},
   "source": [
    "# PD"
   ]
  },
  {
   "cell_type": "code",
   "execution_count": 176,
   "metadata": {},
   "outputs": [
    {
     "data": {
      "text/plain": [
       "array([0.10275143, 0.11051491, 0.12983849, ..., 0.11492202, 0.0566404 ,\n",
       "       0.04693972])"
      ]
     },
     "execution_count": 176,
     "metadata": {},
     "output_type": "execute_result"
    }
   ],
   "source": [
    "reg_pd.predict_proba(pd_input_data)[:][:, 0]  #Index 0 because we are estimating PD(probability of default) and not probability of non-default."
   ]
  },
  {
   "cell_type": "code",
   "execution_count": 177,
   "metadata": {},
   "outputs": [],
   "source": [
    "pd_input_data['PD'] = reg_pd.predict_proba(pd_input_data)[:][:, 0]"
   ]
  },
  {
   "cell_type": "code",
   "execution_count": 178,
   "metadata": {},
   "outputs": [
    {
     "data": {
      "text/plain": [
       "0    0.102751\n",
       "1    0.110515\n",
       "2    0.129838\n",
       "3    0.111592\n",
       "4    0.211147\n",
       "Name: PD, dtype: float64"
      ]
     },
     "execution_count": 178,
     "metadata": {},
     "output_type": "execute_result"
    }
   ],
   "source": [
    "pd_input_data['PD'].head()"
   ]
  },
  {
   "cell_type": "code",
   "execution_count": 179,
   "metadata": {},
   "outputs": [
    {
     "data": {
      "text/plain": [
       "count    1.048575e+06\n",
       "mean     1.335251e-01\n",
       "std      7.385038e-02\n",
       "min      1.969535e-02\n",
       "25%      6.633978e-02\n",
       "50%      1.230491e-01\n",
       "75%      1.760739e-01\n",
       "max      3.832804e-01\n",
       "Name: PD, dtype: float64"
      ]
     },
     "execution_count": 179,
     "metadata": {},
     "output_type": "execute_result"
    }
   ],
   "source": [
    "pd_input_data['PD'].describe()"
   ]
  },
  {
   "cell_type": "code",
   "execution_count": 180,
   "metadata": {},
   "outputs": [],
   "source": [
    "new_data = pd.concat([loan_data_prep, pd_input_data], axis=1)"
   ]
  },
  {
   "cell_type": "code",
   "execution_count": 182,
   "metadata": {},
   "outputs": [],
   "source": [
    "new_data['EL'] = new_data['PD'] * new_data['LGD'] * new_data['EAD']"
   ]
  },
  {
   "cell_type": "code",
   "execution_count": 183,
   "metadata": {},
   "outputs": [
    {
     "data": {
      "text/plain": [
       "count    1.048575e+06\n",
       "mean     9.282851e+02\n",
       "std      1.356921e+03\n",
       "min      0.000000e+00\n",
       "25%      1.616271e+02\n",
       "50%      4.122145e+02\n",
       "75%      1.072383e+03\n",
       "max      1.319809e+04\n",
       "Name: EL, dtype: float64"
      ]
     },
     "execution_count": 183,
     "metadata": {},
     "output_type": "execute_result"
    }
   ],
   "source": [
    "new_data['EL'].describe()"
   ]
  },
  {
   "cell_type": "code",
   "execution_count": 184,
   "metadata": {},
   "outputs": [
    {
     "data": {
      "text/html": [
       "<div>\n",
       "<style scoped>\n",
       "    .dataframe tbody tr th:only-of-type {\n",
       "        vertical-align: middle;\n",
       "    }\n",
       "\n",
       "    .dataframe tbody tr th {\n",
       "        vertical-align: top;\n",
       "    }\n",
       "\n",
       "    .dataframe thead th {\n",
       "        text-align: right;\n",
       "    }\n",
       "</style>\n",
       "<table border=\"1\" class=\"dataframe\">\n",
       "  <thead>\n",
       "    <tr style=\"text-align: right;\">\n",
       "      <th></th>\n",
       "      <th>loan_amnt</th>\n",
       "      <th>int_rate</th>\n",
       "      <th>annual_inc</th>\n",
       "      <th>term:36months</th>\n",
       "      <th>term:60months</th>\n",
       "      <th>emp_title:BC</th>\n",
       "      <th>emp_title:WC</th>\n",
       "      <th>home_ownership:OWN</th>\n",
       "      <th>home_ownership:RENT</th>\n",
       "      <th>home_ownership:MORTGAGE</th>\n",
       "      <th>purpose:debt</th>\n",
       "      <th>purpose:other</th>\n",
       "      <th>purpose:major_purchase</th>\n",
       "      <th>purpose_credit_card</th>\n",
       "      <th>emp_length:0-1</th>\n",
       "      <th>emp_length:2-5</th>\n",
       "      <th>emp_length:6-9</th>\n",
       "      <th>emp_length:10+</th>\n",
       "      <th>recoveries</th>\n",
       "      <th>total_rec_prncp</th>\n",
       "      <th>recovery_rate_stg1</th>\n",
       "      <th>recovery_rate_stg2</th>\n",
       "      <th>recovery_rate</th>\n",
       "      <th>LGD</th>\n",
       "      <th>CCF</th>\n",
       "      <th>EAD</th>\n",
       "      <th>term:36months</th>\n",
       "      <th>emp_title:WC</th>\n",
       "      <th>home_ownership:OWN</th>\n",
       "      <th>home_ownership:MORTGAGE</th>\n",
       "      <th>purpose:other</th>\n",
       "      <th>purpose:major_purchase</th>\n",
       "      <th>purpose_credit_card</th>\n",
       "      <th>emp_length:2-5</th>\n",
       "      <th>emp_length:6-9</th>\n",
       "      <th>emp_length:10+</th>\n",
       "      <th>loan_amnt:9581-18940</th>\n",
       "      <th>loan_amnt:18941-29860</th>\n",
       "      <th>loan_amnt:29861-35320</th>\n",
       "      <th>loan_amnt:35321-40000</th>\n",
       "      <th>loan_amnt:(&gt;40000)</th>\n",
       "      <th>int_rate:&lt;15.1</th>\n",
       "      <th>int_rate:&lt;20</th>\n",
       "      <th>int_rate:&lt;25</th>\n",
       "      <th>int_rate:&gt;25</th>\n",
       "      <th>annual_inc:&lt;100k</th>\n",
       "      <th>annual_inc:&lt;150k</th>\n",
       "      <th>annual_inc(&lt;200k)</th>\n",
       "      <th>annual_inc(&gt;200k)</th>\n",
       "      <th>PD</th>\n",
       "      <th>EL</th>\n",
       "    </tr>\n",
       "  </thead>\n",
       "  <tbody>\n",
       "    <tr>\n",
       "      <th>0</th>\n",
       "      <td>3600.0</td>\n",
       "      <td>13.99</td>\n",
       "      <td>55000.0</td>\n",
       "      <td>1</td>\n",
       "      <td>0</td>\n",
       "      <td>1</td>\n",
       "      <td>0</td>\n",
       "      <td>0</td>\n",
       "      <td>0</td>\n",
       "      <td>1</td>\n",
       "      <td>1</td>\n",
       "      <td>0</td>\n",
       "      <td>0</td>\n",
       "      <td>0</td>\n",
       "      <td>0</td>\n",
       "      <td>0</td>\n",
       "      <td>0</td>\n",
       "      <td>1</td>\n",
       "      <td>0.0</td>\n",
       "      <td>3600.00</td>\n",
       "      <td>0</td>\n",
       "      <td>0.095427</td>\n",
       "      <td>0.0</td>\n",
       "      <td>1.0</td>\n",
       "      <td>0.560423</td>\n",
       "      <td>2017.521078</td>\n",
       "      <td>1</td>\n",
       "      <td>0</td>\n",
       "      <td>0</td>\n",
       "      <td>1</td>\n",
       "      <td>0</td>\n",
       "      <td>0</td>\n",
       "      <td>0</td>\n",
       "      <td>0</td>\n",
       "      <td>0</td>\n",
       "      <td>1</td>\n",
       "      <td>0</td>\n",
       "      <td>0</td>\n",
       "      <td>0</td>\n",
       "      <td>0</td>\n",
       "      <td>0</td>\n",
       "      <td>1</td>\n",
       "      <td>0</td>\n",
       "      <td>0</td>\n",
       "      <td>0</td>\n",
       "      <td>1</td>\n",
       "      <td>0</td>\n",
       "      <td>0</td>\n",
       "      <td>0</td>\n",
       "      <td>0.102751</td>\n",
       "      <td>207.303170</td>\n",
       "    </tr>\n",
       "    <tr>\n",
       "      <th>1</th>\n",
       "      <td>24700.0</td>\n",
       "      <td>11.99</td>\n",
       "      <td>65000.0</td>\n",
       "      <td>1</td>\n",
       "      <td>0</td>\n",
       "      <td>0</td>\n",
       "      <td>1</td>\n",
       "      <td>0</td>\n",
       "      <td>0</td>\n",
       "      <td>1</td>\n",
       "      <td>0</td>\n",
       "      <td>0</td>\n",
       "      <td>1</td>\n",
       "      <td>0</td>\n",
       "      <td>0</td>\n",
       "      <td>0</td>\n",
       "      <td>0</td>\n",
       "      <td>1</td>\n",
       "      <td>0.0</td>\n",
       "      <td>24700.00</td>\n",
       "      <td>0</td>\n",
       "      <td>-0.029573</td>\n",
       "      <td>-0.0</td>\n",
       "      <td>1.0</td>\n",
       "      <td>0.000000</td>\n",
       "      <td>0.000000</td>\n",
       "      <td>1</td>\n",
       "      <td>1</td>\n",
       "      <td>0</td>\n",
       "      <td>1</td>\n",
       "      <td>0</td>\n",
       "      <td>1</td>\n",
       "      <td>0</td>\n",
       "      <td>0</td>\n",
       "      <td>0</td>\n",
       "      <td>1</td>\n",
       "      <td>0</td>\n",
       "      <td>1</td>\n",
       "      <td>0</td>\n",
       "      <td>0</td>\n",
       "      <td>0</td>\n",
       "      <td>1</td>\n",
       "      <td>0</td>\n",
       "      <td>0</td>\n",
       "      <td>0</td>\n",
       "      <td>1</td>\n",
       "      <td>0</td>\n",
       "      <td>0</td>\n",
       "      <td>0</td>\n",
       "      <td>0.110515</td>\n",
       "      <td>0.000000</td>\n",
       "    </tr>\n",
       "    <tr>\n",
       "      <th>2</th>\n",
       "      <td>20000.0</td>\n",
       "      <td>10.78</td>\n",
       "      <td>63000.0</td>\n",
       "      <td>0</td>\n",
       "      <td>0</td>\n",
       "      <td>1</td>\n",
       "      <td>0</td>\n",
       "      <td>0</td>\n",
       "      <td>0</td>\n",
       "      <td>1</td>\n",
       "      <td>0</td>\n",
       "      <td>0</td>\n",
       "      <td>1</td>\n",
       "      <td>0</td>\n",
       "      <td>0</td>\n",
       "      <td>0</td>\n",
       "      <td>0</td>\n",
       "      <td>1</td>\n",
       "      <td>0.0</td>\n",
       "      <td>20000.00</td>\n",
       "      <td>0</td>\n",
       "      <td>0.000127</td>\n",
       "      <td>0.0</td>\n",
       "      <td>1.0</td>\n",
       "      <td>0.000000</td>\n",
       "      <td>0.000000</td>\n",
       "      <td>0</td>\n",
       "      <td>0</td>\n",
       "      <td>0</td>\n",
       "      <td>1</td>\n",
       "      <td>0</td>\n",
       "      <td>1</td>\n",
       "      <td>0</td>\n",
       "      <td>0</td>\n",
       "      <td>0</td>\n",
       "      <td>1</td>\n",
       "      <td>0</td>\n",
       "      <td>1</td>\n",
       "      <td>0</td>\n",
       "      <td>0</td>\n",
       "      <td>0</td>\n",
       "      <td>1</td>\n",
       "      <td>0</td>\n",
       "      <td>0</td>\n",
       "      <td>0</td>\n",
       "      <td>1</td>\n",
       "      <td>0</td>\n",
       "      <td>0</td>\n",
       "      <td>0</td>\n",
       "      <td>0.129838</td>\n",
       "      <td>0.000000</td>\n",
       "    </tr>\n",
       "    <tr>\n",
       "      <th>3</th>\n",
       "      <td>35000.0</td>\n",
       "      <td>14.85</td>\n",
       "      <td>110000.0</td>\n",
       "      <td>0</td>\n",
       "      <td>0</td>\n",
       "      <td>1</td>\n",
       "      <td>0</td>\n",
       "      <td>0</td>\n",
       "      <td>0</td>\n",
       "      <td>1</td>\n",
       "      <td>1</td>\n",
       "      <td>0</td>\n",
       "      <td>0</td>\n",
       "      <td>0</td>\n",
       "      <td>0</td>\n",
       "      <td>0</td>\n",
       "      <td>0</td>\n",
       "      <td>1</td>\n",
       "      <td>0.0</td>\n",
       "      <td>19102.35</td>\n",
       "      <td>0</td>\n",
       "      <td>-0.086292</td>\n",
       "      <td>-0.0</td>\n",
       "      <td>1.0</td>\n",
       "      <td>0.255220</td>\n",
       "      <td>8932.687467</td>\n",
       "      <td>0</td>\n",
       "      <td>0</td>\n",
       "      <td>0</td>\n",
       "      <td>1</td>\n",
       "      <td>0</td>\n",
       "      <td>0</td>\n",
       "      <td>0</td>\n",
       "      <td>0</td>\n",
       "      <td>0</td>\n",
       "      <td>1</td>\n",
       "      <td>0</td>\n",
       "      <td>0</td>\n",
       "      <td>1</td>\n",
       "      <td>0</td>\n",
       "      <td>0</td>\n",
       "      <td>1</td>\n",
       "      <td>0</td>\n",
       "      <td>0</td>\n",
       "      <td>0</td>\n",
       "      <td>0</td>\n",
       "      <td>1</td>\n",
       "      <td>0</td>\n",
       "      <td>0</td>\n",
       "      <td>0.111592</td>\n",
       "      <td>996.813603</td>\n",
       "    </tr>\n",
       "    <tr>\n",
       "      <th>4</th>\n",
       "      <td>10400.0</td>\n",
       "      <td>22.45</td>\n",
       "      <td>104433.0</td>\n",
       "      <td>0</td>\n",
       "      <td>0</td>\n",
       "      <td>1</td>\n",
       "      <td>0</td>\n",
       "      <td>0</td>\n",
       "      <td>0</td>\n",
       "      <td>1</td>\n",
       "      <td>0</td>\n",
       "      <td>0</td>\n",
       "      <td>1</td>\n",
       "      <td>0</td>\n",
       "      <td>0</td>\n",
       "      <td>1</td>\n",
       "      <td>0</td>\n",
       "      <td>0</td>\n",
       "      <td>0.0</td>\n",
       "      <td>10400.00</td>\n",
       "      <td>0</td>\n",
       "      <td>0.058594</td>\n",
       "      <td>0.0</td>\n",
       "      <td>1.0</td>\n",
       "      <td>0.353568</td>\n",
       "      <td>3677.106625</td>\n",
       "      <td>0</td>\n",
       "      <td>0</td>\n",
       "      <td>0</td>\n",
       "      <td>1</td>\n",
       "      <td>0</td>\n",
       "      <td>1</td>\n",
       "      <td>0</td>\n",
       "      <td>1</td>\n",
       "      <td>0</td>\n",
       "      <td>0</td>\n",
       "      <td>1</td>\n",
       "      <td>0</td>\n",
       "      <td>0</td>\n",
       "      <td>0</td>\n",
       "      <td>0</td>\n",
       "      <td>0</td>\n",
       "      <td>0</td>\n",
       "      <td>1</td>\n",
       "      <td>0</td>\n",
       "      <td>0</td>\n",
       "      <td>1</td>\n",
       "      <td>0</td>\n",
       "      <td>0</td>\n",
       "      <td>0.211147</td>\n",
       "      <td>776.410956</td>\n",
       "    </tr>\n",
       "  </tbody>\n",
       "</table>\n",
       "</div>"
      ],
      "text/plain": [
       "   loan_amnt  int_rate  annual_inc  term:36months  term:60months  \\\n",
       "0     3600.0     13.99     55000.0              1              0   \n",
       "1    24700.0     11.99     65000.0              1              0   \n",
       "2    20000.0     10.78     63000.0              0              0   \n",
       "3    35000.0     14.85    110000.0              0              0   \n",
       "4    10400.0     22.45    104433.0              0              0   \n",
       "\n",
       "   emp_title:BC  emp_title:WC  home_ownership:OWN  home_ownership:RENT  \\\n",
       "0             1             0                   0                    0   \n",
       "1             0             1                   0                    0   \n",
       "2             1             0                   0                    0   \n",
       "3             1             0                   0                    0   \n",
       "4             1             0                   0                    0   \n",
       "\n",
       "   home_ownership:MORTGAGE  purpose:debt  purpose:other  \\\n",
       "0                        1             1              0   \n",
       "1                        1             0              0   \n",
       "2                        1             0              0   \n",
       "3                        1             1              0   \n",
       "4                        1             0              0   \n",
       "\n",
       "   purpose:major_purchase  purpose_credit_card  emp_length:0-1  \\\n",
       "0                       0                    0               0   \n",
       "1                       1                    0               0   \n",
       "2                       1                    0               0   \n",
       "3                       0                    0               0   \n",
       "4                       1                    0               0   \n",
       "\n",
       "   emp_length:2-5  emp_length:6-9  emp_length:10+  recoveries  \\\n",
       "0               0               0               1         0.0   \n",
       "1               0               0               1         0.0   \n",
       "2               0               0               1         0.0   \n",
       "3               0               0               1         0.0   \n",
       "4               1               0               0         0.0   \n",
       "\n",
       "   total_rec_prncp  recovery_rate_stg1  recovery_rate_stg2  recovery_rate  \\\n",
       "0          3600.00                   0            0.095427            0.0   \n",
       "1         24700.00                   0           -0.029573           -0.0   \n",
       "2         20000.00                   0            0.000127            0.0   \n",
       "3         19102.35                   0           -0.086292           -0.0   \n",
       "4         10400.00                   0            0.058594            0.0   \n",
       "\n",
       "   LGD       CCF          EAD  term:36months  emp_title:WC  \\\n",
       "0  1.0  0.560423  2017.521078              1             0   \n",
       "1  1.0  0.000000     0.000000              1             1   \n",
       "2  1.0  0.000000     0.000000              0             0   \n",
       "3  1.0  0.255220  8932.687467              0             0   \n",
       "4  1.0  0.353568  3677.106625              0             0   \n",
       "\n",
       "   home_ownership:OWN  home_ownership:MORTGAGE  purpose:other  \\\n",
       "0                   0                        1              0   \n",
       "1                   0                        1              0   \n",
       "2                   0                        1              0   \n",
       "3                   0                        1              0   \n",
       "4                   0                        1              0   \n",
       "\n",
       "   purpose:major_purchase  purpose_credit_card  emp_length:2-5  \\\n",
       "0                       0                    0               0   \n",
       "1                       1                    0               0   \n",
       "2                       1                    0               0   \n",
       "3                       0                    0               0   \n",
       "4                       1                    0               1   \n",
       "\n",
       "   emp_length:6-9  emp_length:10+  loan_amnt:9581-18940  \\\n",
       "0               0               1                     0   \n",
       "1               0               1                     0   \n",
       "2               0               1                     0   \n",
       "3               0               1                     0   \n",
       "4               0               0                     1   \n",
       "\n",
       "   loan_amnt:18941-29860  loan_amnt:29861-35320  loan_amnt:35321-40000  \\\n",
       "0                      0                      0                      0   \n",
       "1                      1                      0                      0   \n",
       "2                      1                      0                      0   \n",
       "3                      0                      1                      0   \n",
       "4                      0                      0                      0   \n",
       "\n",
       "   loan_amnt:(>40000)  int_rate:<15.1  int_rate:<20  int_rate:<25  \\\n",
       "0                   0               1             0             0   \n",
       "1                   0               1             0             0   \n",
       "2                   0               1             0             0   \n",
       "3                   0               1             0             0   \n",
       "4                   0               0             0             1   \n",
       "\n",
       "   int_rate:>25  annual_inc:<100k  annual_inc:<150k  annual_inc(<200k)  \\\n",
       "0             0                 1                 0                  0   \n",
       "1             0                 1                 0                  0   \n",
       "2             0                 1                 0                  0   \n",
       "3             0                 0                 1                  0   \n",
       "4             0                 0                 1                  0   \n",
       "\n",
       "   annual_inc(>200k)        PD          EL  \n",
       "0                  0  0.102751  207.303170  \n",
       "1                  0  0.110515    0.000000  \n",
       "2                  0  0.129838    0.000000  \n",
       "3                  0  0.111592  996.813603  \n",
       "4                  0  0.211147  776.410956  "
      ]
     },
     "execution_count": 184,
     "metadata": {},
     "output_type": "execute_result"
    }
   ],
   "source": [
    "new_data.head()"
   ]
  },
  {
   "cell_type": "code",
   "execution_count": 185,
   "metadata": {},
   "outputs": [
    {
     "data": {
      "text/html": [
       "<div>\n",
       "<style scoped>\n",
       "    .dataframe tbody tr th:only-of-type {\n",
       "        vertical-align: middle;\n",
       "    }\n",
       "\n",
       "    .dataframe tbody tr th {\n",
       "        vertical-align: top;\n",
       "    }\n",
       "\n",
       "    .dataframe thead th {\n",
       "        text-align: right;\n",
       "    }\n",
       "</style>\n",
       "<table border=\"1\" class=\"dataframe\">\n",
       "  <thead>\n",
       "    <tr style=\"text-align: right;\">\n",
       "      <th></th>\n",
       "      <th>loan_amnt</th>\n",
       "      <th>int_rate</th>\n",
       "      <th>annual_inc</th>\n",
       "      <th>term:36months</th>\n",
       "      <th>term:60months</th>\n",
       "      <th>emp_title:BC</th>\n",
       "      <th>emp_title:WC</th>\n",
       "      <th>home_ownership:OWN</th>\n",
       "      <th>home_ownership:RENT</th>\n",
       "      <th>home_ownership:MORTGAGE</th>\n",
       "      <th>purpose:debt</th>\n",
       "      <th>purpose:other</th>\n",
       "      <th>purpose:major_purchase</th>\n",
       "      <th>purpose_credit_card</th>\n",
       "      <th>emp_length:0-1</th>\n",
       "      <th>emp_length:2-5</th>\n",
       "      <th>emp_length:6-9</th>\n",
       "      <th>emp_length:10+</th>\n",
       "      <th>recoveries</th>\n",
       "      <th>total_rec_prncp</th>\n",
       "      <th>recovery_rate_stg1</th>\n",
       "      <th>recovery_rate_stg2</th>\n",
       "      <th>recovery_rate</th>\n",
       "      <th>LGD</th>\n",
       "      <th>CCF</th>\n",
       "      <th>EAD</th>\n",
       "      <th>term:36months</th>\n",
       "      <th>emp_title:WC</th>\n",
       "      <th>home_ownership:OWN</th>\n",
       "      <th>home_ownership:MORTGAGE</th>\n",
       "      <th>purpose:other</th>\n",
       "      <th>purpose:major_purchase</th>\n",
       "      <th>purpose_credit_card</th>\n",
       "      <th>emp_length:2-5</th>\n",
       "      <th>emp_length:6-9</th>\n",
       "      <th>emp_length:10+</th>\n",
       "      <th>loan_amnt:9581-18940</th>\n",
       "      <th>loan_amnt:18941-29860</th>\n",
       "      <th>loan_amnt:29861-35320</th>\n",
       "      <th>loan_amnt:35321-40000</th>\n",
       "      <th>loan_amnt:(&gt;40000)</th>\n",
       "      <th>int_rate:&lt;15.1</th>\n",
       "      <th>int_rate:&lt;20</th>\n",
       "      <th>int_rate:&lt;25</th>\n",
       "      <th>int_rate:&gt;25</th>\n",
       "      <th>annual_inc:&lt;100k</th>\n",
       "      <th>annual_inc:&lt;150k</th>\n",
       "      <th>annual_inc(&lt;200k)</th>\n",
       "      <th>annual_inc(&gt;200k)</th>\n",
       "      <th>PD</th>\n",
       "      <th>EL</th>\n",
       "      <th>id</th>\n",
       "    </tr>\n",
       "  </thead>\n",
       "  <tbody>\n",
       "    <tr>\n",
       "      <th>0</th>\n",
       "      <td>3600.0</td>\n",
       "      <td>13.99</td>\n",
       "      <td>55000.0</td>\n",
       "      <td>1</td>\n",
       "      <td>0</td>\n",
       "      <td>1</td>\n",
       "      <td>0</td>\n",
       "      <td>0</td>\n",
       "      <td>0</td>\n",
       "      <td>1</td>\n",
       "      <td>1</td>\n",
       "      <td>0</td>\n",
       "      <td>0</td>\n",
       "      <td>0</td>\n",
       "      <td>0</td>\n",
       "      <td>0</td>\n",
       "      <td>0</td>\n",
       "      <td>1</td>\n",
       "      <td>0.0</td>\n",
       "      <td>3600.0</td>\n",
       "      <td>0</td>\n",
       "      <td>0.095427</td>\n",
       "      <td>0.0</td>\n",
       "      <td>1.0</td>\n",
       "      <td>0.560423</td>\n",
       "      <td>2017.521078</td>\n",
       "      <td>1</td>\n",
       "      <td>0</td>\n",
       "      <td>0</td>\n",
       "      <td>1</td>\n",
       "      <td>0</td>\n",
       "      <td>0</td>\n",
       "      <td>0</td>\n",
       "      <td>0</td>\n",
       "      <td>0</td>\n",
       "      <td>1</td>\n",
       "      <td>0</td>\n",
       "      <td>0</td>\n",
       "      <td>0</td>\n",
       "      <td>0</td>\n",
       "      <td>0</td>\n",
       "      <td>1</td>\n",
       "      <td>0</td>\n",
       "      <td>0</td>\n",
       "      <td>0</td>\n",
       "      <td>1</td>\n",
       "      <td>0</td>\n",
       "      <td>0</td>\n",
       "      <td>0</td>\n",
       "      <td>0.102751</td>\n",
       "      <td>207.30317</td>\n",
       "      <td>68407277</td>\n",
       "    </tr>\n",
       "    <tr>\n",
       "      <th>1</th>\n",
       "      <td>24700.0</td>\n",
       "      <td>11.99</td>\n",
       "      <td>65000.0</td>\n",
       "      <td>1</td>\n",
       "      <td>0</td>\n",
       "      <td>0</td>\n",
       "      <td>1</td>\n",
       "      <td>0</td>\n",
       "      <td>0</td>\n",
       "      <td>1</td>\n",
       "      <td>0</td>\n",
       "      <td>0</td>\n",
       "      <td>1</td>\n",
       "      <td>0</td>\n",
       "      <td>0</td>\n",
       "      <td>0</td>\n",
       "      <td>0</td>\n",
       "      <td>1</td>\n",
       "      <td>0.0</td>\n",
       "      <td>24700.0</td>\n",
       "      <td>0</td>\n",
       "      <td>-0.029573</td>\n",
       "      <td>-0.0</td>\n",
       "      <td>1.0</td>\n",
       "      <td>0.000000</td>\n",
       "      <td>0.000000</td>\n",
       "      <td>1</td>\n",
       "      <td>1</td>\n",
       "      <td>0</td>\n",
       "      <td>1</td>\n",
       "      <td>0</td>\n",
       "      <td>1</td>\n",
       "      <td>0</td>\n",
       "      <td>0</td>\n",
       "      <td>0</td>\n",
       "      <td>1</td>\n",
       "      <td>0</td>\n",
       "      <td>1</td>\n",
       "      <td>0</td>\n",
       "      <td>0</td>\n",
       "      <td>0</td>\n",
       "      <td>1</td>\n",
       "      <td>0</td>\n",
       "      <td>0</td>\n",
       "      <td>0</td>\n",
       "      <td>1</td>\n",
       "      <td>0</td>\n",
       "      <td>0</td>\n",
       "      <td>0</td>\n",
       "      <td>0.110515</td>\n",
       "      <td>0.00000</td>\n",
       "      <td>68355089</td>\n",
       "    </tr>\n",
       "  </tbody>\n",
       "</table>\n",
       "</div>"
      ],
      "text/plain": [
       "   loan_amnt  int_rate  annual_inc  term:36months  term:60months  \\\n",
       "0     3600.0     13.99     55000.0              1              0   \n",
       "1    24700.0     11.99     65000.0              1              0   \n",
       "\n",
       "   emp_title:BC  emp_title:WC  home_ownership:OWN  home_ownership:RENT  \\\n",
       "0             1             0                   0                    0   \n",
       "1             0             1                   0                    0   \n",
       "\n",
       "   home_ownership:MORTGAGE  purpose:debt  purpose:other  \\\n",
       "0                        1             1              0   \n",
       "1                        1             0              0   \n",
       "\n",
       "   purpose:major_purchase  purpose_credit_card  emp_length:0-1  \\\n",
       "0                       0                    0               0   \n",
       "1                       1                    0               0   \n",
       "\n",
       "   emp_length:2-5  emp_length:6-9  emp_length:10+  recoveries  \\\n",
       "0               0               0               1         0.0   \n",
       "1               0               0               1         0.0   \n",
       "\n",
       "   total_rec_prncp  recovery_rate_stg1  recovery_rate_stg2  recovery_rate  \\\n",
       "0           3600.0                   0            0.095427            0.0   \n",
       "1          24700.0                   0           -0.029573           -0.0   \n",
       "\n",
       "   LGD       CCF          EAD  term:36months  emp_title:WC  \\\n",
       "0  1.0  0.560423  2017.521078              1             0   \n",
       "1  1.0  0.000000     0.000000              1             1   \n",
       "\n",
       "   home_ownership:OWN  home_ownership:MORTGAGE  purpose:other  \\\n",
       "0                   0                        1              0   \n",
       "1                   0                        1              0   \n",
       "\n",
       "   purpose:major_purchase  purpose_credit_card  emp_length:2-5  \\\n",
       "0                       0                    0               0   \n",
       "1                       1                    0               0   \n",
       "\n",
       "   emp_length:6-9  emp_length:10+  loan_amnt:9581-18940  \\\n",
       "0               0               1                     0   \n",
       "1               0               1                     0   \n",
       "\n",
       "   loan_amnt:18941-29860  loan_amnt:29861-35320  loan_amnt:35321-40000  \\\n",
       "0                      0                      0                      0   \n",
       "1                      1                      0                      0   \n",
       "\n",
       "   loan_amnt:(>40000)  int_rate:<15.1  int_rate:<20  int_rate:<25  \\\n",
       "0                   0               1             0             0   \n",
       "1                   0               1             0             0   \n",
       "\n",
       "   int_rate:>25  annual_inc:<100k  annual_inc:<150k  annual_inc(<200k)  \\\n",
       "0             0                 1                 0                  0   \n",
       "1             0                 1                 0                  0   \n",
       "\n",
       "   annual_inc(>200k)        PD         EL        id  \n",
       "0                  0  0.102751  207.30317  68407277  \n",
       "1                  0  0.110515    0.00000  68355089  "
      ]
     },
     "execution_count": 185,
     "metadata": {},
     "output_type": "execute_result"
    }
   ],
   "source": [
    "new_data['id'] = data['id']\n",
    "new_data.head(2)"
   ]
  },
  {
   "cell_type": "code",
   "execution_count": null,
   "metadata": {},
   "outputs": [],
   "source": [
    "# Change the position of some columns."
   ]
  },
  {
   "cell_type": "code",
   "execution_count": 186,
   "metadata": {},
   "outputs": [
    {
     "data": {
      "text/plain": [
       "15990853400.0"
      ]
     },
     "execution_count": 186,
     "metadata": {},
     "output_type": "execute_result"
    }
   ],
   "source": [
    "# Checking for the total amount given out.\n",
    "\n",
    "total_loan_amount = new_data['loan_amnt'].sum()\n",
    "total_loan_amount"
   ]
  },
  {
   "cell_type": "code",
   "execution_count": 187,
   "metadata": {},
   "outputs": [
    {
     "data": {
      "text/plain": [
       "973376545.3325005"
      ]
     },
     "execution_count": 187,
     "metadata": {},
     "output_type": "execute_result"
    }
   ],
   "source": [
    "# Checking for the total Expected Loss.\n",
    "\n",
    "total_expected_loss = new_data['EL'].sum()\n",
    "total_expected_loss"
   ]
  },
  {
   "cell_type": "code",
   "execution_count": 188,
   "metadata": {},
   "outputs": [
    {
     "data": {
      "text/plain": [
       "0.0608708316550823"
      ]
     },
     "execution_count": 188,
     "metadata": {},
     "output_type": "execute_result"
    }
   ],
   "source": [
    "# Expected loss relative to the loan amount(funded amount) portfolio is given thus:\n",
    "\n",
    "Expected_Loss_percentage = total_expected_loss / total_loan_amount\n",
    "Expected_Loss_percentage"
   ]
  },
  {
   "cell_type": "code",
   "execution_count": null,
   "metadata": {},
   "outputs": [],
   "source": []
  },
  {
   "cell_type": "code",
   "execution_count": null,
   "metadata": {},
   "outputs": [],
   "source": []
  },
  {
   "cell_type": "code",
   "execution_count": null,
   "metadata": {},
   "outputs": [],
   "source": []
  },
  {
   "cell_type": "code",
   "execution_count": null,
   "metadata": {},
   "outputs": [],
   "source": []
  },
  {
   "cell_type": "code",
   "execution_count": null,
   "metadata": {},
   "outputs": [],
   "source": []
  },
  {
   "cell_type": "markdown",
   "metadata": {},
   "source": [
    "# ALTERNATIVELY"
   ]
  },
  {
   "cell_type": "code",
   "execution_count": null,
   "metadata": {},
   "outputs": [],
   "source": [
    "# The below method is used when we have to import the pd model.\n",
    "# In this case, we have it in the notebook so we just ran it."
   ]
  },
  {
   "cell_type": "code",
   "execution_count": null,
   "metadata": {},
   "outputs": [],
   "source": [
    "# Importing the pd model train dataset.\n",
    "\n",
    "pd_train_set = pd.read_csv('C:\\\\Users\\\\JAHFAITH IROKANULO\\\\Downloads\\\\Credit_PD_Model_Input_Train_Set')"
   ]
  },
  {
   "cell_type": "code",
   "execution_count": 131,
   "metadata": {},
   "outputs": [],
   "source": [
    "# Importing the train and test dataset for the pd model.\n",
    "# This is done if the pd model was split into train and test sets before preprocessing it.\n",
    "\n",
    "#train_set = pd.read_csv('C:\\\\Users\\\\JAHFAITH IROKANULO\\\\Downloads\\\\Credit Risk Modeling\\\\Credit_Model_Inputs_Train_Set')\n",
    "#test_set = pd.read_csv('C:\\\\Users\\\\JAHFAITH IROKANULO\\\\Downloads\\\\Credit Risk Modeling\\\\Credit_Model_Inputs_Test')"
   ]
  },
  {
   "cell_type": "code",
   "execution_count": 132,
   "metadata": {},
   "outputs": [],
   "source": [
    "# Concatenate the datasets(train_set and test_set) row wise such that they are arranged each row on top of the other by setting axis = 0.\n",
    "\n",
    "#loan_input_data_pd = pd.concat([train_set, test_set], axis=0)"
   ]
  },
  {
   "cell_type": "code",
   "execution_count": 133,
   "metadata": {},
   "outputs": [
    {
     "data": {
      "text/plain": [
       "(1048575, 38)"
      ]
     },
     "execution_count": 133,
     "metadata": {},
     "output_type": "execute_result"
    }
   ],
   "source": [
    "loan_input_data_pd = pd_train_set\n",
    "\n",
    "loan_input_data_pd.shape"
   ]
  },
  {
   "cell_type": "code",
   "execution_count": 134,
   "metadata": {},
   "outputs": [
    {
     "data": {
      "text/html": [
       "<div>\n",
       "<style scoped>\n",
       "    .dataframe tbody tr th:only-of-type {\n",
       "        vertical-align: middle;\n",
       "    }\n",
       "\n",
       "    .dataframe tbody tr th {\n",
       "        vertical-align: top;\n",
       "    }\n",
       "\n",
       "    .dataframe thead th {\n",
       "        text-align: right;\n",
       "    }\n",
       "</style>\n",
       "<table border=\"1\" class=\"dataframe\">\n",
       "  <thead>\n",
       "    <tr style=\"text-align: right;\">\n",
       "      <th></th>\n",
       "      <th>Unnamed: 0</th>\n",
       "      <th>term_36months</th>\n",
       "      <th>term_60months</th>\n",
       "      <th>emp_title_BC</th>\n",
       "      <th>emp_title_WC</th>\n",
       "      <th>home_ownership_OWN</th>\n",
       "      <th>home_ownerchip_RENT</th>\n",
       "      <th>home_ownership_MORTGAGE</th>\n",
       "      <th>purpose_medical</th>\n",
       "      <th>purpose_other</th>\n",
       "      <th>purpose_debt</th>\n",
       "      <th>purpose_credit_card</th>\n",
       "      <th>purpose_housing</th>\n",
       "      <th>purpose_business</th>\n",
       "      <th>emp_length_0</th>\n",
       "      <th>emp_length_7-9</th>\n",
       "      <th>emp_length_2&amp;5</th>\n",
       "      <th>emp_length_3&amp;6</th>\n",
       "      <th>emp_length_4&amp;10</th>\n",
       "      <th>emp_length_1</th>\n",
       "      <th>loan_amnt_(&lt;9580)</th>\n",
       "      <th>loan_amnt_(9581-15820)</th>\n",
       "      <th>loan_amnt_(15821-25180)</th>\n",
       "      <th>loan_amnt_(25181-30640)</th>\n",
       "      <th>loan_amnt_(&gt;40000)</th>\n",
       "      <th>int_rate(&lt;=10.446)</th>\n",
       "      <th>int_rate(10.447-15.068)</th>\n",
       "      <th>int_rate(15.069-20.204)</th>\n",
       "      <th>int_rate(20.205-26.368)</th>\n",
       "      <th>int_rate(&gt;26.368)</th>\n",
       "      <th>annual_inc(&lt;20k)</th>\n",
       "      <th>annual_inc(&lt;40k)</th>\n",
       "      <th>annual_inc(&lt;60k)</th>\n",
       "      <th>annual_inc(&lt;80k)</th>\n",
       "      <th>annual_inc(&lt;100k)</th>\n",
       "      <th>annual_inc(&lt;140k)</th>\n",
       "      <th>annual_inc(&lt;191k)</th>\n",
       "      <th>annual_inc(&gt;191k)</th>\n",
       "    </tr>\n",
       "  </thead>\n",
       "  <tbody>\n",
       "    <tr>\n",
       "      <th>0</th>\n",
       "      <td>408561</td>\n",
       "      <td>1</td>\n",
       "      <td>0</td>\n",
       "      <td>1</td>\n",
       "      <td>0</td>\n",
       "      <td>0</td>\n",
       "      <td>0</td>\n",
       "      <td>1</td>\n",
       "      <td>0</td>\n",
       "      <td>0</td>\n",
       "      <td>0</td>\n",
       "      <td>0</td>\n",
       "      <td>1</td>\n",
       "      <td>0</td>\n",
       "      <td>0</td>\n",
       "      <td>0</td>\n",
       "      <td>0</td>\n",
       "      <td>1</td>\n",
       "      <td>0</td>\n",
       "      <td>0</td>\n",
       "      <td>0</td>\n",
       "      <td>0</td>\n",
       "      <td>0</td>\n",
       "      <td>1</td>\n",
       "      <td>0</td>\n",
       "      <td>1</td>\n",
       "      <td>0</td>\n",
       "      <td>0</td>\n",
       "      <td>0</td>\n",
       "      <td>0</td>\n",
       "      <td>0</td>\n",
       "      <td>0</td>\n",
       "      <td>1</td>\n",
       "      <td>1</td>\n",
       "      <td>1</td>\n",
       "      <td>1</td>\n",
       "      <td>0</td>\n",
       "      <td>0</td>\n",
       "    </tr>\n",
       "    <tr>\n",
       "      <th>1</th>\n",
       "      <td>70143</td>\n",
       "      <td>0</td>\n",
       "      <td>0</td>\n",
       "      <td>1</td>\n",
       "      <td>0</td>\n",
       "      <td>0</td>\n",
       "      <td>0</td>\n",
       "      <td>1</td>\n",
       "      <td>0</td>\n",
       "      <td>0</td>\n",
       "      <td>1</td>\n",
       "      <td>0</td>\n",
       "      <td>0</td>\n",
       "      <td>0</td>\n",
       "      <td>0</td>\n",
       "      <td>0</td>\n",
       "      <td>0</td>\n",
       "      <td>0</td>\n",
       "      <td>1</td>\n",
       "      <td>0</td>\n",
       "      <td>0</td>\n",
       "      <td>0</td>\n",
       "      <td>1</td>\n",
       "      <td>0</td>\n",
       "      <td>0</td>\n",
       "      <td>0</td>\n",
       "      <td>0</td>\n",
       "      <td>1</td>\n",
       "      <td>0</td>\n",
       "      <td>0</td>\n",
       "      <td>0</td>\n",
       "      <td>0</td>\n",
       "      <td>1</td>\n",
       "      <td>1</td>\n",
       "      <td>0</td>\n",
       "      <td>0</td>\n",
       "      <td>0</td>\n",
       "      <td>0</td>\n",
       "    </tr>\n",
       "    <tr>\n",
       "      <th>2</th>\n",
       "      <td>708782</td>\n",
       "      <td>1</td>\n",
       "      <td>0</td>\n",
       "      <td>0</td>\n",
       "      <td>1</td>\n",
       "      <td>1</td>\n",
       "      <td>0</td>\n",
       "      <td>0</td>\n",
       "      <td>0</td>\n",
       "      <td>0</td>\n",
       "      <td>0</td>\n",
       "      <td>1</td>\n",
       "      <td>0</td>\n",
       "      <td>0</td>\n",
       "      <td>0</td>\n",
       "      <td>1</td>\n",
       "      <td>0</td>\n",
       "      <td>0</td>\n",
       "      <td>0</td>\n",
       "      <td>0</td>\n",
       "      <td>1</td>\n",
       "      <td>0</td>\n",
       "      <td>0</td>\n",
       "      <td>0</td>\n",
       "      <td>0</td>\n",
       "      <td>0</td>\n",
       "      <td>1</td>\n",
       "      <td>0</td>\n",
       "      <td>0</td>\n",
       "      <td>0</td>\n",
       "      <td>0</td>\n",
       "      <td>0</td>\n",
       "      <td>1</td>\n",
       "      <td>1</td>\n",
       "      <td>1</td>\n",
       "      <td>1</td>\n",
       "      <td>1</td>\n",
       "      <td>0</td>\n",
       "    </tr>\n",
       "  </tbody>\n",
       "</table>\n",
       "</div>"
      ],
      "text/plain": [
       "   Unnamed: 0  term_36months  term_60months  emp_title_BC  emp_title_WC  \\\n",
       "0      408561              1              0             1             0   \n",
       "1       70143              0              0             1             0   \n",
       "2      708782              1              0             0             1   \n",
       "\n",
       "   home_ownership_OWN  home_ownerchip_RENT  home_ownership_MORTGAGE  \\\n",
       "0                   0                    0                        1   \n",
       "1                   0                    0                        1   \n",
       "2                   1                    0                        0   \n",
       "\n",
       "   purpose_medical  purpose_other  purpose_debt  purpose_credit_card  \\\n",
       "0                0              0             0                    0   \n",
       "1                0              0             1                    0   \n",
       "2                0              0             0                    1   \n",
       "\n",
       "   purpose_housing  purpose_business  emp_length_0  emp_length_7-9  \\\n",
       "0                1                 0             0               0   \n",
       "1                0                 0             0               0   \n",
       "2                0                 0             0               1   \n",
       "\n",
       "   emp_length_2&5  emp_length_3&6  emp_length_4&10  emp_length_1  \\\n",
       "0               0               1                0             0   \n",
       "1               0               0                1             0   \n",
       "2               0               0                0             0   \n",
       "\n",
       "   loan_amnt_(<9580)  loan_amnt_(9581-15820)  loan_amnt_(15821-25180)  \\\n",
       "0                  0                       0                        0   \n",
       "1                  0                       0                        1   \n",
       "2                  1                       0                        0   \n",
       "\n",
       "   loan_amnt_(25181-30640)  loan_amnt_(>40000)  int_rate(<=10.446)  \\\n",
       "0                        1                   0                   1   \n",
       "1                        0                   0                   0   \n",
       "2                        0                   0                   0   \n",
       "\n",
       "   int_rate(10.447-15.068)  int_rate(15.069-20.204)  int_rate(20.205-26.368)  \\\n",
       "0                        0                        0                        0   \n",
       "1                        0                        1                        0   \n",
       "2                        1                        0                        0   \n",
       "\n",
       "   int_rate(>26.368)  annual_inc(<20k)  annual_inc(<40k)  annual_inc(<60k)  \\\n",
       "0                  0                 0                 0                 1   \n",
       "1                  0                 0                 0                 1   \n",
       "2                  0                 0                 0                 1   \n",
       "\n",
       "   annual_inc(<80k)  annual_inc(<100k)  annual_inc(<140k)  annual_inc(<191k)  \\\n",
       "0                 1                  1                  1                  0   \n",
       "1                 1                  0                  0                  0   \n",
       "2                 1                  1                  1                  1   \n",
       "\n",
       "   annual_inc(>191k)  \n",
       "0                  0  \n",
       "1                  0  \n",
       "2                  0  "
      ]
     },
     "execution_count": 134,
     "metadata": {},
     "output_type": "execute_result"
    }
   ],
   "source": [
    "loan_input_data_pd.head(3)"
   ]
  },
  {
   "cell_type": "code",
   "execution_count": 135,
   "metadata": {},
   "outputs": [],
   "source": [
    "#CHECK THE TABLE ABOVE FOR THE INDEX BEFORE RUNNING THE BELOW.\n",
    "\n",
    "loan_input_data_pd = loan_input_data_pd.set_index('Unnamed: 0')"
   ]
  },
  {
   "cell_type": "code",
   "execution_count": 136,
   "metadata": {},
   "outputs": [
    {
     "data": {
      "text/plain": [
       "Index(['term_36months', 'term_60months', 'emp_title_BC', 'emp_title_WC',\n",
       "       'home_ownership_OWN', 'home_ownerchip_RENT', 'home_ownership_MORTGAGE',\n",
       "       'purpose_medical', 'purpose_other', 'purpose_debt',\n",
       "       'purpose_credit_card', 'purpose_housing', 'purpose_business',\n",
       "       'emp_length_0', 'emp_length_7-9', 'emp_length_2&5', 'emp_length_3&6',\n",
       "       'emp_length_4&10', 'emp_length_1', 'loan_amnt_(<9580)',\n",
       "       'loan_amnt_(9581-15820)', 'loan_amnt_(15821-25180)',\n",
       "       'loan_amnt_(25181-30640)', 'loan_amnt_(>40000)', 'int_rate(<=10.446)',\n",
       "       'int_rate(10.447-15.068)', 'int_rate(15.069-20.204)',\n",
       "       'int_rate(20.205-26.368)', 'int_rate(>26.368)', 'annual_inc(<20k)',\n",
       "       'annual_inc(<40k)', 'annual_inc(<60k)', 'annual_inc(<80k)',\n",
       "       'annual_inc(<100k)', 'annual_inc(<140k)', 'annual_inc(<191k)',\n",
       "       'annual_inc(>191k)'],\n",
       "      dtype='object')"
      ]
     },
     "execution_count": 136,
     "metadata": {},
     "output_type": "execute_result"
    }
   ],
   "source": [
    "loan_input_data_pd.columns"
   ]
  },
  {
   "cell_type": "code",
   "execution_count": null,
   "metadata": {},
   "outputs": [],
   "source": [
    "ref_cat_pd = ['term:60months','emp_title:BC','home_ownership:RENT','purpose:debt','emp_length:0-1','loan_amnt:<9580','int_rate:<10','annual_inc:<20k']"
   ]
  },
  {
   "cell_type": "code",
   "execution_count": null,
   "metadata": {},
   "outputs": [],
   "source": [
    "# Storing inputs data in a shorter variable.\n",
    "\n",
    "pd_inputs = loan_input_data_pd"
   ]
  },
  {
   "cell_type": "code",
   "execution_count": null,
   "metadata": {},
   "outputs": [],
   "source": [
    "# Drop reference categories.\n",
    "\n",
    "pd_inputs = pd_inputs.drop(ref_cat_pd, axis=1)"
   ]
  },
  {
   "cell_type": "code",
   "execution_count": null,
   "metadata": {},
   "outputs": [],
   "source": [
    "pd_inputs.shape"
   ]
  },
  {
   "cell_type": "code",
   "execution_count": null,
   "metadata": {},
   "outputs": [],
   "source": [
    "# Read in the pd model classifier.\n",
    "\n",
    "reg_pd = pickle.load(open('pd_model.sav', 'rb'))"
   ]
  },
  {
   "cell_type": "code",
   "execution_count": null,
   "metadata": {},
   "outputs": [],
   "source": [
    "pd_inputs['PD'] = reg_pd.predict_proba(pd_inputs)[:][: 0]"
   ]
  },
  {
   "cell_type": "code",
   "execution_count": null,
   "metadata": {},
   "outputs": [],
   "source": [
    "pd_inputs['PD'].head() "
   ]
  },
  {
   "cell_type": "code",
   "execution_count": null,
   "metadata": {},
   "outputs": [],
   "source": [
    "pd_inputs['PD'].describe()"
   ]
  },
  {
   "cell_type": "markdown",
   "metadata": {},
   "source": [
    "# Combining the 3 models into one dataframe."
   ]
  },
  {
   "cell_type": "code",
   "execution_count": null,
   "metadata": {},
   "outputs": [],
   "source": [
    "combined = pd.concat([loan_data_prep, pd_inputs], axis=1)"
   ]
  },
  {
   "cell_type": "code",
   "execution_count": null,
   "metadata": {},
   "outputs": [],
   "source": [
    "combined['EL'] = combined['PD'] * combined['LGD'] * combined['EAD']"
   ]
  },
  {
   "cell_type": "code",
   "execution_count": null,
   "metadata": {},
   "outputs": [],
   "source": [
    "# Descriptives.\n",
    "\n",
    "combined['EL'].describe()"
   ]
  },
  {
   "cell_type": "code",
   "execution_count": null,
   "metadata": {},
   "outputs": [],
   "source": [
    "# Checking the loan amount and the respective models.\n",
    "\n",
    "combined[['loan_amnt', 'PD', 'LGD', 'EAD', 'EL']].head()"
   ]
  },
  {
   "cell_type": "code",
   "execution_count": null,
   "metadata": {},
   "outputs": [],
   "source": [
    "combined['loan_amnt'].describe()"
   ]
  },
  {
   "cell_type": "code",
   "execution_count": null,
   "metadata": {},
   "outputs": [],
   "source": [
    "# Checking for the total amount given out.\n",
    "\n",
    "total_loan_amount = combined['loan_amnt'].sum()\n",
    "total_loan_amount"
   ]
  },
  {
   "cell_type": "code",
   "execution_count": null,
   "metadata": {},
   "outputs": [],
   "source": [
    "# Checking for the total Expected Loss.\n",
    "\n",
    "total_expected_loss = combined['EL'].sum()\n",
    "total_expected_loss"
   ]
  },
  {
   "cell_type": "code",
   "execution_count": null,
   "metadata": {},
   "outputs": [],
   "source": [
    "# Expected loss relative to the loan amount(funded amount) portfolio is given thus:\n",
    "\n",
    "total_expected_loss / total_loan_amount"
   ]
  },
  {
   "cell_type": "markdown",
   "metadata": {},
   "source": [
    "Banks hold 10% of their assets as capital, therefore, observed expected loss on its loan portfolio should be between 2% and 10%"
   ]
  },
  {
   "cell_type": "code",
   "execution_count": null,
   "metadata": {},
   "outputs": [],
   "source": []
  }
 ],
 "metadata": {
  "kernelspec": {
   "display_name": "Python 3",
   "language": "python",
   "name": "python3"
  },
  "language_info": {
   "codemirror_mode": {
    "name": "ipython",
    "version": 3
   },
   "file_extension": ".py",
   "mimetype": "text/x-python",
   "name": "python",
   "nbconvert_exporter": "python",
   "pygments_lexer": "ipython3",
   "version": "3.6.4"
  }
 },
 "nbformat": 4,
 "nbformat_minor": 2
}
